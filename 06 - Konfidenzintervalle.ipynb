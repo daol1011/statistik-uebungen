{
 "cells": [
  {
   "cell_type": "markdown",
   "metadata": {
    "tags": []
   },
   "source": [
    "# Bearbeitungshinweise\n",
    "Im Notebook werden verschiedene Fragestellungen an einem Datensatz untersucht. Die Aufgaben, die sie bearbeiten sollen, ergänzen diese Untersuchungen. Unter jeder Aufgabe befindet sich eine (Code-)Zelle, die etwa so aussieht:"
   ]
  },
  {
   "cell_type": "code",
   "execution_count": null,
   "metadata": {},
   "outputs": [],
   "source": [
    "# <IHRE LÖSUNG HIER>"
   ]
  },
  {
   "cell_type": "markdown",
   "metadata": {
    "tags": []
   },
   "source": [
    "Dort tragen Sie bitte ihren Python Code ein. Bei manchen Aufgaben wird auch kein Code verlangt, sondern eine (kurze) Erklärung. In diesem Fall konvertieren Sie die Zelle bitte zu einer Markdown-Zelle (\"Esc\" und dann \"M\" drücken - \"Esc\" und dann \"Y\" konvertiert wieder zu einer Code-Zelle) und tragen dort Ihre Antwort ein.\n",
    "\n",
    "Falls Sie keine lokale Python Installation haben, können Sie das Notebook auch in Google Colab öffnen und bearbeiten (Google Account benötigt):\n",
    "\n",
    "<a target=\"_blank\" href=\"https://colab.research.google.com/github/djanka2/statistik-uebungen/blob/main/06%20-%20Konfidenzintervalle.ipynb\">\n",
    "  <img src=\"https://colab.research.google.com/assets/colab-badge.svg\" alt=\"Open In Colab\"/>\n",
    "</a>\n",
    "\n",
    "---"
   ]
  },
  {
   "cell_type": "markdown",
   "metadata": {},
   "source": [
    "# Übung 6: Grundlagen der schließenden Statistik - Konfidenzintervalle"
   ]
  },
  {
   "cell_type": "markdown",
   "metadata": {},
   "source": [
    "## Stichproben aus den Immoscout Daten"
   ]
  },
  {
   "cell_type": "markdown",
   "metadata": {},
   "source": [
    "Wenn man Zugang zu Daten über eine gesamte Population hat, z. B. über die Größe aller Mietwohnungen in Deutschland, ist es einfach, Fragen wie \"Wie groß ist eine typische Mietwohnung in Deutschland?\" und \"Wie stark variieren die Größen von Mietwohnungen?\" zu beantworten. Wenn Sie nur Zugang zu einer Stichprobe der Grundgesamtheit haben, was häufig der Fall ist, wird die Aufgabe komplizierter. Was ist Ihre beste Schätzung für die typische Größe, wenn Sie nur die Größen von einigen Dutzend Wohnungen kennen? In einer solchen Situation müssen Sie Ihre Stichprobe nutzen, um Rückschlüsse auf die Grundgesamtheit zu ziehen."
   ]
  },
  {
   "cell_type": "markdown",
   "metadata": {},
   "source": [
    "## Die Daten"
   ]
  },
  {
   "cell_type": "markdown",
   "metadata": {},
   "source": [
    "In der vorangegangenen Übung \"Stichprobenverteilungen\" haben wir uns die Grundgesamtheit von Mietwohnungen, die im Februar 2020 auf Immoscout angeboten wurden, angesehen. Beginnen wir mit dem Laden dieses Datensatzes."
   ]
  },
  {
   "cell_type": "code",
   "execution_count": null,
   "metadata": {},
   "outputs": [],
   "source": [
    "import numpy as np\n",
    "import pandas as pd\n",
    "import plotly.express as px\n",
    "\n",
    "immo = pd.read_csv(\"https://raw.githubusercontent.com/djanka2/statistik-uebungen/main/Daten/immo.csv\")"
   ]
  },
  {
   "cell_type": "markdown",
   "metadata": {},
   "source": [
    "In dieser Übung beginnen wir mit einer einfachen Zufallsstichprobe der Größe 60 aus der Grundgesamtheit. Der Datensatz enthält mehr Informationen über die Wohnungen, aber wir konzentrieren uns auf die Größe des Wohnung, dargestellt durch die Variable `Wohnfläche`."
   ]
  },
  {
   "cell_type": "code",
   "execution_count": null,
   "metadata": {},
   "outputs": [],
   "source": [
    "population = immo['Wohnfläche']\n",
    "samp = population.sample(60)"
   ]
  },
  {
   "cell_type": "markdown",
   "metadata": {},
   "source": [
    "### ✏️ Aufgabe 1\n",
    "Beschreiben Sie die Verteilung Ihrer Stichprobe. Was würden Sie sagen, ist die \"typische\" Wohnfläche innerhalb Ihrer Stichprobe? Geben Sie auch genau an, was Sie unter \"typisch\" verstehen."
   ]
  },
  {
   "cell_type": "code",
   "execution_count": null,
   "metadata": {},
   "outputs": [],
   "source": [
    "# <IHRE LÖSUNG HIER>"
   ]
  },
  {
   "cell_type": "markdown",
   "metadata": {},
   "source": [
    "### ✏️ Aufgabe 2\n",
    "Würden Sie erwarten, dass die Verteilung eines/einer anderen Studierenden mit der Ihren identisch ist? Würden Sie erwarten, dass sie ähnlich ist? Warum oder warum nicht?"
   ]
  },
  {
   "cell_type": "code",
   "execution_count": null,
   "metadata": {},
   "outputs": [],
   "source": [
    "# <IHRE LÖSUNG HIER>"
   ]
  },
  {
   "cell_type": "markdown",
   "metadata": {},
   "source": [
    "## Konfidenzintervalle"
   ]
  },
  {
   "cell_type": "markdown",
   "metadata": {},
   "source": [
    "Eine der gebräuchlichsten Methoden zur Beschreibung des typischen oder zentralen Wertes einer Verteilung ist die Verwendung des Mittelwertes. Wir können hier den Mittelwert der Stichprobe berechnen:"
   ]
  },
  {
   "cell_type": "code",
   "execution_count": null,
   "metadata": {},
   "outputs": [],
   "source": [
    "sample_mean = samp.mean()"
   ]
  },
  {
   "cell_type": "markdown",
   "metadata": {},
   "source": [
    "Kehren wir für einen Moment zur ursprünglichen Frage dieser Übung zurück: Was können wir auf der Grundlage dieser Stichprobe über die Grundgesamtheit aussagen? Auf der Grundlage dieser einzigen Stichprobe wäre die beste Schätzung der durchschnittlichen Wohnfläche der Mietwohnungen auf Immoscout der Stichprobenmittelwert, der normalerweise als $\\bar{x}$ bezeichnet wird (hier nennen wir ihn \"Stichprobenmittelwert\"). Das ist eine gute *Punktschätzung*, aber es wäre nützlich, auch mitzuteilen, wie unsicher wir bei dieser Schätzung sind. Dies kann mit Hilfe eines *Konfidenzintervalls* erfasst werden.\n",
    "\n",
    "Wir können ein 95 %-Konfidenzintervall für einen Stichprobenmittelwert berechnen, indem wir 1.96 Standardfehler ($\\tilde{s}/\\sqrt{N}$) zur Punktschätzung addieren und subtrahieren (1.96 ist das 97.5% Quantil der Standardnormalverteilung, siehe Vorlesung Kapitel \"Parameterschätzung\")."
   ]
  },
  {
   "cell_type": "code",
   "execution_count": null,
   "metadata": {},
   "outputs": [],
   "source": [
    "se = np.std(samp)/np.sqrt(60)\n",
    "lower = sample_mean - (1.96 * se)\n",
    "upper = sample_mean + (1.96 * se)\n",
    "print(lower, upper)"
   ]
  },
  {
   "cell_type": "markdown",
   "metadata": {},
   "source": [
    "Wir haben gerade eine wichtige Schlussfolgerung gezogen: Obwohl wir nicht wissen, wie die Gesamtbevölkerung aussieht, sind wir zu 95 % sicher, dass die tatsächliche Durchschnittsgröße der Mietwohnungen zwischen dem unteren und oberen Wert liegt. Es gibt einige Bedingungen, die erfüllt sein müssen, damit dieses Intervall gültig ist."
   ]
  },
  {
   "cell_type": "markdown",
   "metadata": {},
   "source": [
    "### ✏️ Aufgabe 3\n",
    "Damit das Konfidenzintervall gültig ist, muss der Stichprobenmittelwert normalverteilt sein und Standardfehler $s/\\sqrt{N}$ haben. Welche Bedingungen müssen erfüllt sein, damit dies zutrifft?"
   ]
  },
  {
   "cell_type": "code",
   "execution_count": null,
   "metadata": {},
   "outputs": [],
   "source": [
    "# <IHRE LÖSUNG HIER>"
   ]
  },
  {
   "cell_type": "markdown",
   "metadata": {},
   "source": [
    "## Konfidenzniveaus"
   ]
  },
  {
   "cell_type": "markdown",
   "metadata": {
    "tags": []
   },
   "source": [
    "### ✏️ Aufgabe 4\n",
    "Was bedeutet \"95%ige Sicherheit\"? Wenn Sie sich nicht sicher sind, schlagen Sie in den Vorlesungsunterlagen, Kapitel \"Parameterschätzung\" nach."
   ]
  },
  {
   "cell_type": "code",
   "execution_count": null,
   "metadata": {},
   "outputs": [],
   "source": [
    "# <IHRE LÖSUNG HIER>"
   ]
  },
  {
   "cell_type": "markdown",
   "metadata": {},
   "source": [
    "In diesem Fall haben wir den Vorteil, den wahren Mittelwert der Grundgesamtheit zu kennen, da wir Daten über die gesamte Grundgesamtheit haben. Dieser Wert kann mit dem folgenden Befehl berechnet werden:"
   ]
  },
  {
   "cell_type": "code",
   "execution_count": null,
   "metadata": {},
   "outputs": [],
   "source": [
    "population.mean()"
   ]
  },
  {
   "cell_type": "markdown",
   "metadata": {},
   "source": [
    "### ✏️ Aufgabe 5\n",
    "Erfasst Ihr Konfidenzintervall die wahre durchschnittliche Größe der Mietwohnungen? Wenn Sie die Aufgabe während der Übung an der Hochschule bearbeiten: erfasst das Intervall Ihres Tischnachbarn diesen Wert?"
   ]
  },
  {
   "cell_type": "code",
   "execution_count": null,
   "metadata": {},
   "outputs": [],
   "source": [
    "# <IHRE LÖSUNG HIER>"
   ]
  },
  {
   "cell_type": "markdown",
   "metadata": {},
   "source": [
    "### ✏️ Aufgabe 6\n",
    "Jede/r Studierende des Kurses sollte ein etwas anderes Konfidenzintervall erhalten haben. Von welchem Anteil dieser Intervalle würden Sie erwarten, dass sie den wahren Mittelwert der Grundgesamtheit enthalten? Und warum? Wenn Sie diese Übung an der Hochschule durchführen, sammeln Sie Daten zu den Intervallen, die von anderen Studierenden des Kurses erstellt wurden, und berechnen Sie den Anteil der Intervalle, die den wahren Mittelwert der Grundgesamtheit erfassen."
   ]
  },
  {
   "cell_type": "code",
   "execution_count": null,
   "metadata": {},
   "outputs": [],
   "source": [
    "# <IHRE LÖSUNG HIER>"
   ]
  },
  {
   "cell_type": "markdown",
   "metadata": {},
   "source": [
    "Mit Hilfe von Python werden wir viele Stichproben erzeugen, um mehr darüber zu lernen, wie Stichprobenmittelwerte und Konfidenzintervalle von einer Stichprobe zur anderen variieren.\n",
    "\n",
    "Hier ist der grobe Überblick:\n",
    "1. Ziehen Sie eine Zufallsstichprobe.\n",
    "2. Berechnen und speichern Sie den Mittelwert und die Standardabweichung der Stichprobe.\n",
    "3. Wiederholen Sie die Schritte (1) und (2) 50 Mal.\n",
    "4. Verwenden Sie diese gespeicherten Statistiken, um viele Konfidenzintervalle zu berechnen.\n",
    "\n",
    "Bevor wir all dies tun, müssen wir zunächst leere Arrays erstellen, in denen wir die Mittelwerte und Standardabweichungen speichern können, die aus jeder Stichprobe berechnet werden (*Hinweis*: `numpy.zeros()`). Und wenn wir schon dabei sind, sollten wir auch den gewünschten Stichprobenumfang als `n` speichern."
   ]
  },
  {
   "cell_type": "code",
   "execution_count": null,
   "metadata": {},
   "outputs": [],
   "source": [
    "samp_mean = np.zeros(50)\n",
    "samp_sd = np.zeros(50)\n",
    "n = 60"
   ]
  },
  {
   "cell_type": "markdown",
   "metadata": {},
   "source": [
    "Jetzt sind wir bereit für die Schleife, in der wir die Mittelwerte und Standardabweichungen von 50 Stichproben berechnen."
   ]
  },
  {
   "cell_type": "code",
   "execution_count": null,
   "metadata": {},
   "outputs": [],
   "source": [
    "for i in range(50):\n",
    "    samp = population.sample(n) # eine Stichprobe mit dem Umfang n = 60 aus der Grundgesamtheit zu ziehen\n",
    "    samp_mean[i] = samp.mean() # Stichprobenmittelwert im i-ten Element von samp_mean speichern\n",
    "    samp_sd[i] = np.std(samp) # Stichprobenstandardabweichung im i-ten Element von samp_sd speichern"
   ]
  },
  {
   "cell_type": "markdown",
   "metadata": {},
   "source": [
    "Zum Schluss werden die Konfidenzintervalle berechnet."
   ]
  },
  {
   "cell_type": "code",
   "execution_count": null,
   "metadata": {},
   "outputs": [],
   "source": [
    "se_array = samp_sd/np.sqrt(n)\n",
    "lower_array = samp_mean - (1.96 * se_array)\n",
    "upper_array = samp_mean + (1.96 * se_array)"
   ]
  },
  {
   "cell_type": "markdown",
   "metadata": {},
   "source": [
    "Die unteren Grenzen dieser 50 Konfidenzintervalle werden in `lower_array` gespeichert, und die oberen Grenzen in `upper_array`. Wir betrachten das erste Intervall."
   ]
  },
  {
   "cell_type": "code",
   "execution_count": null,
   "metadata": {},
   "outputs": [],
   "source": [
    "print(lower_array[1], upper_array[1])"
   ]
  },
  {
   "cell_type": "markdown",
   "metadata": {
    "jp-MarkdownHeadingCollapsed": true,
    "tags": []
   },
   "source": [
    "---\n",
    "Der folgende Code zeichnet alle Konfidenzintervalle (`lower_array` und `upper_array`) in schwarz und den Mittelwert der Population in rot."
   ]
  },
  {
   "cell_type": "code",
   "execution_count": null,
   "metadata": {},
   "outputs": [],
   "source": [
    "df = pd.DataFrame({\"x\": np.hstack([lower_array,upper_array]), \n",
    "                   \"y\": np.hstack([np.arange(50),np.arange(50)]), \n",
    "                   \"interval\": np.hstack([np.arange(50),np.arange(50)])})\n",
    "fig = px.line(df, x=\"x\", y=\"y\", color=\"interval\", height=1000, color_discrete_sequence=[\"black\"])\n",
    "fig.add_vline(population.mean(), line_color=\"red\")"
   ]
  },
  {
   "cell_type": "markdown",
   "metadata": {
    "tags": []
   },
   "source": [
    "### ✏️ Aufgabe 7\n",
    "Welcher Anteil der Konfidenzintervalle schließt den wahren Mittelwert der Grundgesamtheit ein? Ist dieser Anteil genau gleich dem Konfidenzniveau? Wenn nicht, erklären Sie warum."
   ]
  },
  {
   "cell_type": "code",
   "execution_count": null,
   "metadata": {},
   "outputs": [],
   "source": [
    "# <IHRE LÖSUNG HIER>"
   ]
  },
  {
   "cell_type": "markdown",
   "metadata": {},
   "source": [
    "### ✏️ Aufgabe 8\n",
    "- Wählen Sie ein beliebiges Konfidenzniveau (außer 95%). Bestimmen Sie für dieses Niveau das benötigte Quantil der Normalverteilung (siehe Vorlesungsunterlagen).\n",
    "- Berechnen Sie 50 Konfidenzintervalle für das Konfidenzniveau, das Sie in der vorherigen Frage gewählt haben. Sie brauchen keine neuen Stichproben zu nehmen, sondern berechnen einfach neue Intervalle auf der Grundlage der Mittelwerte und Standardabweichungen der Stichproben, die Sie bereits gesammelt haben. Plotten Sie alle Intervalle und berechnen Sie den Anteil der Intervalle, die den wahren Mittelwert der Grundgesamtheit einschließen. Wie verhält sich dieser Anteil zu dem für die Intervalle gewählten Konfidenzniveau?"
   ]
  },
  {
   "cell_type": "code",
   "execution_count": null,
   "metadata": {},
   "outputs": [],
   "source": [
    "# <IHRE LÖSUNG HIER>"
   ]
  },
  {
   "cell_type": "markdown",
   "metadata": {},
   "source": [
    "---\n",
    "\n",
    "Diese Übung ist eine deutsche Übersetzung der Übungen aus OpenIntro Statistics von Andrew Bray und Mine Çetinkaya-Rundel (https://www.openintro.org/book/os/). Die Python Adaption wurde teilweise von David Akman und Imran Ture (www.featureranking.com) übernommen."
   ]
  }
 ],
 "metadata": {
  "kernelspec": {
   "display_name": "Python 3 (ipykernel)",
   "language": "python",
   "name": "python3"
  },
  "language_info": {
   "codemirror_mode": {
    "name": "ipython",
    "version": 3
   },
   "file_extension": ".py",
   "mimetype": "text/x-python",
   "name": "python",
   "nbconvert_exporter": "python",
   "pygments_lexer": "ipython3",
   "version": "3.9.6"
  }
 },
 "nbformat": 4,
 "nbformat_minor": 4
}
