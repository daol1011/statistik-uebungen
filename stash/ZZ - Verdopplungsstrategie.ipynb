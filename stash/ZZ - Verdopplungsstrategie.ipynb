{
 "cells": [
  {
   "cell_type": "code",
   "execution_count": 33,
   "id": "d21a717b-ee95-4680-a4b7-9f0de63bed28",
   "metadata": {},
   "outputs": [],
   "source": [
    "import numpy as np\n",
    "import seaborn as sns\n",
    "import pandas as pd\n",
    "import matplotlib.pyplot as plt\n",
    "sns.set_style(\"darkgrid\")\n",
    "\n",
    "RED = 0\n",
    "BLACK = 1\n",
    "\n",
    "def play_series(einsatz=1, kapital=1000):\n",
    "    # Annahme: Insgesamt möchten wir unser Kapital verdoppeln.\n",
    "    n_runs = kapital // einsatz\n",
    "    \n",
    "    def play(einsatz, kapital):\n",
    "        kontostand = kapital\n",
    "        n_games = 0\n",
    "        while kontostand >= einsatz:\n",
    "\n",
    "            # Spiel\n",
    "            kontostand -= einsatz\n",
    "            result = np.random.binomial(1,18/37)\n",
    "            n_games += 1\n",
    "\n",
    "            # Auswertung\n",
    "            if result == BLACK:\n",
    "                kontostand += 2*einsatz\n",
    "                return kontostand, n_games, einsatz\n",
    "            elif result == RED:\n",
    "                einsatz = 2*einsatz\n",
    "\n",
    "        return kontostand, n_games, einsatz\n",
    "\n",
    "    kontostand = np.zeros(n_runs)\n",
    "    n_games = np.zeros(n_runs)\n",
    "    letzter_einsatz = np.zeros(n_runs)\n",
    "    for k in range(n_runs):\n",
    "        kontostand[k], n_games[k], letzter_einsatz[k] = play(einsatz=einsatz, kapital=kapital)\n",
    "        if kontostand[k] - kapital <= 0:\n",
    "            return kontostand[k]-kapital\n",
    "    return n_runs * einsatz"
   ]
  },
  {
   "cell_type": "code",
   "execution_count": 34,
   "id": "0ad8b01a-3744-48e0-bcfc-ee6261a1b9dd",
   "metadata": {},
   "outputs": [
    {
     "name": "stdout",
     "output_type": "stream",
     "text": [
      "Gewonnen in 15.1% der Fälle.\n"
     ]
    }
   ],
   "source": [
    "n_sample = 1000\n",
    "res = np.zeros(n_sample)\n",
    "for k in range(n_sample):\n",
    "    res[k] = play_series(einsatz=10, kapital=1000)\n",
    "print(f\"Gewonnen in {np.round(100*(res>0).sum()/n_sample,2)}% der Fälle.\")"
   ]
  },
  {
   "cell_type": "code",
   "execution_count": null,
   "id": "76e2bf28-c0ce-4e84-b79e-fdebeff864d1",
   "metadata": {},
   "outputs": [],
   "source": []
  }
 ],
 "metadata": {
  "kernelspec": {
   "display_name": "Python 3 (ipykernel)",
   "language": "python",
   "name": "python3"
  },
  "language_info": {
   "codemirror_mode": {
    "name": "ipython",
    "version": 3
   },
   "file_extension": ".py",
   "mimetype": "text/x-python",
   "name": "python",
   "nbconvert_exporter": "python",
   "pygments_lexer": "ipython3",
   "version": "3.9.6"
  }
 },
 "nbformat": 4,
 "nbformat_minor": 5
}
