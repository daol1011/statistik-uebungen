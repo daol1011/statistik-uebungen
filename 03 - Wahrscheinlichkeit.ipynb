{
 "cells": [
  {
   "cell_type": "markdown",
   "metadata": {},
   "source": [
    "# Bearbeitungshinweise\n",
    "Im Notebook werden verschiedene Fragestellungen an einem Datensatz untersucht. Die Aufgaben, die sie bearbeiten sollen, ergänzen diese Untersuchungen. Unter jeder Aufgabe befindet sich eine (Code-)Zelle, die etwa so aussieht:"
   ]
  },
  {
   "cell_type": "code",
   "execution_count": null,
   "metadata": {},
   "outputs": [],
   "source": [
    "# <IHRE LÖSUNG HIER>"
   ]
  },
  {
   "cell_type": "markdown",
   "metadata": {
    "tags": []
   },
   "source": [
    "Dort tragen Sie bitte ihren Python Code ein. Bei manchen Aufgaben wird auch kein Code verlangt, sondern eine (kurze) Erklärung. In diesem Fall konvertieren Sie die Zelle bitte zu einer Markdown-Zelle (\"Esc\" und dann \"M\" drücken - \"Esc\" und dann \"Y\" konvertiert wieder zu einer Code-Zelle) und tragen dort Ihre Antwort ein.\n",
    "\n",
    "Falls Sie keine lokale Python Installation haben, können Sie das Notebook auch in Google Colab öffnen und bearbeiten (Google Account benötigt):\n",
    "\n",
    "<a target=\"_blank\" href=\"https://colab.research.google.com/github/djanka2/statistik-uebungen/blob/main/03%20-%20Wahrscheinlichkeit.ipynb\">\n",
    "  <img src=\"https://colab.research.google.com/assets/colab-badge.svg\" alt=\"Open In Colab\"/>\n",
    "</a>\n",
    "\n",
    "---"
   ]
  },
  {
   "cell_type": "markdown",
   "metadata": {},
   "source": [
    "# Übung 3: Wahrscheinlichkeiten"
   ]
  },
  {
   "cell_type": "markdown",
   "metadata": {},
   "source": [
    "## Hot Hands"
   ]
  },
  {
   "cell_type": "markdown",
   "metadata": {},
   "source": [
    "Basketballspieler, die mehrere Körbe hintereinander werfen, werden als \"hot hand\" bezeichnet. Fans und Spieler glauben seit langem an das Phänomen der \"heißen Hand\", das die Annahme widerlegt, dass jeder Wurf unabhängig vom nächsten ist. In einem [Paper](https://www.cs.colorado.edu/~mozer/Teaching/syllabi/7782/readings/gilovich%20vallone%20tversky.pdf) von Gilovich, Vallone und Tversky aus dem Jahr 1985 wurde jedoch Evidenz gesammelt, die dieser Annahme widersprechen und zeigt, dass aufeinanderfolgende Würfe unabhängige Ereignisse sind. Diese Arbeit löste eine große Kontroverse aus, die bis heute anhält, wie Sie sehen können, wenn Sie \"Hot Hand Basketball\" googeln.\n",
    "\n",
    "Wir erwarten nicht, dass wir diese Kontroverse heute lösen können. In dieser Übung werden wir jedoch einen Ansatz zur Beantwortung von Fragen wie dieser anwenden. Die Ziele dieser Übung bestehen darin, (1) über die Auswirkungen von unabhängigen und abhängigen Ereignissen nachzudenken, (2) zu lernen, wie man Wurfserien in Python simuliert, und (3) eine Simulation mit tatsächlichen Daten zu vergleichen, um festzustellen, ob das Phänomen der *hot hand* real zu sein scheint."
   ]
  },
  {
   "cell_type": "markdown",
   "metadata": {},
   "source": [
    "## Erste Schritte"
   ]
  },
  {
   "cell_type": "markdown",
   "metadata": {},
   "source": [
    "Unsere Untersuchung wird sich auf die Leistung eines Spielers konzentrieren: Der 2020 verstorbene Kobe Bryant von den Los Angeles Lakers. Seine Leistung gegen die Orlando Magic in den NBA-Finals 2009 brachte ihm den Titel des wertvollsten Spielers (MVP) ein, und viele Zuschauer meinten, dass er eine *hot hand* zu haben schien. Laden wir einige Daten aus diesen Spielen und schauen wir uns die ersten Zeilen an."
   ]
  },
  {
   "cell_type": "code",
   "execution_count": null,
   "metadata": {},
   "outputs": [],
   "source": [
    "import pandas as pd\n",
    "import plotly.express as px\n",
    "\n",
    "kobe = pd.read_csv(\"https://raw.githubusercontent.com/djanka2/statistik-uebungen/main/Daten/kobe.csv\")\n",
    "\n",
    "kobe.head()"
   ]
  },
  {
   "cell_type": "markdown",
   "metadata": {},
   "source": [
    "Schauen wir uns die Anzahl der gespielten Spiele an."
   ]
  },
  {
   "cell_type": "code",
   "execution_count": null,
   "metadata": {},
   "outputs": [],
   "source": [
    "kobe['game'].nunique()"
   ]
  },
  {
   "cell_type": "markdown",
   "metadata": {},
   "source": [
    "Es wurden fünf Spiele gespielt. NBA-Spiele werden in vier Vierteln ausgetragen. Ist der Punktestand am Ende des 4. Viertels jedoch gleich, werden Verlängerungen gespielt, um das Siegerteam zu ermitteln. Schauen wir nach, ob ein Spiel in die Verlängerung ging."
   ]
  },
  {
   "cell_type": "code",
   "execution_count": null,
   "metadata": {},
   "outputs": [],
   "source": [
    "kobe['quarter'].unique()"
   ]
  },
  {
   "cell_type": "code",
   "execution_count": null,
   "metadata": {},
   "outputs": [],
   "source": [
    "kobe[kobe['quarter'] == '1OT']"
   ]
  },
  {
   "cell_type": "markdown",
   "metadata": {},
   "source": [
    "Wir können sehen, dass Spiel 2 und Spiel 4 in die Verlängerung gingen (codiert als \"1OT\")."
   ]
  },
  {
   "cell_type": "markdown",
   "metadata": {},
   "source": [
    "Bevor wir beginnen, müssen wir sicherstellen, dass die Daten richtig nach `game` und `quarter` sortiert sind."
   ]
  },
  {
   "cell_type": "code",
   "execution_count": null,
   "metadata": {},
   "outputs": [],
   "source": [
    "kobe"
   ]
  },
  {
   "cell_type": "markdown",
   "metadata": {},
   "source": [
    "Wir wissen, dass insgesamt fünf Spiele gespielt wurden. Die letzte Zeile zeigt jedoch die Datensätze von Spiel 3. Daher sollten wir die Daten nach `game` und `quarter` in aufsteigender Reihenfolge sortieren.\n",
    "\n",
    "Ersetzen wir zunächst \"1OT\" durch \"5\" für die Spalte `quarter`, um die Sortierung zu vereinfachen."
   ]
  },
  {
   "cell_type": "code",
   "execution_count": null,
   "metadata": {},
   "outputs": [],
   "source": [
    "kobe['quarter'] = kobe['quarter'].replace('1OT', '5') \n",
    "kobe['quarter'] = kobe['quarter'].astype(int)"
   ]
  },
  {
   "cell_type": "markdown",
   "metadata": {},
   "source": [
    "Dann können wir die Daten nach `game` und `quarter` in aufsteigender Reihenfolge sortieren und schließlich über das Konzept der Wahrscheinlichkeit sprechen."
   ]
  },
  {
   "cell_type": "code",
   "execution_count": null,
   "metadata": {},
   "outputs": [],
   "source": [
    "kobe.sort_values(by = ['game', 'quarter'], ascending = [True, True], ignore_index = True, inplace = True)  \n",
    "# Hinweis: Die Zeit ist bereits in absteigender Reihenfolge für jedes Spiel und jedes Viertel angegeben, \n",
    "# so dass wir diese nicht sortieren müssen.\n",
    "kobe"
   ]
  },
  {
   "cell_type": "markdown",
   "metadata": {},
   "source": [
    "In diesem DataFrame wird in jeder Zeile ein Wurf von Kobe Bryant aufgezeichnet. Hat er getroffen (einen Korb erzielt), wird in der Spalte `basket` ein Treffer (H für *hit*) vermerkt, andernfalls ein Fehlwurf (M für *miss*).\n",
    "\n",
    "Wenn man sich nur die Aneinanderreihung von Treffern und Fehlwürfen ansieht, kann es schwierig sein, zu beurteilen, ob Kobe eine *hot hand* hatte oder nicht. Eine Möglichkeit, sich diesem Problem zu nähern, besteht darin, die Annahme zu berücksichtigen, dass Werfer mit einer *hot hand* dazu neigen, eine Serie von Treffern zu erzielen. Für diese Übung definieren wir die Länge einer Serie als die ***Anzahl der aufeinanderfolgenden Körbe bis zu einem Fehlwurf***.\n",
    "\n",
    "In Spiel 1 hatte Kobe zum Beispiel die folgende Abfolge von Treffern und Fehlwürfen bei seinen neun Wurfversuchen im ersten Viertel:\n",
    "\n",
    "##### `H M | M | H H M | M | M | M | M`\n",
    "\n",
    "Um dies zu verifizieren, verwenden Sie den folgenden Befehl:"
   ]
  },
  {
   "cell_type": "code",
   "execution_count": null,
   "metadata": {},
   "outputs": [],
   "source": [
    "kobe['basket'][0:9]"
   ]
  },
  {
   "cell_type": "markdown",
   "metadata": {},
   "source": [
    "Innerhalb der neun Wurfversuche gibt es sieben Serien, die oben durch ein \"|\" getrennt sind. Ihre Längen sind eins, null, zwei, null, null, null, null (in der Reihenfolge ihres Auftretens)."
   ]
  },
  {
   "cell_type": "markdown",
   "metadata": {},
   "source": [
    "### ✏️ Aufgabe 1\n",
    "Was bedeutet die Länge einer Serie von 1, d.h. wie viele Treffer und Fehlwürfe sind in einer Serie von 1? Was ist mit einer Serie von 0?"
   ]
  },
  {
   "cell_type": "code",
   "execution_count": null,
   "metadata": {},
   "outputs": [],
   "source": [
    "# <IHRE LÖSUNG HIER>"
   ]
  },
  {
   "cell_type": "markdown",
   "metadata": {},
   "source": [
    "Die benutzerdefinierte Funktion `calc_streak()` kann verwendet werden, um die Länge aller Wurfserien zu berechnen."
   ]
  },
  {
   "cell_type": "code",
   "execution_count": null,
   "metadata": {},
   "outputs": [],
   "source": [
    "def calc_streak(x):\n",
    "    all_shoots = list(x)\n",
    "    streak, count = [], 0\n",
    "    \n",
    "    for shoot in all_shoots:\n",
    "        if shoot == 'H':\n",
    "            count += 1\n",
    "        elif shoot == 'M':\n",
    "            streak.append(count)\n",
    "            count = 0\n",
    "    \n",
    "    # Wenn der letzte Wurf ein Treffer ist, hänge die letzte Häufigkeit auch an die Serie an.\n",
    "    if all_shoots[-1] == 'H':  \n",
    "        streak.append(count)\n",
    "        \n",
    "    return streak  \n",
    "    \n",
    "kobe_streak = calc_streak(kobe['basket'])\n",
    "print(kobe_streak)"
   ]
  },
  {
   "cell_type": "markdown",
   "metadata": {},
   "source": [
    "Wir können die Verteilung der Längen aller Wurfserien mit einem Balkendiagramm betrachten."
   ]
  },
  {
   "cell_type": "code",
   "execution_count": null,
   "metadata": {},
   "outputs": [],
   "source": [
    "kobe_streak_counts = pd.Series(kobe_streak).value_counts().sort_index()\n",
    "px.bar(kobe_streak_counts, labels={\"index\": \"Länge der Wurfserie\", \"value\": \"Anzahl\"})"
   ]
  },
  {
   "cell_type": "markdown",
   "metadata": {},
   "source": [
    "### ✏️ Aufgabe 2\n",
    "Beschreiben Sie die Verteilung der Länge von Kobes Serien in den NBA-Finals 2009 mittels Kennzahlen und geeigneter Visualisierung. Wie lang war seine typische Serie? Wie lang war seine längste Serie von Körben?"
   ]
  },
  {
   "cell_type": "code",
   "execution_count": null,
   "metadata": {},
   "outputs": [],
   "source": [
    "# <IHRE LÖSUNG HIER>"
   ]
  },
  {
   "cell_type": "markdown",
   "metadata": {},
   "source": [
    "## Verglichen womit?"
   ]
  },
  {
   "cell_type": "markdown",
   "metadata": {},
   "source": [
    "Wir haben gezeigt, dass Kobe einige lange Serien hatte, aber sind sie lang genug, um die Annahme zu stützen, dass er *hot hands* hatte? Womit können wir sie vergleichen?\n",
    "\n",
    "Um diese Fragen zu beantworten, müssen wir auf den Begriff der *Unabhängigkeit* zurückkommen. Zwei Zufallsvorgänge sind unabhängig, wenn das Ergebnis des einen Vorgangs keinen Einfluss auf das Ergebnis des zweiten hat. Wenn jeder Wurf, den ein Spieler abgibt, ein unabhängiger Vorgang ist, hat ein gelungener oder misslungener erster Wurf keinen Einfluss auf die Wahrscheinlichkeit, dass der zweite Wurf gelingt oder misslingt.\n",
    "\n",
    "Ein Schütze mit *hot hands* wird Würfe abgeben, die *nicht* unabhängig voneinander sind. Wenn der Schütze seinen ersten Wurf macht, hat er nach dem Hot-Hand-Modell eine *höhere* Wahrscheinlichkeit, dass sein zweiter Wurf ein Treffer ist.\n",
    "\n",
    "Nehmen wir für einen Moment an, dass das Hot-Hand-Modell für Kobe gilt. Während seiner Karriere beträgt die Wahrscheinlichkeit, dass Kobe einen Korb erzielt (d. h. seine Trefferquote), etwa 45 %, oder in Wahrscheinlichkeitsschreibweise,\n",
    "\n",
    "$P(\\text{Wurf} 1 = H) = 0.45$\n",
    "\n",
    "Wenn er den ersten Wurf macht und *hot hands* hat (keine unabhängigen Würfe), dann steigt die Wahrscheinlichkeit, dass sein zweiter Wurf ein Treffer ist, auf, sagen wir, 60 %,\n",
    "\n",
    "$P(\\text{Wurf} 2 = H|\\text{Wurf} 1 = H) = 0.60$\n",
    "\n",
    "Als Ergebnis dieser erhöhten Wahrscheinlichkeit würde man erwarten, dass Kobe längere Serien hat. Vergleichen Sie dies mit der skeptischen Perspektive, bei der Kobe *keine* *hot hands* hat (bei der jeder Wurf unabhängig vom nächsten ist). Wenn er seinen ersten Wurf trifft, ist die Wahrscheinlichkeit, dass er den zweiten macht, immer noch 0.45.\n",
    "\n",
    "$P(\\text{Wurf} 2 = H|\\text{Wurf} 1 = H) = 0.45$\n",
    "\n",
    "Mit anderen Worten: Der erste Wurf hat keinen Einfluss auf die Wahrscheinlichkeit, dass sein zweiter Wurf ein Treffer ist. Wenn Kobes Würfe unabhängig sind, dann hat er die gleiche Wahrscheinlichkeit, jeden Wurf zu treffen, unabhängig von seinen früheren Würfen: 45%.\n",
    "\n",
    "Nachdem wir nun die Situation in Bezug auf unabhängige Würfe formuliert haben, kehren wir zu der Frage zurück: Wie können wir feststellen, ob die Serien von Kobe lang genug sind, um darauf hinzuweisen, dass er *hot hands* hatte? Antwort: Wir können die Länge seiner Serien mit jemandem vergleichen, der keine *hot hands* hat: ein unabhängiger Werfer."
   ]
  },
  {
   "cell_type": "markdown",
   "metadata": {},
   "source": [
    "## Simulationen in Python"
   ]
  },
  {
   "cell_type": "markdown",
   "metadata": {},
   "source": [
    "Wir haben zwar keine Daten von einem Schützen, von dem wir wissen, dass er unabhängig wirft, aber diese Art von Daten lässt sich in Python sehr leicht simulieren. Bei einer Simulation legen Sie die Grundregeln eines Zufallsprozesses fest, und der Computer verwendet dann Zufallszahlen, um ein Ergebnis zu erzeugen, das diesen Regeln entspricht. Als einfaches Beispiel können Sie das Werfen einer fairen Münze mit folgendem Code simulieren:"
   ]
  },
  {
   "cell_type": "code",
   "execution_count": null,
   "metadata": {},
   "outputs": [],
   "source": [
    "import numpy as np\n",
    "\n",
    "outcomes = np.array(['Kopf', 'Zahl'])\n",
    "print(np.random.choice(outcomes))"
   ]
  },
  {
   "cell_type": "markdown",
   "metadata": {},
   "source": [
    "Den Vektor `outcomes` kann man sich wie einen Hut vorstellen, in dem sich zwei Zettel befinden: auf einem Zettel steht `Kopf`, auf dem anderen `Zahl`. Die Funktion `random.choice()` zieht einen Zettel aus dem Hut und sagt uns, ob es Kopf oder Zahl war.\n",
    "\n",
    "Führen Sie den zweiten oben aufgeführten Befehl mehrmals aus. Genau wie beim Werfen einer Münze werden Sie manchmal Kopf und manchmal Zahl erhalten, aber auf lange Sicht werden Sie ungefähr die gleiche Anzahl von beiden erhalten.\n",
    "\n",
    "Wenn Sie eine faire Münze 100 Mal werfen wollen, können Sie die Funktion entweder 100 Mal ausführen oder, einfacher, das Argument `size` anpassen, das bestimmt, wie viele Stichproben gezogen werden sollen (das Argument `replace = True` zeigt an, dass wir den Zettel zurück in den Hut legen, bevor wir erneut ziehen). Speichern Sie das resultierende Array von Kopf und Zahl in einem neuen Objekt namens `sim_fair_coin`."
   ]
  },
  {
   "cell_type": "code",
   "execution_count": null,
   "metadata": {},
   "outputs": [],
   "source": [
    "sim_fair_coin = np.random.choice(outcomes, size = 100, replace = True)"
   ]
  },
  {
   "cell_type": "markdown",
   "metadata": {},
   "source": [
    "Um die Ergebnisse dieser Simulation zu sehen, verwenden Sie `unique()`, um die Häufigkeiten von Kopf und Zahl zu zählen:"
   ]
  },
  {
   "cell_type": "code",
   "execution_count": null,
   "metadata": {},
   "outputs": [],
   "source": [
    "unique, counts = np.unique(sim_fair_coin, return_counts = True)\n",
    "print(np.asarray((unique, counts)).T)"
   ]
  },
  {
   "cell_type": "markdown",
   "metadata": {},
   "source": [
    "Da es nur zwei Elemente in `outcomes` gibt, ist die Wahrscheinlichkeit, dass wir eine Münze \"werfen\" und sie Kopf ergibt, 0.5. Angenommen, wir versuchen, eine ungerechte Münze zu simulieren, von der wir wissen, dass sie nur in 20% der Fälle Kopf zeigt. Wir können dies abbilden, indem wir ein Argument namens `p` hinzufügen, das die Wahrscheinlichkeiten für jeden Eintrag im Array angibt."
   ]
  },
  {
   "cell_type": "code",
   "execution_count": null,
   "metadata": {},
   "outputs": [],
   "source": [
    "sim_unfair_coin = np.random.choice(outcomes, size = 100, replace = True, p = [0.2, 0.8])\n",
    "unique, counts = np.unique(sim_unfair_coin, return_counts = True)\n",
    "print(np.asarray((unique, counts)).T)"
   ]
  },
  {
   "cell_type": "markdown",
   "metadata": {},
   "source": [
    "`p = [0.2, 0.8]` bedeutet, dass wir für die beiden Elemente im Ergebnisfeld das erste, \"Kopf\", mit einer Wahrscheinlichkeit von 0.2 und das zweite, \"Zahl\", mit einer Wahrscheinlichkeit von 0.8 auswählen wollen. Man kann sich den Ergebnisraum auch als eine Tüte mit 10 Chips vorstellen, wobei 2 Chips mit \"Kopf\" und 8 Chips mit \"Zahl\" beschriftet sind. Bei jeder Ziehung beträgt die Wahrscheinlichkeit, einen Chip mit der Aufschrift \"Kopf\" zu ziehen, 20 %, die Wahrscheinlichkeit, einen Chip mit der Aufschrift \"Zahl\" zu ziehen, 80 %."
   ]
  },
  {
   "cell_type": "markdown",
   "metadata": {},
   "source": [
    "### ✏️ Aufgabe 3\n",
    "In der Simulation, in der Sie die ungerechte Münze 100 Mal geworfen haben, wie viele Würfe ergaben Kopf?"
   ]
  },
  {
   "cell_type": "code",
   "execution_count": null,
   "metadata": {},
   "outputs": [],
   "source": [
    "# <IHRE LÖSUNG HIER>"
   ]
  },
  {
   "cell_type": "markdown",
   "metadata": {},
   "source": [
    "In gewissem Sinne haben wir den Zettel, auf dem \"Kopf\" steht, verkleinert, so dass die Wahrscheinlichkeit, dass er gezogen wird, geringer ist, und den Zettel, auf dem \"Zahl\" steht, vergrößert, so dass die Wahrscheinlichkeit, dass er gezogen wird, größer ist. Als wir die faire Münze simuliert haben, waren beide Zettel gleich groß. Dies geschieht standardmäßig, wenn Sie kein `p`-Argument angeben; alle Elemente im Array `outcomes` haben die gleiche Wahrscheinlichkeit, gezogen zu werden."
   ]
  },
  {
   "cell_type": "markdown",
   "metadata": {},
   "source": [
    "## Simulation des unabhängigen Werfers"
   ]
  },
  {
   "cell_type": "markdown",
   "metadata": {},
   "source": [
    "Bei der Simulation eines Basketballspielers mit unabhängigen Würfen kommt der gleiche Mechanismus zum Einsatz wie bei der Simulation eines Münzwurfs. Um einen aussagekräftigen Vergleich zwischen Kobe und unserem simulierten unabhängigen Schützen anstellen zu können, müssen wir sowohl ihre Trefferquoten als auch die Anzahl ihrer Wurfversuche angleichen."
   ]
  },
  {
   "cell_type": "code",
   "execution_count": null,
   "metadata": {},
   "outputs": [],
   "source": [
    "outcomes = np.array(['H', 'M'])\n",
    "sim_basket = np.random.choice(outcomes, size = 133, replace = True, p = [0.45, 0.55])"
   ]
  },
  {
   "cell_type": "markdown",
   "metadata": {},
   "source": [
    "Mit den als `sim_basket` gespeicherten Simulationsergebnissen haben wir die notwendigen Daten, um Kobe mit unserem unabhängigen Schützen zu vergleichen. Wir können uns die Daten von Kobe zusammen mit unseren simulierten Daten ansehen."
   ]
  },
  {
   "cell_type": "code",
   "execution_count": null,
   "metadata": {},
   "outputs": [],
   "source": [
    "print(np.array(kobe['basket']))"
   ]
  },
  {
   "cell_type": "code",
   "execution_count": null,
   "metadata": {},
   "outputs": [],
   "source": [
    "print(sim_basket)  # Beachten Sie, dass sich die Ergebnisse von sim_basket jedes Mal ändern, wenn Sie die obige Simulation erneut durchführen."
   ]
  },
  {
   "cell_type": "markdown",
   "metadata": {},
   "source": [
    "Beide Datensätze repräsentieren die Ergebnisse von 133 Wurfversuchen, jeweils mit der gleichen Trefferquote von 45 %. Wir wissen, dass unsere simulierten Daten von einem Werfer stammen, der unabhängige Würfe hat. Das heißt, wir wissen, dass der simulierte Schütze keine heiße Hand hat."
   ]
  },
  {
   "cell_type": "markdown",
   "metadata": {},
   "source": [
    "## Vergleich zwischen Kobe Bryant und dem unabhängigen Werfer\n",
    "### ✏️ Aufgabe 4\n",
    "Berechnen Sie mit Hilfe von `calc_streak()` die Serienlängen von `sim_basket`. Beschreiben Sie die Verteilung der Länge der Serien. Wie lang ist die typische Serie für diesen simulierten unabhängigen Schützen mit einer Trefferquote von 45 %? Wie lang ist die längste Serie von Körben des Spielers bei 133 Würfen?"
   ]
  },
  {
   "cell_type": "code",
   "execution_count": null,
   "metadata": {},
   "outputs": [],
   "source": [
    "# <IHRE LÖSUNG HIER>"
   ]
  },
  {
   "cell_type": "markdown",
   "metadata": {},
   "source": [
    "### ✏️ Aufgabe 5\n",
    "Wenn Sie die Simulation des unabhängigen Schützen ein zweites Mal durchführen würden, welche Verteilung der Serien würden erwarten verglichen mit der Verteilung, die aktuell in `sim_basket` gespeichert ist? Genau die gleiche? Einigermaßen ähnlich? Völlig anders? Erläutern Sie Ihre Überlegungen."
   ]
  },
  {
   "cell_type": "code",
   "execution_count": null,
   "metadata": {},
   "outputs": [],
   "source": [
    "# <IHRE LÖSUNG HIER>"
   ]
  },
  {
   "cell_type": "markdown",
   "metadata": {},
   "source": [
    "### ✏️ Aufgabe 6\n",
    "Wie sieht die Verteilung der Serienlänge von Kobe Bryant im Vergleich zur Verteilung der Serienlänge des simulierten Schützen aus? Finden Sie anhand dieses Vergleichs Belege dafür, dass das Modell der *hot hand* zu Kobes Wurfverhalten passt? Erläutern Sie."
   ]
  },
  {
   "cell_type": "code",
   "execution_count": null,
   "metadata": {},
   "outputs": [],
   "source": [
    "# <IHRE LÖSUNG HIER>"
   ]
  },
  {
   "cell_type": "markdown",
   "metadata": {},
   "source": [
    "---\n",
    "\n",
    "Diese Übung ist eine deutsche Übersetzung der Übungen aus OpenIntro Statistics von Andrew Bray und Mine Çetinkaya-Rundel (https://www.openintro.org/book/os/). Die Python Adaption stammt von David Akman und Imran Ture (www.featureranking.com)."
   ]
  }
 ],
 "metadata": {
  "kernelspec": {
   "display_name": "Python 3 (ipykernel)",
   "language": "python",
   "name": "python3"
  },
  "language_info": {
   "codemirror_mode": {
    "name": "ipython",
    "version": 3
   },
   "file_extension": ".py",
   "mimetype": "text/x-python",
   "name": "python",
   "nbconvert_exporter": "python",
   "pygments_lexer": "ipython3",
   "version": "3.9.18"
  }
 },
 "nbformat": 4,
 "nbformat_minor": 4
}
