{
 "cells": [
  {
   "cell_type": "code",
   "execution_count": null,
   "metadata": {},
   "outputs": [],
   "source": [
    "# Entkommentiert es wenn ihr es braucht\n",
    "\n",
    "# !pip install pandas\n",
    "# !pip install numpy\n",
    "# !pip install plotly\n",
    "# !pip install seaborn\n",
    "\n",
    "# # Wenn das nicht klappt, macht:\n",
    "\n",
    "# !pip3 install pandas\n",
    "# !pip3 install numpy\n",
    "# !pip3 install plotly\n",
    "# !pip3 install seaborn"
   ]
  },
  {
   "cell_type": "code",
   "execution_count": null,
   "metadata": {},
   "outputs": [],
   "source": [
    "import pandas as pd\n",
    "import numpy as np\n",
    "import plotly.express as px\n",
    "import seaborn as sb"
   ]
  },
  {
   "cell_type": "markdown",
   "metadata": {},
   "source": [
    "**Wiederholdung letztes Tut**\n",
    "\n",
    "Bsp. Histogramme: Was können wir über das Alter der Passagiere und die Überlebenden sagen?\n"
   ]
  },
  {
   "cell_type": "code",
   "execution_count": null,
   "metadata": {},
   "outputs": [],
   "source": [
    "df = sb.load_dataset(\"titanic\")\n",
    "\n",
    "# Wer krass sein will: Was macht map hier? Welche Probleme könnt ihr damit lösen?\n",
    "# df_alive_age = df[['alive','age']]\n",
    "# df_alive_age['alive'] = df['alive'].map({'yes': 1, 'no': 0})\n",
    "\n",
    "\n",
    "p = px.histogram(df, x='age',y='survived',nbins=10,title=\"Alter der Überlebenden\")\n",
    "p.show()\n",
    "\n",
    "p_age = px.histogram(df, x='age',nbins=10,title=\"Alter der Passagiere\")\n",
    "p_age.show()\n",
    "\n",
    "p_sex = px.histogram(df,x='sex',title=\"Geschlecht der Passagiere\" )\n",
    "p_sex.show()\n",
    "\n",
    "p_sex_survived = px.histogram(df, x='sex',y='survived',title=\"Überlebende nach Geschlecht\")\n",
    "p_sex_survived.show()\n",
    "\n"
   ]
  },
  {
   "cell_type": "markdown",
   "metadata": {},
   "source": [
    "**Lösung**\n",
    "\n",
    "-> Allgemein stimmt die Altersverteilung grob mit der Verteilung der Überlebenden überein, allerdings haben wenig sehr alte Menschen überlebt\n",
    "\n",
    "-> Bei den über 60-Jährigen haben fast keine überlebt\n",
    "\n",
    "-> Die Mehrheit der Passagiere waren Männer, jedoch haben viel mehr Frauen tatsächlich überlebt (\"Frauen und Kinder zuerst\")\n",
    "\n",
    "-> Dieser Satz stimmt jedoch pauschal nicht: Kinder haben nicht übermäßig oft überlebt (nur ca. 50% verglichen mit ca. 70% der Frauen und 21% der Männer ) "
   ]
  },
  {
   "cell_type": "markdown",
   "metadata": {},
   "source": [
    "**Korrelation**\n",
    "\n",
    "Am Beispiel Taxidaten aus seaborn"
   ]
  },
  {
   "cell_type": "code",
   "execution_count": null,
   "metadata": {},
   "outputs": [],
   "source": [
    "df2 = sb.load_dataset(\"taxis\")\n",
    "\n",
    "df2_descrb = df2.describe()\n",
    "print(df2_descrb,\"-------------\\n-------------\")\n",
    "\n",
    "# Gibt es eine Korrelation zwischen der Taxirechnung und der Distanz?\n",
    "df2_corr_distance_fare = df2[['fare','distance']].corr()\n",
    "print(df2_corr_distance_fare)\n",
    "df2_scatt_distance_fare = px.scatter(df2, x='distance', y='fare',title=\"Höhe der Rechnung nach Distanz der Taxifahrt\")\n",
    "\n",
    "df2_scatt_distance_fare.show()\n",
    "\n",
    "# Und bei Trinkgeld und Distanz?\n",
    "df2_corr_distance_tip = df2[['tip','distance']].corr()\n",
    "print(df2_corr_distance_tip)\n",
    "df2_scatt_distance_tip = px.scatter(df2, x='distance', y='tip', title=\"Höhe Trinkgeld nach Distanz der Taxifahrt\")\n",
    "\n",
    "df2_scatt_distance_tip.show()\n",
    "\n",
    "# Wie siehts aus mit Ankunftszeit im März und Trinkgeld? \n",
    "df2_corr_dropoff_tip = df2[['dropoff','tip']].corr()\n",
    "print(df2_corr_dropoff_tip)\n",
    "df2_scatt_dropoff_tip = px.scatter(df2, x='dropoff',y='tip',title=\"Ankunftszeit im März und Trinkgeld\")\n",
    "\n",
    "df2_scatt_dropoff_tip.show()"
   ]
  },
  {
   "cell_type": "markdown",
   "metadata": {},
   "source": [
    "**Lineare Regression**\n",
    "\n",
    "Am gleichen Beispiel"
   ]
  },
  {
   "cell_type": "code",
   "execution_count": null,
   "metadata": {},
   "outputs": [],
   "source": [
    "df2 = sb.load_dataset(\"taxis\")\n",
    "\n",
    "# Jetzt mit linearer Regression!\n",
    "# Gibt es eine Korrelation zwischen der Taxirechnung und der Distanz?\n",
    "# Und Frage an die krassen Mathestreber: Was passiert wenn ich die Wurzel aus R² nehme (siehe Regressionsgerade und Bestimttheitsmaß)?\n",
    "# Vergleicht es mit dem Ergebnis von den Korrelationsfunktionen.\n",
    "\n",
    "df2_corr_distance_fare = df2[['fare','distance']].corr()\n",
    "print(df2_corr_distance_fare)\n",
    "df2_scatt_distance_fare = px.scatter(df2, x='distance', y='fare', trendline='ols',title=\"Höhe der Rechnung nach Distanz der Taxifahrt\")\n",
    "\n",
    "df2_scatt_distance_fare.show()\n",
    "\n",
    "# Und bei Trinkgeld und Distanz?\n",
    "df2_corr_distance_tip = df2[['tip','distance']].corr()\n",
    "print(df2_corr_distance_tip)\n",
    "df2_scatt_distance_tip = px.scatter(df2, x='distance', y='tip', trendline='ols',title=\"Höhe Trinkgeld nach Distanz der Taxifahrt\")\n",
    "\n",
    "df2_scatt_distance_tip.show()\n",
    "\n",
    "# Wie siehts aus mit Ankunftszeit und Trinkgeld? \n",
    "df2_corr_dropoff_tip = df2[['dropoff','tip']].corr()\n",
    "print(df2_corr_dropoff_tip)\n",
    "df2_scatt_dropoff_tip = px.scatter(df2, x='dropoff',y='tip',trendline='ols',title=\"Ankunftszeit im März und Trinkgeld\")\n",
    "\n",
    "df2_scatt_dropoff_tip.show()"
   ]
  },
  {
   "cell_type": "markdown",
   "metadata": {},
   "source": [
    "**Lösung**\n",
    "\n",
    "Was können wir daraus lesen?\n",
    "\n",
    "-> Stark positive Korrelation zwischen Taxirechnung und Distanz, je weiter man gefahren wird, desto höher die Rechnung, ist ziemlich selbsterklärend.\n",
    " \n",
    "-> Mittelstarke positive Korrelation zwischen Trinkgeld und Distanz, macht auch Sinn..allerdings gibt es immer ein paar Schwaben die kein Trinkgeld geben, egal wie weit das Taxi fährt.\n",
    "\n",
    "-> Keine nennenswerte Korrelation zwischen Zeitpunkt der Ankunft übers Jahr und Trinkgeld, es macht hier keinen Sinn eine Regressionsgerade einzuzeichnen."
   ]
  }
 ],
 "metadata": {
  "kernelspec": {
   "display_name": "Python 3",
   "language": "python",
   "name": "python3"
  },
  "language_info": {
   "codemirror_mode": {
    "name": "ipython",
    "version": 3
   },
   "file_extension": ".py",
   "mimetype": "text/x-python",
   "name": "python",
   "nbconvert_exporter": "python",
   "pygments_lexer": "ipython3",
   "version": "3.12.2"
  }
 },
 "nbformat": 4,
 "nbformat_minor": 2
}
