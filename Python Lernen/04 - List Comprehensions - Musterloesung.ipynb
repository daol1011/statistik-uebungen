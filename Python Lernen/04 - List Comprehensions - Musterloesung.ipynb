{
 "cells": [
  {
   "cell_type": "markdown",
   "metadata": {},
   "source": [
    "Prof. Dr. Reinhard Bauer\n",
    "\n",
    "<a target=\"_blank\" href=\"https://colab.research.google.com/github/djanka2/statistik-uebungen/blob/main/Python%20Lernen/04%20-%20List%20Comprehensions%20-%20Musterloesung.ipynb\">\n",
    "  <img src=\"https://colab.research.google.com/assets/colab-badge.svg\" alt=\"Open In Colab\"/>\n",
    "</a>\n",
    "\n",
    "# Python Grundlagen 4 - Schleifen und List Comprehensions"
   ]
  },
  {
   "cell_type": "markdown",
   "metadata": {},
   "source": [
    "## Schleifen"
   ]
  },
  {
   "cell_type": "markdown",
   "metadata": {},
   "source": [
    "Gegeben ist eine Liste L"
   ]
  },
  {
   "cell_type": "code",
   "execution_count": 50,
   "metadata": {},
   "outputs": [],
   "source": [
    "L=['a', 'b', 'c', 'd', 'e', 'f', 'g', 'h']"
   ]
  },
  {
   "cell_type": "markdown",
   "metadata": {},
   "source": [
    "Mit einer for-Schleife kann man über alle Elemente der Liste iterieren:"
   ]
  },
  {
   "cell_type": "code",
   "execution_count": 16,
   "metadata": {},
   "outputs": [
    {
     "name": "stdout",
     "output_type": "stream",
     "text": [
      "a\n",
      "b\n",
      "c\n",
      "d\n",
      "e\n",
      "f\n",
      "g\n",
      "h\n"
     ]
    }
   ],
   "source": [
    "for x in L:\n",
    "    print(x)"
   ]
  },
  {
   "cell_type": "markdown",
   "metadata": {},
   "source": [
    "Mit der Range-Funktion lassen sich leicht Zahlenfolgen erstellen. Über diese kann man dann iterieren."
   ]
  },
  {
   "cell_type": "code",
   "execution_count": 12,
   "metadata": {},
   "outputs": [
    {
     "name": "stdout",
     "output_type": "stream",
     "text": [
      "0\n",
      "1\n",
      "2\n",
      "3\n",
      "4\n"
     ]
    }
   ],
   "source": [
    "for x in range(5):\n",
    "    print(x)"
   ]
  },
  {
   "cell_type": "markdown",
   "metadata": {},
   "source": [
    "Man kann mit der Range-Funktion auch von-bis-Listen erzeugen:"
   ]
  },
  {
   "cell_type": "code",
   "execution_count": 14,
   "metadata": {},
   "outputs": [
    {
     "name": "stdout",
     "output_type": "stream",
     "text": [
      "2\n",
      "3\n",
      "4\n",
      "5\n",
      "6\n",
      "7\n"
     ]
    }
   ],
   "source": [
    "for x in range(2,8):\n",
    "    print(x)"
   ]
  },
  {
   "cell_type": "markdown",
   "metadata": {},
   "source": [
    "Schleifen kann man auch schachteln. Wir geben jetzt die Namen aller Felder eines Schachbretts aus:"
   ]
  },
  {
   "cell_type": "code",
   "execution_count": 20,
   "metadata": {},
   "outputs": [
    {
     "name": "stdout",
     "output_type": "stream",
     "text": [
      "a1 a2 a3 a4 a5 a6 a7 a8 b1 b2 b3 b4 b5 b6 b7 b8 c1 c2 c3 c4 c5 c6 c7 c8 d1 d2 d3 d4 d5 d6 d7 d8 e1 e2 e3 e4 e5 e6 e7 e8 f1 f2 f3 f4 f5 f6 f7 f8 g1 g2 g3 g4 g5 g6 g7 g8 h1 h2 h3 h4 h5 h6 h7 h8 "
     ]
    }
   ],
   "source": [
    "for buchstabe in L:\n",
    "    for zahl in range(1,9):\n",
    "        # durch \"end = ' '\" wird nicht jedes mal eine neue Zeile erzeugt.\n",
    "        print(buchstabe + str(zahl),  end = ' ') "
   ]
  },
  {
   "cell_type": "markdown",
   "metadata": {},
   "source": [
    "Möchte man über mehrere Listen gleichzeitig iterieren, gibt es mehrere Möglichkeiten."
   ]
  },
  {
   "cell_type": "code",
   "execution_count": 23,
   "metadata": {},
   "outputs": [],
   "source": [
    "vornamen=['Anton', 'Bernhard', 'Christian', 'Daniel']\n",
    "nachnamen=['Altmeier', 'Bauer', 'Cohen', 'Daum']"
   ]
  },
  {
   "cell_type": "markdown",
   "metadata": {},
   "source": [
    "Eine etwas umständliche Möglichkeit ist, über alle Indizes der Listen zu iterieren (mit Hilfe der Range-Funktion) und jedes Listenelement über seinen Index anzusprechen:"
   ]
  },
  {
   "cell_type": "code",
   "execution_count": 24,
   "metadata": {},
   "outputs": [
    {
     "name": "stdout",
     "output_type": "stream",
     "text": [
      "Anton Altmeier\n",
      "Bernhard Bauer\n",
      "Christian Cohen\n",
      "Daniel Daum\n"
     ]
    }
   ],
   "source": [
    "for i in range(len(vornamen)):\n",
    "    print(vornamen[i] + \" \" + nachnamen[i])"
   ]
  },
  {
   "cell_type": "markdown",
   "metadata": {},
   "source": [
    "Etwas eleganter geht es mit der zip-Funktion, die es ermöglicht, gleichzeitig über mehrere Listen zu iterieren:"
   ]
  },
  {
   "cell_type": "code",
   "execution_count": 25,
   "metadata": {},
   "outputs": [
    {
     "name": "stdout",
     "output_type": "stream",
     "text": [
      "Anton Altmeier\n",
      "Bernhard Bauer\n",
      "Christian Cohen\n",
      "Daniel Daum\n"
     ]
    }
   ],
   "source": [
    "for vorname, nachname in zip(vornamen,nachnamen):\n",
    "    print(vorname + \" \" + nachname)"
   ]
  },
  {
   "cell_type": "markdown",
   "metadata": {},
   "source": [
    "Außerdem gibt es die enumerate-Funktion, die einem beim iterieren noch einen Zähler erzeugt:"
   ]
  },
  {
   "cell_type": "code",
   "execution_count": 28,
   "metadata": {},
   "outputs": [
    {
     "name": "stdout",
     "output_type": "stream",
     "text": [
      "Anton Altmeier\n",
      "Bernhard Bauer\n",
      "Christian Cohen\n",
      "Daniel Daum\n"
     ]
    }
   ],
   "source": [
    "for zaehler, nachname in enumerate(nachnamen):\n",
    "    print(vornamen[zaehler] + \" \" + nachname)"
   ]
  },
  {
   "cell_type": "markdown",
   "metadata": {},
   "source": [
    "#### List-Comprehensions"
   ]
  },
  {
   "cell_type": "markdown",
   "metadata": {},
   "source": [
    "## List-Comprehensions"
   ]
  },
  {
   "cell_type": "markdown",
   "metadata": {
    "jp-MarkdownHeadingCollapsed": true,
    "tags": []
   },
   "source": [
    "##### Die Grundform\n",
    "\n",
    "Mit *list comprehensions* lassen sich in machen Situationen Listen sehr einfach durch eine kompakte Notation erzeugen.\n",
    "\n",
    "Die Grundsyntax ist\n",
    "\n",
    "[Ausdruck for Element in Liste]\n",
    "\n",
    "Dies ist äquivalent zu \n",
    "```python\n",
    "neueListe=[]\n",
    "for Element in Liste:\n",
    "        neueListe.append(Ausdruck)\n",
    "```\n",
    "\n",
    "Wir erinnern uns an die Liste L:"
   ]
  },
  {
   "cell_type": "code",
   "execution_count": 46,
   "metadata": {},
   "outputs": [
    {
     "data": {
      "text/plain": [
       "['a1', 'b1', 'c1', 'd1', 'e1', 'f1', 'g1', 'h1']"
      ]
     },
     "execution_count": 46,
     "metadata": {},
     "output_type": "execute_result"
    }
   ],
   "source": [
    "[l + str(1) for l in L]"
   ]
  },
  {
   "cell_type": "markdown",
   "metadata": {},
   "source": [
    "Ein zweites Beispiel"
   ]
  },
  {
   "cell_type": "code",
   "execution_count": 47,
   "metadata": {},
   "outputs": [
    {
     "data": {
      "text/plain": [
       "['Anton', 'Bernhard', 'Christian', 'Daniel']"
      ]
     },
     "execution_count": 47,
     "metadata": {},
     "output_type": "execute_result"
    }
   ],
   "source": [
    "[vorname for vorname in vornamen]"
   ]
  },
  {
   "cell_type": "markdown",
   "metadata": {},
   "source": [
    "Ein drittes Beispiel"
   ]
  },
  {
   "cell_type": "code",
   "execution_count": 48,
   "metadata": {},
   "outputs": [
    {
     "data": {
      "text/plain": [
       "['Anton Meier', 'Bernhard Meier', 'Christian Meier', 'Daniel Meier']"
      ]
     },
     "execution_count": 48,
     "metadata": {},
     "output_type": "execute_result"
    }
   ],
   "source": [
    "[vorname + ' Meier' for vorname in vornamen]"
   ]
  },
  {
   "cell_type": "markdown",
   "metadata": {},
   "source": [
    "Hilfreich ist hierbei manchmal die *range-Funktion*. Beispiele sind"
   ]
  },
  {
   "cell_type": "code",
   "execution_count": 6,
   "metadata": {},
   "outputs": [
    {
     "data": {
      "text/plain": [
       "[0, 1, 2, 3, 4, 5, 6, 7, 8, 9]"
      ]
     },
     "execution_count": 6,
     "metadata": {},
     "output_type": "execute_result"
    }
   ],
   "source": [
    "[n for n in range(10)]"
   ]
  },
  {
   "cell_type": "code",
   "execution_count": 49,
   "metadata": {},
   "outputs": [
    {
     "data": {
      "text/plain": [
       "[3, 4, 5, 6, 7]"
      ]
     },
     "execution_count": 49,
     "metadata": {},
     "output_type": "execute_result"
    }
   ],
   "source": [
    "[n for n in range(3,8)]"
   ]
  },
  {
   "cell_type": "markdown",
   "metadata": {},
   "source": [
    "##### (Filter-)Bedingungen in List Comprehensions\n",
    "\n",
    "Man kann die Grundform noch um eine Bedingung erweitern\n",
    "\n",
    "[Ausdruck for Element in Liste if Bedingung]\n",
    "\n",
    "Dies ist äquivalent zu \n",
    "```python\n",
    "neueListe=[]\n",
    "for Element in Liste:\n",
    "        if Bedingung:\n",
    "            neueListe.append(Ausdruck)\n",
    "```"
   ]
  },
  {
   "cell_type": "code",
   "execution_count": 54,
   "metadata": {},
   "outputs": [],
   "source": [
    "liste=['A','AA','AAA','AAAA','AAAAA','AAAAAA','AAAAAAA','AAAAAAAA']"
   ]
  },
  {
   "cell_type": "code",
   "execution_count": 53,
   "metadata": {},
   "outputs": [
    {
     "data": {
      "text/plain": [
       "['A', 'AA', 'AAA', 'AAAA']"
      ]
     },
     "execution_count": 53,
     "metadata": {},
     "output_type": "execute_result"
    }
   ],
   "source": [
    "[x for x in liste if len(x)<5]"
   ]
  },
  {
   "cell_type": "code",
   "execution_count": 52,
   "metadata": {},
   "outputs": [
    {
     "data": {
      "text/plain": [
       "['AAA', 'AAAA', 'AAAAA', 'AAAAAA', 'AAAAAAA', 'AAAAAAAA']"
      ]
     },
     "execution_count": 52,
     "metadata": {},
     "output_type": "execute_result"
    }
   ],
   "source": [
    "[x for x in liste if len(x)>2]"
   ]
  },
  {
   "cell_type": "markdown",
   "metadata": {},
   "source": [
    "##### Bedingte Ausdrücke in Liste Comprehensions\n",
    "\n",
    "Außerdem kann der Ausdruck noch von einer Bedingung abhängen:\n",
    "\n",
    "[Ausdruck1 if Bedingung else Ausdruck2 for Element in Liste]\n",
    "\n",
    "Dies ist äquivalent zu \n",
    "```python\n",
    "neueListe=[]\n",
    "for Element in Liste:\n",
    "        if Bedingung:\n",
    "            neueListe.append(Ausdruck1)\n",
    "        else:\n",
    "            neueListe.append(Ausdruck2)\n",
    "```           "
   ]
  },
  {
   "cell_type": "code",
   "execution_count": 56,
   "metadata": {},
   "outputs": [
    {
     "data": {
      "text/plain": [
       "['A', 'AA', 'AAA', 'lange', 'lange', 'lange', 'lange', 'lange']"
      ]
     },
     "execution_count": 56,
     "metadata": {},
     "output_type": "execute_result"
    }
   ],
   "source": [
    "[x if len(x)<4 else \"lange\" for x in liste ]"
   ]
  },
  {
   "cell_type": "markdown",
   "metadata": {},
   "source": [
    "##### Schachteln und Mehrfachiteration"
   ]
  },
  {
   "cell_type": "markdown",
   "metadata": {},
   "source": [
    "Man kann auch gleichzeitig über mehrere Objekte iterieren "
   ]
  },
  {
   "cell_type": "code",
   "execution_count": 11,
   "metadata": {},
   "outputs": [
    {
     "data": {
      "text/plain": [
       "[0, 0, 0, 0, 0, 0, 1, 2, 3, 4, 0, 2, 4, 6, 8, 0, 3, 6, 9, 12, 0, 4, 8, 12, 16]"
      ]
     },
     "execution_count": 11,
     "metadata": {},
     "output_type": "execute_result"
    }
   ],
   "source": [
    "[i*j for i in range(5) for j in range(5)]"
   ]
  },
  {
   "cell_type": "markdown",
   "metadata": {},
   "source": [
    "Außerdem ist es möglich, List Comprehensions zu schachteln, um Listen-von-Listen zu erzeugen:"
   ]
  },
  {
   "cell_type": "code",
   "execution_count": 10,
   "metadata": {},
   "outputs": [
    {
     "data": {
      "text/plain": [
       "[[0, 0, 0, 0, 0],\n",
       " [0, 1, 2, 3, 4],\n",
       " [0, 2, 4, 6, 8],\n",
       " [0, 3, 6, 9, 12],\n",
       " [0, 4, 8, 12, 16]]"
      ]
     },
     "execution_count": 10,
     "metadata": {},
     "output_type": "execute_result"
    }
   ],
   "source": [
    "[[i*j for i in range(5)] for j in range(5)]"
   ]
  },
  {
   "cell_type": "markdown",
   "metadata": {},
   "source": [
    "## Aufgaben - Schleifen"
   ]
  },
  {
   "cell_type": "markdown",
   "metadata": {},
   "source": [
    "#### Aufgabe (1)\n",
    "\n",
    "Iterieren Sie über die Zahlen von 10 bis 20 und geben Sie jede Zahl aus, die durch 2 teilbar ist."
   ]
  },
  {
   "cell_type": "markdown",
   "metadata": {},
   "source": [
    "Hinweis: Die Teilbarkeit durch 2 können Sie über den %-Operator prüfen:"
   ]
  },
  {
   "cell_type": "code",
   "execution_count": 32,
   "metadata": {},
   "outputs": [
    {
     "name": "stdout",
     "output_type": "stream",
     "text": [
      "1\n",
      "0\n",
      "1\n",
      "0\n"
     ]
    }
   ],
   "source": [
    "print(3%2)\n",
    "print(4%2)\n",
    "print(5%2)\n",
    "print(6%2)"
   ]
  },
  {
   "cell_type": "code",
   "execution_count": 33,
   "metadata": {},
   "outputs": [
    {
     "name": "stdout",
     "output_type": "stream",
     "text": [
      "10\n",
      "12\n",
      "14\n",
      "16\n",
      "18\n",
      "20\n"
     ]
    }
   ],
   "source": [
    "for i in range(10,21):\n",
    "    if(i % 2 ==0):\n",
    "        print(i)"
   ]
  },
  {
   "cell_type": "markdown",
   "metadata": {},
   "source": [
    "#### Aufgabe (2)\n",
    "Gegeben ist die Liste der Namen:"
   ]
  },
  {
   "cell_type": "code",
   "execution_count": 34,
   "metadata": {},
   "outputs": [],
   "source": [
    "Namen=[' Christine', ' Hania', ' Bettina', ' Thomas', 'Kevin', 'Julian', 'Melanie', 'Alexander', ' Sophia', 'Nils', ' Fabio',\n",
    "       ' Manuel', 'Joshua', 'Nils', 'Jannis', 'Kasimir', 'Martin', ' Nadine', ' Tobias', 'Dennis', 'David', 'Anna', 'Niclas', \n",
    "       'Florian', 'Remi', 'Joachim', 'Hans', 'Tobias', 'Laura', 'Florian', 'Jannik', 'Jonathan', 'Theresa', 'Jonas', \n",
    "       'Lucas', 'Max', 'Jacqueline', 'Florian', 'Ivo', 'Tim', ' Eva', 'Maleen', 'Ilona', 'Falk', 'Berit', 'Laurin', \n",
    "       'Marius', 'Jakob', 'Günther']"
   ]
  },
  {
   "cell_type": "markdown",
   "metadata": {},
   "source": [
    "##### (2a) Iterieren Sie über die Liste und erzeugen Sie eine neue Liste NamenM mit allen Namen, die mit \"M\" beginnen."
   ]
  },
  {
   "cell_type": "code",
   "execution_count": 35,
   "metadata": {},
   "outputs": [
    {
     "name": "stdout",
     "output_type": "stream",
     "text": [
      "['Melanie', 'Martin', 'Max', 'Maleen', 'Marius']\n"
     ]
    }
   ],
   "source": [
    "NamenM=[]\n",
    "for name in Namen:\n",
    "    if name[0]=='M':\n",
    "        NamenM.append(name)\n",
    "print(NamenM)"
   ]
  },
  {
   "cell_type": "markdown",
   "metadata": {},
   "source": [
    "##### (2b) Gegeben sind jetzt folgende Listen"
   ]
  },
  {
   "cell_type": "code",
   "execution_count": null,
   "metadata": {},
   "outputs": [],
   "source": [
    "vornamen=['Anton', 'Bernhard', 'Christian', 'Daniel']\n",
    "nachnamen=['Altmeier', 'Bauer', 'Cohen', 'Daum']"
   ]
  },
  {
   "cell_type": "markdown",
   "metadata": {},
   "source": [
    "Geben Sie den Vornamen jeder Person aus, deren Nachname aus mehr als 6 Buchstaben besteht."
   ]
  },
  {
   "cell_type": "code",
   "execution_count": 39,
   "metadata": {},
   "outputs": [
    {
     "name": "stdout",
     "output_type": "stream",
     "text": [
      "Anton\n"
     ]
    }
   ],
   "source": [
    "for vorname, nachname in zip(vornamen, nachnamen):\n",
    "    if len(nachname)>6:\n",
    "        print(vorname)"
   ]
  },
  {
   "cell_type": "code",
   "execution_count": 44,
   "metadata": {},
   "outputs": [
    {
     "name": "stdout",
     "output_type": "stream",
     "text": [
      "Anton\n"
     ]
    }
   ],
   "source": [
    "for i in range(len(vornamen)):\n",
    "    if len(nachnamen[i])>6:\n",
    "        print(vornamen[i])"
   ]
  },
  {
   "cell_type": "markdown",
   "metadata": {},
   "source": [
    "## Aufgaben - List Comprehensions"
   ]
  },
  {
   "cell_type": "markdown",
   "metadata": {},
   "source": [
    "#### Aufgabe (1) "
   ]
  },
  {
   "cell_type": "markdown",
   "metadata": {},
   "source": [
    "Erstellen Sie die Liste [0, 1, 4, 9, 16, 25, 36, 49, 64, 81]\n",
    " durch \n",
    "- (a) eine list comprehension \n",
    "- (b) eine Schleife"
   ]
  },
  {
   "cell_type": "code",
   "execution_count": 5,
   "metadata": {},
   "outputs": [
    {
     "data": {
      "text/plain": [
       "[0, 1, 4, 9, 16, 25, 36, 49, 64, 81]"
      ]
     },
     "execution_count": 5,
     "metadata": {},
     "output_type": "execute_result"
    }
   ],
   "source": [
    "[n**2 for n in range(10)]"
   ]
  },
  {
   "cell_type": "code",
   "execution_count": 6,
   "metadata": {},
   "outputs": [
    {
     "data": {
      "text/plain": [
       "[0, 1, 4, 9, 16, 25, 36, 49, 64, 81]"
      ]
     },
     "execution_count": 6,
     "metadata": {},
     "output_type": "execute_result"
    }
   ],
   "source": [
    "liste=[]\n",
    "for n in range(10):\n",
    "    liste.append(n**2)\n",
    "liste"
   ]
  },
  {
   "cell_type": "markdown",
   "metadata": {},
   "source": [
    "#### Aufgabe (2)"
   ]
  },
  {
   "cell_type": "markdown",
   "metadata": {},
   "source": [
    "Gegeben ist folgende Liste *Namen*:"
   ]
  },
  {
   "cell_type": "code",
   "execution_count": 6,
   "metadata": {},
   "outputs": [],
   "source": [
    "Namen=[' Christine', ' Hania', ' Bettina', ' Thomas', 'Kevin', 'Julian', 'Melanie', 'Alexander', ' Sophia', 'Nils', ' Fabio',\n",
    "       ' Manuel', 'Joshua', 'Nils', 'Jannis', 'Kasimir', 'Martin', ' Nadine', ' Tobias', 'Dennis', 'David', 'Anna', 'Niclas', \n",
    "       'Florian', 'Remi', 'Joachim', 'Hans', 'Tobias', 'Laura', 'Florian', 'Jannik', 'Jonathan', 'Theresa', 'Jonas', \n",
    "       'Lucas', 'Max', 'Jacqueline', 'Florian', 'Ivo', 'Tim', ' Eva', 'Maleen', 'Ilona', 'Falk', 'Berit', 'Laurin', \n",
    "       'Marius', 'Jakob', 'Günther']"
   ]
  },
  {
   "cell_type": "markdown",
   "metadata": {},
   "source": [
    "Erzeugen Sie eine Liste mit allen Einträgen aus der Liste *Namen*, die mit einem M beginnen"
   ]
  },
  {
   "cell_type": "code",
   "execution_count": 46,
   "metadata": {},
   "outputs": [
    {
     "data": {
      "text/plain": [
       "['Melanie', 'Martin', 'Max', 'Maleen', 'Marius', 'Maximilian']"
      ]
     },
     "execution_count": 46,
     "metadata": {},
     "output_type": "execute_result"
    }
   ],
   "source": [
    "[name for name in Namen if name[0]=='M']"
   ]
  },
  {
   "cell_type": "markdown",
   "metadata": {},
   "source": [
    "Erzeugen Sie eine Liste mit allen Einträgen aus der Liste *Namen*, die mehr als 8 Buchstaben enthalten."
   ]
  },
  {
   "cell_type": "code",
   "execution_count": 51,
   "metadata": {},
   "outputs": [
    {
     "data": {
      "text/plain": [
       "[' Christine', 'Alexander', 'Jacqueline', 'Maximilian']"
      ]
     },
     "execution_count": 51,
     "metadata": {},
     "output_type": "execute_result"
    }
   ],
   "source": [
    "[name for name in Namen if len(name)>8]"
   ]
  },
  {
   "cell_type": "markdown",
   "metadata": {},
   "source": [
    "Erzeugen Sie eine neue Liste mit allen Einträgen aus der Liste Namen. Jeder Eintrag, der mehr als 6 Buchstaben enthält, soll nur durch die ersten 6 Buchstaben, gefolgt von einem Punkt dargestellt werden."
   ]
  },
  {
   "cell_type": "code",
   "execution_count": 56,
   "metadata": {},
   "outputs": [
    {
     "data": {
      "text/plain": [
       "[' Christ.',\n",
       " ' Hania',\n",
       " ' Bettin.',\n",
       " ' Thomas.',\n",
       " 'Julian',\n",
       " 'Melanie.',\n",
       " 'Alexand.',\n",
       " ' Sophia.',\n",
       " 'Nils',\n",
       " ' Fabio',\n",
       " ' Manuel.',\n",
       " 'Joshua',\n",
       " 'Nils',\n",
       " 'Jannis',\n",
       " 'Martin',\n",
       " ' Nadine.',\n",
       " ' Tobias.',\n",
       " 'Dennis',\n",
       " 'David',\n",
       " 'Anna',\n",
       " 'Niclas',\n",
       " 'Florian.',\n",
       " 'Remi',\n",
       " 'Joachim.',\n",
       " 'Tobias',\n",
       " 'Laura',\n",
       " 'Florian.',\n",
       " 'Jannik',\n",
       " 'Jonatha.',\n",
       " 'Theresa.',\n",
       " 'Jonas',\n",
       " 'Lucas',\n",
       " 'Max',\n",
       " 'Jacquel.',\n",
       " 'Florian.',\n",
       " 'Ivo',\n",
       " 'Tim',\n",
       " ' Eva',\n",
       " 'Maleen',\n",
       " 'Ilona',\n",
       " 'Falk',\n",
       " 'Berit',\n",
       " 'Laurin',\n",
       " 'Marius',\n",
       " 'Johanne.',\n",
       " 'Maximil.',\n",
       " 'Robin',\n",
       " 'Jakob']"
      ]
     },
     "execution_count": 56,
     "metadata": {},
     "output_type": "execute_result"
    }
   ],
   "source": [
    "[name if len(name)<7 else name[0:7]+\".\" for name  in Namen]"
   ]
  },
  {
   "cell_type": "markdown",
   "metadata": {},
   "source": [
    "#### Aufgabe (3)"
   ]
  },
  {
   "cell_type": "markdown",
   "metadata": {},
   "source": [
    "Gegeben sind die Listen"
   ]
  },
  {
   "cell_type": "code",
   "execution_count": 16,
   "metadata": {},
   "outputs": [],
   "source": [
    "vornamen=['Christine', 'Hania', 'Bettina', 'Thomas']\n",
    "nachnamen=['Müller', 'Meier', 'Schmidt']"
   ]
  },
  {
   "cell_type": "markdown",
   "metadata": {},
   "source": [
    "##### (3a)  Erzeugen Sie eine Liste mit allen Kombinationen aus Vor- und Nachnamen"
   ]
  },
  {
   "cell_type": "code",
   "execution_count": 17,
   "metadata": {},
   "outputs": [
    {
     "data": {
      "text/plain": [
       "['Christine Müller',\n",
       " 'Christine Meier',\n",
       " 'Christine Schmidt',\n",
       " 'Hania Müller',\n",
       " 'Hania Meier',\n",
       " 'Hania Schmidt',\n",
       " 'Bettina Müller',\n",
       " 'Bettina Meier',\n",
       " 'Bettina Schmidt',\n",
       " 'Thomas Müller',\n",
       " 'Thomas Meier',\n",
       " 'Thomas Schmidt']"
      ]
     },
     "execution_count": 17,
     "metadata": {},
     "output_type": "execute_result"
    }
   ],
   "source": [
    "[vor + ' ' + nach for vor in vornamen for nach in nachnamen]"
   ]
  },
  {
   "cell_type": "markdown",
   "metadata": {},
   "source": [
    "#### Aufgabe (4)\n",
    "\n",
    "Erzeugen Sie eine Liste mit allen Feldern des Schachbretts durch eine List-Comprehension."
   ]
  },
  {
   "cell_type": "code",
   "execution_count": 29,
   "metadata": {},
   "outputs": [],
   "source": [
    "L=['a', 'b', 'c', 'd', 'e', 'f', 'g', 'h']"
   ]
  },
  {
   "cell_type": "code",
   "execution_count": 30,
   "metadata": {},
   "outputs": [
    {
     "data": {
      "text/plain": [
       "['a1',\n",
       " 'a2',\n",
       " 'a3',\n",
       " 'a4',\n",
       " 'a5',\n",
       " 'a6',\n",
       " 'a7',\n",
       " 'a8',\n",
       " 'b1',\n",
       " 'b2',\n",
       " 'b3',\n",
       " 'b4',\n",
       " 'b5',\n",
       " 'b6',\n",
       " 'b7',\n",
       " 'b8',\n",
       " 'c1',\n",
       " 'c2',\n",
       " 'c3',\n",
       " 'c4',\n",
       " 'c5',\n",
       " 'c6',\n",
       " 'c7',\n",
       " 'c8',\n",
       " 'd1',\n",
       " 'd2',\n",
       " 'd3',\n",
       " 'd4',\n",
       " 'd5',\n",
       " 'd6',\n",
       " 'd7',\n",
       " 'd8',\n",
       " 'e1',\n",
       " 'e2',\n",
       " 'e3',\n",
       " 'e4',\n",
       " 'e5',\n",
       " 'e6',\n",
       " 'e7',\n",
       " 'e8',\n",
       " 'f1',\n",
       " 'f2',\n",
       " 'f3',\n",
       " 'f4',\n",
       " 'f5',\n",
       " 'f6',\n",
       " 'f7',\n",
       " 'f8',\n",
       " 'g1',\n",
       " 'g2',\n",
       " 'g3',\n",
       " 'g4',\n",
       " 'g5',\n",
       " 'g6',\n",
       " 'g7',\n",
       " 'g8',\n",
       " 'h1',\n",
       " 'h2',\n",
       " 'h3',\n",
       " 'h4',\n",
       " 'h5',\n",
       " 'h6',\n",
       " 'h7',\n",
       " 'h8']"
      ]
     },
     "execution_count": 30,
     "metadata": {},
     "output_type": "execute_result"
    }
   ],
   "source": [
    "[b + str(z) for b in L for z in range(1,9)]"
   ]
  }
 ],
 "metadata": {
  "hide_input": false,
  "kernelspec": {
   "display_name": "Python 3 (ipykernel)",
   "language": "python",
   "name": "python3"
  },
  "language_info": {
   "codemirror_mode": {
    "name": "ipython",
    "version": 3
   },
   "file_extension": ".py",
   "mimetype": "text/x-python",
   "name": "python",
   "nbconvert_exporter": "python",
   "pygments_lexer": "ipython3",
   "version": "3.9.6"
  }
 },
 "nbformat": 4,
 "nbformat_minor": 4
}
