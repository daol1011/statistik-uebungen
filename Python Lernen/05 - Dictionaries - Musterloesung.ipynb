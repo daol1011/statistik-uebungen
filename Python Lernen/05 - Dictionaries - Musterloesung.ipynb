{
 "cells": [
  {
   "cell_type": "markdown",
   "metadata": {},
   "source": [
    "Prof. Dr. Reinhard Bauer\n",
    "\n",
    "<a target=\"_blank\" href=\"https://colab.research.google.com/github/djanka2/statistik-uebungen/blob/main/Python%20Lernen/05%20-%20Dictionaries%20-%20Musterloesung.ipynb\">\n",
    "  <img src=\"https://colab.research.google.com/assets/colab-badge.svg\" alt=\"Open In Colab\"/>\n",
    "</a>\n",
    "\n",
    "# Python Grundlagen 5 - Dictionaries"
   ]
  },
  {
   "cell_type": "markdown",
   "metadata": {},
   "source": [
    "### Wörterbücher\n",
    "Dictionaries (Wörterbücher) können benutzt werden um **Werte** zu einem **Schlüssel** zu speichern. Ein leeres Wörterbuch wird durch den Ausdruck {} erzeugt:"
   ]
  },
  {
   "cell_type": "code",
   "execution_count": 10,
   "metadata": {},
   "outputs": [],
   "source": [
    "woerterbuch={}"
   ]
  },
  {
   "cell_type": "markdown",
   "metadata": {},
   "source": [
    "Schlüssel können etwa Namen und Werte die zugehörigen Telefonnummern sein. Wir speichern drei Namen zusammen mit ihren Telefonnummern in das Wörterbuch:"
   ]
  },
  {
   "cell_type": "code",
   "execution_count": 11,
   "metadata": {},
   "outputs": [],
   "source": [
    "woerterbuch['Stefan']=\"0176-123456789\"\n",
    "woerterbuch['Maria']=\"0172-987654321\"\n",
    "woerterbuch['Julian']=\"0175-333555999\""
   ]
  },
  {
   "cell_type": "markdown",
   "metadata": {},
   "source": [
    "Nun schauen wir die Telefonnummer von Maria nach:"
   ]
  },
  {
   "cell_type": "code",
   "execution_count": 12,
   "metadata": {},
   "outputs": [
    {
     "data": {
      "text/plain": [
       "'0172-987654321'"
      ]
     },
     "execution_count": 12,
     "metadata": {},
     "output_type": "execute_result"
    }
   ],
   "source": [
    "woerterbuch['Maria']"
   ]
  },
  {
   "cell_type": "markdown",
   "metadata": {},
   "source": [
    "### Vorinitialisierte Wörterbücher\n",
    "Das obige Wörterbuch hätte man auch direkt mit den Schlüssel-Werte-Paaren vorinitialisieren können. Als Trennzeichen zwischen Schlüssel und Wert nutzt man den Doppelpunkt:"
   ]
  },
  {
   "cell_type": "code",
   "execution_count": 18,
   "metadata": {},
   "outputs": [],
   "source": [
    "nochmalWoerterbuch={'Stefan': '0176-123456789',  'Maria': '0172-987654321',  'Julian': '\"0175-333555999\"'}"
   ]
  },
  {
   "cell_type": "code",
   "execution_count": 17,
   "metadata": {},
   "outputs": [
    {
     "data": {
      "text/plain": [
       "'0176-123456789'"
      ]
     },
     "execution_count": 17,
     "metadata": {},
     "output_type": "execute_result"
    }
   ],
   "source": [
    "nochmalWoerterbuch['Stefan']"
   ]
  },
  {
   "cell_type": "markdown",
   "metadata": {},
   "source": [
    "### Dictionary comprehensions\n",
    "\n",
    "Manchmal sind einige Schlüssel- und Wertepaare vorab in anderen Datenstrukturen, etwa Listen bekannt."
   ]
  },
  {
   "cell_type": "code",
   "execution_count": 15,
   "metadata": {},
   "outputs": [],
   "source": [
    "EinträgeAlsListeVonTupeln=[('Stefan',\"0176-123456789\"),('Maria',\"0172-987654321\"),('Julian','\"0175-333555999\"')]"
   ]
  },
  {
   "cell_type": "markdown",
   "metadata": {},
   "source": [
    "Man muss man nicht unbedingt mit einem leeren Dictionary starten. Man kann über sogenannte **Dictionary comprehensions** auch direkt gefüllte Dictionaries erzeugen. Die Syntax ist dabei sehr ähnlich zu der von List-Comprehensions, die Sie aus einer vorherigen Lektion schon kennen. Unterschied ist die Aufspaltung in Schlüssel und Wert. Diese erfolgt über das \":\"."
   ]
  },
  {
   "cell_type": "code",
   "execution_count": 16,
   "metadata": {},
   "outputs": [],
   "source": [
    "neuesWoerterbuch={a:b for (a,b) in EinträgeAlsListeVonTupeln}"
   ]
  },
  {
   "cell_type": "markdown",
   "metadata": {},
   "source": [
    "Zur Kontrolle betrachten wir den Inhalt des Wörterbuchs"
   ]
  },
  {
   "cell_type": "code",
   "execution_count": 25,
   "metadata": {},
   "outputs": [
    {
     "name": "stdout",
     "output_type": "stream",
     "text": [
      "{'Stefan': '0176-123456789', 'Maria': '0172-987654321', 'Julian': '\"0175-333555999\"'}\n"
     ]
    }
   ],
   "source": [
    "print(neuesWoerterbuch)"
   ]
  },
  {
   "cell_type": "markdown",
   "metadata": {},
   "source": []
  },
  {
   "cell_type": "markdown",
   "metadata": {},
   "source": [
    "## Übungsaufgaben\n",
    "\n",
    "Wir betrachten die Wert-Schlüssel-Paare\n",
    "* Brot, 3.20\n",
    "* Milch, 0.71\n",
    "* Zucker, 1.39"
   ]
  },
  {
   "cell_type": "markdown",
   "metadata": {},
   "source": [
    "### (1) Erstellen Sie ein leeres Dictionary und speichern Sie alle Werte einzeln ein."
   ]
  },
  {
   "cell_type": "code",
   "execution_count": 21,
   "metadata": {},
   "outputs": [],
   "source": [
    "d1={}\n",
    "d1['Brot']=3.20\n",
    "d1['Milch']=0.71\n",
    "d1['Zucker']=1.39"
   ]
  },
  {
   "cell_type": "markdown",
   "metadata": {},
   "source": [
    "### (2) Erstellen Sie direkt das Dictionary unter  Angabe der Schlüssel-Werte-Paare."
   ]
  },
  {
   "cell_type": "code",
   "execution_count": 22,
   "metadata": {},
   "outputs": [],
   "source": [
    "d2={'Brot':3.20, 'Milch':0.71, 'Zucker':1.39}"
   ]
  },
  {
   "cell_type": "markdown",
   "metadata": {},
   "source": [
    "### (3) Erstellen Sie zuerst eine Liste, die die entsprechenden Schlüssel-Werte-Paare als Tupel enthält. Erstellen Sie daraus das Dictionary durch eine Dictionary-Comprehension."
   ]
  },
  {
   "cell_type": "code",
   "execution_count": 23,
   "metadata": {},
   "outputs": [],
   "source": [
    "l3=[(\"Brot\",3.20),(\"Milch\",0.71),(\"Zucker\",1.39)]\n",
    "d3={a:b for (a,b) in l3}"
   ]
  },
  {
   "cell_type": "markdown",
   "metadata": {},
   "source": [
    "### (4) Überprüfen Sie die drei erzeugten Dictionaries indem Sie jeweils das ganze Dictionary ausgeben und danach noch den Preis für Brot abfragen."
   ]
  },
  {
   "cell_type": "code",
   "execution_count": 26,
   "metadata": {},
   "outputs": [
    {
     "name": "stdout",
     "output_type": "stream",
     "text": [
      "{'Brot': 3.2, 'Milch': 0.71, 'Zucker': 1.39}\n",
      "{'Brot': 3.2, 'Milch': 0.71, 'Zucker': 1.39}\n",
      "{'Brot': 3.2, 'Milch': 0.71, 'Zucker': 1.39}\n",
      "3.2\n",
      "3.2\n",
      "3.2\n"
     ]
    }
   ],
   "source": [
    "print(d1)\n",
    "print(d2)\n",
    "print(d3)\n",
    "print(d1['Brot'])\n",
    "print(d2['Brot'])\n",
    "print(d3['Brot'])"
   ]
  }
 ],
 "metadata": {
  "hide_input": false,
  "kernelspec": {
   "display_name": "Python 3 (ipykernel)",
   "language": "python",
   "name": "python3"
  },
  "language_info": {
   "codemirror_mode": {
    "name": "ipython",
    "version": 3
   },
   "file_extension": ".py",
   "mimetype": "text/x-python",
   "name": "python",
   "nbconvert_exporter": "python",
   "pygments_lexer": "ipython3",
   "version": "3.9.6"
  }
 },
 "nbformat": 4,
 "nbformat_minor": 4
}
