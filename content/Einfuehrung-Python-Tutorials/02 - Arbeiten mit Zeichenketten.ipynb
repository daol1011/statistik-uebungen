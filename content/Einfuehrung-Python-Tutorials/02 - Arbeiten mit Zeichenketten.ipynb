{
 "cells": [
  {
   "cell_type": "markdown",
   "metadata": {},
   "source": [
    "Prof. Dr. Reinhard Bauer\n",
    "\n",
    "# Python Grundlagen 2 - Arbeiten mit Zeichenketten"
   ]
  },
  {
   "cell_type": "markdown",
   "metadata": {},
   "source": [
    "Zeichenketten (engl. strings) werden in Python in '' oder \"\" geschrieben."
   ]
  },
  {
   "cell_type": "code",
   "execution_count": null,
   "metadata": {},
   "outputs": [],
   "source": [
    "strA=\"Hallo\"\n",
    "strB='Welt!'"
   ]
  },
  {
   "cell_type": "markdown",
   "metadata": {},
   "source": [
    "Zeichenketten können über den \"+\"-Operator zusammengesetzt werden:"
   ]
  },
  {
   "cell_type": "code",
   "execution_count": null,
   "metadata": {},
   "outputs": [],
   "source": [
    "strC=strA + \" \" + strB"
   ]
  },
  {
   "cell_type": "markdown",
   "metadata": {},
   "source": [
    "Über die \"print\"-Funktion kann man Zeichketten ausgeben."
   ]
  },
  {
   "cell_type": "code",
   "execution_count": null,
   "metadata": {},
   "outputs": [],
   "source": [
    "print(strC)"
   ]
  },
  {
   "cell_type": "markdown",
   "metadata": {},
   "source": [
    "Zahlen können über die \"str\"-Funktion in Zeichenketten umgewandelt werden."
   ]
  },
  {
   "cell_type": "code",
   "execution_count": null,
   "metadata": {},
   "outputs": [],
   "source": [
    "# Die folgende Zeile enthält einen Fehler\n",
    "strD=\"Moltkestr. \" + 30"
   ]
  },
  {
   "cell_type": "code",
   "execution_count": null,
   "metadata": {},
   "outputs": [],
   "source": [
    "# So ist es richtig\n",
    "strD=\"Moltkestr. \" + str(30)"
   ]
  },
  {
   "cell_type": "markdown",
   "metadata": {},
   "source": [
    "## Übungen"
   ]
  },
  {
   "cell_type": "markdown",
   "metadata": {},
   "source": [
    "Erzeugen Sie Variablen mit folgendem Inhalt:\n",
    "- str1 ist String-Variable und hat den Inhalt: Ich lerne jede Woche\n",
    "- int2 ist Integer-Variable und hat den Inhalt: 5\n",
    "- str3 ist String-Variable und hat den Inhalt: mal Python.\n",
    "\n",
    "Fügen Sie die drei Variablen zu einer String-Variable str4 zusammen.\n",
    "Geben Sie die Variable str4 aus."
   ]
  },
  {
   "cell_type": "code",
   "execution_count": null,
   "metadata": {},
   "outputs": [],
   "source": []
  }
 ],
 "metadata": {
  "hide_input": false,
  "kernelspec": {
   "display_name": "Python 3 (ipykernel)",
   "language": "python",
   "name": "python3"
  },
  "language_info": {
   "codemirror_mode": {
    "name": "ipython",
    "version": 3
   },
   "file_extension": ".py",
   "mimetype": "text/x-python",
   "name": "python",
   "nbconvert_exporter": "python",
   "pygments_lexer": "ipython3",
   "version": "3.9.6"
  }
 },
 "nbformat": 4,
 "nbformat_minor": 4
}
