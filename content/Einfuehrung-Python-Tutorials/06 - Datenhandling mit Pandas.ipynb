{
 "cells": [
  {
   "cell_type": "markdown",
   "metadata": {},
   "source": [
    "# Datenhandling mit Pandas"
   ]
  },
  {
   "cell_type": "markdown",
   "metadata": {},
   "source": [
    "Pandas ist ein Tool zur Verwaltung, Analyse und Manipulaton von Daten, die in tabellarischer Form vorliegen. Gute weitergehende Einführungen zu Pandas finden sich hier:\n",
    "\n",
    "- https://pandas.pydata.org/pandas-docs/stable/getting_started/index.html\n",
    "- https://jakevdp.github.io/PythonDataScienceHandbook/"
   ]
  },
  {
   "cell_type": "markdown",
   "metadata": {},
   "source": [
    "### Bibliotheken importieren"
   ]
  },
  {
   "cell_type": "markdown",
   "metadata": {},
   "source": [
    "Um auf die Klassen und Funktionen einer Bibliothek -- in Python `module` genannt -- zuzugreifen, müssen wir das module mit dem `import` Statement importieren. Durch den Zusatz `as pd` sagen wir Python, dass das module unter dem Kürzel `pd` im Workspace verfügbar gemacht werden soll. Auf den Inhalt kann man dann mit `pd.<Funktionsname>` bzw. `pd.<Klassenname>` zugreifen."
   ]
  },
  {
   "cell_type": "code",
   "execution_count": null,
   "metadata": {},
   "outputs": [],
   "source": [
    "import pandas as pd"
   ]
  },
  {
   "cell_type": "markdown",
   "metadata": {},
   "source": [
    "### Daten einlesen\n",
    "Die Daten liegen typischerweise in externen Dateien vor (etwa .csv oder .xls) und werden dann in einen Pandas DataFrame eingelesen."
   ]
  },
  {
   "cell_type": "code",
   "execution_count": null,
   "metadata": {},
   "outputs": [],
   "source": [
    "dfCountries = pd.read_csv('Daten/countries of the world.csv')"
   ]
  },
  {
   "cell_type": "markdown",
   "metadata": {},
   "source": [
    "Oft müssen beim Einlesen noch einzelne Parameter eingestellt werden, wie in diesem Fall die Festlegung des Dezimalpunkts. Dafür ist es hilfreich mit dem Befehl help(pd.read_excel) die Documentation aufzurufen. csv-Dateien werden mit dem Befehl pd.read_csv() eingelesen."
   ]
  },
  {
   "cell_type": "markdown",
   "metadata": {},
   "source": [
    "### Daten sichten"
   ]
  },
  {
   "cell_type": "markdown",
   "metadata": {},
   "source": [
    "Die Methode `.head` erlaubt einen ersten Blick in den Datensatz."
   ]
  },
  {
   "cell_type": "code",
   "execution_count": null,
   "metadata": {
    "tags": []
   },
   "outputs": [],
   "source": [
    "dfCountries.head()"
   ]
  },
  {
   "cell_type": "markdown",
   "metadata": {},
   "source": [
    "Praktisch: Die Hilfe zu einem Befehl kann man mittels `?` aufrufen:"
   ]
  },
  {
   "cell_type": "code",
   "execution_count": null,
   "metadata": {},
   "outputs": [],
   "source": [
    "dfCountries.head?"
   ]
  },
  {
   "cell_type": "markdown",
   "metadata": {},
   "source": [
    "Zufällige Datensätze werden mit dem Befehl .sample() angezeigt"
   ]
  },
  {
   "cell_type": "code",
   "execution_count": null,
   "metadata": {},
   "outputs": [],
   "source": [
    "dfCountries.sample(10)"
   ]
  },
  {
   "cell_type": "markdown",
   "metadata": {},
   "source": [
    "Grundlegende statistische Informationen zeigt der Befehl .describe(). "
   ]
  },
  {
   "cell_type": "code",
   "execution_count": null,
   "metadata": {},
   "outputs": [],
   "source": [
    "dfCountries.describe()"
   ]
  },
  {
   "cell_type": "markdown",
   "metadata": {},
   "source": [
    "Die Datentypen der einzelnen Spalten, die Anzahl der Einträge (auch pro Spalte) sowie die Größe des Datensatzes im Speicher liefert der Befehl .info(). "
   ]
  },
  {
   "cell_type": "code",
   "execution_count": null,
   "metadata": {},
   "outputs": [],
   "source": [
    "dfCountries.info()"
   ]
  },
  {
   "cell_type": "markdown",
   "metadata": {},
   "source": [
    "### Selektion einzelner Spalten"
   ]
  },
  {
   "cell_type": "markdown",
   "metadata": {},
   "source": [
    "Einzelne Spalten können wie folgt gefiltert werden:"
   ]
  },
  {
   "cell_type": "code",
   "execution_count": null,
   "metadata": {},
   "outputs": [],
   "source": [
    "dfCountries['Population']"
   ]
  },
  {
   "cell_type": "markdown",
   "metadata": {},
   "source": [
    "Mehrere Spalten werden dabei als Liste übergeben:"
   ]
  },
  {
   "cell_type": "code",
   "execution_count": null,
   "metadata": {},
   "outputs": [],
   "source": [
    "dfCountries[['Population','Birthrate','Deathrate']]"
   ]
  },
  {
   "cell_type": "markdown",
   "metadata": {},
   "source": [
    "Dubletten können mit dem Befehl .unique() entfernt und angezeigt werden"
   ]
  },
  {
   "cell_type": "code",
   "execution_count": null,
   "metadata": {},
   "outputs": [],
   "source": [
    "dfCountries['Region'].unique()"
   ]
  },
  {
   "cell_type": "markdown",
   "metadata": {},
   "source": [
    "Eine Liste der Spalten ist so abrufbar:"
   ]
  },
  {
   "cell_type": "code",
   "execution_count": null,
   "metadata": {},
   "outputs": [],
   "source": [
    "dfCountries.columns"
   ]
  },
  {
   "cell_type": "markdown",
   "metadata": {},
   "source": [
    "# Filtern der Zeilen"
   ]
  },
  {
   "cell_type": "markdown",
   "metadata": {},
   "source": [
    "Wir filtern nun alle Länder in der Region WESTERN EUROPE. Dies geht über das loc-Attribute."
   ]
  },
  {
   "cell_type": "code",
   "execution_count": null,
   "metadata": {},
   "outputs": [],
   "source": [
    "dfCountries.loc[dfCountries['Region']=='WESTERN EUROPE']"
   ]
  },
  {
   "cell_type": "markdown",
   "metadata": {},
   "source": [
    "Ein zweites Beispiel"
   ]
  },
  {
   "cell_type": "code",
   "execution_count": null,
   "metadata": {},
   "outputs": [],
   "source": [
    "dfCountries.loc[dfCountries['Population']>100000000]"
   ]
  },
  {
   "cell_type": "markdown",
   "metadata": {},
   "source": [
    "Man kann Filter auch kombinieren. Dabei ist & das Symbol für eine Boolsche UND-Verknüpfung, | das Symbol für eine Boolsche ODER-Verknüpfung:"
   ]
  },
  {
   "cell_type": "code",
   "execution_count": null,
   "metadata": {},
   "outputs": [],
   "source": [
    "dfCountries.loc[(dfCountries['Population']>100000000) & (dfCountries['Area (sq. mi.)']<1000000)]"
   ]
  },
  {
   "cell_type": "markdown",
   "metadata": {},
   "source": [
    "Filter die häufig benutzt werden, können auch in eine sogenannte Mask ausgelagert werden"
   ]
  },
  {
   "cell_type": "code",
   "execution_count": null,
   "metadata": {},
   "outputs": [],
   "source": [
    "maskGroßUndKlein=(dfCountries['Population']>100000000) | (dfCountries['Population']<10000) "
   ]
  },
  {
   "cell_type": "code",
   "execution_count": null,
   "metadata": {},
   "outputs": [],
   "source": [
    "dfCountries.loc[maskGroßUndKlein]"
   ]
  },
  {
   "cell_type": "markdown",
   "metadata": {},
   "source": [
    "Es existiert auch folgende Kurzschreibweise"
   ]
  },
  {
   "cell_type": "code",
   "execution_count": null,
   "metadata": {},
   "outputs": [],
   "source": [
    "dfCountries[dfCountries.Population<10000]"
   ]
  },
  {
   "cell_type": "markdown",
   "metadata": {},
   "source": [
    "### Neue Spalten anlegen"
   ]
  },
  {
   "cell_type": "markdown",
   "metadata": {},
   "source": [
    "Neue Spalten lassen sich durch eine einfache Zuweisung (zu einem bisher unbenutzen Spaltennamen) anlegen"
   ]
  },
  {
   "cell_type": "code",
   "execution_count": null,
   "metadata": {},
   "outputs": [],
   "source": [
    "dfCountries['PopChange']=dfCountries['Birthrate']-dfCountries['Deathrate']"
   ]
  },
  {
   "cell_type": "code",
   "execution_count": null,
   "metadata": {},
   "outputs": [],
   "source": [
    "dfCountries"
   ]
  },
  {
   "cell_type": "markdown",
   "metadata": {},
   "source": [
    "Man kann dies auch mit Filtern kombinieren"
   ]
  },
  {
   "cell_type": "code",
   "execution_count": null,
   "metadata": {},
   "outputs": [],
   "source": [
    "dfCountries.loc[dfCountries.Population<10000,'Winzig']=True"
   ]
  },
  {
   "cell_type": "code",
   "execution_count": null,
   "metadata": {},
   "outputs": [],
   "source": [
    "dfCountries"
   ]
  },
  {
   "cell_type": "code",
   "execution_count": null,
   "metadata": {},
   "outputs": [],
   "source": [
    "dfCountries[dfCountries.Winzig==True]"
   ]
  },
  {
   "cell_type": "markdown",
   "metadata": {},
   "source": [
    "### Datenaggregation"
   ]
  },
  {
   "cell_type": "markdown",
   "metadata": {},
   "source": [
    "Pandas DataFrames können mit dem .groupby-Befehl aggregiert werden. Danach stehen die üblichen Funktionen zur Auswertung zur Verfügung."
   ]
  },
  {
   "cell_type": "code",
   "execution_count": null,
   "metadata": {},
   "outputs": [],
   "source": [
    "dfCountries.groupby('Region').sum()"
   ]
  },
  {
   "cell_type": "markdown",
   "metadata": {},
   "source": [
    "Möchte man individuelle Aggregationsfunktionen pro Spalte anwenden, kann man die Funktion .agg sowie ein Dictionary als Parameter benutzen:"
   ]
  },
  {
   "cell_type": "code",
   "execution_count": null,
   "metadata": {},
   "outputs": [],
   "source": [
    "dfCountries.groupby('Region').agg({'Population':'sum', 'Climate':'count', 'Agriculture':'max'})"
   ]
  },
  {
   "cell_type": "markdown",
   "metadata": {},
   "source": [
    "### Handling von fehlenden Daten"
   ]
  },
  {
   "cell_type": "markdown",
   "metadata": {},
   "source": [
    "Mit dem Befehl .fillna können fehlende Werte durch Standardwerte ersetzt werden."
   ]
  },
  {
   "cell_type": "code",
   "execution_count": null,
   "metadata": {},
   "outputs": [],
   "source": [
    "dfCountries[['Service','Winzig']].head()"
   ]
  },
  {
   "cell_type": "code",
   "execution_count": null,
   "metadata": {},
   "outputs": [],
   "source": [
    "dfCountries[['Winzig']].fillna(False)"
   ]
  },
  {
   "cell_type": "markdown",
   "metadata": {},
   "source": [
    "Bei mehreren Spalten kann ein Dictionary für individelle Werte pro Spalte benutzt werden."
   ]
  },
  {
   "cell_type": "code",
   "execution_count": null,
   "metadata": {},
   "outputs": [],
   "source": [
    "dfCountries[['Service','Winzig']].fillna({'Service':0, 'Winzig':False})"
   ]
  },
  {
   "cell_type": "markdown",
   "metadata": {},
   "source": [
    "Dabei ersetzt fillna die Werte nicht, sondern liefert nur eine angepasste Sicht. Wir überprüfen dies, indem wir den DataFrame nochmals betrachten"
   ]
  },
  {
   "cell_type": "code",
   "execution_count": null,
   "metadata": {},
   "outputs": [],
   "source": [
    "dfCountries"
   ]
  },
  {
   "cell_type": "markdown",
   "metadata": {},
   "source": [
    "Um die Werte auch im zugrundeliegenden Datensatz zu ändern, muss der Parameter inplace benutzt werden:"
   ]
  },
  {
   "cell_type": "code",
   "execution_count": null,
   "metadata": {},
   "outputs": [],
   "source": [
    "dfCountries.fillna({'Service':0, 'Winzig':False}, inplace=True)"
   ]
  },
  {
   "cell_type": "code",
   "execution_count": null,
   "metadata": {},
   "outputs": [],
   "source": [
    "dfCountries.head()"
   ]
  },
  {
   "cell_type": "markdown",
   "metadata": {},
   "source": [
    "### DataFrames transponieren"
   ]
  },
  {
   "cell_type": "markdown",
   "metadata": {},
   "source": [
    "Wir legen uns zuerst einen aggregierten, verkleinerten Datensatz zurecht:"
   ]
  },
  {
   "cell_type": "code",
   "execution_count": null,
   "metadata": {},
   "outputs": [],
   "source": [
    "dfRegions=dfCountries[['Country','Region','Agriculture','Industry','Service']].groupby('Region').mean()"
   ]
  },
  {
   "cell_type": "code",
   "execution_count": null,
   "metadata": {},
   "outputs": [],
   "source": [
    "dfRegions"
   ]
  },
  {
   "cell_type": "markdown",
   "metadata": {},
   "source": [
    "Mit dem Befehl .T kann man einen DataFrame transponiert anzeigen"
   ]
  },
  {
   "cell_type": "code",
   "execution_count": null,
   "metadata": {},
   "outputs": [],
   "source": [
    "dfRegions.T"
   ]
  },
  {
   "cell_type": "markdown",
   "metadata": {},
   "source": [
    "### Verknüpfung (Join) auf verschiedenen Datensätzen"
   ]
  },
  {
   "cell_type": "markdown",
   "metadata": {},
   "source": [
    "Wir speichern den DataFrame dfRegions in eine csv-Datei."
   ]
  },
  {
   "cell_type": "code",
   "execution_count": null,
   "metadata": {},
   "outputs": [],
   "source": [
    "dfRegions.to_csv('Daten/regions.csv')"
   ]
  },
  {
   "cell_type": "markdown",
   "metadata": {},
   "source": [
    "Ein fleißiger Kollege hat für jede Region den zugehörigen Kontinent angefügt und das Ergebnis in der Datei 'regions_edited.csv' gespeichert. Wir laden die Datei in den DataFrame dfRegions"
   ]
  },
  {
   "cell_type": "code",
   "execution_count": null,
   "metadata": {},
   "outputs": [],
   "source": [
    "dfRegions=pd.read_csv('Daten/regions_edited.csv')"
   ]
  },
  {
   "cell_type": "code",
   "execution_count": null,
   "metadata": {},
   "outputs": [],
   "source": [
    "dfRegions"
   ]
  },
  {
   "cell_type": "markdown",
   "metadata": {},
   "source": [
    "Unser Ziel ist nun, die DataFrames dfCountries und dfRegions so zu verknüpfen, dass wir für jedes Land den entsprechenden Kontinent als zusätzliche Spalte speichern."
   ]
  },
  {
   "cell_type": "code",
   "execution_count": null,
   "metadata": {},
   "outputs": [],
   "source": [
    "pd.merge(dfCountries,dfRegions, how='inner', left_on='Region', right_on='Region')"
   ]
  },
  {
   "cell_type": "markdown",
   "metadata": {},
   "source": [
    "Die Spalten Industry, Agriculture und Service kommen doppelt vor, wir selektieren deswegen noch die entsprechenden Spalten"
   ]
  },
  {
   "cell_type": "code",
   "execution_count": null,
   "metadata": {},
   "outputs": [],
   "source": [
    "dfCountries = pd.merge(dfCountries,dfRegions[['Region','Continent']], how='inner', left_on='Region', right_on='Region')"
   ]
  },
  {
   "cell_type": "markdown",
   "metadata": {},
   "source": [
    "# ✏️ Übungsaufgaben"
   ]
  },
  {
   "cell_type": "markdown",
   "metadata": {},
   "source": [
    "Zeigen Sie den Datensatz dfCountries so an, dass nur die Spalten 'Country', 'Agriculture', 'Industry' und 'Service' erscheinen."
   ]
  },
  {
   "cell_type": "code",
   "execution_count": null,
   "metadata": {},
   "outputs": [],
   "source": []
  },
  {
   "cell_type": "markdown",
   "metadata": {},
   "source": [
    "Zeigen Sie den Datensatz dfCountries so an, dass nur die Spalte 'Net Migration' erscheint."
   ]
  },
  {
   "cell_type": "code",
   "execution_count": null,
   "metadata": {},
   "outputs": [],
   "source": []
  },
  {
   "cell_type": "markdown",
   "metadata": {},
   "source": [
    "Zeigen Sie alle Länder an, deren Küstenlinie größer 30 ist."
   ]
  },
  {
   "cell_type": "code",
   "execution_count": null,
   "metadata": {},
   "outputs": [],
   "source": []
  },
  {
   "cell_type": "markdown",
   "metadata": {},
   "source": [
    "Zeigen Sie 7 zufällige Länder an, deren Küstenlinie größer 30 ist."
   ]
  },
  {
   "cell_type": "code",
   "execution_count": null,
   "metadata": {},
   "outputs": [],
   "source": []
  },
  {
   "cell_type": "markdown",
   "metadata": {},
   "source": [
    "Zeigen Sie alle Länder an, deren Küstenlinie größer 30 und kleiner 200 ist."
   ]
  },
  {
   "cell_type": "code",
   "execution_count": null,
   "metadata": {},
   "outputs": [],
   "source": []
  },
  {
   "cell_type": "markdown",
   "metadata": {},
   "source": [
    "Fügen Sie zum DataFrame dfCountries eine Spalte an, bei der die Fläche in Quadratkilometern anstatt Quadratmeilen angegeben ist (1 Quadratmeile = 2,58999 Quadratkilometer)."
   ]
  },
  {
   "cell_type": "code",
   "execution_count": null,
   "metadata": {},
   "outputs": [],
   "source": []
  },
  {
   "cell_type": "markdown",
   "metadata": {},
   "source": [
    "Fügen Sie zum DataFrame dfCountries eine Spalte 'Increasing' an, deren Wert 'True' ist, wenn 'Birthrate'>'Deathrate' und 'False ' sonst."
   ]
  },
  {
   "cell_type": "code",
   "execution_count": null,
   "metadata": {},
   "outputs": [],
   "source": []
  },
  {
   "cell_type": "markdown",
   "metadata": {},
   "source": [
    "Aggregieren Sie den DataFrame dfCountries. Gruppieren Sie dabei nach 'Continent'. Was ist die durchschnittliche Länderpopulation für jeden Kontinent. Was ist die Gesamtpopulation für jeden Kontinent? Wie groß ist das kleinste Land für jeden Kontinent?"
   ]
  },
  {
   "cell_type": "code",
   "execution_count": null,
   "metadata": {},
   "outputs": [],
   "source": []
  },
  {
   "cell_type": "markdown",
   "metadata": {},
   "source": [
    "Erstellen Sie im DataFrame dfCountries eine neue Spalte 'Migration Class' mit den Werten 'Small Migration' für 'Net Migration' < -5, 'Medium Migration' für 'Net Migration' zwischen -5 und 5 und 'High Migration' für 'Net Migration'>5."
   ]
  },
  {
   "cell_type": "code",
   "execution_count": null,
   "metadata": {},
   "outputs": [],
   "source": []
  },
  {
   "cell_type": "markdown",
   "metadata": {},
   "source": [
    "Aggregieren Sie den DataFrame dfCountries. Groupieren Sie dabei nach der 'Migration Class'. Geben Sie für jede Klasse immer den kleinsten, durchschnittlichen und größten Wert der Spalte 'Net Migration' als eigene Spalte an.  Speichern Sie das Ergebnis in dem neuen DataFrame dfMigrationClasses.\n",
    "\n",
    "Hinweis: Nach der Aggregation können Sie den Multilevel-Index mit \"dfMigrationClasses.columns = dfMigrationClasses.columns.droplevel()\" einebenen."
   ]
  },
  {
   "cell_type": "code",
   "execution_count": null,
   "metadata": {},
   "outputs": [],
   "source": []
  },
  {
   "cell_type": "markdown",
   "metadata": {},
   "source": [
    "Filtern Sie dfCountries nach Kontinent 'ASIA', gruppieren dann nach 'Region'. Was ist der Median der 'Coastline' für jede Region in Asien?"
   ]
  },
  {
   "cell_type": "code",
   "execution_count": null,
   "metadata": {},
   "outputs": [],
   "source": []
  },
  {
   "cell_type": "markdown",
   "metadata": {},
   "source": [
    "Speichern Sie den DataFrame dfMigrationClasses als csv-Datei 'migclass.csv'."
   ]
  },
  {
   "cell_type": "code",
   "execution_count": null,
   "metadata": {},
   "outputs": [],
   "source": []
  },
  {
   "cell_type": "markdown",
   "metadata": {},
   "source": [
    "Lesen Sie die Date 'migclass.csv' ein und speichern das Ergebnis in einem neuen DataFrame dfMigrationClasses2"
   ]
  },
  {
   "cell_type": "code",
   "execution_count": null,
   "metadata": {},
   "outputs": [],
   "source": []
  },
  {
   "cell_type": "markdown",
   "metadata": {},
   "source": [
    "Verknüpfen Sie die DataFrames dfCountries und dfMigrationClasses2. Zeigen Sie das Ergebnis an und speichern es in den DataFrame dfFinal."
   ]
  },
  {
   "cell_type": "code",
   "execution_count": null,
   "metadata": {},
   "outputs": [],
   "source": []
  }
 ],
 "metadata": {
  "hide_input": false,
  "kernelspec": {
   "display_name": "Python 3 (ipykernel)",
   "language": "python",
   "name": "python3"
  },
  "language_info": {
   "codemirror_mode": {
    "name": "ipython",
    "version": 3
   },
   "file_extension": ".py",
   "mimetype": "text/x-python",
   "name": "python",
   "nbconvert_exporter": "python",
   "pygments_lexer": "ipython3",
   "version": "3.9.6"
  }
 },
 "nbformat": 4,
 "nbformat_minor": 4
}
