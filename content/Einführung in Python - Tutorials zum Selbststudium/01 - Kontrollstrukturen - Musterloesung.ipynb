{
 "cells": [
  {
   "cell_type": "markdown",
   "metadata": {},
   "source": [
    "Prof. Dr. Reinhard Bauer\n",
    "\n",
    "# Python Grundlagen 1 - Kontrollstrukturen"
   ]
  },
  {
   "cell_type": "markdown",
   "metadata": {},
   "source": [
    "## Zusammenfassung\n",
    "\n",
    "- Python unterstützt alle typischen Kontrollstrukturen wie if, if-else oder verschiedene Arten von Schleifen. \n",
    "\n",
    "- Variablen müssen in Python nicht extra deklariert werden, sondern entstehen direkt durch eine Zuweisung.\n",
    "\n",
    "- Um einen Programmblock zu kennzeichnen nutzt Python anstatt \"begin\" / \"end\" oder \"{\" / \"}\" Zeileneinrückungen.\n",
    "\n",
    "- Kommentare werden mit dem Zeichen # eingeleitet.\n",
    "\n",
    "- Python ist Case-Sensitive: Es macht einen Unterschied, ob Buchstaben klein oder groß geschrieben werden."
   ]
  },
  {
   "cell_type": "markdown",
   "metadata": {},
   "source": [
    "#### Zuweisungen\n",
    "\n",
    "Zuweisungen erfolgen mit dem \"=\" Operator. Variablen können mit der print()-Funktion ausgegeben werden."
   ]
  },
  {
   "cell_type": "code",
   "execution_count": 2,
   "metadata": {},
   "outputs": [
    {
     "name": "stdout",
     "output_type": "stream",
     "text": [
      "12\n"
     ]
    }
   ],
   "source": [
    "x=5\n",
    "y=7\n",
    "z=x+y\n",
    "print(z)"
   ]
  },
  {
   "cell_type": "markdown",
   "metadata": {},
   "source": [
    "#### Groß- und Kleinschreibung"
   ]
  },
  {
   "cell_type": "code",
   "execution_count": 6,
   "metadata": {},
   "outputs": [
    {
     "name": "stdout",
     "output_type": "stream",
     "text": [
      "5\n",
      "7\n"
     ]
    }
   ],
   "source": [
    "variableA=5\n",
    "VariableA=7\n",
    "print(variableA)\n",
    "print(VariableA)"
   ]
  },
  {
   "cell_type": "markdown",
   "metadata": {},
   "source": [
    "#### Vergleichsoperatoren\n",
    "\n",
    "Die wichtigsten Vergleichsoperatoren sind:\n",
    "\n",
    "- \"==\"  (nicht mit = verwechseln, das ist eine Zuweisung)\n",
    "- \"<\"\n",
    "- \">\"\n",
    "- \"<=\"\n",
    "- \">=\""
   ]
  },
  {
   "cell_type": "markdown",
   "metadata": {},
   "source": [
    "#### if-Abfragen"
   ]
  },
  {
   "cell_type": "markdown",
   "metadata": {
    "slideshow": {
     "slide_type": "slide"
    }
   },
   "source": [
    "if-Abfragen werden in Python wie folgt ausgedrückt:"
   ]
  },
  {
   "cell_type": "code",
   "execution_count": 4,
   "metadata": {},
   "outputs": [
    {
     "name": "stdout",
     "output_type": "stream",
     "text": [
      "x ist größergleich 0\n",
      "1\n"
     ]
    }
   ],
   "source": [
    "# Dies ist ein erstes Programm\n",
    "x=0.5\n",
    "if x<0:\n",
    "    print(\"x ist kleiner als 0\")\n",
    "    x=-1\n",
    "if x>=0:\n",
    "    print(\"x ist größergleich 0\")\n",
    "    x=1    \n",
    "print(x)"
   ]
  },
  {
   "cell_type": "markdown",
   "metadata": {},
   "source": [
    "Das Gleiche kann auch mit if-then-else erreicht werden:"
   ]
  },
  {
   "cell_type": "code",
   "execution_count": 5,
   "metadata": {},
   "outputs": [
    {
     "name": "stdout",
     "output_type": "stream",
     "text": [
      "x ist größergleich 0\n",
      "1\n"
     ]
    }
   ],
   "source": [
    "# Dies ist ein erstes Programm\n",
    "x=0.5\n",
    "if x<0:\n",
    "    print(\"x ist kleiner als 0\")\n",
    "    x=-1\n",
    "else:\n",
    "    print(\"x ist größergleich 0\")\n",
    "    x=1    \n",
    "print(x)"
   ]
  },
  {
   "cell_type": "markdown",
   "metadata": {},
   "source": [
    "## Aufgaben"
   ]
  },
  {
   "cell_type": "markdown",
   "metadata": {},
   "source": [
    "#### Aufgabe (1)\n",
    "\n",
    "- Erzeugen Sie eine Variable \"zahlA\". \n",
    "- Weisen Sie der Variable den Wert 5 zu.\n",
    "- Erzeugen Sie eine zweite Variable \"zahlB\". \n",
    "- Weisen Sie der Variable den Wert 8 zu.\n",
    "- Überprüfen Sie, ob das Quadrat der ersten Variable plus dem Quadrat der zweiten Variable größer als 150 ist. \n",
    "- Geben Sie die Meldung \"Groß!\" aus, falls ja und \"Klein!\" falls nein."
   ]
  },
  {
   "cell_type": "code",
   "execution_count": 8,
   "metadata": {},
   "outputs": [
    {
     "name": "stdout",
     "output_type": "stream",
     "text": [
      "Klein!\n"
     ]
    }
   ],
   "source": [
    "zahlA=5\n",
    "zahlB=8\n",
    "if zahlA*zahlA+zahlB*zahlB>150:\n",
    "    print(\"Groß!\")\n",
    "else:\n",
    "    print(\"Klein!\")"
   ]
  },
  {
   "cell_type": "markdown",
   "metadata": {},
   "source": [
    "#### Aufgabe (2)\n",
    "\n",
    "- Erzeugen Sie zwei Variablen H und K.\n",
    "- Weisen Sie den Variablen die Wert 3 und 4 zu\n",
    "- Überprüfen Sie, ob das Produkt der beiden Zahlen 12 ist.\n",
    "- Geben Sie in diesem Fall aus: \"Treffer\"."
   ]
  },
  {
   "cell_type": "code",
   "execution_count": 12,
   "metadata": {},
   "outputs": [
    {
     "name": "stdout",
     "output_type": "stream",
     "text": [
      "Treffer\n"
     ]
    }
   ],
   "source": [
    "H=3\n",
    "K=4\n",
    "if H*K==12:\n",
    "    print(\"Treffer\")"
   ]
  }
 ],
 "metadata": {
  "hide_input": false,
  "kernelspec": {
   "display_name": "Python 3 (ipykernel)",
   "language": "python",
   "name": "python3"
  },
  "language_info": {
   "codemirror_mode": {
    "name": "ipython",
    "version": 3
   },
   "file_extension": ".py",
   "mimetype": "text/x-python",
   "name": "python",
   "nbconvert_exporter": "python",
   "pygments_lexer": "ipython3",
   "version": "3.9.6"
  }
 },
 "nbformat": 4,
 "nbformat_minor": 4
}
