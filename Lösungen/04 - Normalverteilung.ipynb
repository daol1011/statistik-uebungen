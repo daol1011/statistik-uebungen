{
 "cells": [
  {
   "cell_type": "markdown",
   "metadata": {
    "tags": []
   },
   "source": [
    "# Bearbeitungshinweise\n",
    "Im Notebook werden verschiedene Fragestellungen an einem Datensatz untersucht. Die Aufgaben, die sie bearbeiten sollen, ergänzen diese Untersuchungen. Unter jeder Aufgabe befindet sich eine (Code-)Zelle, die etwa so aussieht:"
   ]
  },
  {
   "cell_type": "code",
   "execution_count": null,
   "metadata": {},
   "outputs": [],
   "source": [
    "# <IHRE LÖSUNG HIER>"
   ]
  },
  {
   "cell_type": "markdown",
   "metadata": {
    "tags": []
   },
   "source": [
    "Dort tragen Sie bitte ihren Python Code ein. Bei manchen Aufgaben wird auch kein Code verlangt, sondern eine (kurze) Erklärung. In diesem Fall konvertieren Sie die Zelle bitte zu einer Markdown-Zelle (\"Esc\" und dann \"M\" drücken - \"Esc\" und dann \"Y\" konvertiert wieder zu einer Code-Zelle) und tragen dort Ihre Antwort ein.\n",
    "\n",
    "Falls Sie keine lokale Python Installation haben, können Sie das Notebook auch in Google Colab öffnen und bearbeiten (Google Account benötigt):\n",
    "\n",
    "<a target=\"_blank\" href=\"https://colab.research.google.com/github/djanka2/statistik-uebungen/blob/main/04%20-%20Normalverteilung.ipynb\">\n",
    "  <img src=\"https://colab.research.google.com/assets/colab-badge.svg\" alt=\"Open In Colab\"/>\n",
    "</a>\n",
    "\n",
    "---"
   ]
  },
  {
   "cell_type": "markdown",
   "metadata": {},
   "source": [
    "# Übung 4: Die Normalverteilung"
   ]
  },
  {
   "cell_type": "markdown",
   "metadata": {},
   "source": [
    "In dieser Übung werden wir die wichtigste Wahrscheinlichkeitsverteilung untersuchen: die Normalverteilung. Wenn wir sicher sind, dass unsere Daten annähernd normal sind, können wir viele leistungsstarke statistischen Methoden einsetzen, die es uns erlauben Schlüsse über die Daten hinaus zu ziehen. Hier werden wir grafische Werkzeuge verwenden, um die Normalität eines Datensatzes zu beurteilen und lernen, wie man Zufallszahlen aus einer Normalverteilung erzeugt."
   ]
  },
  {
   "cell_type": "markdown",
   "metadata": {},
   "source": [
    "## Die Daten"
   ]
  },
  {
   "cell_type": "markdown",
   "metadata": {},
   "source": [
    "In dieser Übung werden Sie mit Fast-Food-Daten arbeiten. Der Datensatz enthält Daten zu 515 Produkten von einigen beliebten Fast-Food-Restaurants. Werfen wir einen kurzen Blick auf die ersten Zeilen der Daten."
   ]
  },
  {
   "cell_type": "code",
   "execution_count": 1,
   "metadata": {},
   "outputs": [
    {
     "data": {
      "text/html": [
       "<div>\n",
       "<style scoped>\n",
       "    .dataframe tbody tr th:only-of-type {\n",
       "        vertical-align: middle;\n",
       "    }\n",
       "\n",
       "    .dataframe tbody tr th {\n",
       "        vertical-align: top;\n",
       "    }\n",
       "\n",
       "    .dataframe thead th {\n",
       "        text-align: right;\n",
       "    }\n",
       "</style>\n",
       "<table border=\"1\" class=\"dataframe\">\n",
       "  <thead>\n",
       "    <tr style=\"text-align: right;\">\n",
       "      <th></th>\n",
       "      <th>restaurant</th>\n",
       "      <th>item</th>\n",
       "      <th>calories</th>\n",
       "      <th>cal_fat</th>\n",
       "      <th>total_fat</th>\n",
       "      <th>sat_fat</th>\n",
       "      <th>trans_fat</th>\n",
       "      <th>cholesterol</th>\n",
       "      <th>sodium</th>\n",
       "      <th>total_carb</th>\n",
       "      <th>fiber</th>\n",
       "      <th>sugar</th>\n",
       "      <th>protein</th>\n",
       "      <th>vit_a</th>\n",
       "      <th>vit_c</th>\n",
       "      <th>calcium</th>\n",
       "      <th>salad</th>\n",
       "    </tr>\n",
       "  </thead>\n",
       "  <tbody>\n",
       "    <tr>\n",
       "      <th>0</th>\n",
       "      <td>Mcdonalds</td>\n",
       "      <td>Artisan Grilled Chicken Sandwich</td>\n",
       "      <td>380</td>\n",
       "      <td>60</td>\n",
       "      <td>7</td>\n",
       "      <td>2.0</td>\n",
       "      <td>0.0</td>\n",
       "      <td>95</td>\n",
       "      <td>1110</td>\n",
       "      <td>44</td>\n",
       "      <td>3.0</td>\n",
       "      <td>11</td>\n",
       "      <td>37.0</td>\n",
       "      <td>4.0</td>\n",
       "      <td>20.0</td>\n",
       "      <td>20.0</td>\n",
       "      <td>Other</td>\n",
       "    </tr>\n",
       "    <tr>\n",
       "      <th>1</th>\n",
       "      <td>Mcdonalds</td>\n",
       "      <td>Single Bacon Smokehouse Burger</td>\n",
       "      <td>840</td>\n",
       "      <td>410</td>\n",
       "      <td>45</td>\n",
       "      <td>17.0</td>\n",
       "      <td>1.5</td>\n",
       "      <td>130</td>\n",
       "      <td>1580</td>\n",
       "      <td>62</td>\n",
       "      <td>2.0</td>\n",
       "      <td>18</td>\n",
       "      <td>46.0</td>\n",
       "      <td>6.0</td>\n",
       "      <td>20.0</td>\n",
       "      <td>20.0</td>\n",
       "      <td>Other</td>\n",
       "    </tr>\n",
       "    <tr>\n",
       "      <th>2</th>\n",
       "      <td>Mcdonalds</td>\n",
       "      <td>Double Bacon Smokehouse Burger</td>\n",
       "      <td>1130</td>\n",
       "      <td>600</td>\n",
       "      <td>67</td>\n",
       "      <td>27.0</td>\n",
       "      <td>3.0</td>\n",
       "      <td>220</td>\n",
       "      <td>1920</td>\n",
       "      <td>63</td>\n",
       "      <td>3.0</td>\n",
       "      <td>18</td>\n",
       "      <td>70.0</td>\n",
       "      <td>10.0</td>\n",
       "      <td>20.0</td>\n",
       "      <td>50.0</td>\n",
       "      <td>Other</td>\n",
       "    </tr>\n",
       "    <tr>\n",
       "      <th>3</th>\n",
       "      <td>Mcdonalds</td>\n",
       "      <td>Grilled Bacon Smokehouse Chicken Sandwich</td>\n",
       "      <td>750</td>\n",
       "      <td>280</td>\n",
       "      <td>31</td>\n",
       "      <td>10.0</td>\n",
       "      <td>0.5</td>\n",
       "      <td>155</td>\n",
       "      <td>1940</td>\n",
       "      <td>62</td>\n",
       "      <td>2.0</td>\n",
       "      <td>18</td>\n",
       "      <td>55.0</td>\n",
       "      <td>6.0</td>\n",
       "      <td>25.0</td>\n",
       "      <td>20.0</td>\n",
       "      <td>Other</td>\n",
       "    </tr>\n",
       "    <tr>\n",
       "      <th>4</th>\n",
       "      <td>Mcdonalds</td>\n",
       "      <td>Crispy Bacon Smokehouse Chicken Sandwich</td>\n",
       "      <td>920</td>\n",
       "      <td>410</td>\n",
       "      <td>45</td>\n",
       "      <td>12.0</td>\n",
       "      <td>0.5</td>\n",
       "      <td>120</td>\n",
       "      <td>1980</td>\n",
       "      <td>81</td>\n",
       "      <td>4.0</td>\n",
       "      <td>18</td>\n",
       "      <td>46.0</td>\n",
       "      <td>6.0</td>\n",
       "      <td>20.0</td>\n",
       "      <td>20.0</td>\n",
       "      <td>Other</td>\n",
       "    </tr>\n",
       "    <tr>\n",
       "      <th>...</th>\n",
       "      <td>...</td>\n",
       "      <td>...</td>\n",
       "      <td>...</td>\n",
       "      <td>...</td>\n",
       "      <td>...</td>\n",
       "      <td>...</td>\n",
       "      <td>...</td>\n",
       "      <td>...</td>\n",
       "      <td>...</td>\n",
       "      <td>...</td>\n",
       "      <td>...</td>\n",
       "      <td>...</td>\n",
       "      <td>...</td>\n",
       "      <td>...</td>\n",
       "      <td>...</td>\n",
       "      <td>...</td>\n",
       "      <td>...</td>\n",
       "    </tr>\n",
       "    <tr>\n",
       "      <th>510</th>\n",
       "      <td>Taco Bell</td>\n",
       "      <td>Spicy Triple Double Crunchwrap</td>\n",
       "      <td>780</td>\n",
       "      <td>340</td>\n",
       "      <td>38</td>\n",
       "      <td>10.0</td>\n",
       "      <td>0.5</td>\n",
       "      <td>50</td>\n",
       "      <td>1850</td>\n",
       "      <td>87</td>\n",
       "      <td>9.0</td>\n",
       "      <td>8</td>\n",
       "      <td>23.0</td>\n",
       "      <td>20.0</td>\n",
       "      <td>10.0</td>\n",
       "      <td>25.0</td>\n",
       "      <td>Other</td>\n",
       "    </tr>\n",
       "    <tr>\n",
       "      <th>511</th>\n",
       "      <td>Taco Bell</td>\n",
       "      <td>Express Taco Salad w/ Chips</td>\n",
       "      <td>580</td>\n",
       "      <td>260</td>\n",
       "      <td>29</td>\n",
       "      <td>9.0</td>\n",
       "      <td>1.0</td>\n",
       "      <td>60</td>\n",
       "      <td>1270</td>\n",
       "      <td>59</td>\n",
       "      <td>8.0</td>\n",
       "      <td>7</td>\n",
       "      <td>23.0</td>\n",
       "      <td>NaN</td>\n",
       "      <td>NaN</td>\n",
       "      <td>NaN</td>\n",
       "      <td>Other</td>\n",
       "    </tr>\n",
       "    <tr>\n",
       "      <th>512</th>\n",
       "      <td>Taco Bell</td>\n",
       "      <td>Fiesta Taco Salad-Beef</td>\n",
       "      <td>780</td>\n",
       "      <td>380</td>\n",
       "      <td>42</td>\n",
       "      <td>10.0</td>\n",
       "      <td>1.0</td>\n",
       "      <td>60</td>\n",
       "      <td>1340</td>\n",
       "      <td>74</td>\n",
       "      <td>11.0</td>\n",
       "      <td>7</td>\n",
       "      <td>26.0</td>\n",
       "      <td>NaN</td>\n",
       "      <td>NaN</td>\n",
       "      <td>NaN</td>\n",
       "      <td>Other</td>\n",
       "    </tr>\n",
       "    <tr>\n",
       "      <th>513</th>\n",
       "      <td>Taco Bell</td>\n",
       "      <td>Fiesta Taco Salad-Chicken</td>\n",
       "      <td>720</td>\n",
       "      <td>320</td>\n",
       "      <td>35</td>\n",
       "      <td>7.0</td>\n",
       "      <td>0.0</td>\n",
       "      <td>70</td>\n",
       "      <td>1260</td>\n",
       "      <td>70</td>\n",
       "      <td>8.0</td>\n",
       "      <td>8</td>\n",
       "      <td>32.0</td>\n",
       "      <td>NaN</td>\n",
       "      <td>NaN</td>\n",
       "      <td>NaN</td>\n",
       "      <td>Other</td>\n",
       "    </tr>\n",
       "    <tr>\n",
       "      <th>514</th>\n",
       "      <td>Taco Bell</td>\n",
       "      <td>Fiesta Taco Salad-Steak</td>\n",
       "      <td>720</td>\n",
       "      <td>320</td>\n",
       "      <td>36</td>\n",
       "      <td>8.0</td>\n",
       "      <td>1.0</td>\n",
       "      <td>55</td>\n",
       "      <td>1340</td>\n",
       "      <td>70</td>\n",
       "      <td>8.0</td>\n",
       "      <td>8</td>\n",
       "      <td>28.0</td>\n",
       "      <td>NaN</td>\n",
       "      <td>NaN</td>\n",
       "      <td>NaN</td>\n",
       "      <td>Other</td>\n",
       "    </tr>\n",
       "  </tbody>\n",
       "</table>\n",
       "<p>515 rows × 17 columns</p>\n",
       "</div>"
      ],
      "text/plain": [
       "    restaurant                                       item  calories  cal_fat  \\\n",
       "0    Mcdonalds           Artisan Grilled Chicken Sandwich       380       60   \n",
       "1    Mcdonalds             Single Bacon Smokehouse Burger       840      410   \n",
       "2    Mcdonalds             Double Bacon Smokehouse Burger      1130      600   \n",
       "3    Mcdonalds  Grilled Bacon Smokehouse Chicken Sandwich       750      280   \n",
       "4    Mcdonalds   Crispy Bacon Smokehouse Chicken Sandwich       920      410   \n",
       "..         ...                                        ...       ...      ...   \n",
       "510  Taco Bell             Spicy Triple Double Crunchwrap       780      340   \n",
       "511  Taco Bell                Express Taco Salad w/ Chips       580      260   \n",
       "512  Taco Bell                     Fiesta Taco Salad-Beef       780      380   \n",
       "513  Taco Bell                  Fiesta Taco Salad-Chicken       720      320   \n",
       "514  Taco Bell                    Fiesta Taco Salad-Steak       720      320   \n",
       "\n",
       "     total_fat  sat_fat  trans_fat  cholesterol  sodium  total_carb  fiber  \\\n",
       "0            7      2.0        0.0           95    1110          44    3.0   \n",
       "1           45     17.0        1.5          130    1580          62    2.0   \n",
       "2           67     27.0        3.0          220    1920          63    3.0   \n",
       "3           31     10.0        0.5          155    1940          62    2.0   \n",
       "4           45     12.0        0.5          120    1980          81    4.0   \n",
       "..         ...      ...        ...          ...     ...         ...    ...   \n",
       "510         38     10.0        0.5           50    1850          87    9.0   \n",
       "511         29      9.0        1.0           60    1270          59    8.0   \n",
       "512         42     10.0        1.0           60    1340          74   11.0   \n",
       "513         35      7.0        0.0           70    1260          70    8.0   \n",
       "514         36      8.0        1.0           55    1340          70    8.0   \n",
       "\n",
       "     sugar  protein  vit_a  vit_c  calcium  salad  \n",
       "0       11     37.0    4.0   20.0     20.0  Other  \n",
       "1       18     46.0    6.0   20.0     20.0  Other  \n",
       "2       18     70.0   10.0   20.0     50.0  Other  \n",
       "3       18     55.0    6.0   25.0     20.0  Other  \n",
       "4       18     46.0    6.0   20.0     20.0  Other  \n",
       "..     ...      ...    ...    ...      ...    ...  \n",
       "510      8     23.0   20.0   10.0     25.0  Other  \n",
       "511      7     23.0    NaN    NaN      NaN  Other  \n",
       "512      7     26.0    NaN    NaN      NaN  Other  \n",
       "513      8     32.0    NaN    NaN      NaN  Other  \n",
       "514      8     28.0    NaN    NaN      NaN  Other  \n",
       "\n",
       "[515 rows x 17 columns]"
      ]
     },
     "execution_count": 1,
     "metadata": {},
     "output_type": "execute_result"
    }
   ],
   "source": [
    "import numpy as np\n",
    "import pandas as pd\n",
    "import plotly.express as px\n",
    "\n",
    "fastfood = pd.read_csv(\"https://raw.githubusercontent.com/djanka2/statistik-uebungen/main/Daten/fastfood.csv\")\n",
    "fastfood"
   ]
  },
  {
   "cell_type": "markdown",
   "metadata": {},
   "source": [
    "Sie werden sehen, dass es für jede Beobachtung 17 Messungen gibt, von denen viele Nährwertangaben sind.\n",
    "\n",
    "Für den Anfang werden Sie sich nur auf drei Spalten konzentrieren: `restaurant`, `calories` (Kalorien), `cal_fat` (Kalorien aus Fett).\n",
    "\n",
    "Konzentrieren wir uns zunächst nur auf die Produkte von McDonalds und Dairy Queen."
   ]
  },
  {
   "cell_type": "code",
   "execution_count": 3,
   "metadata": {},
   "outputs": [],
   "source": [
    "mcdonalds = fastfood[fastfood[\"restaurant\"] == \"Mcdonalds\"]\n",
    "dairy_queen = fastfood[fastfood[\"restaurant\"] == \"Dairy Queen\"]"
   ]
  },
  {
   "cell_type": "markdown",
   "metadata": {},
   "source": [
    "### ✏️ Aufgabe 1\n",
    "Erstellen Sie ein Diagramm (oder mehrere Diagramme), um die Verteilungen der Kalorienmenge aus Fett (`cal_fat`) der Optionen dieser beiden Restaurants zu visualisieren. Beschreiben sie die Mittelpunkte, Form und Streuung für beide Restaurants."
   ]
  },
  {
   "cell_type": "code",
   "execution_count": 18,
   "metadata": {},
   "outputs": [
    {
     "data": {
      "application/vnd.plotly.v1+json": {
       "config": {
        "plotlyServerURL": "https://plot.ly"
       },
       "data": [
        {
         "alignmentgroup": "True",
         "bingroup": "x",
         "hovertemplate": "cal_fat=%{x}<br>count=%{y}<extra></extra>",
         "legendgroup": "",
         "marker": {
          "color": "#636efa",
          "pattern": {
           "shape": ""
          }
         },
         "name": "",
         "nbinsx": 30,
         "offsetgroup": "",
         "orientation": "v",
         "showlegend": false,
         "type": "histogram",
         "x": [
          60,
          410,
          600,
          280,
          410,
          250,
          100,
          210,
          190,
          400,
          170,
          300,
          180,
          300,
          70,
          50,
          330,
          190,
          310,
          130,
          160,
          200,
          300,
          160,
          280,
          200,
          200,
          240,
          320,
          180,
          300,
          340,
          200,
          320,
          190,
          250,
          390,
          630,
          790,
          1270,
          100,
          140,
          240,
          480,
          960,
          240,
          360,
          600,
          70,
          80,
          250,
          110,
          120,
          250,
          90,
          100,
          230
         ],
         "xaxis": "x",
         "yaxis": "y"
        }
       ],
       "layout": {
        "barmode": "relative",
        "height": 500,
        "legend": {
         "tracegroupgap": 0
        },
        "template": {
         "data": {
          "bar": [
           {
            "error_x": {
             "color": "#2a3f5f"
            },
            "error_y": {
             "color": "#2a3f5f"
            },
            "marker": {
             "line": {
              "color": "#E5ECF6",
              "width": 0.5
             },
             "pattern": {
              "fillmode": "overlay",
              "size": 10,
              "solidity": 0.2
             }
            },
            "type": "bar"
           }
          ],
          "barpolar": [
           {
            "marker": {
             "line": {
              "color": "#E5ECF6",
              "width": 0.5
             },
             "pattern": {
              "fillmode": "overlay",
              "size": 10,
              "solidity": 0.2
             }
            },
            "type": "barpolar"
           }
          ],
          "carpet": [
           {
            "aaxis": {
             "endlinecolor": "#2a3f5f",
             "gridcolor": "white",
             "linecolor": "white",
             "minorgridcolor": "white",
             "startlinecolor": "#2a3f5f"
            },
            "baxis": {
             "endlinecolor": "#2a3f5f",
             "gridcolor": "white",
             "linecolor": "white",
             "minorgridcolor": "white",
             "startlinecolor": "#2a3f5f"
            },
            "type": "carpet"
           }
          ],
          "choropleth": [
           {
            "colorbar": {
             "outlinewidth": 0,
             "ticks": ""
            },
            "type": "choropleth"
           }
          ],
          "contour": [
           {
            "colorbar": {
             "outlinewidth": 0,
             "ticks": ""
            },
            "colorscale": [
             [
              0,
              "#0d0887"
             ],
             [
              0.1111111111111111,
              "#46039f"
             ],
             [
              0.2222222222222222,
              "#7201a8"
             ],
             [
              0.3333333333333333,
              "#9c179e"
             ],
             [
              0.4444444444444444,
              "#bd3786"
             ],
             [
              0.5555555555555556,
              "#d8576b"
             ],
             [
              0.6666666666666666,
              "#ed7953"
             ],
             [
              0.7777777777777778,
              "#fb9f3a"
             ],
             [
              0.8888888888888888,
              "#fdca26"
             ],
             [
              1,
              "#f0f921"
             ]
            ],
            "type": "contour"
           }
          ],
          "contourcarpet": [
           {
            "colorbar": {
             "outlinewidth": 0,
             "ticks": ""
            },
            "type": "contourcarpet"
           }
          ],
          "heatmap": [
           {
            "colorbar": {
             "outlinewidth": 0,
             "ticks": ""
            },
            "colorscale": [
             [
              0,
              "#0d0887"
             ],
             [
              0.1111111111111111,
              "#46039f"
             ],
             [
              0.2222222222222222,
              "#7201a8"
             ],
             [
              0.3333333333333333,
              "#9c179e"
             ],
             [
              0.4444444444444444,
              "#bd3786"
             ],
             [
              0.5555555555555556,
              "#d8576b"
             ],
             [
              0.6666666666666666,
              "#ed7953"
             ],
             [
              0.7777777777777778,
              "#fb9f3a"
             ],
             [
              0.8888888888888888,
              "#fdca26"
             ],
             [
              1,
              "#f0f921"
             ]
            ],
            "type": "heatmap"
           }
          ],
          "heatmapgl": [
           {
            "colorbar": {
             "outlinewidth": 0,
             "ticks": ""
            },
            "colorscale": [
             [
              0,
              "#0d0887"
             ],
             [
              0.1111111111111111,
              "#46039f"
             ],
             [
              0.2222222222222222,
              "#7201a8"
             ],
             [
              0.3333333333333333,
              "#9c179e"
             ],
             [
              0.4444444444444444,
              "#bd3786"
             ],
             [
              0.5555555555555556,
              "#d8576b"
             ],
             [
              0.6666666666666666,
              "#ed7953"
             ],
             [
              0.7777777777777778,
              "#fb9f3a"
             ],
             [
              0.8888888888888888,
              "#fdca26"
             ],
             [
              1,
              "#f0f921"
             ]
            ],
            "type": "heatmapgl"
           }
          ],
          "histogram": [
           {
            "marker": {
             "pattern": {
              "fillmode": "overlay",
              "size": 10,
              "solidity": 0.2
             }
            },
            "type": "histogram"
           }
          ],
          "histogram2d": [
           {
            "colorbar": {
             "outlinewidth": 0,
             "ticks": ""
            },
            "colorscale": [
             [
              0,
              "#0d0887"
             ],
             [
              0.1111111111111111,
              "#46039f"
             ],
             [
              0.2222222222222222,
              "#7201a8"
             ],
             [
              0.3333333333333333,
              "#9c179e"
             ],
             [
              0.4444444444444444,
              "#bd3786"
             ],
             [
              0.5555555555555556,
              "#d8576b"
             ],
             [
              0.6666666666666666,
              "#ed7953"
             ],
             [
              0.7777777777777778,
              "#fb9f3a"
             ],
             [
              0.8888888888888888,
              "#fdca26"
             ],
             [
              1,
              "#f0f921"
             ]
            ],
            "type": "histogram2d"
           }
          ],
          "histogram2dcontour": [
           {
            "colorbar": {
             "outlinewidth": 0,
             "ticks": ""
            },
            "colorscale": [
             [
              0,
              "#0d0887"
             ],
             [
              0.1111111111111111,
              "#46039f"
             ],
             [
              0.2222222222222222,
              "#7201a8"
             ],
             [
              0.3333333333333333,
              "#9c179e"
             ],
             [
              0.4444444444444444,
              "#bd3786"
             ],
             [
              0.5555555555555556,
              "#d8576b"
             ],
             [
              0.6666666666666666,
              "#ed7953"
             ],
             [
              0.7777777777777778,
              "#fb9f3a"
             ],
             [
              0.8888888888888888,
              "#fdca26"
             ],
             [
              1,
              "#f0f921"
             ]
            ],
            "type": "histogram2dcontour"
           }
          ],
          "mesh3d": [
           {
            "colorbar": {
             "outlinewidth": 0,
             "ticks": ""
            },
            "type": "mesh3d"
           }
          ],
          "parcoords": [
           {
            "line": {
             "colorbar": {
              "outlinewidth": 0,
              "ticks": ""
             }
            },
            "type": "parcoords"
           }
          ],
          "pie": [
           {
            "automargin": true,
            "type": "pie"
           }
          ],
          "scatter": [
           {
            "fillpattern": {
             "fillmode": "overlay",
             "size": 10,
             "solidity": 0.2
            },
            "type": "scatter"
           }
          ],
          "scatter3d": [
           {
            "line": {
             "colorbar": {
              "outlinewidth": 0,
              "ticks": ""
             }
            },
            "marker": {
             "colorbar": {
              "outlinewidth": 0,
              "ticks": ""
             }
            },
            "type": "scatter3d"
           }
          ],
          "scattercarpet": [
           {
            "marker": {
             "colorbar": {
              "outlinewidth": 0,
              "ticks": ""
             }
            },
            "type": "scattercarpet"
           }
          ],
          "scattergeo": [
           {
            "marker": {
             "colorbar": {
              "outlinewidth": 0,
              "ticks": ""
             }
            },
            "type": "scattergeo"
           }
          ],
          "scattergl": [
           {
            "marker": {
             "colorbar": {
              "outlinewidth": 0,
              "ticks": ""
             }
            },
            "type": "scattergl"
           }
          ],
          "scattermapbox": [
           {
            "marker": {
             "colorbar": {
              "outlinewidth": 0,
              "ticks": ""
             }
            },
            "type": "scattermapbox"
           }
          ],
          "scatterpolar": [
           {
            "marker": {
             "colorbar": {
              "outlinewidth": 0,
              "ticks": ""
             }
            },
            "type": "scatterpolar"
           }
          ],
          "scatterpolargl": [
           {
            "marker": {
             "colorbar": {
              "outlinewidth": 0,
              "ticks": ""
             }
            },
            "type": "scatterpolargl"
           }
          ],
          "scatterternary": [
           {
            "marker": {
             "colorbar": {
              "outlinewidth": 0,
              "ticks": ""
             }
            },
            "type": "scatterternary"
           }
          ],
          "surface": [
           {
            "colorbar": {
             "outlinewidth": 0,
             "ticks": ""
            },
            "colorscale": [
             [
              0,
              "#0d0887"
             ],
             [
              0.1111111111111111,
              "#46039f"
             ],
             [
              0.2222222222222222,
              "#7201a8"
             ],
             [
              0.3333333333333333,
              "#9c179e"
             ],
             [
              0.4444444444444444,
              "#bd3786"
             ],
             [
              0.5555555555555556,
              "#d8576b"
             ],
             [
              0.6666666666666666,
              "#ed7953"
             ],
             [
              0.7777777777777778,
              "#fb9f3a"
             ],
             [
              0.8888888888888888,
              "#fdca26"
             ],
             [
              1,
              "#f0f921"
             ]
            ],
            "type": "surface"
           }
          ],
          "table": [
           {
            "cells": {
             "fill": {
              "color": "#EBF0F8"
             },
             "line": {
              "color": "white"
             }
            },
            "header": {
             "fill": {
              "color": "#C8D4E3"
             },
             "line": {
              "color": "white"
             }
            },
            "type": "table"
           }
          ]
         },
         "layout": {
          "annotationdefaults": {
           "arrowcolor": "#2a3f5f",
           "arrowhead": 0,
           "arrowwidth": 1
          },
          "autotypenumbers": "strict",
          "coloraxis": {
           "colorbar": {
            "outlinewidth": 0,
            "ticks": ""
           }
          },
          "colorscale": {
           "diverging": [
            [
             0,
             "#8e0152"
            ],
            [
             0.1,
             "#c51b7d"
            ],
            [
             0.2,
             "#de77ae"
            ],
            [
             0.3,
             "#f1b6da"
            ],
            [
             0.4,
             "#fde0ef"
            ],
            [
             0.5,
             "#f7f7f7"
            ],
            [
             0.6,
             "#e6f5d0"
            ],
            [
             0.7,
             "#b8e186"
            ],
            [
             0.8,
             "#7fbc41"
            ],
            [
             0.9,
             "#4d9221"
            ],
            [
             1,
             "#276419"
            ]
           ],
           "sequential": [
            [
             0,
             "#0d0887"
            ],
            [
             0.1111111111111111,
             "#46039f"
            ],
            [
             0.2222222222222222,
             "#7201a8"
            ],
            [
             0.3333333333333333,
             "#9c179e"
            ],
            [
             0.4444444444444444,
             "#bd3786"
            ],
            [
             0.5555555555555556,
             "#d8576b"
            ],
            [
             0.6666666666666666,
             "#ed7953"
            ],
            [
             0.7777777777777778,
             "#fb9f3a"
            ],
            [
             0.8888888888888888,
             "#fdca26"
            ],
            [
             1,
             "#f0f921"
            ]
           ],
           "sequentialminus": [
            [
             0,
             "#0d0887"
            ],
            [
             0.1111111111111111,
             "#46039f"
            ],
            [
             0.2222222222222222,
             "#7201a8"
            ],
            [
             0.3333333333333333,
             "#9c179e"
            ],
            [
             0.4444444444444444,
             "#bd3786"
            ],
            [
             0.5555555555555556,
             "#d8576b"
            ],
            [
             0.6666666666666666,
             "#ed7953"
            ],
            [
             0.7777777777777778,
             "#fb9f3a"
            ],
            [
             0.8888888888888888,
             "#fdca26"
            ],
            [
             1,
             "#f0f921"
            ]
           ]
          },
          "colorway": [
           "#636efa",
           "#EF553B",
           "#00cc96",
           "#ab63fa",
           "#FFA15A",
           "#19d3f3",
           "#FF6692",
           "#B6E880",
           "#FF97FF",
           "#FECB52"
          ],
          "font": {
           "color": "#2a3f5f"
          },
          "geo": {
           "bgcolor": "white",
           "lakecolor": "white",
           "landcolor": "#E5ECF6",
           "showlakes": true,
           "showland": true,
           "subunitcolor": "white"
          },
          "hoverlabel": {
           "align": "left"
          },
          "hovermode": "closest",
          "mapbox": {
           "style": "light"
          },
          "paper_bgcolor": "white",
          "plot_bgcolor": "#E5ECF6",
          "polar": {
           "angularaxis": {
            "gridcolor": "white",
            "linecolor": "white",
            "ticks": ""
           },
           "bgcolor": "#E5ECF6",
           "radialaxis": {
            "gridcolor": "white",
            "linecolor": "white",
            "ticks": ""
           }
          },
          "scene": {
           "xaxis": {
            "backgroundcolor": "#E5ECF6",
            "gridcolor": "white",
            "gridwidth": 2,
            "linecolor": "white",
            "showbackground": true,
            "ticks": "",
            "zerolinecolor": "white"
           },
           "yaxis": {
            "backgroundcolor": "#E5ECF6",
            "gridcolor": "white",
            "gridwidth": 2,
            "linecolor": "white",
            "showbackground": true,
            "ticks": "",
            "zerolinecolor": "white"
           },
           "zaxis": {
            "backgroundcolor": "#E5ECF6",
            "gridcolor": "white",
            "gridwidth": 2,
            "linecolor": "white",
            "showbackground": true,
            "ticks": "",
            "zerolinecolor": "white"
           }
          },
          "shapedefaults": {
           "line": {
            "color": "#2a3f5f"
           }
          },
          "ternary": {
           "aaxis": {
            "gridcolor": "white",
            "linecolor": "white",
            "ticks": ""
           },
           "baxis": {
            "gridcolor": "white",
            "linecolor": "white",
            "ticks": ""
           },
           "bgcolor": "#E5ECF6",
           "caxis": {
            "gridcolor": "white",
            "linecolor": "white",
            "ticks": ""
           }
          },
          "title": {
           "x": 0.05
          },
          "xaxis": {
           "automargin": true,
           "gridcolor": "white",
           "linecolor": "white",
           "ticks": "",
           "title": {
            "standoff": 15
           },
           "zerolinecolor": "white",
           "zerolinewidth": 2
          },
          "yaxis": {
           "automargin": true,
           "gridcolor": "white",
           "linecolor": "white",
           "ticks": "",
           "title": {
            "standoff": 15
           },
           "zerolinecolor": "white",
           "zerolinewidth": 2
          }
         }
        },
        "title": {
         "text": "Cal_fat distribution for Mc Donalds"
        },
        "width": 700,
        "xaxis": {
         "anchor": "y",
         "domain": [
          0,
          1
         ],
         "title": {
          "text": "cal_fat"
         }
        },
        "yaxis": {
         "anchor": "x",
         "domain": [
          0,
          1
         ],
         "title": {
          "text": "count"
         }
        }
       }
      }
     },
     "metadata": {},
     "output_type": "display_data"
    },
    {
     "data": {
      "application/vnd.plotly.v1+json": {
       "config": {
        "plotlyServerURL": "https://plot.ly"
       },
       "data": [
        {
         "alignmentgroup": "True",
         "bingroup": "x",
         "hovertemplate": "cal_fat=%{x}<br>count=%{y}<extra></extra>",
         "legendgroup": "",
         "marker": {
          "color": "#636efa",
          "pattern": {
           "shape": ""
          }
         },
         "name": "",
         "nbinsx": 30,
         "offsetgroup": "",
         "orientation": "v",
         "showlegend": false,
         "type": "histogram",
         "x": [
          660,
          460,
          330,
          270,
          310,
          160,
          310,
          480,
          590,
          240,
          220,
          220,
          180,
          160,
          180,
          80,
          80,
          410,
          670,
          440,
          140,
          200,
          160,
          310,
          240,
          130,
          430,
          310,
          430,
          180,
          180,
          220,
          280,
          120,
          270,
          190,
          170,
          20,
          140,
          130,
          0,
          240
         ],
         "xaxis": "x",
         "yaxis": "y"
        }
       ],
       "layout": {
        "barmode": "relative",
        "height": 500,
        "legend": {
         "tracegroupgap": 0
        },
        "template": {
         "data": {
          "bar": [
           {
            "error_x": {
             "color": "#2a3f5f"
            },
            "error_y": {
             "color": "#2a3f5f"
            },
            "marker": {
             "line": {
              "color": "#E5ECF6",
              "width": 0.5
             },
             "pattern": {
              "fillmode": "overlay",
              "size": 10,
              "solidity": 0.2
             }
            },
            "type": "bar"
           }
          ],
          "barpolar": [
           {
            "marker": {
             "line": {
              "color": "#E5ECF6",
              "width": 0.5
             },
             "pattern": {
              "fillmode": "overlay",
              "size": 10,
              "solidity": 0.2
             }
            },
            "type": "barpolar"
           }
          ],
          "carpet": [
           {
            "aaxis": {
             "endlinecolor": "#2a3f5f",
             "gridcolor": "white",
             "linecolor": "white",
             "minorgridcolor": "white",
             "startlinecolor": "#2a3f5f"
            },
            "baxis": {
             "endlinecolor": "#2a3f5f",
             "gridcolor": "white",
             "linecolor": "white",
             "minorgridcolor": "white",
             "startlinecolor": "#2a3f5f"
            },
            "type": "carpet"
           }
          ],
          "choropleth": [
           {
            "colorbar": {
             "outlinewidth": 0,
             "ticks": ""
            },
            "type": "choropleth"
           }
          ],
          "contour": [
           {
            "colorbar": {
             "outlinewidth": 0,
             "ticks": ""
            },
            "colorscale": [
             [
              0,
              "#0d0887"
             ],
             [
              0.1111111111111111,
              "#46039f"
             ],
             [
              0.2222222222222222,
              "#7201a8"
             ],
             [
              0.3333333333333333,
              "#9c179e"
             ],
             [
              0.4444444444444444,
              "#bd3786"
             ],
             [
              0.5555555555555556,
              "#d8576b"
             ],
             [
              0.6666666666666666,
              "#ed7953"
             ],
             [
              0.7777777777777778,
              "#fb9f3a"
             ],
             [
              0.8888888888888888,
              "#fdca26"
             ],
             [
              1,
              "#f0f921"
             ]
            ],
            "type": "contour"
           }
          ],
          "contourcarpet": [
           {
            "colorbar": {
             "outlinewidth": 0,
             "ticks": ""
            },
            "type": "contourcarpet"
           }
          ],
          "heatmap": [
           {
            "colorbar": {
             "outlinewidth": 0,
             "ticks": ""
            },
            "colorscale": [
             [
              0,
              "#0d0887"
             ],
             [
              0.1111111111111111,
              "#46039f"
             ],
             [
              0.2222222222222222,
              "#7201a8"
             ],
             [
              0.3333333333333333,
              "#9c179e"
             ],
             [
              0.4444444444444444,
              "#bd3786"
             ],
             [
              0.5555555555555556,
              "#d8576b"
             ],
             [
              0.6666666666666666,
              "#ed7953"
             ],
             [
              0.7777777777777778,
              "#fb9f3a"
             ],
             [
              0.8888888888888888,
              "#fdca26"
             ],
             [
              1,
              "#f0f921"
             ]
            ],
            "type": "heatmap"
           }
          ],
          "heatmapgl": [
           {
            "colorbar": {
             "outlinewidth": 0,
             "ticks": ""
            },
            "colorscale": [
             [
              0,
              "#0d0887"
             ],
             [
              0.1111111111111111,
              "#46039f"
             ],
             [
              0.2222222222222222,
              "#7201a8"
             ],
             [
              0.3333333333333333,
              "#9c179e"
             ],
             [
              0.4444444444444444,
              "#bd3786"
             ],
             [
              0.5555555555555556,
              "#d8576b"
             ],
             [
              0.6666666666666666,
              "#ed7953"
             ],
             [
              0.7777777777777778,
              "#fb9f3a"
             ],
             [
              0.8888888888888888,
              "#fdca26"
             ],
             [
              1,
              "#f0f921"
             ]
            ],
            "type": "heatmapgl"
           }
          ],
          "histogram": [
           {
            "marker": {
             "pattern": {
              "fillmode": "overlay",
              "size": 10,
              "solidity": 0.2
             }
            },
            "type": "histogram"
           }
          ],
          "histogram2d": [
           {
            "colorbar": {
             "outlinewidth": 0,
             "ticks": ""
            },
            "colorscale": [
             [
              0,
              "#0d0887"
             ],
             [
              0.1111111111111111,
              "#46039f"
             ],
             [
              0.2222222222222222,
              "#7201a8"
             ],
             [
              0.3333333333333333,
              "#9c179e"
             ],
             [
              0.4444444444444444,
              "#bd3786"
             ],
             [
              0.5555555555555556,
              "#d8576b"
             ],
             [
              0.6666666666666666,
              "#ed7953"
             ],
             [
              0.7777777777777778,
              "#fb9f3a"
             ],
             [
              0.8888888888888888,
              "#fdca26"
             ],
             [
              1,
              "#f0f921"
             ]
            ],
            "type": "histogram2d"
           }
          ],
          "histogram2dcontour": [
           {
            "colorbar": {
             "outlinewidth": 0,
             "ticks": ""
            },
            "colorscale": [
             [
              0,
              "#0d0887"
             ],
             [
              0.1111111111111111,
              "#46039f"
             ],
             [
              0.2222222222222222,
              "#7201a8"
             ],
             [
              0.3333333333333333,
              "#9c179e"
             ],
             [
              0.4444444444444444,
              "#bd3786"
             ],
             [
              0.5555555555555556,
              "#d8576b"
             ],
             [
              0.6666666666666666,
              "#ed7953"
             ],
             [
              0.7777777777777778,
              "#fb9f3a"
             ],
             [
              0.8888888888888888,
              "#fdca26"
             ],
             [
              1,
              "#f0f921"
             ]
            ],
            "type": "histogram2dcontour"
           }
          ],
          "mesh3d": [
           {
            "colorbar": {
             "outlinewidth": 0,
             "ticks": ""
            },
            "type": "mesh3d"
           }
          ],
          "parcoords": [
           {
            "line": {
             "colorbar": {
              "outlinewidth": 0,
              "ticks": ""
             }
            },
            "type": "parcoords"
           }
          ],
          "pie": [
           {
            "automargin": true,
            "type": "pie"
           }
          ],
          "scatter": [
           {
            "fillpattern": {
             "fillmode": "overlay",
             "size": 10,
             "solidity": 0.2
            },
            "type": "scatter"
           }
          ],
          "scatter3d": [
           {
            "line": {
             "colorbar": {
              "outlinewidth": 0,
              "ticks": ""
             }
            },
            "marker": {
             "colorbar": {
              "outlinewidth": 0,
              "ticks": ""
             }
            },
            "type": "scatter3d"
           }
          ],
          "scattercarpet": [
           {
            "marker": {
             "colorbar": {
              "outlinewidth": 0,
              "ticks": ""
             }
            },
            "type": "scattercarpet"
           }
          ],
          "scattergeo": [
           {
            "marker": {
             "colorbar": {
              "outlinewidth": 0,
              "ticks": ""
             }
            },
            "type": "scattergeo"
           }
          ],
          "scattergl": [
           {
            "marker": {
             "colorbar": {
              "outlinewidth": 0,
              "ticks": ""
             }
            },
            "type": "scattergl"
           }
          ],
          "scattermapbox": [
           {
            "marker": {
             "colorbar": {
              "outlinewidth": 0,
              "ticks": ""
             }
            },
            "type": "scattermapbox"
           }
          ],
          "scatterpolar": [
           {
            "marker": {
             "colorbar": {
              "outlinewidth": 0,
              "ticks": ""
             }
            },
            "type": "scatterpolar"
           }
          ],
          "scatterpolargl": [
           {
            "marker": {
             "colorbar": {
              "outlinewidth": 0,
              "ticks": ""
             }
            },
            "type": "scatterpolargl"
           }
          ],
          "scatterternary": [
           {
            "marker": {
             "colorbar": {
              "outlinewidth": 0,
              "ticks": ""
             }
            },
            "type": "scatterternary"
           }
          ],
          "surface": [
           {
            "colorbar": {
             "outlinewidth": 0,
             "ticks": ""
            },
            "colorscale": [
             [
              0,
              "#0d0887"
             ],
             [
              0.1111111111111111,
              "#46039f"
             ],
             [
              0.2222222222222222,
              "#7201a8"
             ],
             [
              0.3333333333333333,
              "#9c179e"
             ],
             [
              0.4444444444444444,
              "#bd3786"
             ],
             [
              0.5555555555555556,
              "#d8576b"
             ],
             [
              0.6666666666666666,
              "#ed7953"
             ],
             [
              0.7777777777777778,
              "#fb9f3a"
             ],
             [
              0.8888888888888888,
              "#fdca26"
             ],
             [
              1,
              "#f0f921"
             ]
            ],
            "type": "surface"
           }
          ],
          "table": [
           {
            "cells": {
             "fill": {
              "color": "#EBF0F8"
             },
             "line": {
              "color": "white"
             }
            },
            "header": {
             "fill": {
              "color": "#C8D4E3"
             },
             "line": {
              "color": "white"
             }
            },
            "type": "table"
           }
          ]
         },
         "layout": {
          "annotationdefaults": {
           "arrowcolor": "#2a3f5f",
           "arrowhead": 0,
           "arrowwidth": 1
          },
          "autotypenumbers": "strict",
          "coloraxis": {
           "colorbar": {
            "outlinewidth": 0,
            "ticks": ""
           }
          },
          "colorscale": {
           "diverging": [
            [
             0,
             "#8e0152"
            ],
            [
             0.1,
             "#c51b7d"
            ],
            [
             0.2,
             "#de77ae"
            ],
            [
             0.3,
             "#f1b6da"
            ],
            [
             0.4,
             "#fde0ef"
            ],
            [
             0.5,
             "#f7f7f7"
            ],
            [
             0.6,
             "#e6f5d0"
            ],
            [
             0.7,
             "#b8e186"
            ],
            [
             0.8,
             "#7fbc41"
            ],
            [
             0.9,
             "#4d9221"
            ],
            [
             1,
             "#276419"
            ]
           ],
           "sequential": [
            [
             0,
             "#0d0887"
            ],
            [
             0.1111111111111111,
             "#46039f"
            ],
            [
             0.2222222222222222,
             "#7201a8"
            ],
            [
             0.3333333333333333,
             "#9c179e"
            ],
            [
             0.4444444444444444,
             "#bd3786"
            ],
            [
             0.5555555555555556,
             "#d8576b"
            ],
            [
             0.6666666666666666,
             "#ed7953"
            ],
            [
             0.7777777777777778,
             "#fb9f3a"
            ],
            [
             0.8888888888888888,
             "#fdca26"
            ],
            [
             1,
             "#f0f921"
            ]
           ],
           "sequentialminus": [
            [
             0,
             "#0d0887"
            ],
            [
             0.1111111111111111,
             "#46039f"
            ],
            [
             0.2222222222222222,
             "#7201a8"
            ],
            [
             0.3333333333333333,
             "#9c179e"
            ],
            [
             0.4444444444444444,
             "#bd3786"
            ],
            [
             0.5555555555555556,
             "#d8576b"
            ],
            [
             0.6666666666666666,
             "#ed7953"
            ],
            [
             0.7777777777777778,
             "#fb9f3a"
            ],
            [
             0.8888888888888888,
             "#fdca26"
            ],
            [
             1,
             "#f0f921"
            ]
           ]
          },
          "colorway": [
           "#636efa",
           "#EF553B",
           "#00cc96",
           "#ab63fa",
           "#FFA15A",
           "#19d3f3",
           "#FF6692",
           "#B6E880",
           "#FF97FF",
           "#FECB52"
          ],
          "font": {
           "color": "#2a3f5f"
          },
          "geo": {
           "bgcolor": "white",
           "lakecolor": "white",
           "landcolor": "#E5ECF6",
           "showlakes": true,
           "showland": true,
           "subunitcolor": "white"
          },
          "hoverlabel": {
           "align": "left"
          },
          "hovermode": "closest",
          "mapbox": {
           "style": "light"
          },
          "paper_bgcolor": "white",
          "plot_bgcolor": "#E5ECF6",
          "polar": {
           "angularaxis": {
            "gridcolor": "white",
            "linecolor": "white",
            "ticks": ""
           },
           "bgcolor": "#E5ECF6",
           "radialaxis": {
            "gridcolor": "white",
            "linecolor": "white",
            "ticks": ""
           }
          },
          "scene": {
           "xaxis": {
            "backgroundcolor": "#E5ECF6",
            "gridcolor": "white",
            "gridwidth": 2,
            "linecolor": "white",
            "showbackground": true,
            "ticks": "",
            "zerolinecolor": "white"
           },
           "yaxis": {
            "backgroundcolor": "#E5ECF6",
            "gridcolor": "white",
            "gridwidth": 2,
            "linecolor": "white",
            "showbackground": true,
            "ticks": "",
            "zerolinecolor": "white"
           },
           "zaxis": {
            "backgroundcolor": "#E5ECF6",
            "gridcolor": "white",
            "gridwidth": 2,
            "linecolor": "white",
            "showbackground": true,
            "ticks": "",
            "zerolinecolor": "white"
           }
          },
          "shapedefaults": {
           "line": {
            "color": "#2a3f5f"
           }
          },
          "ternary": {
           "aaxis": {
            "gridcolor": "white",
            "linecolor": "white",
            "ticks": ""
           },
           "baxis": {
            "gridcolor": "white",
            "linecolor": "white",
            "ticks": ""
           },
           "bgcolor": "#E5ECF6",
           "caxis": {
            "gridcolor": "white",
            "linecolor": "white",
            "ticks": ""
           }
          },
          "title": {
           "x": 0.05
          },
          "xaxis": {
           "automargin": true,
           "gridcolor": "white",
           "linecolor": "white",
           "ticks": "",
           "title": {
            "standoff": 15
           },
           "zerolinecolor": "white",
           "zerolinewidth": 2
          },
          "yaxis": {
           "automargin": true,
           "gridcolor": "white",
           "linecolor": "white",
           "ticks": "",
           "title": {
            "standoff": 15
           },
           "zerolinecolor": "white",
           "zerolinewidth": 2
          }
         }
        },
        "title": {
         "text": "Cal_fat distribution for Dairy queen"
        },
        "width": 700,
        "xaxis": {
         "anchor": "y",
         "domain": [
          0,
          1
         ],
         "title": {
          "text": "cal_fat"
         }
        },
        "yaxis": {
         "anchor": "x",
         "domain": [
          0,
          1
         ],
         "title": {
          "text": "count"
         }
        }
       }
      }
     },
     "metadata": {},
     "output_type": "display_data"
    }
   ],
   "source": [
    "# <IHRE LÖSUNG HIER>\n",
    "px.histogram(data_frame=mcdonalds, title= \"Cal_fat distribution for Mc Donalds\", x= mcdonalds[\"cal_fat\"], nbins=30, width= 700, height= 500).show()\n",
    "px.histogram(data_frame=dairy_queen, title= \"Cal_fat distribution for Dairy queen\", x= dairy_queen[\"cal_fat\"], nbins = 30, width = 700, height = 500).show()\n",
    "\"\"\"\n",
    "Beide Histogramme weisen eine eher glockenförmige Verteilung und Form auf. Es zeigt sich jedoch, dass die Lebensmittel im McDonalds-Histogramm im Durchschnitt mehr Kalorien \n",
    "enthalten als im Dairy Queen-Histogramm. Ebenfalls unterscheidet sich die Verteilung der Werte zwischen den beiden Diagrammen. \n",
    "Während im Dairy Queen-Histogramm eine breitere Verteilung mit Spitzen um die Werte 200, 440 und sogar 600 Kalorien zu erkennen ist, \n",
    "konzentrieren sich die Werte im McDonalds-Histogramm hauptsächlich im Bereich von 0 bis 500 Kalorien.\n",
    "\"\"\""
   ]
  },
  {
   "cell_type": "markdown",
   "metadata": {},
   "source": [
    "## Die Normalverteilung"
   ]
  },
  {
   "cell_type": "markdown",
   "metadata": {},
   "source": [
    "Haben Sie in Ihrer Beschreibung der Verteilungen Begriffe wie glockenförmig oder normal verwendet? Diese Begriffe liegen nahe, wenn es sich um eine unimodale (eingipflige) symmetrische Verteilung handelt.\n",
    "\n",
    "Um zu sehen, wie genau diese Beschreibung ist, können wir eine Normalverteilungskurve über ein Histogramm legen, um zu sehen, wie genau die Daten einer Normalverteilung folgen. Diese Normalkurve sollte den gleichen Mittelwert und die gleiche Standardabweichung wie die Daten haben. Wir werden uns auf die Kalorien aus Fett von Dairy Queen-Produkten konzentrieren, also speichern wir sie als separates Objekt und berechnen dann einige Statistiken, auf die wir später zurückgreifen werden."
   ]
  },
  {
   "cell_type": "code",
   "execution_count": 19,
   "metadata": {},
   "outputs": [],
   "source": [
    "dqmean = dairy_queen['cal_fat'].mean()\n",
    "dqsd = dairy_queen['cal_fat'].std()"
   ]
  },
  {
   "cell_type": "markdown",
   "metadata": {},
   "source": [
    "Als Nächstes erstellen wir ein Dichtehistogramm, das als Hintergrund dient, und legen darüber die Kurve der Wahrscheinlichkeitsdichte einer Normalverteilung. Der Unterschied zwischen einem Häufigkeitshistogramm und einem Dichtehistogramm besteht darin, dass sich bei einem Häufigkeitshistogramm die *Höhe* der Balken zur Gesamtzahl der Beobachtungen addiert, während sich bei einem Dichtehistogramm die *Fläche* der Balken zu 1 addiert. Die Fläche jedes Balkens kann einfach als die Höhe mal die Breite des Balkens berechnet werden. Die Verwendung eines Dichtehistogramms ermöglicht es, eine Normalverteilungskurve über das Histogramm zu legen, da die Kurve eine Wahrscheinlichkeitsdichtefunktion ist, die ebenfalls eine Fläche unter der Kurve von 1 hat. Häufigkeits- und Dichtehistogramme haben genau dieselbe Form; sie unterscheiden sich nur in ihrer y-Achse. Sie können dies überprüfen, indem Sie das Häufigkeitshistogramm, das Sie zuvor erstellt haben, mit dem Dichtehistogramm vergleichen, das mit den folgenden Befehlen erstellt wurde."
   ]
  },
  {
   "cell_type": "code",
   "execution_count": 20,
   "metadata": {},
   "outputs": [
    {
     "data": {
      "application/vnd.plotly.v1+json": {
       "config": {
        "plotlyServerURL": "https://plot.ly"
       },
       "data": [
        {
         "alignmentgroup": "True",
         "bingroup": "x",
         "histnorm": "probability density",
         "hovertemplate": "variable=cal_fat<br>value=%{x}<br>probability density=%{y}<extra></extra>",
         "legendgroup": "cal_fat",
         "marker": {
          "color": "#636efa",
          "pattern": {
           "shape": ""
          }
         },
         "name": "cal_fat",
         "offsetgroup": "cal_fat",
         "orientation": "v",
         "showlegend": true,
         "type": "histogram",
         "x": [
          660,
          460,
          330,
          270,
          310,
          160,
          310,
          480,
          590,
          240,
          220,
          220,
          180,
          160,
          180,
          80,
          80,
          410,
          670,
          440,
          140,
          200,
          160,
          310,
          240,
          130,
          430,
          310,
          430,
          180,
          180,
          220,
          280,
          120,
          270,
          190,
          170,
          20,
          140,
          130,
          0,
          240
         ],
         "xaxis": "x",
         "yaxis": "y"
        }
       ],
       "layout": {
        "barmode": "relative",
        "legend": {
         "title": {
          "text": "variable"
         },
         "tracegroupgap": 0
        },
        "margin": {
         "t": 60
        },
        "template": {
         "data": {
          "bar": [
           {
            "error_x": {
             "color": "#2a3f5f"
            },
            "error_y": {
             "color": "#2a3f5f"
            },
            "marker": {
             "line": {
              "color": "#E5ECF6",
              "width": 0.5
             },
             "pattern": {
              "fillmode": "overlay",
              "size": 10,
              "solidity": 0.2
             }
            },
            "type": "bar"
           }
          ],
          "barpolar": [
           {
            "marker": {
             "line": {
              "color": "#E5ECF6",
              "width": 0.5
             },
             "pattern": {
              "fillmode": "overlay",
              "size": 10,
              "solidity": 0.2
             }
            },
            "type": "barpolar"
           }
          ],
          "carpet": [
           {
            "aaxis": {
             "endlinecolor": "#2a3f5f",
             "gridcolor": "white",
             "linecolor": "white",
             "minorgridcolor": "white",
             "startlinecolor": "#2a3f5f"
            },
            "baxis": {
             "endlinecolor": "#2a3f5f",
             "gridcolor": "white",
             "linecolor": "white",
             "minorgridcolor": "white",
             "startlinecolor": "#2a3f5f"
            },
            "type": "carpet"
           }
          ],
          "choropleth": [
           {
            "colorbar": {
             "outlinewidth": 0,
             "ticks": ""
            },
            "type": "choropleth"
           }
          ],
          "contour": [
           {
            "colorbar": {
             "outlinewidth": 0,
             "ticks": ""
            },
            "colorscale": [
             [
              0,
              "#0d0887"
             ],
             [
              0.1111111111111111,
              "#46039f"
             ],
             [
              0.2222222222222222,
              "#7201a8"
             ],
             [
              0.3333333333333333,
              "#9c179e"
             ],
             [
              0.4444444444444444,
              "#bd3786"
             ],
             [
              0.5555555555555556,
              "#d8576b"
             ],
             [
              0.6666666666666666,
              "#ed7953"
             ],
             [
              0.7777777777777778,
              "#fb9f3a"
             ],
             [
              0.8888888888888888,
              "#fdca26"
             ],
             [
              1,
              "#f0f921"
             ]
            ],
            "type": "contour"
           }
          ],
          "contourcarpet": [
           {
            "colorbar": {
             "outlinewidth": 0,
             "ticks": ""
            },
            "type": "contourcarpet"
           }
          ],
          "heatmap": [
           {
            "colorbar": {
             "outlinewidth": 0,
             "ticks": ""
            },
            "colorscale": [
             [
              0,
              "#0d0887"
             ],
             [
              0.1111111111111111,
              "#46039f"
             ],
             [
              0.2222222222222222,
              "#7201a8"
             ],
             [
              0.3333333333333333,
              "#9c179e"
             ],
             [
              0.4444444444444444,
              "#bd3786"
             ],
             [
              0.5555555555555556,
              "#d8576b"
             ],
             [
              0.6666666666666666,
              "#ed7953"
             ],
             [
              0.7777777777777778,
              "#fb9f3a"
             ],
             [
              0.8888888888888888,
              "#fdca26"
             ],
             [
              1,
              "#f0f921"
             ]
            ],
            "type": "heatmap"
           }
          ],
          "heatmapgl": [
           {
            "colorbar": {
             "outlinewidth": 0,
             "ticks": ""
            },
            "colorscale": [
             [
              0,
              "#0d0887"
             ],
             [
              0.1111111111111111,
              "#46039f"
             ],
             [
              0.2222222222222222,
              "#7201a8"
             ],
             [
              0.3333333333333333,
              "#9c179e"
             ],
             [
              0.4444444444444444,
              "#bd3786"
             ],
             [
              0.5555555555555556,
              "#d8576b"
             ],
             [
              0.6666666666666666,
              "#ed7953"
             ],
             [
              0.7777777777777778,
              "#fb9f3a"
             ],
             [
              0.8888888888888888,
              "#fdca26"
             ],
             [
              1,
              "#f0f921"
             ]
            ],
            "type": "heatmapgl"
           }
          ],
          "histogram": [
           {
            "marker": {
             "pattern": {
              "fillmode": "overlay",
              "size": 10,
              "solidity": 0.2
             }
            },
            "type": "histogram"
           }
          ],
          "histogram2d": [
           {
            "colorbar": {
             "outlinewidth": 0,
             "ticks": ""
            },
            "colorscale": [
             [
              0,
              "#0d0887"
             ],
             [
              0.1111111111111111,
              "#46039f"
             ],
             [
              0.2222222222222222,
              "#7201a8"
             ],
             [
              0.3333333333333333,
              "#9c179e"
             ],
             [
              0.4444444444444444,
              "#bd3786"
             ],
             [
              0.5555555555555556,
              "#d8576b"
             ],
             [
              0.6666666666666666,
              "#ed7953"
             ],
             [
              0.7777777777777778,
              "#fb9f3a"
             ],
             [
              0.8888888888888888,
              "#fdca26"
             ],
             [
              1,
              "#f0f921"
             ]
            ],
            "type": "histogram2d"
           }
          ],
          "histogram2dcontour": [
           {
            "colorbar": {
             "outlinewidth": 0,
             "ticks": ""
            },
            "colorscale": [
             [
              0,
              "#0d0887"
             ],
             [
              0.1111111111111111,
              "#46039f"
             ],
             [
              0.2222222222222222,
              "#7201a8"
             ],
             [
              0.3333333333333333,
              "#9c179e"
             ],
             [
              0.4444444444444444,
              "#bd3786"
             ],
             [
              0.5555555555555556,
              "#d8576b"
             ],
             [
              0.6666666666666666,
              "#ed7953"
             ],
             [
              0.7777777777777778,
              "#fb9f3a"
             ],
             [
              0.8888888888888888,
              "#fdca26"
             ],
             [
              1,
              "#f0f921"
             ]
            ],
            "type": "histogram2dcontour"
           }
          ],
          "mesh3d": [
           {
            "colorbar": {
             "outlinewidth": 0,
             "ticks": ""
            },
            "type": "mesh3d"
           }
          ],
          "parcoords": [
           {
            "line": {
             "colorbar": {
              "outlinewidth": 0,
              "ticks": ""
             }
            },
            "type": "parcoords"
           }
          ],
          "pie": [
           {
            "automargin": true,
            "type": "pie"
           }
          ],
          "scatter": [
           {
            "fillpattern": {
             "fillmode": "overlay",
             "size": 10,
             "solidity": 0.2
            },
            "type": "scatter"
           }
          ],
          "scatter3d": [
           {
            "line": {
             "colorbar": {
              "outlinewidth": 0,
              "ticks": ""
             }
            },
            "marker": {
             "colorbar": {
              "outlinewidth": 0,
              "ticks": ""
             }
            },
            "type": "scatter3d"
           }
          ],
          "scattercarpet": [
           {
            "marker": {
             "colorbar": {
              "outlinewidth": 0,
              "ticks": ""
             }
            },
            "type": "scattercarpet"
           }
          ],
          "scattergeo": [
           {
            "marker": {
             "colorbar": {
              "outlinewidth": 0,
              "ticks": ""
             }
            },
            "type": "scattergeo"
           }
          ],
          "scattergl": [
           {
            "marker": {
             "colorbar": {
              "outlinewidth": 0,
              "ticks": ""
             }
            },
            "type": "scattergl"
           }
          ],
          "scattermapbox": [
           {
            "marker": {
             "colorbar": {
              "outlinewidth": 0,
              "ticks": ""
             }
            },
            "type": "scattermapbox"
           }
          ],
          "scatterpolar": [
           {
            "marker": {
             "colorbar": {
              "outlinewidth": 0,
              "ticks": ""
             }
            },
            "type": "scatterpolar"
           }
          ],
          "scatterpolargl": [
           {
            "marker": {
             "colorbar": {
              "outlinewidth": 0,
              "ticks": ""
             }
            },
            "type": "scatterpolargl"
           }
          ],
          "scatterternary": [
           {
            "marker": {
             "colorbar": {
              "outlinewidth": 0,
              "ticks": ""
             }
            },
            "type": "scatterternary"
           }
          ],
          "surface": [
           {
            "colorbar": {
             "outlinewidth": 0,
             "ticks": ""
            },
            "colorscale": [
             [
              0,
              "#0d0887"
             ],
             [
              0.1111111111111111,
              "#46039f"
             ],
             [
              0.2222222222222222,
              "#7201a8"
             ],
             [
              0.3333333333333333,
              "#9c179e"
             ],
             [
              0.4444444444444444,
              "#bd3786"
             ],
             [
              0.5555555555555556,
              "#d8576b"
             ],
             [
              0.6666666666666666,
              "#ed7953"
             ],
             [
              0.7777777777777778,
              "#fb9f3a"
             ],
             [
              0.8888888888888888,
              "#fdca26"
             ],
             [
              1,
              "#f0f921"
             ]
            ],
            "type": "surface"
           }
          ],
          "table": [
           {
            "cells": {
             "fill": {
              "color": "#EBF0F8"
             },
             "line": {
              "color": "white"
             }
            },
            "header": {
             "fill": {
              "color": "#C8D4E3"
             },
             "line": {
              "color": "white"
             }
            },
            "type": "table"
           }
          ]
         },
         "layout": {
          "annotationdefaults": {
           "arrowcolor": "#2a3f5f",
           "arrowhead": 0,
           "arrowwidth": 1
          },
          "autotypenumbers": "strict",
          "coloraxis": {
           "colorbar": {
            "outlinewidth": 0,
            "ticks": ""
           }
          },
          "colorscale": {
           "diverging": [
            [
             0,
             "#8e0152"
            ],
            [
             0.1,
             "#c51b7d"
            ],
            [
             0.2,
             "#de77ae"
            ],
            [
             0.3,
             "#f1b6da"
            ],
            [
             0.4,
             "#fde0ef"
            ],
            [
             0.5,
             "#f7f7f7"
            ],
            [
             0.6,
             "#e6f5d0"
            ],
            [
             0.7,
             "#b8e186"
            ],
            [
             0.8,
             "#7fbc41"
            ],
            [
             0.9,
             "#4d9221"
            ],
            [
             1,
             "#276419"
            ]
           ],
           "sequential": [
            [
             0,
             "#0d0887"
            ],
            [
             0.1111111111111111,
             "#46039f"
            ],
            [
             0.2222222222222222,
             "#7201a8"
            ],
            [
             0.3333333333333333,
             "#9c179e"
            ],
            [
             0.4444444444444444,
             "#bd3786"
            ],
            [
             0.5555555555555556,
             "#d8576b"
            ],
            [
             0.6666666666666666,
             "#ed7953"
            ],
            [
             0.7777777777777778,
             "#fb9f3a"
            ],
            [
             0.8888888888888888,
             "#fdca26"
            ],
            [
             1,
             "#f0f921"
            ]
           ],
           "sequentialminus": [
            [
             0,
             "#0d0887"
            ],
            [
             0.1111111111111111,
             "#46039f"
            ],
            [
             0.2222222222222222,
             "#7201a8"
            ],
            [
             0.3333333333333333,
             "#9c179e"
            ],
            [
             0.4444444444444444,
             "#bd3786"
            ],
            [
             0.5555555555555556,
             "#d8576b"
            ],
            [
             0.6666666666666666,
             "#ed7953"
            ],
            [
             0.7777777777777778,
             "#fb9f3a"
            ],
            [
             0.8888888888888888,
             "#fdca26"
            ],
            [
             1,
             "#f0f921"
            ]
           ]
          },
          "colorway": [
           "#636efa",
           "#EF553B",
           "#00cc96",
           "#ab63fa",
           "#FFA15A",
           "#19d3f3",
           "#FF6692",
           "#B6E880",
           "#FF97FF",
           "#FECB52"
          ],
          "font": {
           "color": "#2a3f5f"
          },
          "geo": {
           "bgcolor": "white",
           "lakecolor": "white",
           "landcolor": "#E5ECF6",
           "showlakes": true,
           "showland": true,
           "subunitcolor": "white"
          },
          "hoverlabel": {
           "align": "left"
          },
          "hovermode": "closest",
          "mapbox": {
           "style": "light"
          },
          "paper_bgcolor": "white",
          "plot_bgcolor": "#E5ECF6",
          "polar": {
           "angularaxis": {
            "gridcolor": "white",
            "linecolor": "white",
            "ticks": ""
           },
           "bgcolor": "#E5ECF6",
           "radialaxis": {
            "gridcolor": "white",
            "linecolor": "white",
            "ticks": ""
           }
          },
          "scene": {
           "xaxis": {
            "backgroundcolor": "#E5ECF6",
            "gridcolor": "white",
            "gridwidth": 2,
            "linecolor": "white",
            "showbackground": true,
            "ticks": "",
            "zerolinecolor": "white"
           },
           "yaxis": {
            "backgroundcolor": "#E5ECF6",
            "gridcolor": "white",
            "gridwidth": 2,
            "linecolor": "white",
            "showbackground": true,
            "ticks": "",
            "zerolinecolor": "white"
           },
           "zaxis": {
            "backgroundcolor": "#E5ECF6",
            "gridcolor": "white",
            "gridwidth": 2,
            "linecolor": "white",
            "showbackground": true,
            "ticks": "",
            "zerolinecolor": "white"
           }
          },
          "shapedefaults": {
           "line": {
            "color": "#2a3f5f"
           }
          },
          "ternary": {
           "aaxis": {
            "gridcolor": "white",
            "linecolor": "white",
            "ticks": ""
           },
           "baxis": {
            "gridcolor": "white",
            "linecolor": "white",
            "ticks": ""
           },
           "bgcolor": "#E5ECF6",
           "caxis": {
            "gridcolor": "white",
            "linecolor": "white",
            "ticks": ""
           }
          },
          "title": {
           "x": 0.05
          },
          "xaxis": {
           "automargin": true,
           "gridcolor": "white",
           "linecolor": "white",
           "ticks": "",
           "title": {
            "standoff": 15
           },
           "zerolinecolor": "white",
           "zerolinewidth": 2
          },
          "yaxis": {
           "automargin": true,
           "gridcolor": "white",
           "linecolor": "white",
           "ticks": "",
           "title": {
            "standoff": 15
           },
           "zerolinecolor": "white",
           "zerolinewidth": 2
          }
         }
        },
        "xaxis": {
         "anchor": "y",
         "domain": [
          0,
          1
         ],
         "title": {
          "text": "value"
         }
        },
        "yaxis": {
         "anchor": "x",
         "domain": [
          0,
          1
         ],
         "title": {
          "text": "probability density"
         }
        }
       }
      }
     },
     "metadata": {},
     "output_type": "display_data"
    }
   ],
   "source": [
    "px.histogram(dairy_queen['cal_fat'], histnorm=\"probability density\")"
   ]
  },
  {
   "cell_type": "markdown",
   "metadata": {},
   "source": [
    "Als nächstes möchten wir die Dichtekurve der Normalverteilung mit den Parametern $\\mu=$`dqmean` und $\\sigma=$`dqstd` erzeugen und zum Plot hinzufügen. Zunächst erstellen wir die x- und y-Koordinaten für die Normalkurve. Wir haben den x-Bereich mit 0 bis 700 gewählt, um den gesamten Wertebereich der Variable `cal_fat` abzudecken. Die Funktionswerte erzeugen wir uns mit der Funktion `norm.pdf` aus dem Modul `scipy.stats` (pdf steht hier für probability density function)."
   ]
  },
  {
   "cell_type": "code",
   "execution_count": 21,
   "metadata": {},
   "outputs": [],
   "source": [
    "from scipy.stats import norm\n",
    "\n",
    "# Erzeuge einen Vektor mit 101 äquidistanten Samples zwischen 0 und 700 \n",
    "x = np.linspace(0, 700, 101)       \n",
    "y = norm.pdf(x, loc = dqmean, scale = dqsd)"
   ]
  },
  {
   "cell_type": "markdown",
   "metadata": {},
   "source": [
    "Nun möchten wir die Dichtefunktion als Linie zum Histogrammplot hinzufügen. Dazu speichern wir zunächst den Histogrammplot in einer Variable und fügen dann die Dichtekurve hinzu. Dies geschieht in plotly mittels `add_scatter` (eigentlich ein Streuplot, der aber hier als Linie dargestellt wird)"
   ]
  },
  {
   "cell_type": "code",
   "execution_count": 22,
   "metadata": {},
   "outputs": [
    {
     "data": {
      "application/vnd.plotly.v1+json": {
       "config": {
        "plotlyServerURL": "https://plot.ly"
       },
       "data": [
        {
         "alignmentgroup": "True",
         "bingroup": "x",
         "histnorm": "probability density",
         "hovertemplate": "variable=cal_fat<br>value=%{x}<br>probability density=%{y}<extra></extra>",
         "legendgroup": "cal_fat",
         "marker": {
          "color": "#636efa",
          "pattern": {
           "shape": ""
          }
         },
         "name": "cal_fat",
         "offsetgroup": "cal_fat",
         "orientation": "v",
         "showlegend": true,
         "type": "histogram",
         "x": [
          660,
          460,
          330,
          270,
          310,
          160,
          310,
          480,
          590,
          240,
          220,
          220,
          180,
          160,
          180,
          80,
          80,
          410,
          670,
          440,
          140,
          200,
          160,
          310,
          240,
          130,
          430,
          310,
          430,
          180,
          180,
          220,
          280,
          120,
          270,
          190,
          170,
          20,
          140,
          130,
          0,
          240
         ],
         "xaxis": "x",
         "yaxis": "y"
        },
        {
         "name": "Dichtekurve der Normalverteilung",
         "type": "scatter",
         "x": [
          0,
          7,
          14,
          21,
          28,
          35,
          42,
          49,
          56,
          63,
          70,
          77,
          84,
          91,
          98,
          105,
          112,
          119,
          126,
          133,
          140,
          147,
          154,
          161,
          168,
          175,
          182,
          189,
          196,
          203,
          210,
          217,
          224,
          231,
          238,
          245,
          252,
          259,
          266,
          273,
          280,
          287,
          294,
          301,
          308,
          315,
          322,
          329,
          336,
          343,
          350,
          357,
          364,
          371,
          378,
          385,
          392,
          399,
          406,
          413,
          420,
          427,
          434,
          441,
          448,
          455,
          462,
          469,
          476,
          483,
          490,
          497,
          504,
          511,
          518,
          525,
          532,
          539,
          546,
          553,
          560,
          567,
          574,
          581,
          588,
          595,
          602,
          609,
          616,
          623,
          630,
          637,
          644,
          651,
          658,
          665,
          672,
          679,
          686,
          693,
          700
         ],
         "y": [
          0.0006379493484844829,
          0.0006865766822482884,
          0.0007374335145720356,
          0.0007904741336261917,
          0.0008456359262369571,
          0.0009028386812638789,
          0.0009619840255579099,
          0.0010229550087323858,
          0.001085615851943662,
          0.001149811874521729,
          0.0012153696106179225,
          0.0012820971260573903,
          0.0013497845433159351,
          0.001418204780008723,
          0.0014871145035136436,
          0.001556255301392803,
          0.0016253550641658209,
          0.0016941295737777707,
          0.0017622842878467896,
          0.0018295163065292334,
          0.0018955165056638466,
          0.0019599718168120815,
          0.002022567631960612,
          0.002082990308054051,
          0.0021409297442376916,
          0.0021960820027644686,
          0.002248151943004259,
          0.002296855836927472,
          0.0023419239338509246,
          0.0023831029421558033,
          0.0024201583961289954,
          0.0024528768770439835,
          0.002481068059079106,
          0.0025045665526520957,
          0.002523233520202751,
          0.002536958042342935,
          0.0025456582155680444,
          0.00254928196633164,
          0.002547807570162843,
          0.0025412438685862553,
          0.00252963018081409,
          0.002513035911444498,
          0.0024915598596422233,
          0.002465329239421663,
          0.0024344984246242114,
          0.0023992474359112955,
          0.00235978019051691,
          0.0023163225385604723,
          0.0022691201123620965,
          0.002218436017386469,
          0.002164548395136474,
          0.002107747889502002,
          0.0020483350487317596,
          0.001986617695335765,
          0.0019229082958532458,
          0.0018575213615544225,
          0.0017907709098138466,
          0.0017229680141347126,
          0.001654418468662166,
          0.001585420590549548,
          0.0015162631807900111,
          0.0014472236611557028,
          0.0013785664017585053,
          0.0013105412505215802,
          0.0012433822725904568,
          0.0011773067044749295,
          0.0011125141245542979,
          0.0010491858385499936,
          0.0009874844757178519,
          0.0009275537888778593,
          0.0008695186490163577,
          0.0008134852230919841,
          0.0007595413218725535,
          0.0007077569031392109,
          0.0006581847144231406,
          0.0006108610585889913,
          0.0005658066650418487,
          0.0005230276490993047,
          0.0004825165421201706,
          0.00044425337529557844,
          0.0004082068005619631,
          0.0003743352328612805,
          0.00034258799892238236,
          0.0003129064788380705,
          0.00028522522793386054,
          0.00025947306773598384,
          0.00023557413621753612,
          0.00021344888890431342,
          0.0001930150438289018,
          0.0001741884647085698,
          0.00015688397806746734,
          0.00014101612130750166,
          0.00012649981993887143,
          0.00011325099329744046,
          0.0001011870890917973,
          0.00009022754803070774,
          0.00008029420057728413,
          0.0000713115985576528,
          0.000063207284919679,
          0.00005591200539396556,
          0.00004935986615923855
         ]
        }
       ],
       "layout": {
        "barmode": "relative",
        "legend": {
         "title": {
          "text": "variable"
         },
         "tracegroupgap": 0
        },
        "margin": {
         "t": 60
        },
        "template": {
         "data": {
          "bar": [
           {
            "error_x": {
             "color": "#2a3f5f"
            },
            "error_y": {
             "color": "#2a3f5f"
            },
            "marker": {
             "line": {
              "color": "#E5ECF6",
              "width": 0.5
             },
             "pattern": {
              "fillmode": "overlay",
              "size": 10,
              "solidity": 0.2
             }
            },
            "type": "bar"
           }
          ],
          "barpolar": [
           {
            "marker": {
             "line": {
              "color": "#E5ECF6",
              "width": 0.5
             },
             "pattern": {
              "fillmode": "overlay",
              "size": 10,
              "solidity": 0.2
             }
            },
            "type": "barpolar"
           }
          ],
          "carpet": [
           {
            "aaxis": {
             "endlinecolor": "#2a3f5f",
             "gridcolor": "white",
             "linecolor": "white",
             "minorgridcolor": "white",
             "startlinecolor": "#2a3f5f"
            },
            "baxis": {
             "endlinecolor": "#2a3f5f",
             "gridcolor": "white",
             "linecolor": "white",
             "minorgridcolor": "white",
             "startlinecolor": "#2a3f5f"
            },
            "type": "carpet"
           }
          ],
          "choropleth": [
           {
            "colorbar": {
             "outlinewidth": 0,
             "ticks": ""
            },
            "type": "choropleth"
           }
          ],
          "contour": [
           {
            "colorbar": {
             "outlinewidth": 0,
             "ticks": ""
            },
            "colorscale": [
             [
              0,
              "#0d0887"
             ],
             [
              0.1111111111111111,
              "#46039f"
             ],
             [
              0.2222222222222222,
              "#7201a8"
             ],
             [
              0.3333333333333333,
              "#9c179e"
             ],
             [
              0.4444444444444444,
              "#bd3786"
             ],
             [
              0.5555555555555556,
              "#d8576b"
             ],
             [
              0.6666666666666666,
              "#ed7953"
             ],
             [
              0.7777777777777778,
              "#fb9f3a"
             ],
             [
              0.8888888888888888,
              "#fdca26"
             ],
             [
              1,
              "#f0f921"
             ]
            ],
            "type": "contour"
           }
          ],
          "contourcarpet": [
           {
            "colorbar": {
             "outlinewidth": 0,
             "ticks": ""
            },
            "type": "contourcarpet"
           }
          ],
          "heatmap": [
           {
            "colorbar": {
             "outlinewidth": 0,
             "ticks": ""
            },
            "colorscale": [
             [
              0,
              "#0d0887"
             ],
             [
              0.1111111111111111,
              "#46039f"
             ],
             [
              0.2222222222222222,
              "#7201a8"
             ],
             [
              0.3333333333333333,
              "#9c179e"
             ],
             [
              0.4444444444444444,
              "#bd3786"
             ],
             [
              0.5555555555555556,
              "#d8576b"
             ],
             [
              0.6666666666666666,
              "#ed7953"
             ],
             [
              0.7777777777777778,
              "#fb9f3a"
             ],
             [
              0.8888888888888888,
              "#fdca26"
             ],
             [
              1,
              "#f0f921"
             ]
            ],
            "type": "heatmap"
           }
          ],
          "heatmapgl": [
           {
            "colorbar": {
             "outlinewidth": 0,
             "ticks": ""
            },
            "colorscale": [
             [
              0,
              "#0d0887"
             ],
             [
              0.1111111111111111,
              "#46039f"
             ],
             [
              0.2222222222222222,
              "#7201a8"
             ],
             [
              0.3333333333333333,
              "#9c179e"
             ],
             [
              0.4444444444444444,
              "#bd3786"
             ],
             [
              0.5555555555555556,
              "#d8576b"
             ],
             [
              0.6666666666666666,
              "#ed7953"
             ],
             [
              0.7777777777777778,
              "#fb9f3a"
             ],
             [
              0.8888888888888888,
              "#fdca26"
             ],
             [
              1,
              "#f0f921"
             ]
            ],
            "type": "heatmapgl"
           }
          ],
          "histogram": [
           {
            "marker": {
             "pattern": {
              "fillmode": "overlay",
              "size": 10,
              "solidity": 0.2
             }
            },
            "type": "histogram"
           }
          ],
          "histogram2d": [
           {
            "colorbar": {
             "outlinewidth": 0,
             "ticks": ""
            },
            "colorscale": [
             [
              0,
              "#0d0887"
             ],
             [
              0.1111111111111111,
              "#46039f"
             ],
             [
              0.2222222222222222,
              "#7201a8"
             ],
             [
              0.3333333333333333,
              "#9c179e"
             ],
             [
              0.4444444444444444,
              "#bd3786"
             ],
             [
              0.5555555555555556,
              "#d8576b"
             ],
             [
              0.6666666666666666,
              "#ed7953"
             ],
             [
              0.7777777777777778,
              "#fb9f3a"
             ],
             [
              0.8888888888888888,
              "#fdca26"
             ],
             [
              1,
              "#f0f921"
             ]
            ],
            "type": "histogram2d"
           }
          ],
          "histogram2dcontour": [
           {
            "colorbar": {
             "outlinewidth": 0,
             "ticks": ""
            },
            "colorscale": [
             [
              0,
              "#0d0887"
             ],
             [
              0.1111111111111111,
              "#46039f"
             ],
             [
              0.2222222222222222,
              "#7201a8"
             ],
             [
              0.3333333333333333,
              "#9c179e"
             ],
             [
              0.4444444444444444,
              "#bd3786"
             ],
             [
              0.5555555555555556,
              "#d8576b"
             ],
             [
              0.6666666666666666,
              "#ed7953"
             ],
             [
              0.7777777777777778,
              "#fb9f3a"
             ],
             [
              0.8888888888888888,
              "#fdca26"
             ],
             [
              1,
              "#f0f921"
             ]
            ],
            "type": "histogram2dcontour"
           }
          ],
          "mesh3d": [
           {
            "colorbar": {
             "outlinewidth": 0,
             "ticks": ""
            },
            "type": "mesh3d"
           }
          ],
          "parcoords": [
           {
            "line": {
             "colorbar": {
              "outlinewidth": 0,
              "ticks": ""
             }
            },
            "type": "parcoords"
           }
          ],
          "pie": [
           {
            "automargin": true,
            "type": "pie"
           }
          ],
          "scatter": [
           {
            "fillpattern": {
             "fillmode": "overlay",
             "size": 10,
             "solidity": 0.2
            },
            "type": "scatter"
           }
          ],
          "scatter3d": [
           {
            "line": {
             "colorbar": {
              "outlinewidth": 0,
              "ticks": ""
             }
            },
            "marker": {
             "colorbar": {
              "outlinewidth": 0,
              "ticks": ""
             }
            },
            "type": "scatter3d"
           }
          ],
          "scattercarpet": [
           {
            "marker": {
             "colorbar": {
              "outlinewidth": 0,
              "ticks": ""
             }
            },
            "type": "scattercarpet"
           }
          ],
          "scattergeo": [
           {
            "marker": {
             "colorbar": {
              "outlinewidth": 0,
              "ticks": ""
             }
            },
            "type": "scattergeo"
           }
          ],
          "scattergl": [
           {
            "marker": {
             "colorbar": {
              "outlinewidth": 0,
              "ticks": ""
             }
            },
            "type": "scattergl"
           }
          ],
          "scattermapbox": [
           {
            "marker": {
             "colorbar": {
              "outlinewidth": 0,
              "ticks": ""
             }
            },
            "type": "scattermapbox"
           }
          ],
          "scatterpolar": [
           {
            "marker": {
             "colorbar": {
              "outlinewidth": 0,
              "ticks": ""
             }
            },
            "type": "scatterpolar"
           }
          ],
          "scatterpolargl": [
           {
            "marker": {
             "colorbar": {
              "outlinewidth": 0,
              "ticks": ""
             }
            },
            "type": "scatterpolargl"
           }
          ],
          "scatterternary": [
           {
            "marker": {
             "colorbar": {
              "outlinewidth": 0,
              "ticks": ""
             }
            },
            "type": "scatterternary"
           }
          ],
          "surface": [
           {
            "colorbar": {
             "outlinewidth": 0,
             "ticks": ""
            },
            "colorscale": [
             [
              0,
              "#0d0887"
             ],
             [
              0.1111111111111111,
              "#46039f"
             ],
             [
              0.2222222222222222,
              "#7201a8"
             ],
             [
              0.3333333333333333,
              "#9c179e"
             ],
             [
              0.4444444444444444,
              "#bd3786"
             ],
             [
              0.5555555555555556,
              "#d8576b"
             ],
             [
              0.6666666666666666,
              "#ed7953"
             ],
             [
              0.7777777777777778,
              "#fb9f3a"
             ],
             [
              0.8888888888888888,
              "#fdca26"
             ],
             [
              1,
              "#f0f921"
             ]
            ],
            "type": "surface"
           }
          ],
          "table": [
           {
            "cells": {
             "fill": {
              "color": "#EBF0F8"
             },
             "line": {
              "color": "white"
             }
            },
            "header": {
             "fill": {
              "color": "#C8D4E3"
             },
             "line": {
              "color": "white"
             }
            },
            "type": "table"
           }
          ]
         },
         "layout": {
          "annotationdefaults": {
           "arrowcolor": "#2a3f5f",
           "arrowhead": 0,
           "arrowwidth": 1
          },
          "autotypenumbers": "strict",
          "coloraxis": {
           "colorbar": {
            "outlinewidth": 0,
            "ticks": ""
           }
          },
          "colorscale": {
           "diverging": [
            [
             0,
             "#8e0152"
            ],
            [
             0.1,
             "#c51b7d"
            ],
            [
             0.2,
             "#de77ae"
            ],
            [
             0.3,
             "#f1b6da"
            ],
            [
             0.4,
             "#fde0ef"
            ],
            [
             0.5,
             "#f7f7f7"
            ],
            [
             0.6,
             "#e6f5d0"
            ],
            [
             0.7,
             "#b8e186"
            ],
            [
             0.8,
             "#7fbc41"
            ],
            [
             0.9,
             "#4d9221"
            ],
            [
             1,
             "#276419"
            ]
           ],
           "sequential": [
            [
             0,
             "#0d0887"
            ],
            [
             0.1111111111111111,
             "#46039f"
            ],
            [
             0.2222222222222222,
             "#7201a8"
            ],
            [
             0.3333333333333333,
             "#9c179e"
            ],
            [
             0.4444444444444444,
             "#bd3786"
            ],
            [
             0.5555555555555556,
             "#d8576b"
            ],
            [
             0.6666666666666666,
             "#ed7953"
            ],
            [
             0.7777777777777778,
             "#fb9f3a"
            ],
            [
             0.8888888888888888,
             "#fdca26"
            ],
            [
             1,
             "#f0f921"
            ]
           ],
           "sequentialminus": [
            [
             0,
             "#0d0887"
            ],
            [
             0.1111111111111111,
             "#46039f"
            ],
            [
             0.2222222222222222,
             "#7201a8"
            ],
            [
             0.3333333333333333,
             "#9c179e"
            ],
            [
             0.4444444444444444,
             "#bd3786"
            ],
            [
             0.5555555555555556,
             "#d8576b"
            ],
            [
             0.6666666666666666,
             "#ed7953"
            ],
            [
             0.7777777777777778,
             "#fb9f3a"
            ],
            [
             0.8888888888888888,
             "#fdca26"
            ],
            [
             1,
             "#f0f921"
            ]
           ]
          },
          "colorway": [
           "#636efa",
           "#EF553B",
           "#00cc96",
           "#ab63fa",
           "#FFA15A",
           "#19d3f3",
           "#FF6692",
           "#B6E880",
           "#FF97FF",
           "#FECB52"
          ],
          "font": {
           "color": "#2a3f5f"
          },
          "geo": {
           "bgcolor": "white",
           "lakecolor": "white",
           "landcolor": "#E5ECF6",
           "showlakes": true,
           "showland": true,
           "subunitcolor": "white"
          },
          "hoverlabel": {
           "align": "left"
          },
          "hovermode": "closest",
          "mapbox": {
           "style": "light"
          },
          "paper_bgcolor": "white",
          "plot_bgcolor": "#E5ECF6",
          "polar": {
           "angularaxis": {
            "gridcolor": "white",
            "linecolor": "white",
            "ticks": ""
           },
           "bgcolor": "#E5ECF6",
           "radialaxis": {
            "gridcolor": "white",
            "linecolor": "white",
            "ticks": ""
           }
          },
          "scene": {
           "xaxis": {
            "backgroundcolor": "#E5ECF6",
            "gridcolor": "white",
            "gridwidth": 2,
            "linecolor": "white",
            "showbackground": true,
            "ticks": "",
            "zerolinecolor": "white"
           },
           "yaxis": {
            "backgroundcolor": "#E5ECF6",
            "gridcolor": "white",
            "gridwidth": 2,
            "linecolor": "white",
            "showbackground": true,
            "ticks": "",
            "zerolinecolor": "white"
           },
           "zaxis": {
            "backgroundcolor": "#E5ECF6",
            "gridcolor": "white",
            "gridwidth": 2,
            "linecolor": "white",
            "showbackground": true,
            "ticks": "",
            "zerolinecolor": "white"
           }
          },
          "shapedefaults": {
           "line": {
            "color": "#2a3f5f"
           }
          },
          "ternary": {
           "aaxis": {
            "gridcolor": "white",
            "linecolor": "white",
            "ticks": ""
           },
           "baxis": {
            "gridcolor": "white",
            "linecolor": "white",
            "ticks": ""
           },
           "bgcolor": "#E5ECF6",
           "caxis": {
            "gridcolor": "white",
            "linecolor": "white",
            "ticks": ""
           }
          },
          "title": {
           "x": 0.05
          },
          "xaxis": {
           "automargin": true,
           "gridcolor": "white",
           "linecolor": "white",
           "ticks": "",
           "title": {
            "standoff": 15
           },
           "zerolinecolor": "white",
           "zerolinewidth": 2
          },
          "yaxis": {
           "automargin": true,
           "gridcolor": "white",
           "linecolor": "white",
           "ticks": "",
           "title": {
            "standoff": 15
           },
           "zerolinecolor": "white",
           "zerolinewidth": 2
          }
         }
        },
        "xaxis": {
         "anchor": "y",
         "domain": [
          0,
          1
         ],
         "title": {
          "text": "value"
         }
        },
        "yaxis": {
         "anchor": "x",
         "domain": [
          0,
          1
         ],
         "title": {
          "text": "probability density"
         }
        }
       }
      }
     },
     "metadata": {},
     "output_type": "display_data"
    }
   ],
   "source": [
    "hist = px.histogram(dairy_queen['cal_fat'], histnorm=\"probability density\")\n",
    "hist.add_scatter(x=x, y=y, name=f\"Dichtekurve der Normalverteilung\")\n",
    "hist.show()"
   ]
  },
  {
   "cell_type": "markdown",
   "metadata": {},
   "source": [
    "### ✏️ Aufgabe 2\n",
    "Sieht es so aus, als ob die Daten einer annähernden Normalverteilung folgen?"
   ]
  },
  {
   "cell_type": "code",
   "execution_count": 28,
   "metadata": {},
   "outputs": [
    {
     "data": {
      "text/plain": [
       "'\\nJa die Daten folgen einer annähernden Normalverteilung, da die Datenverteilnug annähernd symmetrisch genug ist und es erkennbar \\nist das der Mittelwert sich vom Median nicht zu stark unterscheidet. Weiterhin folgt die Form des Histogramms einer Glocke.\\n'"
      ]
     },
     "execution_count": 28,
     "metadata": {},
     "output_type": "execute_result"
    }
   ],
   "source": [
    "# <IHRE LÖSUNG HIER>\n",
    "\"\"\"\n",
    "Ja die Daten folgen einer annähernden Normalverteilung, da die Datenverteilnug annähernd symmetrisch genug ist und es erkennbar \n",
    "ist das der Mittelwert sich vom Median nicht zu stark unterscheidet. Weiterhin folgt die Form des Histogramms einer Glocke.\n",
    "\"\"\""
   ]
  },
  {
   "cell_type": "markdown",
   "metadata": {},
   "source": [
    "## Auswertung der Normalverteilung"
   ]
  },
  {
   "cell_type": "markdown",
   "metadata": {},
   "source": [
    "Ein Blick auf die Form des Histogramms ist eine Möglichkeit, um festzustellen, ob die Daten annähernd normalverteilt sind, aber es kann sehr schwierig bzw. unklar sein, zu entscheiden, wie nahe das Histogramm an der Kurve liegt. Ein alternativer Ansatz besteht darin, ein normales Wahrscheinlichkeitsdiagramm zu erstellen, das auch als normales Q-Q-Diagramm für \"Quantil-Quantil\" bezeichnet wird."
   ]
  },
  {
   "cell_type": "code",
   "execution_count": 29,
   "metadata": {},
   "outputs": [
    {
     "data": {
      "application/vnd.plotly.v1+json": {
       "config": {
        "plotlyServerURL": "https://plot.ly"
       },
       "data": [
        {
         "hovertemplate": "x=%{x}<br>y=%{y}<extra></extra>",
         "legendgroup": "",
         "marker": {
          "color": "#636efa",
          "symbol": "circle"
         },
         "mode": "markers",
         "name": "",
         "orientation": "v",
         "showlegend": false,
         "type": "scatter",
         "x": [
          -2.1353046284158346,
          -1.7540101162150163,
          -1.527496670219539,
          -1.359948140410081,
          -1.2237273032174234,
          -1.1070694628903044,
          -1.0038048672080377,
          -0.9102674907071854,
          -0.8240868004562736,
          -0.7436321948616521,
          -0.667727110604202,
          -0.595489101363644,
          -0.5262343894479194,
          -0.45941783418576615,
          -0.3945934820453098,
          -0.33138763259250686,
          -0.26947979801752303,
          -0.20858878396464725,
          -0.148462158735626,
          -0.08886798295158897,
          -0.029588032793860894,
          0.029588032793860894,
          0.08886798295158911,
          0.148462158735626,
          0.2085887839646474,
          0.26947979801752303,
          0.33138763259250686,
          0.3945934820453096,
          0.45941783418576615,
          0.5262343894479193,
          0.5954891013636436,
          0.6677271106042019,
          0.7436321948616517,
          0.8240868004562732,
          0.9102674907071853,
          1.003804867208037,
          1.107069462890304,
          1.223727303217423,
          1.35994814041008,
          1.5274966702195378,
          1.754010116215015,
          2.1353046284158346
         ],
         "xaxis": "x",
         "y": [
          0,
          20,
          80,
          80,
          120,
          130,
          130,
          140,
          140,
          160,
          160,
          160,
          170,
          180,
          180,
          180,
          180,
          190,
          200,
          220,
          220,
          220,
          240,
          240,
          240,
          270,
          270,
          280,
          310,
          310,
          310,
          310,
          330,
          410,
          430,
          430,
          440,
          460,
          480,
          590,
          660,
          670
         ],
         "yaxis": "y"
        },
        {
         "hovertemplate": "<b>OLS trendline</b><br>y = 154.939 * x + 260.476<br>R<sup>2</sup>=0.923481<br><br>x=%{x}<br>y=%{y} <b>(trend)</b><extra></extra>",
         "legendgroup": "",
         "marker": {
          "color": "#636efa",
          "symbol": "circle"
         },
         "mode": "lines",
         "name": "",
         "showlegend": false,
         "type": "scatter",
         "x": [
          -2.1353046284158346,
          -1.7540101162150163,
          -1.527496670219539,
          -1.359948140410081,
          -1.2237273032174234,
          -1.1070694628903044,
          -1.0038048672080377,
          -0.9102674907071854,
          -0.8240868004562736,
          -0.7436321948616521,
          -0.667727110604202,
          -0.595489101363644,
          -0.5262343894479194,
          -0.45941783418576615,
          -0.3945934820453098,
          -0.33138763259250686,
          -0.26947979801752303,
          -0.20858878396464725,
          -0.148462158735626,
          -0.08886798295158897,
          -0.029588032793860894,
          0.029588032793860894,
          0.08886798295158911,
          0.148462158735626,
          0.2085887839646474,
          0.26947979801752303,
          0.33138763259250686,
          0.3945934820453096,
          0.45941783418576615,
          0.5262343894479193,
          0.5954891013636436,
          0.6677271106042019,
          0.7436321948616517,
          0.8240868004562732,
          0.9102674907071853,
          1.003804867208037,
          1.107069462890304,
          1.223727303217423,
          1.35994814041008,
          1.5274966702195378,
          1.754010116215015,
          2.1353046284158346
         ],
         "xaxis": "x",
         "y": [
          -70.36518919813165,
          -11.28790308165162,
          23.80780176095257,
          49.767557585436435,
          70.87344061377289,
          88.94825782254011,
          104.9479427632215,
          119.44050475219501,
          132.79323114283181,
          145.2587652693726,
          157.01940235404993,
          168.2118675058739,
          178.94210436961566,
          189.29457634660773,
          199.33837890912721,
          209.13141272649247,
          218.7233337717967,
          228.15770994039403,
          237.47365267812333,
          246.70709837695657,
          255.89185835743672,
          265.060522594944,
          274.2452825754242,
          283.4787282742574,
          292.79467101198674,
          302.2290471805841,
          311.8209682258883,
          321.6140020432535,
          331.657804605773,
          342.0102765827651,
          352.7405134465068,
          363.9329785983308,
          375.6936156830081,
          388.15914980954886,
          401.5118762001857,
          416.00443818915915,
          432.00412312984054,
          450.07894033860777,
          471.1848233669441,
          497.14457919142797,
          532.2402840340321,
          591.3175701505124
         ],
         "yaxis": "y"
        }
       ],
       "layout": {
        "legend": {
         "tracegroupgap": 0
        },
        "margin": {
         "t": 60
        },
        "template": {
         "data": {
          "bar": [
           {
            "error_x": {
             "color": "#2a3f5f"
            },
            "error_y": {
             "color": "#2a3f5f"
            },
            "marker": {
             "line": {
              "color": "#E5ECF6",
              "width": 0.5
             },
             "pattern": {
              "fillmode": "overlay",
              "size": 10,
              "solidity": 0.2
             }
            },
            "type": "bar"
           }
          ],
          "barpolar": [
           {
            "marker": {
             "line": {
              "color": "#E5ECF6",
              "width": 0.5
             },
             "pattern": {
              "fillmode": "overlay",
              "size": 10,
              "solidity": 0.2
             }
            },
            "type": "barpolar"
           }
          ],
          "carpet": [
           {
            "aaxis": {
             "endlinecolor": "#2a3f5f",
             "gridcolor": "white",
             "linecolor": "white",
             "minorgridcolor": "white",
             "startlinecolor": "#2a3f5f"
            },
            "baxis": {
             "endlinecolor": "#2a3f5f",
             "gridcolor": "white",
             "linecolor": "white",
             "minorgridcolor": "white",
             "startlinecolor": "#2a3f5f"
            },
            "type": "carpet"
           }
          ],
          "choropleth": [
           {
            "colorbar": {
             "outlinewidth": 0,
             "ticks": ""
            },
            "type": "choropleth"
           }
          ],
          "contour": [
           {
            "colorbar": {
             "outlinewidth": 0,
             "ticks": ""
            },
            "colorscale": [
             [
              0,
              "#0d0887"
             ],
             [
              0.1111111111111111,
              "#46039f"
             ],
             [
              0.2222222222222222,
              "#7201a8"
             ],
             [
              0.3333333333333333,
              "#9c179e"
             ],
             [
              0.4444444444444444,
              "#bd3786"
             ],
             [
              0.5555555555555556,
              "#d8576b"
             ],
             [
              0.6666666666666666,
              "#ed7953"
             ],
             [
              0.7777777777777778,
              "#fb9f3a"
             ],
             [
              0.8888888888888888,
              "#fdca26"
             ],
             [
              1,
              "#f0f921"
             ]
            ],
            "type": "contour"
           }
          ],
          "contourcarpet": [
           {
            "colorbar": {
             "outlinewidth": 0,
             "ticks": ""
            },
            "type": "contourcarpet"
           }
          ],
          "heatmap": [
           {
            "colorbar": {
             "outlinewidth": 0,
             "ticks": ""
            },
            "colorscale": [
             [
              0,
              "#0d0887"
             ],
             [
              0.1111111111111111,
              "#46039f"
             ],
             [
              0.2222222222222222,
              "#7201a8"
             ],
             [
              0.3333333333333333,
              "#9c179e"
             ],
             [
              0.4444444444444444,
              "#bd3786"
             ],
             [
              0.5555555555555556,
              "#d8576b"
             ],
             [
              0.6666666666666666,
              "#ed7953"
             ],
             [
              0.7777777777777778,
              "#fb9f3a"
             ],
             [
              0.8888888888888888,
              "#fdca26"
             ],
             [
              1,
              "#f0f921"
             ]
            ],
            "type": "heatmap"
           }
          ],
          "heatmapgl": [
           {
            "colorbar": {
             "outlinewidth": 0,
             "ticks": ""
            },
            "colorscale": [
             [
              0,
              "#0d0887"
             ],
             [
              0.1111111111111111,
              "#46039f"
             ],
             [
              0.2222222222222222,
              "#7201a8"
             ],
             [
              0.3333333333333333,
              "#9c179e"
             ],
             [
              0.4444444444444444,
              "#bd3786"
             ],
             [
              0.5555555555555556,
              "#d8576b"
             ],
             [
              0.6666666666666666,
              "#ed7953"
             ],
             [
              0.7777777777777778,
              "#fb9f3a"
             ],
             [
              0.8888888888888888,
              "#fdca26"
             ],
             [
              1,
              "#f0f921"
             ]
            ],
            "type": "heatmapgl"
           }
          ],
          "histogram": [
           {
            "marker": {
             "pattern": {
              "fillmode": "overlay",
              "size": 10,
              "solidity": 0.2
             }
            },
            "type": "histogram"
           }
          ],
          "histogram2d": [
           {
            "colorbar": {
             "outlinewidth": 0,
             "ticks": ""
            },
            "colorscale": [
             [
              0,
              "#0d0887"
             ],
             [
              0.1111111111111111,
              "#46039f"
             ],
             [
              0.2222222222222222,
              "#7201a8"
             ],
             [
              0.3333333333333333,
              "#9c179e"
             ],
             [
              0.4444444444444444,
              "#bd3786"
             ],
             [
              0.5555555555555556,
              "#d8576b"
             ],
             [
              0.6666666666666666,
              "#ed7953"
             ],
             [
              0.7777777777777778,
              "#fb9f3a"
             ],
             [
              0.8888888888888888,
              "#fdca26"
             ],
             [
              1,
              "#f0f921"
             ]
            ],
            "type": "histogram2d"
           }
          ],
          "histogram2dcontour": [
           {
            "colorbar": {
             "outlinewidth": 0,
             "ticks": ""
            },
            "colorscale": [
             [
              0,
              "#0d0887"
             ],
             [
              0.1111111111111111,
              "#46039f"
             ],
             [
              0.2222222222222222,
              "#7201a8"
             ],
             [
              0.3333333333333333,
              "#9c179e"
             ],
             [
              0.4444444444444444,
              "#bd3786"
             ],
             [
              0.5555555555555556,
              "#d8576b"
             ],
             [
              0.6666666666666666,
              "#ed7953"
             ],
             [
              0.7777777777777778,
              "#fb9f3a"
             ],
             [
              0.8888888888888888,
              "#fdca26"
             ],
             [
              1,
              "#f0f921"
             ]
            ],
            "type": "histogram2dcontour"
           }
          ],
          "mesh3d": [
           {
            "colorbar": {
             "outlinewidth": 0,
             "ticks": ""
            },
            "type": "mesh3d"
           }
          ],
          "parcoords": [
           {
            "line": {
             "colorbar": {
              "outlinewidth": 0,
              "ticks": ""
             }
            },
            "type": "parcoords"
           }
          ],
          "pie": [
           {
            "automargin": true,
            "type": "pie"
           }
          ],
          "scatter": [
           {
            "fillpattern": {
             "fillmode": "overlay",
             "size": 10,
             "solidity": 0.2
            },
            "type": "scatter"
           }
          ],
          "scatter3d": [
           {
            "line": {
             "colorbar": {
              "outlinewidth": 0,
              "ticks": ""
             }
            },
            "marker": {
             "colorbar": {
              "outlinewidth": 0,
              "ticks": ""
             }
            },
            "type": "scatter3d"
           }
          ],
          "scattercarpet": [
           {
            "marker": {
             "colorbar": {
              "outlinewidth": 0,
              "ticks": ""
             }
            },
            "type": "scattercarpet"
           }
          ],
          "scattergeo": [
           {
            "marker": {
             "colorbar": {
              "outlinewidth": 0,
              "ticks": ""
             }
            },
            "type": "scattergeo"
           }
          ],
          "scattergl": [
           {
            "marker": {
             "colorbar": {
              "outlinewidth": 0,
              "ticks": ""
             }
            },
            "type": "scattergl"
           }
          ],
          "scattermapbox": [
           {
            "marker": {
             "colorbar": {
              "outlinewidth": 0,
              "ticks": ""
             }
            },
            "type": "scattermapbox"
           }
          ],
          "scatterpolar": [
           {
            "marker": {
             "colorbar": {
              "outlinewidth": 0,
              "ticks": ""
             }
            },
            "type": "scatterpolar"
           }
          ],
          "scatterpolargl": [
           {
            "marker": {
             "colorbar": {
              "outlinewidth": 0,
              "ticks": ""
             }
            },
            "type": "scatterpolargl"
           }
          ],
          "scatterternary": [
           {
            "marker": {
             "colorbar": {
              "outlinewidth": 0,
              "ticks": ""
             }
            },
            "type": "scatterternary"
           }
          ],
          "surface": [
           {
            "colorbar": {
             "outlinewidth": 0,
             "ticks": ""
            },
            "colorscale": [
             [
              0,
              "#0d0887"
             ],
             [
              0.1111111111111111,
              "#46039f"
             ],
             [
              0.2222222222222222,
              "#7201a8"
             ],
             [
              0.3333333333333333,
              "#9c179e"
             ],
             [
              0.4444444444444444,
              "#bd3786"
             ],
             [
              0.5555555555555556,
              "#d8576b"
             ],
             [
              0.6666666666666666,
              "#ed7953"
             ],
             [
              0.7777777777777778,
              "#fb9f3a"
             ],
             [
              0.8888888888888888,
              "#fdca26"
             ],
             [
              1,
              "#f0f921"
             ]
            ],
            "type": "surface"
           }
          ],
          "table": [
           {
            "cells": {
             "fill": {
              "color": "#EBF0F8"
             },
             "line": {
              "color": "white"
             }
            },
            "header": {
             "fill": {
              "color": "#C8D4E3"
             },
             "line": {
              "color": "white"
             }
            },
            "type": "table"
           }
          ]
         },
         "layout": {
          "annotationdefaults": {
           "arrowcolor": "#2a3f5f",
           "arrowhead": 0,
           "arrowwidth": 1
          },
          "autotypenumbers": "strict",
          "coloraxis": {
           "colorbar": {
            "outlinewidth": 0,
            "ticks": ""
           }
          },
          "colorscale": {
           "diverging": [
            [
             0,
             "#8e0152"
            ],
            [
             0.1,
             "#c51b7d"
            ],
            [
             0.2,
             "#de77ae"
            ],
            [
             0.3,
             "#f1b6da"
            ],
            [
             0.4,
             "#fde0ef"
            ],
            [
             0.5,
             "#f7f7f7"
            ],
            [
             0.6,
             "#e6f5d0"
            ],
            [
             0.7,
             "#b8e186"
            ],
            [
             0.8,
             "#7fbc41"
            ],
            [
             0.9,
             "#4d9221"
            ],
            [
             1,
             "#276419"
            ]
           ],
           "sequential": [
            [
             0,
             "#0d0887"
            ],
            [
             0.1111111111111111,
             "#46039f"
            ],
            [
             0.2222222222222222,
             "#7201a8"
            ],
            [
             0.3333333333333333,
             "#9c179e"
            ],
            [
             0.4444444444444444,
             "#bd3786"
            ],
            [
             0.5555555555555556,
             "#d8576b"
            ],
            [
             0.6666666666666666,
             "#ed7953"
            ],
            [
             0.7777777777777778,
             "#fb9f3a"
            ],
            [
             0.8888888888888888,
             "#fdca26"
            ],
            [
             1,
             "#f0f921"
            ]
           ],
           "sequentialminus": [
            [
             0,
             "#0d0887"
            ],
            [
             0.1111111111111111,
             "#46039f"
            ],
            [
             0.2222222222222222,
             "#7201a8"
            ],
            [
             0.3333333333333333,
             "#9c179e"
            ],
            [
             0.4444444444444444,
             "#bd3786"
            ],
            [
             0.5555555555555556,
             "#d8576b"
            ],
            [
             0.6666666666666666,
             "#ed7953"
            ],
            [
             0.7777777777777778,
             "#fb9f3a"
            ],
            [
             0.8888888888888888,
             "#fdca26"
            ],
            [
             1,
             "#f0f921"
            ]
           ]
          },
          "colorway": [
           "#636efa",
           "#EF553B",
           "#00cc96",
           "#ab63fa",
           "#FFA15A",
           "#19d3f3",
           "#FF6692",
           "#B6E880",
           "#FF97FF",
           "#FECB52"
          ],
          "font": {
           "color": "#2a3f5f"
          },
          "geo": {
           "bgcolor": "white",
           "lakecolor": "white",
           "landcolor": "#E5ECF6",
           "showlakes": true,
           "showland": true,
           "subunitcolor": "white"
          },
          "hoverlabel": {
           "align": "left"
          },
          "hovermode": "closest",
          "mapbox": {
           "style": "light"
          },
          "paper_bgcolor": "white",
          "plot_bgcolor": "#E5ECF6",
          "polar": {
           "angularaxis": {
            "gridcolor": "white",
            "linecolor": "white",
            "ticks": ""
           },
           "bgcolor": "#E5ECF6",
           "radialaxis": {
            "gridcolor": "white",
            "linecolor": "white",
            "ticks": ""
           }
          },
          "scene": {
           "xaxis": {
            "backgroundcolor": "#E5ECF6",
            "gridcolor": "white",
            "gridwidth": 2,
            "linecolor": "white",
            "showbackground": true,
            "ticks": "",
            "zerolinecolor": "white"
           },
           "yaxis": {
            "backgroundcolor": "#E5ECF6",
            "gridcolor": "white",
            "gridwidth": 2,
            "linecolor": "white",
            "showbackground": true,
            "ticks": "",
            "zerolinecolor": "white"
           },
           "zaxis": {
            "backgroundcolor": "#E5ECF6",
            "gridcolor": "white",
            "gridwidth": 2,
            "linecolor": "white",
            "showbackground": true,
            "ticks": "",
            "zerolinecolor": "white"
           }
          },
          "shapedefaults": {
           "line": {
            "color": "#2a3f5f"
           }
          },
          "ternary": {
           "aaxis": {
            "gridcolor": "white",
            "linecolor": "white",
            "ticks": ""
           },
           "baxis": {
            "gridcolor": "white",
            "linecolor": "white",
            "ticks": ""
           },
           "bgcolor": "#E5ECF6",
           "caxis": {
            "gridcolor": "white",
            "linecolor": "white",
            "ticks": ""
           }
          },
          "title": {
           "x": 0.05
          },
          "xaxis": {
           "automargin": true,
           "gridcolor": "white",
           "linecolor": "white",
           "ticks": "",
           "title": {
            "standoff": 15
           },
           "zerolinecolor": "white",
           "zerolinewidth": 2
          },
          "yaxis": {
           "automargin": true,
           "gridcolor": "white",
           "linecolor": "white",
           "ticks": "",
           "title": {
            "standoff": 15
           },
           "zerolinecolor": "white",
           "zerolinewidth": 2
          }
         }
        },
        "xaxis": {
         "anchor": "y",
         "domain": [
          0,
          1
         ],
         "title": {
          "text": "x"
         }
        },
        "yaxis": {
         "anchor": "x",
         "domain": [
          0,
          1
         ],
         "title": {
          "text": "y"
         }
        }
       }
      }
     },
     "metadata": {},
     "output_type": "display_data"
    }
   ],
   "source": [
    "from scipy.stats import probplot\n",
    "\n",
    "(Q_x, Q_y) = probplot(dairy_queen['cal_fat'], fit=False)\n",
    "px.scatter(x=Q_x, y=Q_y, trendline=\"ols\")"
   ]
  },
  {
   "cell_type": "markdown",
   "metadata": {},
   "source": [
    "Die Werte auf der x-Achse entsprechen den Quantilen einer theoretischen Normalkurve mit Mittelwert 0 und Standardabweichung 1 (d. h. der Standardnormalverteilung). Die Werte auf der y-Achse entsprechen den Quantilen der ursprünglichen, nicht standardisierten Stichprobendaten. Aber auch wenn wir die Stichprobendatenwerte standardisieren würden, sähe die Q-Q-Kurve identisch aus. Ein nahezu normaler Datensatz führt zu einem Wahrscheinlichkeitsdiagramm, bei dem die Punkte eng an einer diagonalen Linie liegen. Jede Abweichung von der Normalität führt zu einer Abweichung der Punkte von dieser Linie.\n",
    "\n",
    "Das Diagramm für die Kalorien aus Fett von Dairy Queen zeigt Punkte, die tendenziell der Linie folgen, aber mit einigen abweichenden Punkten am oberen Ende. Hier stellt sich das gleiche Problem wie beim obigen Histogramm: Wie nah ist nah genug?\n",
    "\n",
    "Diese Frage lässt sich sinnvollerweise folgendermaßen umformulieren: Wie sehen Wahrscheinlichkeitsdiagramme für Daten aus, von denen ich *weiß*, dass sie aus einer Normalverteilung stammen? Wir können diese Frage beantworten, indem wir Daten aus einer Normalverteilung mit `np.random.norm` simulieren."
   ]
  },
  {
   "cell_type": "code",
   "execution_count": 30,
   "metadata": {},
   "outputs": [],
   "source": [
    "sim_norm = np.random.normal(size = len(dairy_queen['cal_fat']), loc = dqmean, scale = dqsd)"
   ]
  },
  {
   "cell_type": "markdown",
   "metadata": {},
   "source": [
    "Das erste Argument gibt an, wie viele Zahlen Sie generieren möchten. Wir geben an, dass dies die gleiche Anzahl von Produkten im dairy_queen-Datensatz ist, indem wir die Funktion `len()` verwenden. Die letzten beiden Argumente (`loc` and `scale`) bestimmen den Mittelwert und die Standardabweichung der Normalverteilung, aus der die simulierte Stichprobe erzeugt wird. Wir können uns die Form unseres simulierten Datensatzes, `sim_norm`, sowie die Darstellung der Normalwahrscheinlichkeit ansehen."
   ]
  },
  {
   "cell_type": "markdown",
   "metadata": {},
   "source": [
    "### ✏️ Aufgabe 3\n",
    "Erstellen Sie ein Normalwahrscheinlichkeitsdiagramm (Q-Q-Diagramm) von `sim_norm`. Fallen alle Punkte auf die Linie? Wie verhält sich diese Darstellung im Vergleich zur Wahrscheinlichkeitsdarstellung für die realen Daten?"
   ]
  },
  {
   "cell_type": "code",
   "execution_count": 31,
   "metadata": {},
   "outputs": [
    {
     "data": {
      "application/vnd.plotly.v1+json": {
       "config": {
        "plotlyServerURL": "https://plot.ly"
       },
       "data": [
        {
         "hovertemplate": "x=%{x}<br>y=%{y}<extra></extra>",
         "legendgroup": "",
         "marker": {
          "color": "#636efa",
          "symbol": "circle"
         },
         "mode": "markers",
         "name": "",
         "orientation": "v",
         "showlegend": false,
         "type": "scatter",
         "x": [
          -2.1353046284158346,
          -1.7540101162150163,
          -1.527496670219539,
          -1.359948140410081,
          -1.2237273032174234,
          -1.1070694628903044,
          -1.0038048672080377,
          -0.9102674907071854,
          -0.8240868004562736,
          -0.7436321948616521,
          -0.667727110604202,
          -0.595489101363644,
          -0.5262343894479194,
          -0.45941783418576615,
          -0.3945934820453098,
          -0.33138763259250686,
          -0.26947979801752303,
          -0.20858878396464725,
          -0.148462158735626,
          -0.08886798295158897,
          -0.029588032793860894,
          0.029588032793860894,
          0.08886798295158911,
          0.148462158735626,
          0.2085887839646474,
          0.26947979801752303,
          0.33138763259250686,
          0.3945934820453096,
          0.45941783418576615,
          0.5262343894479193,
          0.5954891013636436,
          0.6677271106042019,
          0.7436321948616517,
          0.8240868004562732,
          0.9102674907071853,
          1.003804867208037,
          1.107069462890304,
          1.223727303217423,
          1.35994814041008,
          1.5274966702195378,
          1.754010116215015,
          2.1353046284158346
         ],
         "xaxis": "x",
         "y": [
          -95.9368880306364,
          27.736914149411632,
          89.40558397669037,
          91.76820940311708,
          117.29751613929326,
          125.23826068422716,
          127.43434696069102,
          143.67761398357277,
          143.76397879352487,
          145.00616980987468,
          172.94296249545798,
          174.6643441865735,
          180.41397814249854,
          185.5259812106221,
          192.86189681127001,
          209.30042294483954,
          209.37605222785822,
          218.26712937412012,
          224.3506525540498,
          244.30712277840718,
          250.47775907097235,
          254.45397190256946,
          257.84392320793177,
          281.9374362217612,
          289.6401145124127,
          303.10050585772933,
          311.17113200163203,
          314.2879656346583,
          315.54489967119844,
          329.2661202873302,
          338.2384843658916,
          346.6285578929038,
          355.7838633327459,
          387.75110586373887,
          388.61127705663057,
          416.9935661164834,
          430.39157720150166,
          445.54084832820877,
          548.731655490415,
          564.2283289131042,
          600.2867402585921,
          643.7024267966832
         ],
         "yaxis": "y"
        },
        {
         "hovertemplate": "<b>OLS trendline</b><br>y = 155.983 * x + 269.096<br>R<sup>2</sup>=0.968694<br><br>x=%{x}<br>y=%{y} <b>(trend)</b><extra></extra>",
         "legendgroup": "",
         "marker": {
          "color": "#636efa",
          "symbol": "circle"
         },
         "mode": "lines",
         "name": "",
         "showlegend": false,
         "type": "scatter",
         "x": [
          -2.1353046284158346,
          -1.7540101162150163,
          -1.527496670219539,
          -1.359948140410081,
          -1.2237273032174234,
          -1.1070694628903044,
          -1.0038048672080377,
          -0.9102674907071854,
          -0.8240868004562736,
          -0.7436321948616521,
          -0.667727110604202,
          -0.595489101363644,
          -0.5262343894479194,
          -0.45941783418576615,
          -0.3945934820453098,
          -0.33138763259250686,
          -0.26947979801752303,
          -0.20858878396464725,
          -0.148462158735626,
          -0.08886798295158897,
          -0.029588032793860894,
          0.029588032793860894,
          0.08886798295158911,
          0.148462158735626,
          0.2085887839646474,
          0.26947979801752303,
          0.33138763259250686,
          0.3945934820453096,
          0.45941783418576615,
          0.5262343894479193,
          0.5954891013636436,
          0.6677271106042019,
          0.7436321948616517,
          0.8240868004562732,
          0.9102674907071853,
          1.003804867208037,
          1.107069462890304,
          1.223727303217423,
          1.35994814041008,
          1.5274966702195378,
          1.754010116215015,
          2.1353046284158346
         ],
         "xaxis": "x",
         "y": [
          -63.97543498706881,
          -4.500009398344048,
          30.83221587914508,
          56.96692224998927,
          78.21504412649477,
          96.41167292576449,
          112.51918452093719,
          127.1094162127875,
          140.55213061383688,
          153.1016736971974,
          164.94156922703968,
          176.2094637437109,
          187.01201487784024,
          197.43425525484346,
          207.545746002018,
          217.40477799858252,
          227.06134186406064,
          236.5592991108632,
          245.93802476854162,
          255.23369741514435,
          264.48035623579995,
          273.71081083946444,
          282.95746966012007,
          292.25314230672274,
          301.63186796440124,
          311.12982521120375,
          320.78638907668187,
          330.6454210732464,
          340.7569118204209,
          351.1791521974241,
          361.98170333155343,
          373.24959784822465,
          385.0894933780669,
          397.63903646142745,
          411.0817508624769,
          425.6719825543271,
          441.77949414949984,
          459.97612294876956,
          481.2242448252749,
          507.35895119611916,
          542.6911764736083,
          602.1666020623331
         ],
         "yaxis": "y"
        }
       ],
       "layout": {
        "legend": {
         "tracegroupgap": 0
        },
        "margin": {
         "t": 60
        },
        "template": {
         "data": {
          "bar": [
           {
            "error_x": {
             "color": "#2a3f5f"
            },
            "error_y": {
             "color": "#2a3f5f"
            },
            "marker": {
             "line": {
              "color": "#E5ECF6",
              "width": 0.5
             },
             "pattern": {
              "fillmode": "overlay",
              "size": 10,
              "solidity": 0.2
             }
            },
            "type": "bar"
           }
          ],
          "barpolar": [
           {
            "marker": {
             "line": {
              "color": "#E5ECF6",
              "width": 0.5
             },
             "pattern": {
              "fillmode": "overlay",
              "size": 10,
              "solidity": 0.2
             }
            },
            "type": "barpolar"
           }
          ],
          "carpet": [
           {
            "aaxis": {
             "endlinecolor": "#2a3f5f",
             "gridcolor": "white",
             "linecolor": "white",
             "minorgridcolor": "white",
             "startlinecolor": "#2a3f5f"
            },
            "baxis": {
             "endlinecolor": "#2a3f5f",
             "gridcolor": "white",
             "linecolor": "white",
             "minorgridcolor": "white",
             "startlinecolor": "#2a3f5f"
            },
            "type": "carpet"
           }
          ],
          "choropleth": [
           {
            "colorbar": {
             "outlinewidth": 0,
             "ticks": ""
            },
            "type": "choropleth"
           }
          ],
          "contour": [
           {
            "colorbar": {
             "outlinewidth": 0,
             "ticks": ""
            },
            "colorscale": [
             [
              0,
              "#0d0887"
             ],
             [
              0.1111111111111111,
              "#46039f"
             ],
             [
              0.2222222222222222,
              "#7201a8"
             ],
             [
              0.3333333333333333,
              "#9c179e"
             ],
             [
              0.4444444444444444,
              "#bd3786"
             ],
             [
              0.5555555555555556,
              "#d8576b"
             ],
             [
              0.6666666666666666,
              "#ed7953"
             ],
             [
              0.7777777777777778,
              "#fb9f3a"
             ],
             [
              0.8888888888888888,
              "#fdca26"
             ],
             [
              1,
              "#f0f921"
             ]
            ],
            "type": "contour"
           }
          ],
          "contourcarpet": [
           {
            "colorbar": {
             "outlinewidth": 0,
             "ticks": ""
            },
            "type": "contourcarpet"
           }
          ],
          "heatmap": [
           {
            "colorbar": {
             "outlinewidth": 0,
             "ticks": ""
            },
            "colorscale": [
             [
              0,
              "#0d0887"
             ],
             [
              0.1111111111111111,
              "#46039f"
             ],
             [
              0.2222222222222222,
              "#7201a8"
             ],
             [
              0.3333333333333333,
              "#9c179e"
             ],
             [
              0.4444444444444444,
              "#bd3786"
             ],
             [
              0.5555555555555556,
              "#d8576b"
             ],
             [
              0.6666666666666666,
              "#ed7953"
             ],
             [
              0.7777777777777778,
              "#fb9f3a"
             ],
             [
              0.8888888888888888,
              "#fdca26"
             ],
             [
              1,
              "#f0f921"
             ]
            ],
            "type": "heatmap"
           }
          ],
          "heatmapgl": [
           {
            "colorbar": {
             "outlinewidth": 0,
             "ticks": ""
            },
            "colorscale": [
             [
              0,
              "#0d0887"
             ],
             [
              0.1111111111111111,
              "#46039f"
             ],
             [
              0.2222222222222222,
              "#7201a8"
             ],
             [
              0.3333333333333333,
              "#9c179e"
             ],
             [
              0.4444444444444444,
              "#bd3786"
             ],
             [
              0.5555555555555556,
              "#d8576b"
             ],
             [
              0.6666666666666666,
              "#ed7953"
             ],
             [
              0.7777777777777778,
              "#fb9f3a"
             ],
             [
              0.8888888888888888,
              "#fdca26"
             ],
             [
              1,
              "#f0f921"
             ]
            ],
            "type": "heatmapgl"
           }
          ],
          "histogram": [
           {
            "marker": {
             "pattern": {
              "fillmode": "overlay",
              "size": 10,
              "solidity": 0.2
             }
            },
            "type": "histogram"
           }
          ],
          "histogram2d": [
           {
            "colorbar": {
             "outlinewidth": 0,
             "ticks": ""
            },
            "colorscale": [
             [
              0,
              "#0d0887"
             ],
             [
              0.1111111111111111,
              "#46039f"
             ],
             [
              0.2222222222222222,
              "#7201a8"
             ],
             [
              0.3333333333333333,
              "#9c179e"
             ],
             [
              0.4444444444444444,
              "#bd3786"
             ],
             [
              0.5555555555555556,
              "#d8576b"
             ],
             [
              0.6666666666666666,
              "#ed7953"
             ],
             [
              0.7777777777777778,
              "#fb9f3a"
             ],
             [
              0.8888888888888888,
              "#fdca26"
             ],
             [
              1,
              "#f0f921"
             ]
            ],
            "type": "histogram2d"
           }
          ],
          "histogram2dcontour": [
           {
            "colorbar": {
             "outlinewidth": 0,
             "ticks": ""
            },
            "colorscale": [
             [
              0,
              "#0d0887"
             ],
             [
              0.1111111111111111,
              "#46039f"
             ],
             [
              0.2222222222222222,
              "#7201a8"
             ],
             [
              0.3333333333333333,
              "#9c179e"
             ],
             [
              0.4444444444444444,
              "#bd3786"
             ],
             [
              0.5555555555555556,
              "#d8576b"
             ],
             [
              0.6666666666666666,
              "#ed7953"
             ],
             [
              0.7777777777777778,
              "#fb9f3a"
             ],
             [
              0.8888888888888888,
              "#fdca26"
             ],
             [
              1,
              "#f0f921"
             ]
            ],
            "type": "histogram2dcontour"
           }
          ],
          "mesh3d": [
           {
            "colorbar": {
             "outlinewidth": 0,
             "ticks": ""
            },
            "type": "mesh3d"
           }
          ],
          "parcoords": [
           {
            "line": {
             "colorbar": {
              "outlinewidth": 0,
              "ticks": ""
             }
            },
            "type": "parcoords"
           }
          ],
          "pie": [
           {
            "automargin": true,
            "type": "pie"
           }
          ],
          "scatter": [
           {
            "fillpattern": {
             "fillmode": "overlay",
             "size": 10,
             "solidity": 0.2
            },
            "type": "scatter"
           }
          ],
          "scatter3d": [
           {
            "line": {
             "colorbar": {
              "outlinewidth": 0,
              "ticks": ""
             }
            },
            "marker": {
             "colorbar": {
              "outlinewidth": 0,
              "ticks": ""
             }
            },
            "type": "scatter3d"
           }
          ],
          "scattercarpet": [
           {
            "marker": {
             "colorbar": {
              "outlinewidth": 0,
              "ticks": ""
             }
            },
            "type": "scattercarpet"
           }
          ],
          "scattergeo": [
           {
            "marker": {
             "colorbar": {
              "outlinewidth": 0,
              "ticks": ""
             }
            },
            "type": "scattergeo"
           }
          ],
          "scattergl": [
           {
            "marker": {
             "colorbar": {
              "outlinewidth": 0,
              "ticks": ""
             }
            },
            "type": "scattergl"
           }
          ],
          "scattermapbox": [
           {
            "marker": {
             "colorbar": {
              "outlinewidth": 0,
              "ticks": ""
             }
            },
            "type": "scattermapbox"
           }
          ],
          "scatterpolar": [
           {
            "marker": {
             "colorbar": {
              "outlinewidth": 0,
              "ticks": ""
             }
            },
            "type": "scatterpolar"
           }
          ],
          "scatterpolargl": [
           {
            "marker": {
             "colorbar": {
              "outlinewidth": 0,
              "ticks": ""
             }
            },
            "type": "scatterpolargl"
           }
          ],
          "scatterternary": [
           {
            "marker": {
             "colorbar": {
              "outlinewidth": 0,
              "ticks": ""
             }
            },
            "type": "scatterternary"
           }
          ],
          "surface": [
           {
            "colorbar": {
             "outlinewidth": 0,
             "ticks": ""
            },
            "colorscale": [
             [
              0,
              "#0d0887"
             ],
             [
              0.1111111111111111,
              "#46039f"
             ],
             [
              0.2222222222222222,
              "#7201a8"
             ],
             [
              0.3333333333333333,
              "#9c179e"
             ],
             [
              0.4444444444444444,
              "#bd3786"
             ],
             [
              0.5555555555555556,
              "#d8576b"
             ],
             [
              0.6666666666666666,
              "#ed7953"
             ],
             [
              0.7777777777777778,
              "#fb9f3a"
             ],
             [
              0.8888888888888888,
              "#fdca26"
             ],
             [
              1,
              "#f0f921"
             ]
            ],
            "type": "surface"
           }
          ],
          "table": [
           {
            "cells": {
             "fill": {
              "color": "#EBF0F8"
             },
             "line": {
              "color": "white"
             }
            },
            "header": {
             "fill": {
              "color": "#C8D4E3"
             },
             "line": {
              "color": "white"
             }
            },
            "type": "table"
           }
          ]
         },
         "layout": {
          "annotationdefaults": {
           "arrowcolor": "#2a3f5f",
           "arrowhead": 0,
           "arrowwidth": 1
          },
          "autotypenumbers": "strict",
          "coloraxis": {
           "colorbar": {
            "outlinewidth": 0,
            "ticks": ""
           }
          },
          "colorscale": {
           "diverging": [
            [
             0,
             "#8e0152"
            ],
            [
             0.1,
             "#c51b7d"
            ],
            [
             0.2,
             "#de77ae"
            ],
            [
             0.3,
             "#f1b6da"
            ],
            [
             0.4,
             "#fde0ef"
            ],
            [
             0.5,
             "#f7f7f7"
            ],
            [
             0.6,
             "#e6f5d0"
            ],
            [
             0.7,
             "#b8e186"
            ],
            [
             0.8,
             "#7fbc41"
            ],
            [
             0.9,
             "#4d9221"
            ],
            [
             1,
             "#276419"
            ]
           ],
           "sequential": [
            [
             0,
             "#0d0887"
            ],
            [
             0.1111111111111111,
             "#46039f"
            ],
            [
             0.2222222222222222,
             "#7201a8"
            ],
            [
             0.3333333333333333,
             "#9c179e"
            ],
            [
             0.4444444444444444,
             "#bd3786"
            ],
            [
             0.5555555555555556,
             "#d8576b"
            ],
            [
             0.6666666666666666,
             "#ed7953"
            ],
            [
             0.7777777777777778,
             "#fb9f3a"
            ],
            [
             0.8888888888888888,
             "#fdca26"
            ],
            [
             1,
             "#f0f921"
            ]
           ],
           "sequentialminus": [
            [
             0,
             "#0d0887"
            ],
            [
             0.1111111111111111,
             "#46039f"
            ],
            [
             0.2222222222222222,
             "#7201a8"
            ],
            [
             0.3333333333333333,
             "#9c179e"
            ],
            [
             0.4444444444444444,
             "#bd3786"
            ],
            [
             0.5555555555555556,
             "#d8576b"
            ],
            [
             0.6666666666666666,
             "#ed7953"
            ],
            [
             0.7777777777777778,
             "#fb9f3a"
            ],
            [
             0.8888888888888888,
             "#fdca26"
            ],
            [
             1,
             "#f0f921"
            ]
           ]
          },
          "colorway": [
           "#636efa",
           "#EF553B",
           "#00cc96",
           "#ab63fa",
           "#FFA15A",
           "#19d3f3",
           "#FF6692",
           "#B6E880",
           "#FF97FF",
           "#FECB52"
          ],
          "font": {
           "color": "#2a3f5f"
          },
          "geo": {
           "bgcolor": "white",
           "lakecolor": "white",
           "landcolor": "#E5ECF6",
           "showlakes": true,
           "showland": true,
           "subunitcolor": "white"
          },
          "hoverlabel": {
           "align": "left"
          },
          "hovermode": "closest",
          "mapbox": {
           "style": "light"
          },
          "paper_bgcolor": "white",
          "plot_bgcolor": "#E5ECF6",
          "polar": {
           "angularaxis": {
            "gridcolor": "white",
            "linecolor": "white",
            "ticks": ""
           },
           "bgcolor": "#E5ECF6",
           "radialaxis": {
            "gridcolor": "white",
            "linecolor": "white",
            "ticks": ""
           }
          },
          "scene": {
           "xaxis": {
            "backgroundcolor": "#E5ECF6",
            "gridcolor": "white",
            "gridwidth": 2,
            "linecolor": "white",
            "showbackground": true,
            "ticks": "",
            "zerolinecolor": "white"
           },
           "yaxis": {
            "backgroundcolor": "#E5ECF6",
            "gridcolor": "white",
            "gridwidth": 2,
            "linecolor": "white",
            "showbackground": true,
            "ticks": "",
            "zerolinecolor": "white"
           },
           "zaxis": {
            "backgroundcolor": "#E5ECF6",
            "gridcolor": "white",
            "gridwidth": 2,
            "linecolor": "white",
            "showbackground": true,
            "ticks": "",
            "zerolinecolor": "white"
           }
          },
          "shapedefaults": {
           "line": {
            "color": "#2a3f5f"
           }
          },
          "ternary": {
           "aaxis": {
            "gridcolor": "white",
            "linecolor": "white",
            "ticks": ""
           },
           "baxis": {
            "gridcolor": "white",
            "linecolor": "white",
            "ticks": ""
           },
           "bgcolor": "#E5ECF6",
           "caxis": {
            "gridcolor": "white",
            "linecolor": "white",
            "ticks": ""
           }
          },
          "title": {
           "x": 0.05
          },
          "xaxis": {
           "automargin": true,
           "gridcolor": "white",
           "linecolor": "white",
           "ticks": "",
           "title": {
            "standoff": 15
           },
           "zerolinecolor": "white",
           "zerolinewidth": 2
          },
          "yaxis": {
           "automargin": true,
           "gridcolor": "white",
           "linecolor": "white",
           "ticks": "",
           "title": {
            "standoff": 15
           },
           "zerolinecolor": "white",
           "zerolinewidth": 2
          }
         }
        },
        "xaxis": {
         "anchor": "y",
         "domain": [
          0,
          1
         ],
         "title": {
          "text": "x"
         }
        },
        "yaxis": {
         "anchor": "x",
         "domain": [
          0,
          1
         ],
         "title": {
          "text": "y"
         }
        }
       }
      }
     },
     "metadata": {},
     "output_type": "display_data"
    }
   ],
   "source": [
    "# <IHRE LÖSUNG HIER>\n",
    "(Q_x, Q_y) = probplot(sim_norm, fit=False)\n",
    "px.scatter(x=Q_x, y=Q_y, trendline=\"ols\")\n",
    "\"\"\"\n",
    "Auf dem sim_norm-Diagramm erkennt man, dass die Datenwerte nicht immer auf der Linie liegen, jedoch folgen sie ihr näher als das Diagramm für die realen Daten\n",
    "\"\"\""
   ]
  },
  {
   "cell_type": "markdown",
   "metadata": {},
   "source": [
    "Noch besser als der Vergleich des ursprünglichen Diagramms mit einem einzelnen Diagramm, das aus einer Normalverteilung generiert wurde, ist der Vergleich mit vielen weiteren Diagrammen, bei denen zufällig Daten aus einer Normalverteilung generiert wurden. Der folgende Code generiert 9 Plots: in der linken oberen Ecke sieht man den Q-Q-Plot, die den Originaldaten entspricht. Die restlichen Plots zeigen Q-Q-Plots von 8 verschiedenen simulierten *normalverteilten* Daten. Je nachdem, welches Gerät sie benutzen, kann es sinnvoll sein, die Parameter `width` und `height` zu modifizieren oder die Zoom Funktionalität von plotly zu benutzen."
   ]
  },
  {
   "cell_type": "code",
   "execution_count": 32,
   "metadata": {},
   "outputs": [
    {
     "data": {
      "application/vnd.plotly.v1+json": {
       "config": {
        "plotlyServerURL": "https://plot.ly"
       },
       "data": [
        {
         "hovertemplate": "sample=data<br>Q_x=%{x}<br>Q_y=%{y}<extra></extra>",
         "legendgroup": "",
         "marker": {
          "color": "#636efa",
          "symbol": "circle"
         },
         "mode": "markers",
         "name": "",
         "orientation": "v",
         "showlegend": false,
         "type": "scatter",
         "x": [
          -2.1353046284158346,
          -1.7540101162150163,
          -1.527496670219539,
          -1.359948140410081,
          -1.2237273032174234,
          -1.1070694628903044,
          -1.0038048672080377,
          -0.9102674907071854,
          -0.8240868004562736,
          -0.7436321948616521,
          -0.667727110604202,
          -0.595489101363644,
          -0.5262343894479194,
          -0.45941783418576615,
          -0.3945934820453098,
          -0.33138763259250686,
          -0.26947979801752303,
          -0.20858878396464725,
          -0.148462158735626,
          -0.08886798295158897,
          -0.029588032793860894,
          0.029588032793860894,
          0.08886798295158911,
          0.148462158735626,
          0.2085887839646474,
          0.26947979801752303,
          0.33138763259250686,
          0.3945934820453096,
          0.45941783418576615,
          0.5262343894479193,
          0.5954891013636436,
          0.6677271106042019,
          0.7436321948616517,
          0.8240868004562732,
          0.9102674907071853,
          1.003804867208037,
          1.107069462890304,
          1.223727303217423,
          1.35994814041008,
          1.5274966702195378,
          1.754010116215015,
          2.1353046284158346
         ],
         "xaxis": "x7",
         "y": [
          0,
          20,
          80,
          80,
          120,
          130,
          130,
          140,
          140,
          160,
          160,
          160,
          170,
          180,
          180,
          180,
          180,
          190,
          200,
          220,
          220,
          220,
          240,
          240,
          240,
          270,
          270,
          280,
          310,
          310,
          310,
          310,
          330,
          410,
          430,
          430,
          440,
          460,
          480,
          590,
          660,
          670
         ],
         "yaxis": "y7"
        },
        {
         "hovertemplate": "<b>OLS trendline</b><br>Q_y = 154.939 * Q_x + 260.476<br>R<sup>2</sup>=0.923481<br><br>sample=data<br>Q_x=%{x}<br>Q_y=%{y} <b>(trend)</b><extra></extra>",
         "legendgroup": "",
         "marker": {
          "color": "#636efa",
          "symbol": "circle"
         },
         "mode": "lines",
         "name": "",
         "showlegend": false,
         "type": "scatter",
         "x": [
          -2.1353046284158346,
          -1.7540101162150163,
          -1.527496670219539,
          -1.359948140410081,
          -1.2237273032174234,
          -1.1070694628903044,
          -1.0038048672080377,
          -0.9102674907071854,
          -0.8240868004562736,
          -0.7436321948616521,
          -0.667727110604202,
          -0.595489101363644,
          -0.5262343894479194,
          -0.45941783418576615,
          -0.3945934820453098,
          -0.33138763259250686,
          -0.26947979801752303,
          -0.20858878396464725,
          -0.148462158735626,
          -0.08886798295158897,
          -0.029588032793860894,
          0.029588032793860894,
          0.08886798295158911,
          0.148462158735626,
          0.2085887839646474,
          0.26947979801752303,
          0.33138763259250686,
          0.3945934820453096,
          0.45941783418576615,
          0.5262343894479193,
          0.5954891013636436,
          0.6677271106042019,
          0.7436321948616517,
          0.8240868004562732,
          0.9102674907071853,
          1.003804867208037,
          1.107069462890304,
          1.223727303217423,
          1.35994814041008,
          1.5274966702195378,
          1.754010116215015,
          2.1353046284158346
         ],
         "xaxis": "x7",
         "y": [
          -70.36518919813165,
          -11.28790308165162,
          23.80780176095257,
          49.767557585436435,
          70.87344061377289,
          88.94825782254011,
          104.9479427632215,
          119.44050475219501,
          132.79323114283181,
          145.2587652693726,
          157.01940235404993,
          168.2118675058739,
          178.94210436961566,
          189.29457634660773,
          199.33837890912721,
          209.13141272649247,
          218.7233337717967,
          228.15770994039403,
          237.47365267812333,
          246.70709837695657,
          255.89185835743672,
          265.060522594944,
          274.2452825754242,
          283.4787282742574,
          292.79467101198674,
          302.2290471805841,
          311.8209682258883,
          321.6140020432535,
          331.657804605773,
          342.0102765827651,
          352.7405134465068,
          363.9329785983308,
          375.6936156830081,
          388.15914980954886,
          401.5118762001857,
          416.00443818915915,
          432.00412312984054,
          450.07894033860777,
          471.1848233669441,
          497.14457919142797,
          532.2402840340321,
          591.3175701505124
         ],
         "yaxis": "y7"
        },
        {
         "hovertemplate": "sample=1<br>Q_x=%{x}<br>Q_y=%{y}<extra></extra>",
         "legendgroup": "",
         "marker": {
          "color": "#636efa",
          "symbol": "circle"
         },
         "mode": "markers",
         "name": "",
         "orientation": "v",
         "showlegend": false,
         "type": "scatter",
         "x": [
          -2.1353046284158346,
          -1.7540101162150163,
          -1.527496670219539,
          -1.359948140410081,
          -1.2237273032174234,
          -1.1070694628903044,
          -1.0038048672080377,
          -0.9102674907071854,
          -0.8240868004562736,
          -0.7436321948616521,
          -0.667727110604202,
          -0.595489101363644,
          -0.5262343894479194,
          -0.45941783418576615,
          -0.3945934820453098,
          -0.33138763259250686,
          -0.26947979801752303,
          -0.20858878396464725,
          -0.148462158735626,
          -0.08886798295158897,
          -0.029588032793860894,
          0.029588032793860894,
          0.08886798295158911,
          0.148462158735626,
          0.2085887839646474,
          0.26947979801752303,
          0.33138763259250686,
          0.3945934820453096,
          0.45941783418576615,
          0.5262343894479193,
          0.5954891013636436,
          0.6677271106042019,
          0.7436321948616517,
          0.8240868004562732,
          0.9102674907071853,
          1.003804867208037,
          1.107069462890304,
          1.223727303217423,
          1.35994814041008,
          1.5274966702195378,
          1.754010116215015,
          2.1353046284158346
         ],
         "xaxis": "x8",
         "y": [
          -115.49784450393963,
          -39.23698929429696,
          -39.18228656468898,
          -14.558992814012413,
          73.65932068485466,
          85.40828464335036,
          87.73781843160518,
          99.10868690626998,
          111.2544404204254,
          126.43732358644914,
          137.47957352923407,
          187.70790243947488,
          191.90516872940944,
          196.02769516699857,
          215.77180596471885,
          242.61004765139091,
          252.67096717902712,
          271.48751539655194,
          279.06009932119053,
          290.8913032786212,
          292.70586622509023,
          302.7508135594382,
          303.0528465099033,
          304.7644394519035,
          324.8256697622047,
          333.7430682157259,
          336.1434318371266,
          343.24579861383205,
          360.6060211981467,
          362.1431881842054,
          367.0308931901568,
          388.9823229539903,
          391.4623487922207,
          415.94932201591524,
          417.4003308208007,
          419.7167113487027,
          432.42232873880755,
          455.036408633218,
          463.0755446163232,
          517.0607555765738,
          582.6411884031227,
          641.0666893313396
         ],
         "yaxis": "y8"
        },
        {
         "hovertemplate": "<b>OLS trendline</b><br>Q_y = 173.136 * Q_x + 271.347<br>R<sup>2</sup>=0.983186<br><br>sample=1<br>Q_x=%{x}<br>Q_y=%{y} <b>(trend)</b><extra></extra>",
         "legendgroup": "",
         "marker": {
          "color": "#636efa",
          "symbol": "circle"
         },
         "mode": "lines",
         "name": "",
         "showlegend": false,
         "type": "scatter",
         "x": [
          -2.1353046284158346,
          -1.7540101162150163,
          -1.527496670219539,
          -1.359948140410081,
          -1.2237273032174234,
          -1.1070694628903044,
          -1.0038048672080377,
          -0.9102674907071854,
          -0.8240868004562736,
          -0.7436321948616521,
          -0.667727110604202,
          -0.595489101363644,
          -0.5262343894479194,
          -0.45941783418576615,
          -0.3945934820453098,
          -0.33138763259250686,
          -0.26947979801752303,
          -0.20858878396464725,
          -0.148462158735626,
          -0.08886798295158897,
          -0.029588032793860894,
          0.029588032793860894,
          0.08886798295158911,
          0.148462158735626,
          0.2085887839646474,
          0.26947979801752303,
          0.33138763259250686,
          0.3945934820453096,
          0.45941783418576615,
          0.5262343894479193,
          0.5954891013636436,
          0.6677271106042019,
          0.7436321948616517,
          0.8240868004562732,
          0.9102674907071853,
          1.003804867208037,
          1.107069462890304,
          1.223727303217423,
          1.35994814041008,
          1.5274966702195378,
          1.754010116215015,
          2.1353046284158346
         ],
         "xaxis": "x8",
         "y": [
          -98.35056518662884,
          -32.334880645495275,
          6.882678791308081,
          35.89130738496175,
          59.475994623532245,
          79.67362910254349,
          97.55241506639138,
          113.74707232553737,
          128.66802471035675,
          142.597587536109,
          155.7394658927764,
          168.2464427238317,
          180.2369043447628,
          191.80523405622844,
          203.02864232609062,
          213.97183003300685,
          224.6902850517729,
          235.23269215829657,
          245.64275628623633,
          255.96063441760538,
          266.2241088815798,
          276.4695972199145,
          286.73307168388897,
          297.050949815258,
          307.46101394319777,
          318.0034210497214,
          328.72187606848746,
          339.6650637754036,
          350.88847204526587,
          362.45680175673147,
          374.4472633776625,
          386.95424020871786,
          400.09611856538527,
          414.0256813911375,
          428.9466337759569,
          445.14129103510277,
          463.0200769989507,
          483.217711477962,
          506.80239871653237,
          535.8110273101861,
          575.0285867469893,
          641.0442712881231
         ],
         "yaxis": "y8"
        },
        {
         "hovertemplate": "sample=2<br>Q_x=%{x}<br>Q_y=%{y}<extra></extra>",
         "legendgroup": "",
         "marker": {
          "color": "#636efa",
          "symbol": "circle"
         },
         "mode": "markers",
         "name": "",
         "orientation": "v",
         "showlegend": false,
         "type": "scatter",
         "x": [
          -2.1353046284158346,
          -1.7540101162150163,
          -1.527496670219539,
          -1.359948140410081,
          -1.2237273032174234,
          -1.1070694628903044,
          -1.0038048672080377,
          -0.9102674907071854,
          -0.8240868004562736,
          -0.7436321948616521,
          -0.667727110604202,
          -0.595489101363644,
          -0.5262343894479194,
          -0.45941783418576615,
          -0.3945934820453098,
          -0.33138763259250686,
          -0.26947979801752303,
          -0.20858878396464725,
          -0.148462158735626,
          -0.08886798295158897,
          -0.029588032793860894,
          0.029588032793860894,
          0.08886798295158911,
          0.148462158735626,
          0.2085887839646474,
          0.26947979801752303,
          0.33138763259250686,
          0.3945934820453096,
          0.45941783418576615,
          0.5262343894479193,
          0.5954891013636436,
          0.6677271106042019,
          0.7436321948616517,
          0.8240868004562732,
          0.9102674907071853,
          1.003804867208037,
          1.107069462890304,
          1.223727303217423,
          1.35994814041008,
          1.5274966702195378,
          1.754010116215015,
          2.1353046284158346
         ],
         "xaxis": "x9",
         "y": [
          -69.68463739432343,
          -62.674413502827406,
          13.25733257629662,
          42.18740233345582,
          82.42131394792455,
          91.5545858233387,
          132.2765258534986,
          145.88652697893164,
          146.97384857956416,
          159.513053373308,
          169.57933245072053,
          172.79884902989951,
          177.3891634759082,
          196.21522813712144,
          205.22892494362537,
          217.0532225331291,
          222.77880410356215,
          234.61815750759934,
          256.05470690188525,
          268.64692723600496,
          288.6852610767889,
          298.8099595965737,
          303.4167504417687,
          311.82013910777295,
          319.33703617318304,
          347.2342446882023,
          349.5918289685018,
          365.2663132985327,
          369.4246765318931,
          409.3882697934912,
          409.4887747219582,
          439.4808359478181,
          453.7971218294714,
          468.83495948087693,
          473.04225405991775,
          476.36165010152877,
          477.6444047808247,
          479.25808961831854,
          518.76727425941,
          525.0555688047712,
          550.2475189568702,
          742.0799632883666
         ],
         "yaxis": "y9"
        },
        {
         "hovertemplate": "<b>OLS trendline</b><br>Q_y = 180.503 * Q_x + 289.979<br>R<sup>2</sup>=0.984788<br><br>sample=2<br>Q_x=%{x}<br>Q_y=%{y} <b>(trend)</b><extra></extra>",
         "legendgroup": "",
         "marker": {
          "color": "#636efa",
          "symbol": "circle"
         },
         "mode": "lines",
         "name": "",
         "showlegend": false,
         "type": "scatter",
         "x": [
          -2.1353046284158346,
          -1.7540101162150163,
          -1.527496670219539,
          -1.359948140410081,
          -1.2237273032174234,
          -1.1070694628903044,
          -1.0038048672080377,
          -0.9102674907071854,
          -0.8240868004562736,
          -0.7436321948616521,
          -0.667727110604202,
          -0.595489101363644,
          -0.5262343894479194,
          -0.45941783418576615,
          -0.3945934820453098,
          -0.33138763259250686,
          -0.26947979801752303,
          -0.20858878396464725,
          -0.148462158735626,
          -0.08886798295158897,
          -0.029588032793860894,
          0.029588032793860894,
          0.08886798295158911,
          0.148462158735626,
          0.2085887839646474,
          0.26947979801752303,
          0.33138763259250686,
          0.3945934820453096,
          0.45941783418576615,
          0.5262343894479193,
          0.5954891013636436,
          0.6677271106042019,
          0.7436321948616517,
          0.8240868004562732,
          0.9102674907071853,
          1.003804867208037,
          1.107069462890304,
          1.223727303217423,
          1.35994814041008,
          1.5274966702195378,
          1.754010116215015,
          2.1353046284158346
         ],
         "xaxis": "x9",
         "y": [
          -95.44991044943094,
          -26.625147278898055,
          14.261185402882802,
          44.50418002965458,
          69.09243545604951,
          90.1495133199742,
          108.78907175660248,
          125.67283897398525,
          141.22870302814232,
          155.75099222676604,
          169.45207965470922,
          182.49124942716497,
          194.99192539685438,
          207.05250703293768,
          218.75349023880233,
          230.16232902452924,
          241.336872367497,
          252.3278766628737,
          263.1809065628983,
          273.9378277968427,
          284.63803039566176,
          295.319481528884,
          306.0196841277031,
          316.77660536164746,
          327.6296352616721,
          338.6206395570488,
          349.7951829000165,
          361.2040216857434,
          372.9050048916081,
          384.96558652769136,
          397.46626249738074,
          410.50543226983655,
          424.20651969777964,
          438.7288088964034,
          454.2846729505605,
          471.1684401679431,
          489.8079986045715,
          510.86507646849617,
          535.453331894891,
          565.6963265216627,
          606.5826592034437,
          675.4074223739767
         ],
         "yaxis": "y9"
        },
        {
         "hovertemplate": "sample=3<br>Q_x=%{x}<br>Q_y=%{y}<extra></extra>",
         "legendgroup": "",
         "marker": {
          "color": "#636efa",
          "symbol": "circle"
         },
         "mode": "markers",
         "name": "",
         "orientation": "v",
         "showlegend": false,
         "type": "scatter",
         "x": [
          -2.1353046284158346,
          -1.7540101162150163,
          -1.527496670219539,
          -1.359948140410081,
          -1.2237273032174234,
          -1.1070694628903044,
          -1.0038048672080377,
          -0.9102674907071854,
          -0.8240868004562736,
          -0.7436321948616521,
          -0.667727110604202,
          -0.595489101363644,
          -0.5262343894479194,
          -0.45941783418576615,
          -0.3945934820453098,
          -0.33138763259250686,
          -0.26947979801752303,
          -0.20858878396464725,
          -0.148462158735626,
          -0.08886798295158897,
          -0.029588032793860894,
          0.029588032793860894,
          0.08886798295158911,
          0.148462158735626,
          0.2085887839646474,
          0.26947979801752303,
          0.33138763259250686,
          0.3945934820453096,
          0.45941783418576615,
          0.5262343894479193,
          0.5954891013636436,
          0.6677271106042019,
          0.7436321948616517,
          0.8240868004562732,
          0.9102674907071853,
          1.003804867208037,
          1.107069462890304,
          1.223727303217423,
          1.35994814041008,
          1.5274966702195378,
          1.754010116215015,
          2.1353046284158346
         ],
         "xaxis": "x4",
         "y": [
          -208.16806947438317,
          -53.43535816964328,
          -38.53807535247279,
          -32.846077217591585,
          15.380876042995595,
          76.63117022317772,
          82.17997385236731,
          119.82158717265796,
          134.7247250589067,
          142.2503780426378,
          150.66837224727425,
          161.39082773252883,
          165.0337475139114,
          167.86572805358583,
          195.09258644208637,
          202.95928242577386,
          209.33834122145214,
          214.12704484673293,
          221.6137233080714,
          226.71407021111295,
          238.634002349329,
          250.4999776651314,
          254.44937468656954,
          273.7681761346375,
          280.63678875471965,
          323.3596728897862,
          329.84631649471567,
          332.1648760532659,
          341.6185419536779,
          346.784399155306,
          351.53174884461316,
          361.4380616922697,
          365.07430166181126,
          369.8616428173255,
          372.2856076334177,
          375.0442172374991,
          392.0674514002267,
          393.8913034294966,
          396.42274247808865,
          437.0984960944711,
          456.02666834622664,
          465.28822339634576
         ],
         "yaxis": "y4"
        },
        {
         "hovertemplate": "<b>OLS trendline</b><br>Q_y = 153.237 * Q_x + 234.776<br>R<sup>2</sup>=0.947853<br><br>sample=3<br>Q_x=%{x}<br>Q_y=%{y} <b>(trend)</b><extra></extra>",
         "legendgroup": "",
         "marker": {
          "color": "#636efa",
          "symbol": "circle"
         },
         "mode": "lines",
         "name": "",
         "showlegend": false,
         "type": "scatter",
         "x": [
          -2.1353046284158346,
          -1.7540101162150163,
          -1.527496670219539,
          -1.359948140410081,
          -1.2237273032174234,
          -1.1070694628903044,
          -1.0038048672080377,
          -0.9102674907071854,
          -0.8240868004562736,
          -0.7436321948616521,
          -0.667727110604202,
          -0.595489101363644,
          -0.5262343894479194,
          -0.45941783418576615,
          -0.3945934820453098,
          -0.33138763259250686,
          -0.26947979801752303,
          -0.20858878396464725,
          -0.148462158735626,
          -0.08886798295158897,
          -0.029588032793860894,
          0.029588032793860894,
          0.08886798295158911,
          0.148462158735626,
          0.2085887839646474,
          0.26947979801752303,
          0.33138763259250686,
          0.3945934820453096,
          0.45941783418576615,
          0.5262343894479193,
          0.5954891013636436,
          0.6677271106042019,
          0.7436321948616517,
          0.8240868004562732,
          0.9102674907071853,
          1.003804867208037,
          1.107069462890304,
          1.223727303217423,
          1.35994814041008,
          1.5274966702195378,
          1.754010116215015,
          2.1353046284158346
         ],
         "xaxis": "x4",
         "y": [
          -92.43066445198085,
          -34.00239464631696,
          0.7077527954694744,
          26.382317710511842,
          47.25633392098942,
          65.1325832544419,
          80.95649748565052,
          95.2898458455854,
          108.49588071074655,
          120.82446990459,
          132.45590597487927,
          143.5254119842089,
          154.13776769258143,
          164.37650859605927,
          174.30997109196093,
          183.9954197594716,
          193.48196505684135,
          202.8126962475072,
          212.02629510343576,
          221.1583032235054,
          230.24216048095747,
          239.3100988214287,
          248.39395607888076,
          257.5259641989504,
          266.739563054879,
          276.0702942455448,
          285.5568395429146,
          295.2422882104252,
          305.1757507063269,
          315.4144916098047,
          326.02684731817726,
          337.0963533275069,
          348.7277893977961,
          361.0563785916396,
          374.2624134568008,
          388.5957618167356,
          404.4196760479442,
          422.2959253813967,
          443.16994159187414,
          468.84450650691656,
          503.55465394870293,
          561.982923754367
         ],
         "yaxis": "y4"
        },
        {
         "hovertemplate": "sample=4<br>Q_x=%{x}<br>Q_y=%{y}<extra></extra>",
         "legendgroup": "",
         "marker": {
          "color": "#636efa",
          "symbol": "circle"
         },
         "mode": "markers",
         "name": "",
         "orientation": "v",
         "showlegend": false,
         "type": "scatter",
         "x": [
          -2.1353046284158346,
          -1.7540101162150163,
          -1.527496670219539,
          -1.359948140410081,
          -1.2237273032174234,
          -1.1070694628903044,
          -1.0038048672080377,
          -0.9102674907071854,
          -0.8240868004562736,
          -0.7436321948616521,
          -0.667727110604202,
          -0.595489101363644,
          -0.5262343894479194,
          -0.45941783418576615,
          -0.3945934820453098,
          -0.33138763259250686,
          -0.26947979801752303,
          -0.20858878396464725,
          -0.148462158735626,
          -0.08886798295158897,
          -0.029588032793860894,
          0.029588032793860894,
          0.08886798295158911,
          0.148462158735626,
          0.2085887839646474,
          0.26947979801752303,
          0.33138763259250686,
          0.3945934820453096,
          0.45941783418576615,
          0.5262343894479193,
          0.5954891013636436,
          0.6677271106042019,
          0.7436321948616517,
          0.8240868004562732,
          0.9102674907071853,
          1.003804867208037,
          1.107069462890304,
          1.223727303217423,
          1.35994814041008,
          1.5274966702195378,
          1.754010116215015,
          2.1353046284158346
         ],
         "xaxis": "x5",
         "y": [
          -108.98773951905622,
          -99.05658986621307,
          -55.15208620285131,
          14.228247467149231,
          27.547430805863456,
          53.42583427098535,
          54.13359461524553,
          55.50809443312869,
          72.62425535095895,
          72.76655833899218,
          76.28082519806344,
          91.08497907319449,
          127.59325454365054,
          139.52428186061027,
          159.28574116583053,
          163.4834707285588,
          163.54222816393388,
          165.81522078205637,
          174.88002429682896,
          218.5792773991093,
          239.59438451428085,
          245.5604546181467,
          246.5084257178349,
          268.6789138118062,
          269.2848347047278,
          269.95854719243414,
          282.4986081508675,
          292.29630864907364,
          353.8300892946857,
          360.35232541430406,
          370.9017209476792,
          380.4741712420443,
          382.6757490521752,
          385.07501718505046,
          396.3057502860398,
          401.44368532007684,
          437.411811671422,
          438.10535616990023,
          493.63877965049954,
          504.783569003225,
          536.5256188769931,
          611.0622820035646
         ],
         "yaxis": "y5"
        },
        {
         "hovertemplate": "<b>OLS trendline</b><br>Q_y = 180.812 * Q_x + 231.764<br>R<sup>2</sup>=0.987776<br><br>sample=4<br>Q_x=%{x}<br>Q_y=%{y} <b>(trend)</b><extra></extra>",
         "legendgroup": "",
         "marker": {
          "color": "#636efa",
          "symbol": "circle"
         },
         "mode": "lines",
         "name": "",
         "showlegend": false,
         "type": "scatter",
         "x": [
          -2.1353046284158346,
          -1.7540101162150163,
          -1.527496670219539,
          -1.359948140410081,
          -1.2237273032174234,
          -1.1070694628903044,
          -1.0038048672080377,
          -0.9102674907071854,
          -0.8240868004562736,
          -0.7436321948616521,
          -0.667727110604202,
          -0.595489101363644,
          -0.5262343894479194,
          -0.45941783418576615,
          -0.3945934820453098,
          -0.33138763259250686,
          -0.26947979801752303,
          -0.20858878396464725,
          -0.148462158735626,
          -0.08886798295158897,
          -0.029588032793860894,
          0.029588032793860894,
          0.08886798295158911,
          0.148462158735626,
          0.2085887839646474,
          0.26947979801752303,
          0.33138763259250686,
          0.3945934820453096,
          0.45941783418576615,
          0.5262343894479193,
          0.5954891013636436,
          0.6677271106042019,
          0.7436321948616517,
          0.8240868004562732,
          0.9102674907071853,
          1.003804867208037,
          1.107069462890304,
          1.223727303217423,
          1.35994814041008,
          1.5274966702195378,
          1.754010116215015,
          2.1353046284158346
         ],
         "xaxis": "x5",
         "y": [
          -154.3255452276869,
          -85.38283351375665,
          -44.42643181666031,
          -14.13160821148199,
          10.498785375345705,
          31.59194983874184,
          50.26345184721686,
          67.17615364655259,
          82.75867658658083,
          97.30585338058256,
          111.03042106811021,
          124.09193673775361,
          136.61403576005063,
          148.69528623640258,
          160.41632202017485,
          171.84471272086148,
          183.0384064546147,
          194.04824660045273,
          204.91987589710706,
          215.69523182130735,
          226.41377190873436,
          237.11352839521174,
          247.8320684826388,
          258.6074244068391,
          269.47905370349343,
          280.4888938493314,
          291.6825875830846,
          303.1109782837712,
          314.8320140675435,
          326.9132645438955,
          339.43536356619245,
          352.4968792358359,
          366.2214469233635,
          380.76862371736524,
          396.3511466573935,
          413.26384845672914,
          431.9353504652042,
          453.0285149286003,
          477.6589085154279,
          507.9537321206062,
          548.9101338177026,
          617.852845531633
         ],
         "yaxis": "y5"
        },
        {
         "hovertemplate": "sample=5<br>Q_x=%{x}<br>Q_y=%{y}<extra></extra>",
         "legendgroup": "",
         "marker": {
          "color": "#636efa",
          "symbol": "circle"
         },
         "mode": "markers",
         "name": "",
         "orientation": "v",
         "showlegend": false,
         "type": "scatter",
         "x": [
          -2.1353046284158346,
          -1.7540101162150163,
          -1.527496670219539,
          -1.359948140410081,
          -1.2237273032174234,
          -1.1070694628903044,
          -1.0038048672080377,
          -0.9102674907071854,
          -0.8240868004562736,
          -0.7436321948616521,
          -0.667727110604202,
          -0.595489101363644,
          -0.5262343894479194,
          -0.45941783418576615,
          -0.3945934820453098,
          -0.33138763259250686,
          -0.26947979801752303,
          -0.20858878396464725,
          -0.148462158735626,
          -0.08886798295158897,
          -0.029588032793860894,
          0.029588032793860894,
          0.08886798295158911,
          0.148462158735626,
          0.2085887839646474,
          0.26947979801752303,
          0.33138763259250686,
          0.3945934820453096,
          0.45941783418576615,
          0.5262343894479193,
          0.5954891013636436,
          0.6677271106042019,
          0.7436321948616517,
          0.8240868004562732,
          0.9102674907071853,
          1.003804867208037,
          1.107069462890304,
          1.223727303217423,
          1.35994814041008,
          1.5274966702195378,
          1.754010116215015,
          2.1353046284158346
         ],
         "xaxis": "x6",
         "y": [
          -18.033038553908113,
          5.593903845914269,
          60.43631842418577,
          65.32330569569103,
          70.76990994710297,
          76.09284956059082,
          80.75709997755308,
          87.40755378839168,
          89.6869636245097,
          95.5705517444649,
          106.54705143376157,
          114.40549006698342,
          124.29805126233234,
          151.44540971253556,
          166.16757095739956,
          175.89115151244914,
          211.39200044875267,
          217.434128702443,
          225.77468675118863,
          232.3307048858378,
          233.942895109375,
          251.49510925311762,
          260.3653284988347,
          262.4182097727204,
          284.18785176282506,
          286.68322100757786,
          332.3539122699094,
          333.2473466589489,
          365.5351464652684,
          372.2078063942228,
          389.12080727552666,
          395.22248764196274,
          402.54428150324986,
          405.23854026429956,
          419.3449988061183,
          459.8007153528378,
          464.56112016863716,
          469.1203391703946,
          473.8100385829638,
          518.2860984254128,
          525.4547097524398,
          888.4189927132137
         ],
         "yaxis": "y6"
        },
        {
         "hovertemplate": "<b>OLS trendline</b><br>Q_y = 179.595 * Q_x + 265.063<br>R<sup>2</sup>=0.926446<br><br>sample=5<br>Q_x=%{x}<br>Q_y=%{y} <b>(trend)</b><extra></extra>",
         "legendgroup": "",
         "marker": {
          "color": "#636efa",
          "symbol": "circle"
         },
         "mode": "lines",
         "name": "",
         "showlegend": false,
         "type": "scatter",
         "x": [
          -2.1353046284158346,
          -1.7540101162150163,
          -1.527496670219539,
          -1.359948140410081,
          -1.2237273032174234,
          -1.1070694628903044,
          -1.0038048672080377,
          -0.9102674907071854,
          -0.8240868004562736,
          -0.7436321948616521,
          -0.667727110604202,
          -0.595489101363644,
          -0.5262343894479194,
          -0.45941783418576615,
          -0.3945934820453098,
          -0.33138763259250686,
          -0.26947979801752303,
          -0.20858878396464725,
          -0.148462158735626,
          -0.08886798295158897,
          -0.029588032793860894,
          0.029588032793860894,
          0.08886798295158911,
          0.148462158735626,
          0.2085887839646474,
          0.26947979801752303,
          0.33138763259250686,
          0.3945934820453096,
          0.45941783418576615,
          0.5262343894479193,
          0.5954891013636436,
          0.6677271106042019,
          0.7436321948616517,
          0.8240868004562732,
          0.9102674907071853,
          1.003804867208037,
          1.107069462890304,
          1.223727303217423,
          1.35994814041008,
          1.5274966702195378,
          1.754010116215015,
          2.1353046284158346
         ],
         "xaxis": "x6",
         "y": [
          -118.42718821275088,
          -49.948548992317114,
          -9.267836182235897,
          20.823064571911715,
          45.28766415552312,
          66.2388446849412,
          84.78466364035685,
          101.583521358126,
          117.06115401902292,
          131.51040973565046,
          145.14259355560787,
          158.11618854451555,
          170.55399784897844,
          182.55392608119848,
          194.196064325734,
          205.54752736231703,
          216.66587324227515,
          227.60160310375593,
          238.40005245157099,
          249.102876469675,
          259.7492670941442,
          270.3770005552859,
          281.02339117975515,
          291.7262151978592,
          302.5246645456742,
          313.460394407155,
          324.57874028711313,
          335.9302033236961,
          347.57234156823165,
          359.5722698004517,
          372.01007910491455,
          384.98367409382223,
          398.61585791377956,
          413.06511363040715,
          428.54274629130407,
          445.3416040090732,
          463.88742296448885,
          484.83860349390693,
          509.3032030775182,
          539.3941038316659,
          580.074816641747,
          648.553455862181
         ],
         "yaxis": "y6"
        },
        {
         "hovertemplate": "sample=6<br>Q_x=%{x}<br>Q_y=%{y}<extra></extra>",
         "legendgroup": "",
         "marker": {
          "color": "#636efa",
          "symbol": "circle"
         },
         "mode": "markers",
         "name": "",
         "orientation": "v",
         "showlegend": false,
         "type": "scatter",
         "x": [
          -2.1353046284158346,
          -1.7540101162150163,
          -1.527496670219539,
          -1.359948140410081,
          -1.2237273032174234,
          -1.1070694628903044,
          -1.0038048672080377,
          -0.9102674907071854,
          -0.8240868004562736,
          -0.7436321948616521,
          -0.667727110604202,
          -0.595489101363644,
          -0.5262343894479194,
          -0.45941783418576615,
          -0.3945934820453098,
          -0.33138763259250686,
          -0.26947979801752303,
          -0.20858878396464725,
          -0.148462158735626,
          -0.08886798295158897,
          -0.029588032793860894,
          0.029588032793860894,
          0.08886798295158911,
          0.148462158735626,
          0.2085887839646474,
          0.26947979801752303,
          0.33138763259250686,
          0.3945934820453096,
          0.45941783418576615,
          0.5262343894479193,
          0.5954891013636436,
          0.6677271106042019,
          0.7436321948616517,
          0.8240868004562732,
          0.9102674907071853,
          1.003804867208037,
          1.107069462890304,
          1.223727303217423,
          1.35994814041008,
          1.5274966702195378,
          1.754010116215015,
          2.1353046284158346
         ],
         "xaxis": "x",
         "y": [
          -223.52974040853195,
          -200.67498707628994,
          -173.8949666143099,
          -125.77340008501216,
          -53.67537622332986,
          -50.24873283162208,
          81.1124160237558,
          101.84726437830656,
          103.57438122236579,
          106.72217001590147,
          126.30406744973703,
          128.65319943360927,
          134.89959054020375,
          137.56811967950154,
          156.45239585398667,
          167.71318946271464,
          170.27817471348828,
          175.70424831274795,
          201.5157493085845,
          206.58021308611654,
          207.4796278273284,
          209.19339376381222,
          244.7460483392161,
          246.8348858013839,
          248.81977157647978,
          259.3735144486917,
          262.2576929182934,
          318.0222487484904,
          334.90450973459923,
          375.1315528306842,
          377.1731196763357,
          385.07808295377447,
          389.5066879308506,
          393.8507689401989,
          404.68687206825626,
          411.37224846695426,
          485.4231568010378,
          523.9553924775639,
          536.7646706407938,
          590.0617875369207,
          608.3121298341656,
          691.8338477901815
         ],
         "yaxis": "y"
        },
        {
         "hovertemplate": "<b>OLS trendline</b><br>Q_y = 219.574 * Q_x + 230.379<br>R<sup>2</sup>=0.978933<br><br>sample=6<br>Q_x=%{x}<br>Q_y=%{y} <b>(trend)</b><extra></extra>",
         "legendgroup": "",
         "marker": {
          "color": "#636efa",
          "symbol": "circle"
         },
         "mode": "lines",
         "name": "",
         "showlegend": false,
         "type": "scatter",
         "x": [
          -2.1353046284158346,
          -1.7540101162150163,
          -1.527496670219539,
          -1.359948140410081,
          -1.2237273032174234,
          -1.1070694628903044,
          -1.0038048672080377,
          -0.9102674907071854,
          -0.8240868004562736,
          -0.7436321948616521,
          -0.667727110604202,
          -0.595489101363644,
          -0.5262343894479194,
          -0.45941783418576615,
          -0.3945934820453098,
          -0.33138763259250686,
          -0.26947979801752303,
          -0.20858878396464725,
          -0.148462158735626,
          -0.08886798295158897,
          -0.029588032793860894,
          0.029588032793860894,
          0.08886798295158911,
          0.148462158735626,
          0.2085887839646474,
          0.26947979801752303,
          0.33138763259250686,
          0.3945934820453096,
          0.45941783418576615,
          0.5262343894479193,
          0.5954891013636436,
          0.6677271106042019,
          0.7436321948616517,
          0.8240868004562732,
          0.9102674907071853,
          1.003804867208037,
          1.107069462890304,
          1.223727303217423,
          1.35994814041008,
          1.5274966702195378,
          1.754010116215015,
          2.1353046284158346
         ],
         "xaxis": "x",
         "y": [
          -238.47925181452993,
          -154.75676871047156,
          -105.0202329136741,
          -68.23087847183999,
          -38.32028082264961,
          -12.70521490059096,
          9.969038440623137,
          30.507444247958944,
          49.43051067706077,
          67.09627596348002,
          83.76308319754139,
          99.62469492965079,
          114.83125118133617,
          129.5024508446053,
          143.7362138628165,
          157.6145952545291,
          171.20796591254455,
          184.57806889620858,
          197.7803317239241,
          210.8656823270074,
          223.88203705197623,
          236.8755813931635,
          249.89193611813235,
          262.9772867212156,
          276.17954954893116,
          289.54965253259513,
          303.1430231906106,
          317.02140458232316,
          331.2551676005344,
          345.9263672638035,
          361.13292351548887,
          376.99453524759826,
          393.66134248165963,
          411.3271077680789,
          430.25017419718074,
          450.78858000451646,
          473.4628333457306,
          499.07789926778923,
          528.9884969169794,
          565.7778513588136,
          615.514387155611,
          699.2368702596697
         ],
         "yaxis": "y"
        },
        {
         "hovertemplate": "sample=7<br>Q_x=%{x}<br>Q_y=%{y}<extra></extra>",
         "legendgroup": "",
         "marker": {
          "color": "#636efa",
          "symbol": "circle"
         },
         "mode": "markers",
         "name": "",
         "orientation": "v",
         "showlegend": false,
         "type": "scatter",
         "x": [
          -2.1353046284158346,
          -1.7540101162150163,
          -1.527496670219539,
          -1.359948140410081,
          -1.2237273032174234,
          -1.1070694628903044,
          -1.0038048672080377,
          -0.9102674907071854,
          -0.8240868004562736,
          -0.7436321948616521,
          -0.667727110604202,
          -0.595489101363644,
          -0.5262343894479194,
          -0.45941783418576615,
          -0.3945934820453098,
          -0.33138763259250686,
          -0.26947979801752303,
          -0.20858878396464725,
          -0.148462158735626,
          -0.08886798295158897,
          -0.029588032793860894,
          0.029588032793860894,
          0.08886798295158911,
          0.148462158735626,
          0.2085887839646474,
          0.26947979801752303,
          0.33138763259250686,
          0.3945934820453096,
          0.45941783418576615,
          0.5262343894479193,
          0.5954891013636436,
          0.6677271106042019,
          0.7436321948616517,
          0.8240868004562732,
          0.9102674907071853,
          1.003804867208037,
          1.107069462890304,
          1.223727303217423,
          1.35994814041008,
          1.5274966702195378,
          1.754010116215015,
          2.1353046284158346
         ],
         "xaxis": "x2",
         "y": [
          29.776486343493048,
          36.102055264004576,
          40.90876167291998,
          87.46797615212111,
          110.51424402756052,
          112.787558666732,
          117.81970019820861,
          121.80158889948524,
          127.23313643955356,
          127.26601926579485,
          132.82500744747838,
          134.3105696203179,
          135.38980308292676,
          136.6265392989821,
          144.60818458772746,
          158.67921570576726,
          170.5220197182013,
          178.80734787059345,
          211.03184050460203,
          211.2698236556849,
          216.6177927175113,
          221.2831207952304,
          230.38620250997582,
          251.71306059965076,
          280.49196239523417,
          305.445602410769,
          312.06434395464527,
          315.0613843012861,
          338.39313569529753,
          361.7212333856109,
          380.4834079866864,
          383.8763224530394,
          387.6297609739656,
          404.1416731036629,
          419.48435111643755,
          427.7587735163951,
          445.32591732147193,
          454.2301488110544,
          498.8697307913527,
          501.43963499131917,
          517.5613365833427,
          556.7505365676784
         ],
         "yaxis": "y2"
        },
        {
         "hovertemplate": "<b>OLS trendline</b><br>Q_y = 148.487 * Q_x + 255.63<br>R<sup>2</sup>=0.950692<br><br>sample=7<br>Q_x=%{x}<br>Q_y=%{y} <b>(trend)</b><extra></extra>",
         "legendgroup": "",
         "marker": {
          "color": "#636efa",
          "symbol": "circle"
         },
         "mode": "lines",
         "name": "",
         "showlegend": false,
         "type": "scatter",
         "x": [
          -2.1353046284158346,
          -1.7540101162150163,
          -1.527496670219539,
          -1.359948140410081,
          -1.2237273032174234,
          -1.1070694628903044,
          -1.0038048672080377,
          -0.9102674907071854,
          -0.8240868004562736,
          -0.7436321948616521,
          -0.667727110604202,
          -0.595489101363644,
          -0.5262343894479194,
          -0.45941783418576615,
          -0.3945934820453098,
          -0.33138763259250686,
          -0.26947979801752303,
          -0.20858878396464725,
          -0.148462158735626,
          -0.08886798295158897,
          -0.029588032793860894,
          0.029588032793860894,
          0.08886798295158911,
          0.148462158735626,
          0.2085887839646474,
          0.26947979801752303,
          0.33138763259250686,
          0.3945934820453096,
          0.45941783418576615,
          0.5262343894479193,
          0.5954891013636436,
          0.6677271106042019,
          0.7436321948616517,
          0.8240868004562732,
          0.9102674907071853,
          1.003804867208037,
          1.107069462890304,
          1.223727303217423,
          1.35994814041008,
          1.5274966702195378,
          1.754010116215015,
          2.1353046284158346
         ],
         "xaxis": "x2",
         "y": [
          -61.4342734699552,
          -4.817047505677635,
          28.817223498775633,
          53.695979076585985,
          73.92298385529054,
          91.24514060017049,
          106.57857646345252,
          120.46764806557746,
          133.26434840498197,
          145.21080039697512,
          156.48170823783641,
          167.20810361335703,
          177.49151852796356,
          187.41289920978042,
          197.03846389976246,
          206.4237022030316,
          215.6162023490735,
          224.65771800563758,
          233.5857319636985,
          242.43468417401164,
          251.23697800682595,
          260.0238463457345,
          268.8261401785488,
          277.67509238886197,
          286.6031063469229,
          295.644622003487,
          304.83712214952885,
          314.222360452798,
          323.84792514278,
          333.76930582459687,
          344.0527207392034,
          354.77911611472405,
          366.0500239555853,
          377.99647594757846,
          390.793176286983,
          404.6822478891079,
          420.0156837523899,
          437.3378404972699,
          457.56484527597433,
          482.4436008537847,
          516.0778718582378,
          572.6950978225157
         ],
         "yaxis": "y2"
        },
        {
         "hovertemplate": "sample=8<br>Q_x=%{x}<br>Q_y=%{y}<extra></extra>",
         "legendgroup": "",
         "marker": {
          "color": "#636efa",
          "symbol": "circle"
         },
         "mode": "markers",
         "name": "",
         "orientation": "v",
         "showlegend": false,
         "type": "scatter",
         "x": [
          -2.1353046284158346,
          -1.7540101162150163,
          -1.527496670219539,
          -1.359948140410081,
          -1.2237273032174234,
          -1.1070694628903044,
          -1.0038048672080377,
          -0.9102674907071854,
          -0.8240868004562736,
          -0.7436321948616521,
          -0.667727110604202,
          -0.595489101363644,
          -0.5262343894479194,
          -0.45941783418576615,
          -0.3945934820453098,
          -0.33138763259250686,
          -0.26947979801752303,
          -0.20858878396464725,
          -0.148462158735626,
          -0.08886798295158897,
          -0.029588032793860894,
          0.029588032793860894,
          0.08886798295158911,
          0.148462158735626,
          0.2085887839646474,
          0.26947979801752303,
          0.33138763259250686,
          0.3945934820453096,
          0.45941783418576615,
          0.5262343894479193,
          0.5954891013636436,
          0.6677271106042019,
          0.7436321948616517,
          0.8240868004562732,
          0.9102674907071853,
          1.003804867208037,
          1.107069462890304,
          1.223727303217423,
          1.35994814041008,
          1.5274966702195378,
          1.754010116215015,
          2.1353046284158346
         ],
         "xaxis": "x3",
         "y": [
          -100.48463176412065,
          -95.22832609955299,
          -42.620674598211735,
          65.92924620412029,
          94.24964750023224,
          97.43563111434219,
          126.70531409310647,
          150.6759323418023,
          151.73188065720797,
          178.93018361168947,
          186.364517355287,
          203.86195797797114,
          208.50471555497117,
          227.065971862142,
          235.8176630212434,
          270.1002083655275,
          277.7212371637064,
          292.25480027996855,
          297.76507252885955,
          306.80192035644745,
          309.50681137631364,
          335.9505906967849,
          337.07176678364976,
          346.9779046356719,
          360.98876884966353,
          372.07361454328486,
          374.5079707298886,
          380.53319594734705,
          397.46784027954016,
          401.6320554227126,
          404.1878135702115,
          413.235445049772,
          442.3051152085899,
          448.4883970645983,
          458.05295158193337,
          475.1915449912347,
          506.7144465071554,
          511.9218640574652,
          515.801639177624,
          541.8079822580285,
          558.5597220113934,
          771.0070145357834
         ],
         "yaxis": "y3"
        },
        {
         "hovertemplate": "<b>OLS trendline</b><br>Q_y = 184.85 * Q_x + 304.704<br>R<sup>2</sup>=0.977256<br><br>sample=8<br>Q_x=%{x}<br>Q_y=%{y} <b>(trend)</b><extra></extra>",
         "legendgroup": "",
         "marker": {
          "color": "#636efa",
          "symbol": "circle"
         },
         "mode": "lines",
         "name": "",
         "showlegend": false,
         "type": "scatter",
         "x": [
          -2.1353046284158346,
          -1.7540101162150163,
          -1.527496670219539,
          -1.359948140410081,
          -1.2237273032174234,
          -1.1070694628903044,
          -1.0038048672080377,
          -0.9102674907071854,
          -0.8240868004562736,
          -0.7436321948616521,
          -0.667727110604202,
          -0.595489101363644,
          -0.5262343894479194,
          -0.45941783418576615,
          -0.3945934820453098,
          -0.33138763259250686,
          -0.26947979801752303,
          -0.20858878396464725,
          -0.148462158735626,
          -0.08886798295158897,
          -0.029588032793860894,
          0.029588032793860894,
          0.08886798295158911,
          0.148462158735626,
          0.2085887839646474,
          0.26947979801752303,
          0.33138763259250686,
          0.3945934820453096,
          0.45941783418576615,
          0.5262343894479193,
          0.5954891013636436,
          0.6677271106042019,
          0.7436321948616517,
          0.8240868004562732,
          0.9102674907071853,
          1.003804867208037,
          1.107069462890304,
          1.223727303217423,
          1.35994814041008,
          1.5274966702195378,
          1.754010116215015,
          2.1353046284158346
         ],
         "xaxis": "x3",
         "y": [
          -90.00787361951649,
          -19.52544328434476,
          22.34565023128249,
          53.317057377672086,
          78.49752906139139,
          100.06177360414333,
          119.15027196530443,
          136.44069029548965,
          152.37122247594695,
          167.2432858089226,
          181.27436845519833,
          194.62759094051842,
          207.42934982188314,
          219.7804145521842,
          231.76321980524273,
          243.4468442432631,
          254.8905301553607,
          266.1462564212542,
          277.26068513288874,
          288.2766903694607,
          299.2346108838372,
          310.1733282973715,
          321.13124881174804,
          332.14725404831995,
          343.26168275995457,
          354.517409025848,
          365.9610949379456,
          377.6447193759659,
          389.6275246290245,
          401.97858935932555,
          414.7803482406902,
          428.13357072601036,
          442.164653372286,
          457.0367167052617,
          472.9672488857191,
          490.2576672159041,
          509.3461655770653,
          530.9104101198172,
          556.0908818035364,
          587.062288949926,
          628.9333824655532,
          699.4158128007252
         ],
         "yaxis": "y3"
        }
       ],
       "layout": {
        "annotations": [
         {
          "font": {},
          "showarrow": false,
          "text": "sample=6",
          "x": 0.15999999999999998,
          "xanchor": "center",
          "xref": "paper",
          "y": 0.2866666666666666,
          "yanchor": "bottom",
          "yref": "paper"
         },
         {
          "font": {},
          "showarrow": false,
          "text": "sample=7",
          "x": 0.49999999999999994,
          "xanchor": "center",
          "xref": "paper",
          "y": 0.2866666666666666,
          "yanchor": "bottom",
          "yref": "paper"
         },
         {
          "font": {},
          "showarrow": false,
          "text": "sample=8",
          "x": 0.8399999999999999,
          "xanchor": "center",
          "xref": "paper",
          "y": 0.2866666666666666,
          "yanchor": "bottom",
          "yref": "paper"
         },
         {
          "font": {},
          "showarrow": false,
          "text": "sample=3",
          "x": 0.15999999999999998,
          "xanchor": "center",
          "xref": "paper",
          "y": 0.6433333333333333,
          "yanchor": "bottom",
          "yref": "paper"
         },
         {
          "font": {},
          "showarrow": false,
          "text": "sample=4",
          "x": 0.49999999999999994,
          "xanchor": "center",
          "xref": "paper",
          "y": 0.6433333333333333,
          "yanchor": "bottom",
          "yref": "paper"
         },
         {
          "font": {},
          "showarrow": false,
          "text": "sample=5",
          "x": 0.8399999999999999,
          "xanchor": "center",
          "xref": "paper",
          "y": 0.6433333333333333,
          "yanchor": "bottom",
          "yref": "paper"
         },
         {
          "font": {},
          "showarrow": false,
          "text": "sample=data",
          "x": 0.15999999999999998,
          "xanchor": "center",
          "xref": "paper",
          "y": 0.9999999999999999,
          "yanchor": "bottom",
          "yref": "paper"
         },
         {
          "font": {},
          "showarrow": false,
          "text": "sample=1",
          "x": 0.49999999999999994,
          "xanchor": "center",
          "xref": "paper",
          "y": 0.9999999999999999,
          "yanchor": "bottom",
          "yref": "paper"
         },
         {
          "font": {},
          "showarrow": false,
          "text": "sample=2",
          "x": 0.8399999999999999,
          "xanchor": "center",
          "xref": "paper",
          "y": 0.9999999999999999,
          "yanchor": "bottom",
          "yref": "paper"
         }
        ],
        "height": 800,
        "legend": {
         "tracegroupgap": 0
        },
        "margin": {
         "t": 60
        },
        "template": {
         "data": {
          "bar": [
           {
            "error_x": {
             "color": "#2a3f5f"
            },
            "error_y": {
             "color": "#2a3f5f"
            },
            "marker": {
             "line": {
              "color": "#E5ECF6",
              "width": 0.5
             },
             "pattern": {
              "fillmode": "overlay",
              "size": 10,
              "solidity": 0.2
             }
            },
            "type": "bar"
           }
          ],
          "barpolar": [
           {
            "marker": {
             "line": {
              "color": "#E5ECF6",
              "width": 0.5
             },
             "pattern": {
              "fillmode": "overlay",
              "size": 10,
              "solidity": 0.2
             }
            },
            "type": "barpolar"
           }
          ],
          "carpet": [
           {
            "aaxis": {
             "endlinecolor": "#2a3f5f",
             "gridcolor": "white",
             "linecolor": "white",
             "minorgridcolor": "white",
             "startlinecolor": "#2a3f5f"
            },
            "baxis": {
             "endlinecolor": "#2a3f5f",
             "gridcolor": "white",
             "linecolor": "white",
             "minorgridcolor": "white",
             "startlinecolor": "#2a3f5f"
            },
            "type": "carpet"
           }
          ],
          "choropleth": [
           {
            "colorbar": {
             "outlinewidth": 0,
             "ticks": ""
            },
            "type": "choropleth"
           }
          ],
          "contour": [
           {
            "colorbar": {
             "outlinewidth": 0,
             "ticks": ""
            },
            "colorscale": [
             [
              0,
              "#0d0887"
             ],
             [
              0.1111111111111111,
              "#46039f"
             ],
             [
              0.2222222222222222,
              "#7201a8"
             ],
             [
              0.3333333333333333,
              "#9c179e"
             ],
             [
              0.4444444444444444,
              "#bd3786"
             ],
             [
              0.5555555555555556,
              "#d8576b"
             ],
             [
              0.6666666666666666,
              "#ed7953"
             ],
             [
              0.7777777777777778,
              "#fb9f3a"
             ],
             [
              0.8888888888888888,
              "#fdca26"
             ],
             [
              1,
              "#f0f921"
             ]
            ],
            "type": "contour"
           }
          ],
          "contourcarpet": [
           {
            "colorbar": {
             "outlinewidth": 0,
             "ticks": ""
            },
            "type": "contourcarpet"
           }
          ],
          "heatmap": [
           {
            "colorbar": {
             "outlinewidth": 0,
             "ticks": ""
            },
            "colorscale": [
             [
              0,
              "#0d0887"
             ],
             [
              0.1111111111111111,
              "#46039f"
             ],
             [
              0.2222222222222222,
              "#7201a8"
             ],
             [
              0.3333333333333333,
              "#9c179e"
             ],
             [
              0.4444444444444444,
              "#bd3786"
             ],
             [
              0.5555555555555556,
              "#d8576b"
             ],
             [
              0.6666666666666666,
              "#ed7953"
             ],
             [
              0.7777777777777778,
              "#fb9f3a"
             ],
             [
              0.8888888888888888,
              "#fdca26"
             ],
             [
              1,
              "#f0f921"
             ]
            ],
            "type": "heatmap"
           }
          ],
          "heatmapgl": [
           {
            "colorbar": {
             "outlinewidth": 0,
             "ticks": ""
            },
            "colorscale": [
             [
              0,
              "#0d0887"
             ],
             [
              0.1111111111111111,
              "#46039f"
             ],
             [
              0.2222222222222222,
              "#7201a8"
             ],
             [
              0.3333333333333333,
              "#9c179e"
             ],
             [
              0.4444444444444444,
              "#bd3786"
             ],
             [
              0.5555555555555556,
              "#d8576b"
             ],
             [
              0.6666666666666666,
              "#ed7953"
             ],
             [
              0.7777777777777778,
              "#fb9f3a"
             ],
             [
              0.8888888888888888,
              "#fdca26"
             ],
             [
              1,
              "#f0f921"
             ]
            ],
            "type": "heatmapgl"
           }
          ],
          "histogram": [
           {
            "marker": {
             "pattern": {
              "fillmode": "overlay",
              "size": 10,
              "solidity": 0.2
             }
            },
            "type": "histogram"
           }
          ],
          "histogram2d": [
           {
            "colorbar": {
             "outlinewidth": 0,
             "ticks": ""
            },
            "colorscale": [
             [
              0,
              "#0d0887"
             ],
             [
              0.1111111111111111,
              "#46039f"
             ],
             [
              0.2222222222222222,
              "#7201a8"
             ],
             [
              0.3333333333333333,
              "#9c179e"
             ],
             [
              0.4444444444444444,
              "#bd3786"
             ],
             [
              0.5555555555555556,
              "#d8576b"
             ],
             [
              0.6666666666666666,
              "#ed7953"
             ],
             [
              0.7777777777777778,
              "#fb9f3a"
             ],
             [
              0.8888888888888888,
              "#fdca26"
             ],
             [
              1,
              "#f0f921"
             ]
            ],
            "type": "histogram2d"
           }
          ],
          "histogram2dcontour": [
           {
            "colorbar": {
             "outlinewidth": 0,
             "ticks": ""
            },
            "colorscale": [
             [
              0,
              "#0d0887"
             ],
             [
              0.1111111111111111,
              "#46039f"
             ],
             [
              0.2222222222222222,
              "#7201a8"
             ],
             [
              0.3333333333333333,
              "#9c179e"
             ],
             [
              0.4444444444444444,
              "#bd3786"
             ],
             [
              0.5555555555555556,
              "#d8576b"
             ],
             [
              0.6666666666666666,
              "#ed7953"
             ],
             [
              0.7777777777777778,
              "#fb9f3a"
             ],
             [
              0.8888888888888888,
              "#fdca26"
             ],
             [
              1,
              "#f0f921"
             ]
            ],
            "type": "histogram2dcontour"
           }
          ],
          "mesh3d": [
           {
            "colorbar": {
             "outlinewidth": 0,
             "ticks": ""
            },
            "type": "mesh3d"
           }
          ],
          "parcoords": [
           {
            "line": {
             "colorbar": {
              "outlinewidth": 0,
              "ticks": ""
             }
            },
            "type": "parcoords"
           }
          ],
          "pie": [
           {
            "automargin": true,
            "type": "pie"
           }
          ],
          "scatter": [
           {
            "fillpattern": {
             "fillmode": "overlay",
             "size": 10,
             "solidity": 0.2
            },
            "type": "scatter"
           }
          ],
          "scatter3d": [
           {
            "line": {
             "colorbar": {
              "outlinewidth": 0,
              "ticks": ""
             }
            },
            "marker": {
             "colorbar": {
              "outlinewidth": 0,
              "ticks": ""
             }
            },
            "type": "scatter3d"
           }
          ],
          "scattercarpet": [
           {
            "marker": {
             "colorbar": {
              "outlinewidth": 0,
              "ticks": ""
             }
            },
            "type": "scattercarpet"
           }
          ],
          "scattergeo": [
           {
            "marker": {
             "colorbar": {
              "outlinewidth": 0,
              "ticks": ""
             }
            },
            "type": "scattergeo"
           }
          ],
          "scattergl": [
           {
            "marker": {
             "colorbar": {
              "outlinewidth": 0,
              "ticks": ""
             }
            },
            "type": "scattergl"
           }
          ],
          "scattermapbox": [
           {
            "marker": {
             "colorbar": {
              "outlinewidth": 0,
              "ticks": ""
             }
            },
            "type": "scattermapbox"
           }
          ],
          "scatterpolar": [
           {
            "marker": {
             "colorbar": {
              "outlinewidth": 0,
              "ticks": ""
             }
            },
            "type": "scatterpolar"
           }
          ],
          "scatterpolargl": [
           {
            "marker": {
             "colorbar": {
              "outlinewidth": 0,
              "ticks": ""
             }
            },
            "type": "scatterpolargl"
           }
          ],
          "scatterternary": [
           {
            "marker": {
             "colorbar": {
              "outlinewidth": 0,
              "ticks": ""
             }
            },
            "type": "scatterternary"
           }
          ],
          "surface": [
           {
            "colorbar": {
             "outlinewidth": 0,
             "ticks": ""
            },
            "colorscale": [
             [
              0,
              "#0d0887"
             ],
             [
              0.1111111111111111,
              "#46039f"
             ],
             [
              0.2222222222222222,
              "#7201a8"
             ],
             [
              0.3333333333333333,
              "#9c179e"
             ],
             [
              0.4444444444444444,
              "#bd3786"
             ],
             [
              0.5555555555555556,
              "#d8576b"
             ],
             [
              0.6666666666666666,
              "#ed7953"
             ],
             [
              0.7777777777777778,
              "#fb9f3a"
             ],
             [
              0.8888888888888888,
              "#fdca26"
             ],
             [
              1,
              "#f0f921"
             ]
            ],
            "type": "surface"
           }
          ],
          "table": [
           {
            "cells": {
             "fill": {
              "color": "#EBF0F8"
             },
             "line": {
              "color": "white"
             }
            },
            "header": {
             "fill": {
              "color": "#C8D4E3"
             },
             "line": {
              "color": "white"
             }
            },
            "type": "table"
           }
          ]
         },
         "layout": {
          "annotationdefaults": {
           "arrowcolor": "#2a3f5f",
           "arrowhead": 0,
           "arrowwidth": 1
          },
          "autotypenumbers": "strict",
          "coloraxis": {
           "colorbar": {
            "outlinewidth": 0,
            "ticks": ""
           }
          },
          "colorscale": {
           "diverging": [
            [
             0,
             "#8e0152"
            ],
            [
             0.1,
             "#c51b7d"
            ],
            [
             0.2,
             "#de77ae"
            ],
            [
             0.3,
             "#f1b6da"
            ],
            [
             0.4,
             "#fde0ef"
            ],
            [
             0.5,
             "#f7f7f7"
            ],
            [
             0.6,
             "#e6f5d0"
            ],
            [
             0.7,
             "#b8e186"
            ],
            [
             0.8,
             "#7fbc41"
            ],
            [
             0.9,
             "#4d9221"
            ],
            [
             1,
             "#276419"
            ]
           ],
           "sequential": [
            [
             0,
             "#0d0887"
            ],
            [
             0.1111111111111111,
             "#46039f"
            ],
            [
             0.2222222222222222,
             "#7201a8"
            ],
            [
             0.3333333333333333,
             "#9c179e"
            ],
            [
             0.4444444444444444,
             "#bd3786"
            ],
            [
             0.5555555555555556,
             "#d8576b"
            ],
            [
             0.6666666666666666,
             "#ed7953"
            ],
            [
             0.7777777777777778,
             "#fb9f3a"
            ],
            [
             0.8888888888888888,
             "#fdca26"
            ],
            [
             1,
             "#f0f921"
            ]
           ],
           "sequentialminus": [
            [
             0,
             "#0d0887"
            ],
            [
             0.1111111111111111,
             "#46039f"
            ],
            [
             0.2222222222222222,
             "#7201a8"
            ],
            [
             0.3333333333333333,
             "#9c179e"
            ],
            [
             0.4444444444444444,
             "#bd3786"
            ],
            [
             0.5555555555555556,
             "#d8576b"
            ],
            [
             0.6666666666666666,
             "#ed7953"
            ],
            [
             0.7777777777777778,
             "#fb9f3a"
            ],
            [
             0.8888888888888888,
             "#fdca26"
            ],
            [
             1,
             "#f0f921"
            ]
           ]
          },
          "colorway": [
           "#636efa",
           "#EF553B",
           "#00cc96",
           "#ab63fa",
           "#FFA15A",
           "#19d3f3",
           "#FF6692",
           "#B6E880",
           "#FF97FF",
           "#FECB52"
          ],
          "font": {
           "color": "#2a3f5f"
          },
          "geo": {
           "bgcolor": "white",
           "lakecolor": "white",
           "landcolor": "#E5ECF6",
           "showlakes": true,
           "showland": true,
           "subunitcolor": "white"
          },
          "hoverlabel": {
           "align": "left"
          },
          "hovermode": "closest",
          "mapbox": {
           "style": "light"
          },
          "paper_bgcolor": "white",
          "plot_bgcolor": "#E5ECF6",
          "polar": {
           "angularaxis": {
            "gridcolor": "white",
            "linecolor": "white",
            "ticks": ""
           },
           "bgcolor": "#E5ECF6",
           "radialaxis": {
            "gridcolor": "white",
            "linecolor": "white",
            "ticks": ""
           }
          },
          "scene": {
           "xaxis": {
            "backgroundcolor": "#E5ECF6",
            "gridcolor": "white",
            "gridwidth": 2,
            "linecolor": "white",
            "showbackground": true,
            "ticks": "",
            "zerolinecolor": "white"
           },
           "yaxis": {
            "backgroundcolor": "#E5ECF6",
            "gridcolor": "white",
            "gridwidth": 2,
            "linecolor": "white",
            "showbackground": true,
            "ticks": "",
            "zerolinecolor": "white"
           },
           "zaxis": {
            "backgroundcolor": "#E5ECF6",
            "gridcolor": "white",
            "gridwidth": 2,
            "linecolor": "white",
            "showbackground": true,
            "ticks": "",
            "zerolinecolor": "white"
           }
          },
          "shapedefaults": {
           "line": {
            "color": "#2a3f5f"
           }
          },
          "ternary": {
           "aaxis": {
            "gridcolor": "white",
            "linecolor": "white",
            "ticks": ""
           },
           "baxis": {
            "gridcolor": "white",
            "linecolor": "white",
            "ticks": ""
           },
           "bgcolor": "#E5ECF6",
           "caxis": {
            "gridcolor": "white",
            "linecolor": "white",
            "ticks": ""
           }
          },
          "title": {
           "x": 0.05
          },
          "xaxis": {
           "automargin": true,
           "gridcolor": "white",
           "linecolor": "white",
           "ticks": "",
           "title": {
            "standoff": 15
           },
           "zerolinecolor": "white",
           "zerolinewidth": 2
          },
          "yaxis": {
           "automargin": true,
           "gridcolor": "white",
           "linecolor": "white",
           "ticks": "",
           "title": {
            "standoff": 15
           },
           "zerolinecolor": "white",
           "zerolinewidth": 2
          }
         }
        },
        "width": 800,
        "xaxis": {
         "anchor": "y",
         "domain": [
          0,
          0.31999999999999995
         ],
         "title": {
          "text": "Q_x"
         }
        },
        "xaxis2": {
         "anchor": "y2",
         "domain": [
          0.33999999999999997,
          0.6599999999999999
         ],
         "matches": "x",
         "title": {
          "text": "Q_x"
         }
        },
        "xaxis3": {
         "anchor": "y3",
         "domain": [
          0.6799999999999999,
          0.9999999999999999
         ],
         "matches": "x",
         "title": {
          "text": "Q_x"
         }
        },
        "xaxis4": {
         "anchor": "y4",
         "domain": [
          0,
          0.31999999999999995
         ],
         "matches": "x",
         "showticklabels": false
        },
        "xaxis5": {
         "anchor": "y5",
         "domain": [
          0.33999999999999997,
          0.6599999999999999
         ],
         "matches": "x",
         "showticklabels": false
        },
        "xaxis6": {
         "anchor": "y6",
         "domain": [
          0.6799999999999999,
          0.9999999999999999
         ],
         "matches": "x",
         "showticklabels": false
        },
        "xaxis7": {
         "anchor": "y7",
         "domain": [
          0,
          0.31999999999999995
         ],
         "matches": "x",
         "showticklabels": false
        },
        "xaxis8": {
         "anchor": "y8",
         "domain": [
          0.33999999999999997,
          0.6599999999999999
         ],
         "matches": "x",
         "showticklabels": false
        },
        "xaxis9": {
         "anchor": "y9",
         "domain": [
          0.6799999999999999,
          0.9999999999999999
         ],
         "matches": "x",
         "showticklabels": false
        },
        "yaxis": {
         "anchor": "x",
         "domain": [
          0,
          0.2866666666666666
         ],
         "title": {
          "text": "Q_y"
         }
        },
        "yaxis2": {
         "anchor": "x2",
         "domain": [
          0,
          0.2866666666666666
         ],
         "matches": "y",
         "showticklabels": false
        },
        "yaxis3": {
         "anchor": "x3",
         "domain": [
          0,
          0.2866666666666666
         ],
         "matches": "y",
         "showticklabels": false
        },
        "yaxis4": {
         "anchor": "x4",
         "domain": [
          0.35666666666666663,
          0.6433333333333333
         ],
         "matches": "y",
         "title": {
          "text": "Q_y"
         }
        },
        "yaxis5": {
         "anchor": "x5",
         "domain": [
          0.35666666666666663,
          0.6433333333333333
         ],
         "matches": "y",
         "showticklabels": false
        },
        "yaxis6": {
         "anchor": "x6",
         "domain": [
          0.35666666666666663,
          0.6433333333333333
         ],
         "matches": "y",
         "showticklabels": false
        },
        "yaxis7": {
         "anchor": "x7",
         "domain": [
          0.7133333333333333,
          0.9999999999999999
         ],
         "matches": "y",
         "title": {
          "text": "Q_y"
         }
        },
        "yaxis8": {
         "anchor": "x8",
         "domain": [
          0.7133333333333333,
          0.9999999999999999
         ],
         "matches": "y",
         "showticklabels": false
        },
        "yaxis9": {
         "anchor": "x9",
         "domain": [
          0.7133333333333333,
          0.9999999999999999
         ],
         "matches": "y",
         "showticklabels": false
        }
       }
      }
     },
     "metadata": {},
     "output_type": "display_data"
    }
   ],
   "source": [
    "(Q_x, Q_y) = probplot(dairy_queen['cal_fat'], fit=False)\n",
    "\n",
    "sim_qq_data = [pd.DataFrame({\"Q_x\": Q_x, \"Q_y\": Q_y, \"sample\": \"data\"})]\n",
    "for i in range(8):\n",
    "    sim_norm = np.random.normal(size = len(dairy_queen['cal_fat']), loc = dqmean, scale = dqsd)\n",
    "    (Q_x, Q_y) = probplot(sim_norm, fit=False)\n",
    "    sim_qq_data.append( pd.DataFrame({\"Q_x\": Q_x, \"Q_y\": Q_y, \"sample\": str(i+1)}) )\n",
    "sim_qq_data = pd.concat(sim_qq_data)\n",
    "\n",
    "px.scatter(sim_qq_data, x=\"Q_x\", y=\"Q_y\", facet_col=\"sample\", facet_col_wrap=3, trendline=\"ols\", width=800, height=800)"
   ]
  },
  {
   "cell_type": "markdown",
   "metadata": {},
   "source": [
    "### ✏️ Aufgabe 4\n",
    "Sieht der Q-Q-Plot für `dairy_queen['cal_fat']` ähnlich aus wie die Darstellungen für die simulierten Daten? Das heißt, liefern die Diagramme Hinweise darauf, dass `dairy_queen['cal_fat']` nahezu normalverteilt ist?"
   ]
  },
  {
   "cell_type": "code",
   "execution_count": null,
   "metadata": {},
   "outputs": [],
   "source": [
    "# <IHRE LÖSUNG HIER>\n",
    "\"\"\"\n",
    "Der Q-Q-Plot für dairy queen sieht ähnlich aus wie die anderen acht simulierten Diagramme. \n",
    "Es gibt einige kleine Unterschiede in der Mitte und am Ende des oberen rechten Schwanzes. \n",
    "Insgesamt ähneln sich die Diagramme aber genug, dass dairy_queen['cal_fat'] nahezu normalverteilt ist.\n",
    "\"\"\""
   ]
  },
  {
   "cell_type": "markdown",
   "metadata": {},
   "source": [
    "### ✏️ Aufgabe 5\n",
    "Bestimmen Sie mit der gleichen Technik, ob die Kalorien aus dem McDonald's-Menü (Spalte `calories`) einer Normalverteilung zu entstammen scheinen oder nicht."
   ]
  },
  {
   "cell_type": "code",
   "execution_count": 33,
   "metadata": {},
   "outputs": [
    {
     "data": {
      "application/vnd.plotly.v1+json": {
       "config": {
        "plotlyServerURL": "https://plot.ly"
       },
       "data": [
        {
         "hovertemplate": "sample=data<br>Q_x=%{x}<br>Q_y=%{y}<extra></extra>",
         "legendgroup": "",
         "marker": {
          "color": "#636efa",
          "symbol": "circle"
         },
         "mode": "markers",
         "name": "",
         "orientation": "v",
         "showlegend": false,
         "type": "scatter",
         "x": [
          -2.254357700194338,
          -1.8907369953232744,
          -1.6770949010183833,
          -1.520487929524481,
          -1.3942144538014847,
          -1.286933926677913,
          -1.1927130236042607,
          -1.1080360487755754,
          -1.0306377806762108,
          -0.9589673839307319,
          -0.8919128604657872,
          -0.8286471397267934,
          -0.7685364071641807,
          -0.7110826284818202,
          -0.6558859661793708,
          -0.6026193228440059,
          -0.5510105721581059,
          -0.5008298276167628,
          -0.45188010714370314,
          -0.40399034311351933,
          -0.3570100462801349,
          -0.3108051566958892,
          -0.26525475892765843,
          -0.22024843361398128,
          -0.17568408084606352,
          -0.13146609399527875,
          -0.08750379225703046,
          -0.043710040626117594,
          0,
          0.04371004062611773,
          0.08750379225703046,
          0.1314660939952789,
          0.17568408084606352,
          0.22024843361398114,
          0.26525475892765843,
          0.31080515669588904,
          0.35701004628013466,
          0.403990343113519,
          0.45188010714370297,
          0.5008298276167624,
          0.5510105721581058,
          0.6026193228440055,
          0.6558859661793706,
          0.7110826284818199,
          0.7685364071641805,
          0.8286471397267934,
          0.8919128604657867,
          0.9589673839307314,
          1.0306377806762104,
          1.1080360487755754,
          1.1927130236042602,
          1.286933926677913,
          1.3942144538014838,
          1.5204879295244804,
          1.6770949010183824,
          1.8907369953232736,
          2.254357700194338
         ],
         "xaxis": "x7",
         "y": [
          50,
          60,
          70,
          70,
          80,
          90,
          100,
          100,
          100,
          110,
          120,
          130,
          140,
          160,
          160,
          170,
          180,
          180,
          190,
          190,
          190,
          200,
          200,
          200,
          200,
          210,
          230,
          240,
          240,
          240,
          250,
          250,
          250,
          250,
          280,
          280,
          300,
          300,
          300,
          300,
          310,
          320,
          320,
          330,
          340,
          360,
          390,
          400,
          410,
          410,
          480,
          600,
          600,
          630,
          790,
          960,
          1270
         ],
         "yaxis": "y7"
        },
        {
         "hovertemplate": "<b>OLS trendline</b><br>Q_y = 197.057 * Q_x + 285.614<br>R<sup>2</sup>=0.759062<br><br>sample=data<br>Q_x=%{x}<br>Q_y=%{y} <b>(trend)</b><extra></extra>",
         "legendgroup": "",
         "marker": {
          "color": "#636efa",
          "symbol": "circle"
         },
         "mode": "lines",
         "name": "",
         "showlegend": false,
         "type": "scatter",
         "x": [
          -2.254357700194338,
          -1.8907369953232744,
          -1.6770949010183833,
          -1.520487929524481,
          -1.3942144538014847,
          -1.286933926677913,
          -1.1927130236042607,
          -1.1080360487755754,
          -1.0306377806762108,
          -0.9589673839307319,
          -0.8919128604657872,
          -0.8286471397267934,
          -0.7685364071641807,
          -0.7110826284818202,
          -0.6558859661793708,
          -0.6026193228440059,
          -0.5510105721581059,
          -0.5008298276167628,
          -0.45188010714370314,
          -0.40399034311351933,
          -0.3570100462801349,
          -0.3108051566958892,
          -0.26525475892765843,
          -0.22024843361398128,
          -0.17568408084606352,
          -0.13146609399527875,
          -0.08750379225703046,
          -0.043710040626117594,
          0,
          0.04371004062611773,
          0.08750379225703046,
          0.1314660939952789,
          0.17568408084606352,
          0.22024843361398114,
          0.26525475892765843,
          0.31080515669588904,
          0.35701004628013466,
          0.403990343113519,
          0.45188010714370297,
          0.5008298276167624,
          0.5510105721581058,
          0.6026193228440055,
          0.6558859661793706,
          0.7110826284818199,
          0.7685364071641805,
          0.8286471397267934,
          0.8919128604657867,
          0.9589673839307314,
          1.0306377806762104,
          1.1080360487755754,
          1.1927130236042602,
          1.286933926677913,
          1.3942144538014838,
          1.5204879295244804,
          1.6770949010183824,
          1.8907369953232736,
          2.254357700194338
         ],
         "xaxis": "x7",
         "y": [
          -158.6222422905409,
          -86.96834801473227,
          -44.86874303318098,
          -14.008290842325437,
          10.874742929095305,
          32.01508902432437,
          50.58194876847628,
          67.2681135569236,
          82.51996045461078,
          96.64309195485578,
          109.85663472265716,
          122.32356854789722,
          134.16879083085314,
          145.49044256383502,
          156.36731440313156,
          166.86386308380372,
          177.0337129185795,
          186.92216458230354,
          196.5680347118681,
          206.00503332812946,
          215.26281534452787,
          224.36779817125912,
          233.34380900392932,
          242.21260671695393,
          250.99431078090294,
          259.70776112201787,
          268.37082699993766,
          277.00067895079167,
          285.6140350877193,
          294.22739122464696,
          302.8572431755009,
          311.5203090534207,
          320.23375939453564,
          329.01546345848465,
          337.88426117150925,
          346.8602720041794,
          355.9652548309107,
          365.223036847309,
          374.66003546357047,
          384.305905593135,
          394.194357256859,
          404.3642070916348,
          414.860755772307,
          425.7376276116035,
          437.0592793445854,
          448.9045016275413,
          461.37143545278127,
          474.5849782205827,
          488.7081097208277,
          503.959956618515,
          520.6461214069623,
          539.2129811511143,
          560.353327246343,
          585.2363610177639,
          616.0968132086193,
          658.1964181901707,
          729.8503124659794
         ],
         "yaxis": "y7"
        },
        {
         "hovertemplate": "sample=1<br>Q_x=%{x}<br>Q_y=%{y}<extra></extra>",
         "legendgroup": "",
         "marker": {
          "color": "#636efa",
          "symbol": "circle"
         },
         "mode": "markers",
         "name": "",
         "orientation": "v",
         "showlegend": false,
         "type": "scatter",
         "x": [
          -2.254357700194338,
          -1.8907369953232744,
          -1.6770949010183833,
          -1.520487929524481,
          -1.3942144538014847,
          -1.286933926677913,
          -1.1927130236042607,
          -1.1080360487755754,
          -1.0306377806762108,
          -0.9589673839307319,
          -0.8919128604657872,
          -0.8286471397267934,
          -0.7685364071641807,
          -0.7110826284818202,
          -0.6558859661793708,
          -0.6026193228440059,
          -0.5510105721581059,
          -0.5008298276167628,
          -0.45188010714370314,
          -0.40399034311351933,
          -0.3570100462801349,
          -0.3108051566958892,
          -0.26525475892765843,
          -0.22024843361398128,
          -0.17568408084606352,
          -0.13146609399527875,
          -0.08750379225703046,
          -0.043710040626117594,
          0,
          0.04371004062611773,
          0.08750379225703046,
          0.1314660939952789,
          0.17568408084606352,
          0.22024843361398114,
          0.26525475892765843,
          0.31080515669588904,
          0.35701004628013466,
          0.403990343113519,
          0.45188010714370297,
          0.5008298276167624,
          0.5510105721581058,
          0.6026193228440055,
          0.6558859661793706,
          0.7110826284818199,
          0.7685364071641805,
          0.8286471397267934,
          0.8919128604657867,
          0.9589673839307314,
          1.0306377806762104,
          1.1080360487755754,
          1.1927130236042602,
          1.286933926677913,
          1.3942144538014838,
          1.5204879295244804,
          1.6770949010183824,
          1.8907369953232736,
          2.254357700194338
         ],
         "xaxis": "x8",
         "y": [
          -34.260410158130355,
          12.762607360686417,
          35.15927695488335,
          38.23406515547907,
          72.24405354566318,
          91.08105797192391,
          94.042271348687,
          106.61645213345548,
          118.92230605063696,
          125.64482053076892,
          138.55659208663377,
          152.62982818730939,
          161.30413209422903,
          165.73921610495114,
          175.26878143347864,
          176.76348996823344,
          219.813252506539,
          223.33024104360317,
          224.04708224734534,
          226.22140539707283,
          244.48224116778127,
          246.957497455517,
          251.29278792583017,
          260.32860634981677,
          262.15325584909243,
          264.80586641037775,
          270.2768725174575,
          272.14506317336435,
          291.33164333073285,
          292.34249821905604,
          301.2352125960311,
          304.78126534316516,
          305.0786178215168,
          305.24941591416166,
          307.7472583859966,
          311.53255795051365,
          315.6786385784125,
          316.89567719367375,
          322.8165454743646,
          327.3023890097055,
          329.56953218586324,
          334.83063562903556,
          335.8850193629806,
          337.29600514704157,
          342.87485107847675,
          357.09159233392927,
          360.7092123378258,
          368.1541281102908,
          375.1169112843651,
          398.2744071090158,
          400.2227670280822,
          408.2796241632218,
          419.08715922981685,
          469.3915281170095,
          512.8843255688239,
          534.7568174113161,
          647.2950287792455
         ],
         "yaxis": "y8"
        },
        {
         "hovertemplate": "<b>OLS trendline</b><br>Q_y = 134.177 * Q_x + 267.198<br>R<sup>2</sup>=0.976356<br><br>sample=1<br>Q_x=%{x}<br>Q_y=%{y} <b>(trend)</b><extra></extra>",
         "legendgroup": "",
         "marker": {
          "color": "#636efa",
          "symbol": "circle"
         },
         "mode": "lines",
         "name": "",
         "showlegend": false,
         "type": "scatter",
         "x": [
          -2.254357700194338,
          -1.8907369953232744,
          -1.6770949010183833,
          -1.520487929524481,
          -1.3942144538014847,
          -1.286933926677913,
          -1.1927130236042607,
          -1.1080360487755754,
          -1.0306377806762108,
          -0.9589673839307319,
          -0.8919128604657872,
          -0.8286471397267934,
          -0.7685364071641807,
          -0.7110826284818202,
          -0.6558859661793708,
          -0.6026193228440059,
          -0.5510105721581059,
          -0.5008298276167628,
          -0.45188010714370314,
          -0.40399034311351933,
          -0.3570100462801349,
          -0.3108051566958892,
          -0.26525475892765843,
          -0.22024843361398128,
          -0.17568408084606352,
          -0.13146609399527875,
          -0.08750379225703046,
          -0.043710040626117594,
          0,
          0.04371004062611773,
          0.08750379225703046,
          0.1314660939952789,
          0.17568408084606352,
          0.22024843361398114,
          0.26525475892765843,
          0.31080515669588904,
          0.35701004628013466,
          0.403990343113519,
          0.45188010714370297,
          0.5008298276167624,
          0.5510105721581058,
          0.6026193228440055,
          0.6558859661793706,
          0.7110826284818199,
          0.7685364071641805,
          0.8286471397267934,
          0.8919128604657867,
          0.9589673839307314,
          1.0306377806762104,
          1.1080360487755754,
          1.1927130236042602,
          1.286933926677913,
          1.3942144538014838,
          1.5204879295244804,
          1.6770949010183824,
          1.8907369953232736,
          2.254357700194338
         ],
         "xaxis": "x8",
         "y": [
          -35.284697557038555,
          13.504762515020161,
          42.17057359279025,
          63.183594799646784,
          80.12656482147705,
          94.52112190936592,
          107.16338052358682,
          118.52506545264441,
          128.91011685509264,
          138.5266208481809,
          147.5237817672873,
          156.0125732870652,
          164.07803861117463,
          171.78700238430713,
          179.19311352000602,
          186.34026090014464,
          193.2649575613301,
          199.9980489375601,
          206.5659654521206,
          212.99166041038617,
          219.29532597678633,
          225.4949498851768,
          231.60675618060634,
          237.64556057888822,
          243.6250625183568,
          249.5580901898371,
          255.45681085288246,
          261.3329160030546,
          267.19778907905896,
          273.0626621550633,
          278.9387673052355,
          284.83748796828087,
          290.77051563976113,
          296.7500175792297,
          302.7888219775116,
          308.9006282729411,
          315.1002521813316,
          321.4039177477317,
          327.8296127059973,
          334.3975292205578,
          341.1306205967878,
          348.05531725797323,
          355.2024646381119,
          362.6085757738108,
          370.31753954694324,
          378.3830048710527,
          386.8717963908306,
          395.86895730993695,
          405.4854613030252,
          415.8705127054735,
          427.2321976345311,
          439.87445624875204,
          454.2690133366408,
          471.211983358471,
          492.2250045653276,
          520.8908156430977,
          569.6802757151565
         ],
         "yaxis": "y8"
        },
        {
         "hovertemplate": "sample=2<br>Q_x=%{x}<br>Q_y=%{y}<extra></extra>",
         "legendgroup": "",
         "marker": {
          "color": "#636efa",
          "symbol": "circle"
         },
         "mode": "markers",
         "name": "",
         "orientation": "v",
         "showlegend": false,
         "type": "scatter",
         "x": [
          -2.254357700194338,
          -1.8907369953232744,
          -1.6770949010183833,
          -1.520487929524481,
          -1.3942144538014847,
          -1.286933926677913,
          -1.1927130236042607,
          -1.1080360487755754,
          -1.0306377806762108,
          -0.9589673839307319,
          -0.8919128604657872,
          -0.8286471397267934,
          -0.7685364071641807,
          -0.7110826284818202,
          -0.6558859661793708,
          -0.6026193228440059,
          -0.5510105721581059,
          -0.5008298276167628,
          -0.45188010714370314,
          -0.40399034311351933,
          -0.3570100462801349,
          -0.3108051566958892,
          -0.26525475892765843,
          -0.22024843361398128,
          -0.17568408084606352,
          -0.13146609399527875,
          -0.08750379225703046,
          -0.043710040626117594,
          0,
          0.04371004062611773,
          0.08750379225703046,
          0.1314660939952789,
          0.17568408084606352,
          0.22024843361398114,
          0.26525475892765843,
          0.31080515669588904,
          0.35701004628013466,
          0.403990343113519,
          0.45188010714370297,
          0.5008298276167624,
          0.5510105721581058,
          0.6026193228440055,
          0.6558859661793706,
          0.7110826284818199,
          0.7685364071641805,
          0.8286471397267934,
          0.8919128604657867,
          0.9589673839307314,
          1.0306377806762104,
          1.1080360487755754,
          1.1927130236042602,
          1.286933926677913,
          1.3942144538014838,
          1.5204879295244804,
          1.6770949010183824,
          1.8907369953232736,
          2.254357700194338
         ],
         "xaxis": "x9",
         "y": [
          -86.51656732852024,
          -14.9882736236072,
          0.04243378233394424,
          21.510135315345394,
          70.7515485544624,
          79.91091210522643,
          82.49159401245618,
          88.41541725981352,
          103.13779361515995,
          117.3180988250709,
          128.47300011664404,
          141.32501026914576,
          141.74031379498678,
          144.8300038071564,
          152.54880912358925,
          154.13728811018746,
          173.37058148847711,
          195.5449901112409,
          202.94843698913252,
          205.94190845984195,
          222.26516719419857,
          232.3013955232697,
          232.37276233820387,
          246.20420907271588,
          246.39733885997907,
          257.69627779083726,
          266.068505103252,
          276.40661745630786,
          276.7201350656292,
          279.71259743321815,
          280.50941450770176,
          283.2296294064689,
          286.1206833705649,
          286.5851776829178,
          303.81013234795796,
          305.0494586771478,
          309.9525682333206,
          326.86798469483085,
          333.1228712545327,
          336.1389162942938,
          357.5122047487424,
          358.1749170788988,
          363.93895609755134,
          379.58337216041207,
          397.55294985889714,
          406.5650929724774,
          408.73378543136675,
          412.1079374560136,
          435.1343717706728,
          440.11268322724834,
          456.0695722630202,
          473.45395685108133,
          499.4876762318204,
          587.3050106959186,
          594.9312244669152,
          607.0432383391351,
          716.8045569365721
         ],
         "yaxis": "y9"
        },
        {
         "hovertemplate": "<b>OLS trendline</b><br>Q_y = 166.192 * Q_x + 273.421<br>R<sup>2</sup>=0.986996<br><br>sample=2<br>Q_x=%{x}<br>Q_y=%{y} <b>(trend)</b><extra></extra>",
         "legendgroup": "",
         "marker": {
          "color": "#636efa",
          "symbol": "circle"
         },
         "mode": "lines",
         "name": "",
         "showlegend": false,
         "type": "scatter",
         "x": [
          -2.254357700194338,
          -1.8907369953232744,
          -1.6770949010183833,
          -1.520487929524481,
          -1.3942144538014847,
          -1.286933926677913,
          -1.1927130236042607,
          -1.1080360487755754,
          -1.0306377806762108,
          -0.9589673839307319,
          -0.8919128604657872,
          -0.8286471397267934,
          -0.7685364071641807,
          -0.7110826284818202,
          -0.6558859661793708,
          -0.6026193228440059,
          -0.5510105721581059,
          -0.5008298276167628,
          -0.45188010714370314,
          -0.40399034311351933,
          -0.3570100462801349,
          -0.3108051566958892,
          -0.26525475892765843,
          -0.22024843361398128,
          -0.17568408084606352,
          -0.13146609399527875,
          -0.08750379225703046,
          -0.043710040626117594,
          0,
          0.04371004062611773,
          0.08750379225703046,
          0.1314660939952789,
          0.17568408084606352,
          0.22024843361398114,
          0.26525475892765843,
          0.31080515669588904,
          0.35701004628013466,
          0.403990343113519,
          0.45188010714370297,
          0.5008298276167624,
          0.5510105721581058,
          0.6026193228440055,
          0.6558859661793706,
          0.7110826284818199,
          0.7685364071641805,
          0.8286471397267934,
          0.8919128604657867,
          0.9589673839307314,
          1.0306377806762104,
          1.1080360487755754,
          1.1927130236042602,
          1.286933926677913,
          1.3942144538014838,
          1.5204879295244804,
          1.6770949010183824,
          1.8907369953232736,
          2.254357700194338
         ],
         "xaxis": "x9",
         "y": [
          -101.23644024161632,
          -40.80544762321756,
          -5.299758175483532,
          20.72712811443111,
          41.71281836004508,
          59.54202515672989,
          75.20082186953462,
          89.27349037347776,
          102.136493237542,
          114.04756749339197,
          125.19151875430046,
          135.70579984929884,
          145.69574593079565,
          155.24412650687967,
          164.4173915258294,
          173.26990208720605,
          181.8468835130858,
          190.18654119027704,
          198.32161204007656,
          206.28052619935443,
          214.08829383501518,
          221.76719468965592,
          229.33732398763732,
          236.81703258612453,
          244.22328871259205,
          251.57198146078895,
          258.87818129001465,
          266.1563693747061,
          273.4206453277585,
          280.6849212808109,
          287.96310936550236,
          295.26930919472807,
          302.61800194292493,
          310.0242580693925,
          317.5039666678797,
          325.0740959658611,
          332.75299682050183,
          340.56076445616253,
          348.5196786154404,
          356.6547494652399,
          364.9944071424312,
          373.5713885683109,
          382.4238991296876,
          391.59716414863726,
          401.14554472472133,
          411.1354908062182,
          421.64977190121647,
          432.79372316212493,
          444.704797417975,
          457.56780028203923,
          471.6404687859823,
          487.2992654987871,
          505.1284722954718,
          526.1141625410858,
          552.1410488310005,
          587.6467382787345,
          648.0777308971333
         ],
         "yaxis": "y9"
        },
        {
         "hovertemplate": "sample=3<br>Q_x=%{x}<br>Q_y=%{y}<extra></extra>",
         "legendgroup": "",
         "marker": {
          "color": "#636efa",
          "symbol": "circle"
         },
         "mode": "markers",
         "name": "",
         "orientation": "v",
         "showlegend": false,
         "type": "scatter",
         "x": [
          -2.254357700194338,
          -1.8907369953232744,
          -1.6770949010183833,
          -1.520487929524481,
          -1.3942144538014847,
          -1.286933926677913,
          -1.1927130236042607,
          -1.1080360487755754,
          -1.0306377806762108,
          -0.9589673839307319,
          -0.8919128604657872,
          -0.8286471397267934,
          -0.7685364071641807,
          -0.7110826284818202,
          -0.6558859661793708,
          -0.6026193228440059,
          -0.5510105721581059,
          -0.5008298276167628,
          -0.45188010714370314,
          -0.40399034311351933,
          -0.3570100462801349,
          -0.3108051566958892,
          -0.26525475892765843,
          -0.22024843361398128,
          -0.17568408084606352,
          -0.13146609399527875,
          -0.08750379225703046,
          -0.043710040626117594,
          0,
          0.04371004062611773,
          0.08750379225703046,
          0.1314660939952789,
          0.17568408084606352,
          0.22024843361398114,
          0.26525475892765843,
          0.31080515669588904,
          0.35701004628013466,
          0.403990343113519,
          0.45188010714370297,
          0.5008298276167624,
          0.5510105721581058,
          0.6026193228440055,
          0.6558859661793706,
          0.7110826284818199,
          0.7685364071641805,
          0.8286471397267934,
          0.8919128604657867,
          0.9589673839307314,
          1.0306377806762104,
          1.1080360487755754,
          1.1927130236042602,
          1.286933926677913,
          1.3942144538014838,
          1.5204879295244804,
          1.6770949010183824,
          1.8907369953232736,
          2.254357700194338
         ],
         "xaxis": "x4",
         "y": [
          -104.88042436901782,
          -64.18060426300212,
          -31.59683803053224,
          -28.468923960047505,
          8.01426961018916,
          11.39403306620514,
          21.269475113721512,
          43.598339012707925,
          72.58259321785499,
          104.43780427748021,
          123.63630857363415,
          131.10759183245958,
          132.28119526553402,
          138.03397676168197,
          140.78190419940194,
          170.415323812182,
          182.48195100328445,
          183.0857559432102,
          192.22295307006843,
          197.4480908035123,
          203.04455186787874,
          207.40274333418083,
          213.37253095012483,
          216.2599384116033,
          228.3971131941081,
          241.59007960392182,
          244.36831005867654,
          269.0835191061942,
          276.8685981548481,
          295.47120849754333,
          303.84643035348665,
          304.9454486189837,
          316.89686130667405,
          325.81115322710616,
          331.70427965049663,
          332.09292495600226,
          357.6408852698928,
          360.3053551081141,
          361.7451321763135,
          368.43840619604015,
          374.6831706916256,
          375.84595250644355,
          378.739247361374,
          379.019999752129,
          381.4074767921527,
          383.54439711791815,
          390.6707980840507,
          391.66758248546824,
          398.44697241036823,
          411.62287293343405,
          416.488948837057,
          423.05769625843345,
          439.10556111227515,
          453.861331160022,
          462.4318197997002,
          619.1860528876218,
          672.172700177528
         ],
         "yaxis": "y4"
        },
        {
         "hovertemplate": "<b>OLS trendline</b><br>Q_y = 165.454 * Q_x + 258.507<br>R<sup>2</sup>=0.973060<br><br>sample=3<br>Q_x=%{x}<br>Q_y=%{y} <b>(trend)</b><extra></extra>",
         "legendgroup": "",
         "marker": {
          "color": "#636efa",
          "symbol": "circle"
         },
         "mode": "lines",
         "name": "",
         "showlegend": false,
         "type": "scatter",
         "x": [
          -2.254357700194338,
          -1.8907369953232744,
          -1.6770949010183833,
          -1.520487929524481,
          -1.3942144538014847,
          -1.286933926677913,
          -1.1927130236042607,
          -1.1080360487755754,
          -1.0306377806762108,
          -0.9589673839307319,
          -0.8919128604657872,
          -0.8286471397267934,
          -0.7685364071641807,
          -0.7110826284818202,
          -0.6558859661793708,
          -0.6026193228440059,
          -0.5510105721581059,
          -0.5008298276167628,
          -0.45188010714370314,
          -0.40399034311351933,
          -0.3570100462801349,
          -0.3108051566958892,
          -0.26525475892765843,
          -0.22024843361398128,
          -0.17568408084606352,
          -0.13146609399527875,
          -0.08750379225703046,
          -0.043710040626117594,
          0,
          0.04371004062611773,
          0.08750379225703046,
          0.1314660939952789,
          0.17568408084606352,
          0.22024843361398114,
          0.26525475892765843,
          0.31080515669588904,
          0.35701004628013466,
          0.403990343113519,
          0.45188010714370297,
          0.5008298276167624,
          0.5510105721581058,
          0.6026193228440055,
          0.6558859661793706,
          0.7110826284818199,
          0.7685364071641805,
          0.8286471397267934,
          0.8919128604657867,
          0.9589673839307314,
          1.0306377806762104,
          1.1080360487755754,
          1.1927130236042602,
          1.286933926677913,
          1.3942144538014838,
          1.5204879295244804,
          1.6770949010183824,
          1.8907369953232736,
          2.254357700194338
         ],
         "xaxis": "x4",
         "y": [
          -114.48526984170405,
          -54.322795863992155,
          -18.9748721429832,
          6.936366466410817,
          27.82880904597681,
          45.578793672610544,
          61.16801220001847,
          75.17815030931169,
          87.98399779838448,
          99.8421464720171,
          110.93658077954115,
          121.40414279306995,
          131.34969961954857,
          140.85565298962524,
          149.98815758835312,
          158.80133296757222,
          167.34020349548578,
          175.6428047973596,
          183.74172833148828,
          191.6652779084749,
          199.4383525652272,
          207.08313304669326,
          214.6196252862574,
          222.06609860101725,
          229.43944582194658,
          236.75548544130888,
          244.02922095443245,
          251.2750691902072,
          258.5070671114092,
          265.73906503261117,
          272.9849132683859,
          280.2586487815095,
          287.5746884008718,
          294.9480356218011,
          302.394508936561,
          309.9310011761251,
          317.5757816575911,
          325.3488563143434,
          333.2724058913301,
          341.3713294254587,
          349.67393072733256,
          358.21280125524606,
          367.0259766344652,
          376.1584812331931,
          385.66443460326974,
          395.60999142974845,
          406.0775534432771,
          417.1719877508012,
          429.0301364244338,
          441.83598391350665,
          455.8461220227998,
          471.4353405502078,
          489.1853251768414,
          510.0777677564074,
          535.9890063658014,
          571.3369300868104,
          631.4994040645224
         ],
         "yaxis": "y4"
        },
        {
         "hovertemplate": "sample=4<br>Q_x=%{x}<br>Q_y=%{y}<extra></extra>",
         "legendgroup": "",
         "marker": {
          "color": "#636efa",
          "symbol": "circle"
         },
         "mode": "markers",
         "name": "",
         "orientation": "v",
         "showlegend": false,
         "type": "scatter",
         "x": [
          -2.254357700194338,
          -1.8907369953232744,
          -1.6770949010183833,
          -1.520487929524481,
          -1.3942144538014847,
          -1.286933926677913,
          -1.1927130236042607,
          -1.1080360487755754,
          -1.0306377806762108,
          -0.9589673839307319,
          -0.8919128604657872,
          -0.8286471397267934,
          -0.7685364071641807,
          -0.7110826284818202,
          -0.6558859661793708,
          -0.6026193228440059,
          -0.5510105721581059,
          -0.5008298276167628,
          -0.45188010714370314,
          -0.40399034311351933,
          -0.3570100462801349,
          -0.3108051566958892,
          -0.26525475892765843,
          -0.22024843361398128,
          -0.17568408084606352,
          -0.13146609399527875,
          -0.08750379225703046,
          -0.043710040626117594,
          0,
          0.04371004062611773,
          0.08750379225703046,
          0.1314660939952789,
          0.17568408084606352,
          0.22024843361398114,
          0.26525475892765843,
          0.31080515669588904,
          0.35701004628013466,
          0.403990343113519,
          0.45188010714370297,
          0.5008298276167624,
          0.5510105721581058,
          0.6026193228440055,
          0.6558859661793706,
          0.7110826284818199,
          0.7685364071641805,
          0.8286471397267934,
          0.8919128604657867,
          0.9589673839307314,
          1.0306377806762104,
          1.1080360487755754,
          1.1927130236042602,
          1.286933926677913,
          1.3942144538014838,
          1.5204879295244804,
          1.6770949010183824,
          1.8907369953232736,
          2.254357700194338
         ],
         "xaxis": "x5",
         "y": [
          -102.63713893682569,
          -83.89577915989474,
          3.0252962944373962,
          6.955110802401833,
          23.738107567765724,
          67.05495701853084,
          72.64431661042286,
          74.90188386152727,
          104.41321420536872,
          128.10862683371553,
          129.42333840908032,
          137.36105990385738,
          156.2943262986594,
          170.01668932883655,
          176.24308283453325,
          176.37583911751796,
          184.650810424439,
          191.70421611537995,
          196.41908967244058,
          199.6375423440764,
          241.8746868915182,
          243.73486150341733,
          270.13832030752747,
          275.2701905774775,
          277.27748817558506,
          278.3022954374785,
          279.3127788398882,
          283.1119601429608,
          288.6987519440764,
          291.32858110728716,
          304.91322026161146,
          315.47722530576357,
          326.64018079085844,
          334.9473107187271,
          344.4719558554984,
          351.55879525879413,
          359.0503570252183,
          360.42688759087685,
          367.30371189097184,
          370.4030622423028,
          375.85509586130036,
          394.59245068163375,
          407.11869641752855,
          410.567321220853,
          423.4194414430709,
          424.3323219012871,
          430.57813982363064,
          450.5241069682039,
          468.5419634944634,
          495.7813643074686,
          506.53499891328966,
          507.2344651459597,
          526.4144838645933,
          528.1333590904067,
          531.5059454410399,
          611.5292916820608,
          694.5709396508673
         ],
         "yaxis": "y5"
        },
        {
         "hovertemplate": "<b>OLS trendline</b><br>Q_y = 175.107 * Q_x + 287.086<br>R<sup>2</sup>=0.993545<br><br>sample=4<br>Q_x=%{x}<br>Q_y=%{y} <b>(trend)</b><extra></extra>",
         "legendgroup": "",
         "marker": {
          "color": "#636efa",
          "symbol": "circle"
         },
         "mode": "lines",
         "name": "",
         "showlegend": false,
         "type": "scatter",
         "x": [
          -2.254357700194338,
          -1.8907369953232744,
          -1.6770949010183833,
          -1.520487929524481,
          -1.3942144538014847,
          -1.286933926677913,
          -1.1927130236042607,
          -1.1080360487755754,
          -1.0306377806762108,
          -0.9589673839307319,
          -0.8919128604657872,
          -0.8286471397267934,
          -0.7685364071641807,
          -0.7110826284818202,
          -0.6558859661793708,
          -0.6026193228440059,
          -0.5510105721581059,
          -0.5008298276167628,
          -0.45188010714370314,
          -0.40399034311351933,
          -0.3570100462801349,
          -0.3108051566958892,
          -0.26525475892765843,
          -0.22024843361398128,
          -0.17568408084606352,
          -0.13146609399527875,
          -0.08750379225703046,
          -0.043710040626117594,
          0,
          0.04371004062611773,
          0.08750379225703046,
          0.1314660939952789,
          0.17568408084606352,
          0.22024843361398114,
          0.26525475892765843,
          0.31080515669588904,
          0.35701004628013466,
          0.403990343113519,
          0.45188010714370297,
          0.5008298276167624,
          0.5510105721581058,
          0.6026193228440055,
          0.6558859661793706,
          0.7110826284818199,
          0.7685364071641805,
          0.8286471397267934,
          0.8919128604657867,
          0.9589673839307314,
          1.0306377806762104,
          1.1080360487755754,
          1.1927130236042602,
          1.286933926677913,
          1.3942144538014838,
          1.5204879295244804,
          1.6770949010183824,
          1.8907369953232736,
          2.254357700194338
         ],
         "xaxis": "x5",
         "y": [
          -107.66860698768369,
          -43.99592112426296,
          -6.585603791804658,
          20.837439963332372,
          42.94886333633201,
          61.73448035784767,
          78.2332602205174,
          93.06082736921286,
          106.61383891406189,
          119.16385764663039,
          130.9056026878506,
          141.98390023409527,
          152.50973592003757,
          162.5703192495969,
          172.2356647384887,
          181.56304957289797,
          190.60012509199447,
          199.38714613004697,
          207.9586057115044,
          216.34445904801473,
          224.571057924179,
          232.66187723243297,
          240.63809016309887,
          248.51903196640137,
          256.3225810946185,
          264.06547897844837,
          271.7636045002197,
          279.4322156464539,
          287.0861683740661,
          294.7401211016783,
          302.40873224791255,
          310.10685776968387,
          317.84975565351374,
          325.65330478173087,
          333.5342465850334,
          341.51045951569927,
          349.6012788239532,
          357.8278777001175,
          366.2137310366278,
          374.7851906180852,
          383.5722116561377,
          392.6092871752342,
          401.93667200964353,
          411.60201749853525,
          421.66260082809464,
          432.188436514037,
          443.2667340602816,
          455.00847910150173,
          467.5584978340703,
          481.1115093789194,
          495.93907652761476,
          512.4378563902845,
          531.2234734118001,
          553.3348967847998,
          580.7579405399367,
          618.1682578723951,
          681.8409437358159
         ],
         "yaxis": "y5"
        },
        {
         "hovertemplate": "sample=5<br>Q_x=%{x}<br>Q_y=%{y}<extra></extra>",
         "legendgroup": "",
         "marker": {
          "color": "#636efa",
          "symbol": "circle"
         },
         "mode": "markers",
         "name": "",
         "orientation": "v",
         "showlegend": false,
         "type": "scatter",
         "x": [
          -2.254357700194338,
          -1.8907369953232744,
          -1.6770949010183833,
          -1.520487929524481,
          -1.3942144538014847,
          -1.286933926677913,
          -1.1927130236042607,
          -1.1080360487755754,
          -1.0306377806762108,
          -0.9589673839307319,
          -0.8919128604657872,
          -0.8286471397267934,
          -0.7685364071641807,
          -0.7110826284818202,
          -0.6558859661793708,
          -0.6026193228440059,
          -0.5510105721581059,
          -0.5008298276167628,
          -0.45188010714370314,
          -0.40399034311351933,
          -0.3570100462801349,
          -0.3108051566958892,
          -0.26525475892765843,
          -0.22024843361398128,
          -0.17568408084606352,
          -0.13146609399527875,
          -0.08750379225703046,
          -0.043710040626117594,
          0,
          0.04371004062611773,
          0.08750379225703046,
          0.1314660939952789,
          0.17568408084606352,
          0.22024843361398114,
          0.26525475892765843,
          0.31080515669588904,
          0.35701004628013466,
          0.403990343113519,
          0.45188010714370297,
          0.5008298276167624,
          0.5510105721581058,
          0.6026193228440055,
          0.6558859661793706,
          0.7110826284818199,
          0.7685364071641805,
          0.8286471397267934,
          0.8919128604657867,
          0.9589673839307314,
          1.0306377806762104,
          1.1080360487755754,
          1.1927130236042602,
          1.286933926677913,
          1.3942144538014838,
          1.5204879295244804,
          1.6770949010183824,
          1.8907369953232736,
          2.254357700194338
         ],
         "xaxis": "x6",
         "y": [
          -60.278602282919394,
          -41.98336429056263,
          -29.145200684359395,
          11.82800371757645,
          12.26544994046705,
          34.62151101652407,
          37.65367620983346,
          83.46918485020632,
          93.1502220103799,
          102.95820962474562,
          115.04900530021243,
          117.2411233219826,
          119.04387775768902,
          143.29141599019684,
          148.9377244032774,
          155.09959834474708,
          168.05287560993435,
          181.18197591762606,
          186.16329240491095,
          187.15738275403774,
          208.6663646140587,
          217.20603248576236,
          227.30272588038068,
          228.08802410401006,
          229.42564544763366,
          250.70393811457382,
          258.6477361215052,
          269.8167653131938,
          275.1300466414591,
          275.8463329750099,
          300.31353200130326,
          304.50042033543,
          308.63225595826526,
          312.62354893673324,
          335.8076273704944,
          339.66987661198874,
          354.231408016071,
          355.06537651945865,
          379.6323975479478,
          394.40039235026643,
          394.4574367694994,
          396.51415558138166,
          409.2697519733449,
          414.6866201286911,
          419.3989699106208,
          419.6375092201158,
          436.73677046983545,
          461.6717084896396,
          466.62345888693676,
          477.2019789328364,
          492.12734086496323,
          495.0571790339539,
          496.99002795343677,
          525.1732970251771,
          535.1665412047626,
          542.4537635928584,
          577.163663738228
         ],
         "yaxis": "y6"
        },
        {
         "hovertemplate": "<b>OLS trendline</b><br>Q_y = 169.823 * Q_x + 272.839<br>R<sup>2</sup>=0.984307<br><br>sample=5<br>Q_x=%{x}<br>Q_y=%{y} <b>(trend)</b><extra></extra>",
         "legendgroup": "",
         "marker": {
          "color": "#636efa",
          "symbol": "circle"
         },
         "mode": "lines",
         "name": "",
         "showlegend": false,
         "type": "scatter",
         "x": [
          -2.254357700194338,
          -1.8907369953232744,
          -1.6770949010183833,
          -1.520487929524481,
          -1.3942144538014847,
          -1.286933926677913,
          -1.1927130236042607,
          -1.1080360487755754,
          -1.0306377806762108,
          -0.9589673839307319,
          -0.8919128604657872,
          -0.8286471397267934,
          -0.7685364071641807,
          -0.7110826284818202,
          -0.6558859661793708,
          -0.6026193228440059,
          -0.5510105721581059,
          -0.5008298276167628,
          -0.45188010714370314,
          -0.40399034311351933,
          -0.3570100462801349,
          -0.3108051566958892,
          -0.26525475892765843,
          -0.22024843361398128,
          -0.17568408084606352,
          -0.13146609399527875,
          -0.08750379225703046,
          -0.043710040626117594,
          0,
          0.04371004062611773,
          0.08750379225703046,
          0.1314660939952789,
          0.17568408084606352,
          0.22024843361398114,
          0.26525475892765843,
          0.31080515669588904,
          0.35701004628013466,
          0.403990343113519,
          0.45188010714370297,
          0.5008298276167624,
          0.5510105721581058,
          0.6026193228440055,
          0.6558859661793706,
          0.7110826284818199,
          0.7685364071641805,
          0.8286471397267934,
          0.8919128604657867,
          0.9589673839307314,
          1.0306377806762104,
          1.1080360487755754,
          1.1927130236042602,
          1.286933926677913,
          1.3942144538014838,
          1.5204879295244804,
          1.6770949010183824,
          1.8907369953232736,
          2.254357700194338
         ],
         "xaxis": "x6",
         "y": [
          -110.00243154388653,
          -48.25140082286771,
          -11.970134789344854,
          14.625275698280689,
          36.069371631666854,
          54.28803475351472,
          70.28887794622108,
          84.66894597854943,
          97.81292476504964,
          109.98418127473326,
          121.37155796422988,
          132.11551014463802,
          142.3236738806746,
          152.08062667496358,
          161.4542699903102,
          170.50015237529158,
          179.264487041571,
          187.78631392399467,
          196.09908504022968,
          204.23185154729322,
          212.21016992734698,
          220.05680659560204,
          227.79229573101318,
          235.43538904185894,
          243.00342540494177,
          250.51264099103614,
          257.97843545443965,
          265.4156062924097,
          272.83856110593564,
          280.26151591946166,
          287.69868675743163,
          295.16448122083517,
          302.6736968069295,
          310.2417331700123,
          317.8848264808581,
          325.6203156162692,
          333.46695228452427,
          341.445270664578,
          349.57803717164154,
          357.89080828787655,
          366.4126351703003,
          375.17696983657964,
          384.2228522215611,
          393.59649553690764,
          403.35344833119666,
          413.5616120672332,
          424.3055642476413,
          435.6929409371379,
          447.86419744682155,
          461.0081762333218,
          475.38824426565014,
          491.3890874583566,
          509.6077505802043,
          531.0518465135905,
          557.6472570012161,
          593.9285230347389,
          655.6795537557578
         ],
         "yaxis": "y6"
        },
        {
         "hovertemplate": "sample=6<br>Q_x=%{x}<br>Q_y=%{y}<extra></extra>",
         "legendgroup": "",
         "marker": {
          "color": "#636efa",
          "symbol": "circle"
         },
         "mode": "markers",
         "name": "",
         "orientation": "v",
         "showlegend": false,
         "type": "scatter",
         "x": [
          -2.254357700194338,
          -1.8907369953232744,
          -1.6770949010183833,
          -1.520487929524481,
          -1.3942144538014847,
          -1.286933926677913,
          -1.1927130236042607,
          -1.1080360487755754,
          -1.0306377806762108,
          -0.9589673839307319,
          -0.8919128604657872,
          -0.8286471397267934,
          -0.7685364071641807,
          -0.7110826284818202,
          -0.6558859661793708,
          -0.6026193228440059,
          -0.5510105721581059,
          -0.5008298276167628,
          -0.45188010714370314,
          -0.40399034311351933,
          -0.3570100462801349,
          -0.3108051566958892,
          -0.26525475892765843,
          -0.22024843361398128,
          -0.17568408084606352,
          -0.13146609399527875,
          -0.08750379225703046,
          -0.043710040626117594,
          0,
          0.04371004062611773,
          0.08750379225703046,
          0.1314660939952789,
          0.17568408084606352,
          0.22024843361398114,
          0.26525475892765843,
          0.31080515669588904,
          0.35701004628013466,
          0.403990343113519,
          0.45188010714370297,
          0.5008298276167624,
          0.5510105721581058,
          0.6026193228440055,
          0.6558859661793706,
          0.7110826284818199,
          0.7685364071641805,
          0.8286471397267934,
          0.8919128604657867,
          0.9589673839307314,
          1.0306377806762104,
          1.1080360487755754,
          1.1927130236042602,
          1.286933926677913,
          1.3942144538014838,
          1.5204879295244804,
          1.6770949010183824,
          1.8907369953232736,
          2.254357700194338
         ],
         "xaxis": "x",
         "y": [
          -77.4036041473343,
          11.897253913306429,
          19.03900898233445,
          49.22964088912781,
          50.30888643258294,
          61.27659448634114,
          89.5579826088672,
          108.5554496125321,
          109.35459552521982,
          114.17795020362703,
          123.89011193983521,
          125.93833060973202,
          142.22903607973595,
          142.8446030010528,
          152.2551637955153,
          153.07138913683588,
          153.38315294521044,
          155.19656642663176,
          168.22813175166937,
          171.21723349115365,
          191.65290931174422,
          203.86701847611056,
          204.50314054999677,
          213.4885571331198,
          231.87302809666227,
          234.09536559896728,
          240.50000082396062,
          242.12783012011317,
          272.9822679878752,
          277.96590936116775,
          284.13786685386117,
          289.67881345385535,
          290.52856211764254,
          295.2987347815952,
          304.02600532378085,
          310.1892295960685,
          319.93723574546095,
          322.90366448746636,
          329.628413431412,
          346.2454413703377,
          357.2426107074963,
          363.9571869816686,
          385.006318323048,
          399.6129622856472,
          400.00867887666584,
          406.7671493901421,
          428.39827863694063,
          450.8653492304072,
          451.90199512798836,
          475.6354703586823,
          476.41249102104484,
          492.5929129585371,
          494.546743530449,
          499.6757195448282,
          564.946231131222,
          591.5814056982226,
          598.1854291170594
         ],
         "yaxis": "y"
        },
        {
         "hovertemplate": "<b>OLS trendline</b><br>Q_y = 160.836 * Q_x + 267.846<br>R<sup>2</sup>=0.987998<br><br>sample=6<br>Q_x=%{x}<br>Q_y=%{y} <b>(trend)</b><extra></extra>",
         "legendgroup": "",
         "marker": {
          "color": "#636efa",
          "symbol": "circle"
         },
         "mode": "lines",
         "name": "",
         "showlegend": false,
         "type": "scatter",
         "x": [
          -2.254357700194338,
          -1.8907369953232744,
          -1.6770949010183833,
          -1.520487929524481,
          -1.3942144538014847,
          -1.286933926677913,
          -1.1927130236042607,
          -1.1080360487755754,
          -1.0306377806762108,
          -0.9589673839307319,
          -0.8919128604657872,
          -0.8286471397267934,
          -0.7685364071641807,
          -0.7110826284818202,
          -0.6558859661793708,
          -0.6026193228440059,
          -0.5510105721581059,
          -0.5008298276167628,
          -0.45188010714370314,
          -0.40399034311351933,
          -0.3570100462801349,
          -0.3108051566958892,
          -0.26525475892765843,
          -0.22024843361398128,
          -0.17568408084606352,
          -0.13146609399527875,
          -0.08750379225703046,
          -0.043710040626117594,
          0,
          0.04371004062611773,
          0.08750379225703046,
          0.1314660939952789,
          0.17568408084606352,
          0.22024843361398114,
          0.26525475892765843,
          0.31080515669588904,
          0.35701004628013466,
          0.403990343113519,
          0.45188010714370297,
          0.5008298276167624,
          0.5510105721581058,
          0.6026193228440055,
          0.6558859661793706,
          0.7110826284818199,
          0.7685364071641805,
          0.8286471397267934,
          0.8919128604657867,
          0.9589673839307314,
          1.0306377806762104,
          1.1080360487755754,
          1.1927130236042602,
          1.286933926677913,
          1.3942144538014838,
          1.5204879295244804,
          1.6770949010183824,
          1.8907369953232736,
          2.254357700194338
         ],
         "xaxis": "x",
         "y": [
          -94.73575351511425,
          -36.252494924093355,
          -1.8911791910118723,
          23.296841975940595,
          43.606148445476265,
          60.86070718072108,
          76.01480969831519,
          89.6339060513883,
          102.08232515160802,
          113.60949698213727,
          124.39427073941985,
          134.56966904969448,
          144.23763203821994,
          153.47826149275892,
          162.35586563232533,
          170.9230534594389,
          179.22359265176368,
          187.2944572092205,
          195.1673289187653,
          202.86972159366354,
          210.42583930528838,
          217.85724370422983,
          225.18338233142353,
          232.42201458280954,
          239.58956178777902,
          246.7014009232479,
          253.77211671685524,
          260.81572360444926,
          267.84586675833737,
          274.87600991222547,
          281.9196167998195,
          288.99033259342684,
          296.1021717288957,
          303.2697189338652,
          310.5083511852512,
          317.8344898124449,
          325.2658942113863,
          332.82201192301113,
          340.5244045979094,
          348.39727630745415,
          356.46814086491105,
          364.76868005723577,
          373.33586788434934,
          382.21347202391576,
          391.45410147845473,
          401.12206446698025,
          411.2974627772548,
          422.0822365345374,
          433.60940836506666,
          446.05782746528644,
          459.67692381835946,
          474.83102633595365,
          492.08558507119835,
          512.3948915407341,
          537.5829127076865,
          571.9442284407679,
          630.427487031789
         ],
         "yaxis": "y"
        },
        {
         "hovertemplate": "sample=7<br>Q_x=%{x}<br>Q_y=%{y}<extra></extra>",
         "legendgroup": "",
         "marker": {
          "color": "#636efa",
          "symbol": "circle"
         },
         "mode": "markers",
         "name": "",
         "orientation": "v",
         "showlegend": false,
         "type": "scatter",
         "x": [
          -2.254357700194338,
          -1.8907369953232744,
          -1.6770949010183833,
          -1.520487929524481,
          -1.3942144538014847,
          -1.286933926677913,
          -1.1927130236042607,
          -1.1080360487755754,
          -1.0306377806762108,
          -0.9589673839307319,
          -0.8919128604657872,
          -0.8286471397267934,
          -0.7685364071641807,
          -0.7110826284818202,
          -0.6558859661793708,
          -0.6026193228440059,
          -0.5510105721581059,
          -0.5008298276167628,
          -0.45188010714370314,
          -0.40399034311351933,
          -0.3570100462801349,
          -0.3108051566958892,
          -0.26525475892765843,
          -0.22024843361398128,
          -0.17568408084606352,
          -0.13146609399527875,
          -0.08750379225703046,
          -0.043710040626117594,
          0,
          0.04371004062611773,
          0.08750379225703046,
          0.1314660939952789,
          0.17568408084606352,
          0.22024843361398114,
          0.26525475892765843,
          0.31080515669588904,
          0.35701004628013466,
          0.403990343113519,
          0.45188010714370297,
          0.5008298276167624,
          0.5510105721581058,
          0.6026193228440055,
          0.6558859661793706,
          0.7110826284818199,
          0.7685364071641805,
          0.8286471397267934,
          0.8919128604657867,
          0.9589673839307314,
          1.0306377806762104,
          1.1080360487755754,
          1.1927130236042602,
          1.286933926677913,
          1.3942144538014838,
          1.5204879295244804,
          1.6770949010183824,
          1.8907369953232736,
          2.254357700194338
         ],
         "xaxis": "x2",
         "y": [
          -61.01439320047979,
          -54.07706228696509,
          -41.82769402908826,
          34.72366662378485,
          38.357896089393336,
          49.37419571183867,
          52.378576459757625,
          68.87040378672845,
          73.90905516141353,
          87.46626634030022,
          97.29721041001196,
          99.40449499764338,
          124.21983422207433,
          146.47920990232495,
          161.23742837867042,
          170.33693869293774,
          172.24986164278084,
          173.86946194578314,
          186.50435713291245,
          197.1919192957709,
          202.62752785949695,
          216.2870134963025,
          221.3016120460024,
          224.91007759498297,
          225.48604888750407,
          229.13872256023362,
          237.82013501522857,
          244.71559358715658,
          250.5856376898338,
          250.71807109784982,
          254.582032668526,
          262.36819705527427,
          282.4541259351282,
          285.1301660530944,
          285.43810479857524,
          287.66434420003793,
          289.37169471082916,
          291.5372604807088,
          294.70728771315686,
          296.82213081473157,
          298.2491917114354,
          316.3018320137875,
          326.0978263990313,
          334.29655537622614,
          341.03139217112073,
          341.81033624523445,
          355.78355851722796,
          361.3628351247796,
          367.44465612587686,
          367.7397899184743,
          394.1813660031752,
          395.7930095042707,
          404.854879455131,
          406.54201451985534,
          440.05083968841967,
          489.33520400698916,
          750.566961027176
         ],
         "yaxis": "y2"
        },
        {
         "hovertemplate": "<b>OLS trendline</b><br>Q_y = 144.837 * Q_x + 238.633<br>R<sup>2</sup>=0.954615<br><br>sample=7<br>Q_x=%{x}<br>Q_y=%{y} <b>(trend)</b><extra></extra>",
         "legendgroup": "",
         "marker": {
          "color": "#636efa",
          "symbol": "circle"
         },
         "mode": "lines",
         "name": "",
         "showlegend": false,
         "type": "scatter",
         "x": [
          -2.254357700194338,
          -1.8907369953232744,
          -1.6770949010183833,
          -1.520487929524481,
          -1.3942144538014847,
          -1.286933926677913,
          -1.1927130236042607,
          -1.1080360487755754,
          -1.0306377806762108,
          -0.9589673839307319,
          -0.8919128604657872,
          -0.8286471397267934,
          -0.7685364071641807,
          -0.7110826284818202,
          -0.6558859661793708,
          -0.6026193228440059,
          -0.5510105721581059,
          -0.5008298276167628,
          -0.45188010714370314,
          -0.40399034311351933,
          -0.3570100462801349,
          -0.3108051566958892,
          -0.26525475892765843,
          -0.22024843361398128,
          -0.17568408084606352,
          -0.13146609399527875,
          -0.08750379225703046,
          -0.043710040626117594,
          0,
          0.04371004062611773,
          0.08750379225703046,
          0.1314660939952789,
          0.17568408084606352,
          0.22024843361398114,
          0.26525475892765843,
          0.31080515669588904,
          0.35701004628013466,
          0.403990343113519,
          0.45188010714370297,
          0.5008298276167624,
          0.5510105721581058,
          0.6026193228440055,
          0.6558859661793706,
          0.7110826284818199,
          0.7685364071641805,
          0.8286471397267934,
          0.8919128604657867,
          0.9589673839307314,
          1.0306377806762104,
          1.1080360487755754,
          1.1927130236042602,
          1.286933926677913,
          1.3942144538014838,
          1.5204879295244804,
          1.6770949010183824,
          1.8907369953232736,
          2.254357700194338
         ],
         "xaxis": "x2",
         "y": [
          -87.88104763810819,
          -35.21543383440442,
          -4.272223285198862,
          18.410209725842407,
          36.699240072551675,
          52.23739489833707,
          65.88403720181296,
          78.14836867318726,
          89.35847646460704,
          99.7389784151053,
          109.45093262807674,
          118.61412925252168,
          127.32036788027759,
          135.64178214276188,
          143.6362831740083,
          151.35124667564583,
          158.8260865186603,
          166.0940987000178,
          173.18381344865276,
          180.12000763060533,
          186.92447760787942,
          193.61664017752605,
          200.21400832881815,
          206.73257483490988,
          213.1871275070945,
          219.5915136915568,
          225.95886729450814,
          232.3018086603658,
          238.6326256026397,
          244.96344254491365,
          251.30638391077127,
          257.67373751372264,
          264.0781236981849,
          270.53267637036953,
          277.0512428764613,
          283.6486110277533,
          290.34077359739996,
          297.14524357467405,
          304.08143775662666,
          311.17115250526155,
          318.4391646866191,
          325.91400452963353,
          333.6289680312711,
          341.6234690625175,
          349.9448833250018,
          358.65112195275776,
          367.8143185772026,
          377.52627279017406,
          387.9067747406723,
          399.1168825320922,
          411.38121400346637,
          425.02785630694234,
          440.56601113272757,
          458.85504147943686,
          481.53747449047813,
          512.4806850396837,
          565.1462988433876
         ],
         "yaxis": "y2"
        },
        {
         "hovertemplate": "sample=8<br>Q_x=%{x}<br>Q_y=%{y}<extra></extra>",
         "legendgroup": "",
         "marker": {
          "color": "#636efa",
          "symbol": "circle"
         },
         "mode": "markers",
         "name": "",
         "orientation": "v",
         "showlegend": false,
         "type": "scatter",
         "x": [
          -2.254357700194338,
          -1.8907369953232744,
          -1.6770949010183833,
          -1.520487929524481,
          -1.3942144538014847,
          -1.286933926677913,
          -1.1927130236042607,
          -1.1080360487755754,
          -1.0306377806762108,
          -0.9589673839307319,
          -0.8919128604657872,
          -0.8286471397267934,
          -0.7685364071641807,
          -0.7110826284818202,
          -0.6558859661793708,
          -0.6026193228440059,
          -0.5510105721581059,
          -0.5008298276167628,
          -0.45188010714370314,
          -0.40399034311351933,
          -0.3570100462801349,
          -0.3108051566958892,
          -0.26525475892765843,
          -0.22024843361398128,
          -0.17568408084606352,
          -0.13146609399527875,
          -0.08750379225703046,
          -0.043710040626117594,
          0,
          0.04371004062611773,
          0.08750379225703046,
          0.1314660939952789,
          0.17568408084606352,
          0.22024843361398114,
          0.26525475892765843,
          0.31080515669588904,
          0.35701004628013466,
          0.403990343113519,
          0.45188010714370297,
          0.5008298276167624,
          0.5510105721581058,
          0.6026193228440055,
          0.6558859661793706,
          0.7110826284818199,
          0.7685364071641805,
          0.8286471397267934,
          0.8919128604657867,
          0.9589673839307314,
          1.0306377806762104,
          1.1080360487755754,
          1.1927130236042602,
          1.286933926677913,
          1.3942144538014838,
          1.5204879295244804,
          1.6770949010183824,
          1.8907369953232736,
          2.254357700194338
         ],
         "xaxis": "x3",
         "y": [
          -41.43447267696803,
          -27.59224780574567,
          -10.786960097366602,
          81.33467129778515,
          89.54258695608206,
          103.0968817248123,
          112.53179618269559,
          120.03928298882681,
          122.62937585556034,
          130.7800869971446,
          138.7356145024591,
          167.4925642292373,
          169.9734114076208,
          171.88672702822214,
          173.76388773995416,
          184.0897337692502,
          185.1073587135246,
          191.74730486288837,
          207.297873400952,
          212.4667646548878,
          222.0811511261525,
          222.08582971937287,
          224.851474795045,
          233.14485241920545,
          236.03447819186937,
          246.51971694278666,
          248.35092542706167,
          270.96831295586065,
          282.59390889349413,
          285.2174756311477,
          289.37814304958613,
          290.68797282270043,
          293.37020191751554,
          293.6763715777253,
          295.9849303497481,
          304.478544634861,
          304.70828878696625,
          325.47919620547384,
          330.42353278756235,
          331.7807510713354,
          334.4339758340273,
          335.22780589778233,
          338.0763678105489,
          340.5928962592466,
          351.8611589992761,
          361.7453206821082,
          366.51119747891073,
          371.37257419100246,
          378.5209457052304,
          395.2214519682226,
          418.52660024659434,
          421.6731545277527,
          446.7925879868758,
          481.4859397158593,
          507.8834307462316,
          577.9361381009661,
          668.1423729582548
         ],
         "yaxis": "y3"
        },
        {
         "hovertemplate": "<b>OLS trendline</b><br>Q_y = 140.015 * Q_x + 265.097<br>R<sup>2</sup>=0.979356<br><br>sample=8<br>Q_x=%{x}<br>Q_y=%{y} <b>(trend)</b><extra></extra>",
         "legendgroup": "",
         "marker": {
          "color": "#636efa",
          "symbol": "circle"
         },
         "mode": "lines",
         "name": "",
         "showlegend": false,
         "type": "scatter",
         "x": [
          -2.254357700194338,
          -1.8907369953232744,
          -1.6770949010183833,
          -1.520487929524481,
          -1.3942144538014847,
          -1.286933926677913,
          -1.1927130236042607,
          -1.1080360487755754,
          -1.0306377806762108,
          -0.9589673839307319,
          -0.8919128604657872,
          -0.8286471397267934,
          -0.7685364071641807,
          -0.7110826284818202,
          -0.6558859661793708,
          -0.6026193228440059,
          -0.5510105721581059,
          -0.5008298276167628,
          -0.45188010714370314,
          -0.40399034311351933,
          -0.3570100462801349,
          -0.3108051566958892,
          -0.26525475892765843,
          -0.22024843361398128,
          -0.17568408084606352,
          -0.13146609399527875,
          -0.08750379225703046,
          -0.043710040626117594,
          0,
          0.04371004062611773,
          0.08750379225703046,
          0.1314660939952789,
          0.17568408084606352,
          0.22024843361398114,
          0.26525475892765843,
          0.31080515669588904,
          0.35701004628013466,
          0.403990343113519,
          0.45188010714370297,
          0.5008298276167624,
          0.5510105721581058,
          0.6026193228440055,
          0.6558859661793706,
          0.7110826284818199,
          0.7685364071641805,
          0.8286471397267934,
          0.8919128604657867,
          0.9589673839307314,
          1.0306377806762104,
          1.1080360487755754,
          1.1927130236042602,
          1.286933926677913,
          1.3942144538014838,
          1.5204879295244804,
          1.6770949010183824,
          1.8907369953232736,
          2.254357700194338
         ],
         "xaxis": "x3",
         "y": [
          -50.54732459311441,
          0.365078765239673,
          30.278206191333396,
          52.2055529969974,
          69.8857511907448,
          84.90664905559237,
          98.0990018501758,
          109.95506020959155,
          120.79198943811323,
          130.82692996564168,
          140.21557835644225,
          149.07373700877417,
          157.49014955458637,
          165.534548334835,
          173.26291665251273,
          180.7210530971833,
          187.947059472901,
          194.9731233704926,
          201.82682526265188,
          208.5321172066452,
          215.11006997510654,
          221.5794539901765,
          227.95719924297217,
          234.25876611568293,
          240.49845014118068,
          246.68963769481525,
          252.84502546200255,
          258.97681366256506,
          265.0968810551962,
          271.21694844782735,
          277.34873664838983,
          283.50412441557717,
          289.69531196921173,
          295.9349959947095,
          302.2365628674203,
          308.61430812021587,
          315.08369213528584,
          321.6616449037472,
          328.36693684774053,
          335.22063873989975,
          342.24670263749135,
          349.47270901320906,
          356.9308454578796,
          364.65921377555736,
          372.70361255580605,
          381.12002510161824,
          389.9781837539501,
          399.3668321447507,
          409.4017726722791,
          420.23870190080083,
          432.0947602602165,
          445.28711305480005,
          460.3080109196475,
          477.9882091133949,
          499.9155559190589,
          529.8286833451526,
          580.7410867035069
         ],
         "yaxis": "y3"
        }
       ],
       "layout": {
        "annotations": [
         {
          "font": {},
          "showarrow": false,
          "text": "sample=6",
          "x": 0.15999999999999998,
          "xanchor": "center",
          "xref": "paper",
          "y": 0.2866666666666666,
          "yanchor": "bottom",
          "yref": "paper"
         },
         {
          "font": {},
          "showarrow": false,
          "text": "sample=7",
          "x": 0.49999999999999994,
          "xanchor": "center",
          "xref": "paper",
          "y": 0.2866666666666666,
          "yanchor": "bottom",
          "yref": "paper"
         },
         {
          "font": {},
          "showarrow": false,
          "text": "sample=8",
          "x": 0.8399999999999999,
          "xanchor": "center",
          "xref": "paper",
          "y": 0.2866666666666666,
          "yanchor": "bottom",
          "yref": "paper"
         },
         {
          "font": {},
          "showarrow": false,
          "text": "sample=3",
          "x": 0.15999999999999998,
          "xanchor": "center",
          "xref": "paper",
          "y": 0.6433333333333333,
          "yanchor": "bottom",
          "yref": "paper"
         },
         {
          "font": {},
          "showarrow": false,
          "text": "sample=4",
          "x": 0.49999999999999994,
          "xanchor": "center",
          "xref": "paper",
          "y": 0.6433333333333333,
          "yanchor": "bottom",
          "yref": "paper"
         },
         {
          "font": {},
          "showarrow": false,
          "text": "sample=5",
          "x": 0.8399999999999999,
          "xanchor": "center",
          "xref": "paper",
          "y": 0.6433333333333333,
          "yanchor": "bottom",
          "yref": "paper"
         },
         {
          "font": {},
          "showarrow": false,
          "text": "sample=data",
          "x": 0.15999999999999998,
          "xanchor": "center",
          "xref": "paper",
          "y": 0.9999999999999999,
          "yanchor": "bottom",
          "yref": "paper"
         },
         {
          "font": {},
          "showarrow": false,
          "text": "sample=1",
          "x": 0.49999999999999994,
          "xanchor": "center",
          "xref": "paper",
          "y": 0.9999999999999999,
          "yanchor": "bottom",
          "yref": "paper"
         },
         {
          "font": {},
          "showarrow": false,
          "text": "sample=2",
          "x": 0.8399999999999999,
          "xanchor": "center",
          "xref": "paper",
          "y": 0.9999999999999999,
          "yanchor": "bottom",
          "yref": "paper"
         }
        ],
        "height": 800,
        "legend": {
         "tracegroupgap": 0
        },
        "margin": {
         "t": 60
        },
        "template": {
         "data": {
          "bar": [
           {
            "error_x": {
             "color": "#2a3f5f"
            },
            "error_y": {
             "color": "#2a3f5f"
            },
            "marker": {
             "line": {
              "color": "#E5ECF6",
              "width": 0.5
             },
             "pattern": {
              "fillmode": "overlay",
              "size": 10,
              "solidity": 0.2
             }
            },
            "type": "bar"
           }
          ],
          "barpolar": [
           {
            "marker": {
             "line": {
              "color": "#E5ECF6",
              "width": 0.5
             },
             "pattern": {
              "fillmode": "overlay",
              "size": 10,
              "solidity": 0.2
             }
            },
            "type": "barpolar"
           }
          ],
          "carpet": [
           {
            "aaxis": {
             "endlinecolor": "#2a3f5f",
             "gridcolor": "white",
             "linecolor": "white",
             "minorgridcolor": "white",
             "startlinecolor": "#2a3f5f"
            },
            "baxis": {
             "endlinecolor": "#2a3f5f",
             "gridcolor": "white",
             "linecolor": "white",
             "minorgridcolor": "white",
             "startlinecolor": "#2a3f5f"
            },
            "type": "carpet"
           }
          ],
          "choropleth": [
           {
            "colorbar": {
             "outlinewidth": 0,
             "ticks": ""
            },
            "type": "choropleth"
           }
          ],
          "contour": [
           {
            "colorbar": {
             "outlinewidth": 0,
             "ticks": ""
            },
            "colorscale": [
             [
              0,
              "#0d0887"
             ],
             [
              0.1111111111111111,
              "#46039f"
             ],
             [
              0.2222222222222222,
              "#7201a8"
             ],
             [
              0.3333333333333333,
              "#9c179e"
             ],
             [
              0.4444444444444444,
              "#bd3786"
             ],
             [
              0.5555555555555556,
              "#d8576b"
             ],
             [
              0.6666666666666666,
              "#ed7953"
             ],
             [
              0.7777777777777778,
              "#fb9f3a"
             ],
             [
              0.8888888888888888,
              "#fdca26"
             ],
             [
              1,
              "#f0f921"
             ]
            ],
            "type": "contour"
           }
          ],
          "contourcarpet": [
           {
            "colorbar": {
             "outlinewidth": 0,
             "ticks": ""
            },
            "type": "contourcarpet"
           }
          ],
          "heatmap": [
           {
            "colorbar": {
             "outlinewidth": 0,
             "ticks": ""
            },
            "colorscale": [
             [
              0,
              "#0d0887"
             ],
             [
              0.1111111111111111,
              "#46039f"
             ],
             [
              0.2222222222222222,
              "#7201a8"
             ],
             [
              0.3333333333333333,
              "#9c179e"
             ],
             [
              0.4444444444444444,
              "#bd3786"
             ],
             [
              0.5555555555555556,
              "#d8576b"
             ],
             [
              0.6666666666666666,
              "#ed7953"
             ],
             [
              0.7777777777777778,
              "#fb9f3a"
             ],
             [
              0.8888888888888888,
              "#fdca26"
             ],
             [
              1,
              "#f0f921"
             ]
            ],
            "type": "heatmap"
           }
          ],
          "heatmapgl": [
           {
            "colorbar": {
             "outlinewidth": 0,
             "ticks": ""
            },
            "colorscale": [
             [
              0,
              "#0d0887"
             ],
             [
              0.1111111111111111,
              "#46039f"
             ],
             [
              0.2222222222222222,
              "#7201a8"
             ],
             [
              0.3333333333333333,
              "#9c179e"
             ],
             [
              0.4444444444444444,
              "#bd3786"
             ],
             [
              0.5555555555555556,
              "#d8576b"
             ],
             [
              0.6666666666666666,
              "#ed7953"
             ],
             [
              0.7777777777777778,
              "#fb9f3a"
             ],
             [
              0.8888888888888888,
              "#fdca26"
             ],
             [
              1,
              "#f0f921"
             ]
            ],
            "type": "heatmapgl"
           }
          ],
          "histogram": [
           {
            "marker": {
             "pattern": {
              "fillmode": "overlay",
              "size": 10,
              "solidity": 0.2
             }
            },
            "type": "histogram"
           }
          ],
          "histogram2d": [
           {
            "colorbar": {
             "outlinewidth": 0,
             "ticks": ""
            },
            "colorscale": [
             [
              0,
              "#0d0887"
             ],
             [
              0.1111111111111111,
              "#46039f"
             ],
             [
              0.2222222222222222,
              "#7201a8"
             ],
             [
              0.3333333333333333,
              "#9c179e"
             ],
             [
              0.4444444444444444,
              "#bd3786"
             ],
             [
              0.5555555555555556,
              "#d8576b"
             ],
             [
              0.6666666666666666,
              "#ed7953"
             ],
             [
              0.7777777777777778,
              "#fb9f3a"
             ],
             [
              0.8888888888888888,
              "#fdca26"
             ],
             [
              1,
              "#f0f921"
             ]
            ],
            "type": "histogram2d"
           }
          ],
          "histogram2dcontour": [
           {
            "colorbar": {
             "outlinewidth": 0,
             "ticks": ""
            },
            "colorscale": [
             [
              0,
              "#0d0887"
             ],
             [
              0.1111111111111111,
              "#46039f"
             ],
             [
              0.2222222222222222,
              "#7201a8"
             ],
             [
              0.3333333333333333,
              "#9c179e"
             ],
             [
              0.4444444444444444,
              "#bd3786"
             ],
             [
              0.5555555555555556,
              "#d8576b"
             ],
             [
              0.6666666666666666,
              "#ed7953"
             ],
             [
              0.7777777777777778,
              "#fb9f3a"
             ],
             [
              0.8888888888888888,
              "#fdca26"
             ],
             [
              1,
              "#f0f921"
             ]
            ],
            "type": "histogram2dcontour"
           }
          ],
          "mesh3d": [
           {
            "colorbar": {
             "outlinewidth": 0,
             "ticks": ""
            },
            "type": "mesh3d"
           }
          ],
          "parcoords": [
           {
            "line": {
             "colorbar": {
              "outlinewidth": 0,
              "ticks": ""
             }
            },
            "type": "parcoords"
           }
          ],
          "pie": [
           {
            "automargin": true,
            "type": "pie"
           }
          ],
          "scatter": [
           {
            "fillpattern": {
             "fillmode": "overlay",
             "size": 10,
             "solidity": 0.2
            },
            "type": "scatter"
           }
          ],
          "scatter3d": [
           {
            "line": {
             "colorbar": {
              "outlinewidth": 0,
              "ticks": ""
             }
            },
            "marker": {
             "colorbar": {
              "outlinewidth": 0,
              "ticks": ""
             }
            },
            "type": "scatter3d"
           }
          ],
          "scattercarpet": [
           {
            "marker": {
             "colorbar": {
              "outlinewidth": 0,
              "ticks": ""
             }
            },
            "type": "scattercarpet"
           }
          ],
          "scattergeo": [
           {
            "marker": {
             "colorbar": {
              "outlinewidth": 0,
              "ticks": ""
             }
            },
            "type": "scattergeo"
           }
          ],
          "scattergl": [
           {
            "marker": {
             "colorbar": {
              "outlinewidth": 0,
              "ticks": ""
             }
            },
            "type": "scattergl"
           }
          ],
          "scattermapbox": [
           {
            "marker": {
             "colorbar": {
              "outlinewidth": 0,
              "ticks": ""
             }
            },
            "type": "scattermapbox"
           }
          ],
          "scatterpolar": [
           {
            "marker": {
             "colorbar": {
              "outlinewidth": 0,
              "ticks": ""
             }
            },
            "type": "scatterpolar"
           }
          ],
          "scatterpolargl": [
           {
            "marker": {
             "colorbar": {
              "outlinewidth": 0,
              "ticks": ""
             }
            },
            "type": "scatterpolargl"
           }
          ],
          "scatterternary": [
           {
            "marker": {
             "colorbar": {
              "outlinewidth": 0,
              "ticks": ""
             }
            },
            "type": "scatterternary"
           }
          ],
          "surface": [
           {
            "colorbar": {
             "outlinewidth": 0,
             "ticks": ""
            },
            "colorscale": [
             [
              0,
              "#0d0887"
             ],
             [
              0.1111111111111111,
              "#46039f"
             ],
             [
              0.2222222222222222,
              "#7201a8"
             ],
             [
              0.3333333333333333,
              "#9c179e"
             ],
             [
              0.4444444444444444,
              "#bd3786"
             ],
             [
              0.5555555555555556,
              "#d8576b"
             ],
             [
              0.6666666666666666,
              "#ed7953"
             ],
             [
              0.7777777777777778,
              "#fb9f3a"
             ],
             [
              0.8888888888888888,
              "#fdca26"
             ],
             [
              1,
              "#f0f921"
             ]
            ],
            "type": "surface"
           }
          ],
          "table": [
           {
            "cells": {
             "fill": {
              "color": "#EBF0F8"
             },
             "line": {
              "color": "white"
             }
            },
            "header": {
             "fill": {
              "color": "#C8D4E3"
             },
             "line": {
              "color": "white"
             }
            },
            "type": "table"
           }
          ]
         },
         "layout": {
          "annotationdefaults": {
           "arrowcolor": "#2a3f5f",
           "arrowhead": 0,
           "arrowwidth": 1
          },
          "autotypenumbers": "strict",
          "coloraxis": {
           "colorbar": {
            "outlinewidth": 0,
            "ticks": ""
           }
          },
          "colorscale": {
           "diverging": [
            [
             0,
             "#8e0152"
            ],
            [
             0.1,
             "#c51b7d"
            ],
            [
             0.2,
             "#de77ae"
            ],
            [
             0.3,
             "#f1b6da"
            ],
            [
             0.4,
             "#fde0ef"
            ],
            [
             0.5,
             "#f7f7f7"
            ],
            [
             0.6,
             "#e6f5d0"
            ],
            [
             0.7,
             "#b8e186"
            ],
            [
             0.8,
             "#7fbc41"
            ],
            [
             0.9,
             "#4d9221"
            ],
            [
             1,
             "#276419"
            ]
           ],
           "sequential": [
            [
             0,
             "#0d0887"
            ],
            [
             0.1111111111111111,
             "#46039f"
            ],
            [
             0.2222222222222222,
             "#7201a8"
            ],
            [
             0.3333333333333333,
             "#9c179e"
            ],
            [
             0.4444444444444444,
             "#bd3786"
            ],
            [
             0.5555555555555556,
             "#d8576b"
            ],
            [
             0.6666666666666666,
             "#ed7953"
            ],
            [
             0.7777777777777778,
             "#fb9f3a"
            ],
            [
             0.8888888888888888,
             "#fdca26"
            ],
            [
             1,
             "#f0f921"
            ]
           ],
           "sequentialminus": [
            [
             0,
             "#0d0887"
            ],
            [
             0.1111111111111111,
             "#46039f"
            ],
            [
             0.2222222222222222,
             "#7201a8"
            ],
            [
             0.3333333333333333,
             "#9c179e"
            ],
            [
             0.4444444444444444,
             "#bd3786"
            ],
            [
             0.5555555555555556,
             "#d8576b"
            ],
            [
             0.6666666666666666,
             "#ed7953"
            ],
            [
             0.7777777777777778,
             "#fb9f3a"
            ],
            [
             0.8888888888888888,
             "#fdca26"
            ],
            [
             1,
             "#f0f921"
            ]
           ]
          },
          "colorway": [
           "#636efa",
           "#EF553B",
           "#00cc96",
           "#ab63fa",
           "#FFA15A",
           "#19d3f3",
           "#FF6692",
           "#B6E880",
           "#FF97FF",
           "#FECB52"
          ],
          "font": {
           "color": "#2a3f5f"
          },
          "geo": {
           "bgcolor": "white",
           "lakecolor": "white",
           "landcolor": "#E5ECF6",
           "showlakes": true,
           "showland": true,
           "subunitcolor": "white"
          },
          "hoverlabel": {
           "align": "left"
          },
          "hovermode": "closest",
          "mapbox": {
           "style": "light"
          },
          "paper_bgcolor": "white",
          "plot_bgcolor": "#E5ECF6",
          "polar": {
           "angularaxis": {
            "gridcolor": "white",
            "linecolor": "white",
            "ticks": ""
           },
           "bgcolor": "#E5ECF6",
           "radialaxis": {
            "gridcolor": "white",
            "linecolor": "white",
            "ticks": ""
           }
          },
          "scene": {
           "xaxis": {
            "backgroundcolor": "#E5ECF6",
            "gridcolor": "white",
            "gridwidth": 2,
            "linecolor": "white",
            "showbackground": true,
            "ticks": "",
            "zerolinecolor": "white"
           },
           "yaxis": {
            "backgroundcolor": "#E5ECF6",
            "gridcolor": "white",
            "gridwidth": 2,
            "linecolor": "white",
            "showbackground": true,
            "ticks": "",
            "zerolinecolor": "white"
           },
           "zaxis": {
            "backgroundcolor": "#E5ECF6",
            "gridcolor": "white",
            "gridwidth": 2,
            "linecolor": "white",
            "showbackground": true,
            "ticks": "",
            "zerolinecolor": "white"
           }
          },
          "shapedefaults": {
           "line": {
            "color": "#2a3f5f"
           }
          },
          "ternary": {
           "aaxis": {
            "gridcolor": "white",
            "linecolor": "white",
            "ticks": ""
           },
           "baxis": {
            "gridcolor": "white",
            "linecolor": "white",
            "ticks": ""
           },
           "bgcolor": "#E5ECF6",
           "caxis": {
            "gridcolor": "white",
            "linecolor": "white",
            "ticks": ""
           }
          },
          "title": {
           "x": 0.05
          },
          "xaxis": {
           "automargin": true,
           "gridcolor": "white",
           "linecolor": "white",
           "ticks": "",
           "title": {
            "standoff": 15
           },
           "zerolinecolor": "white",
           "zerolinewidth": 2
          },
          "yaxis": {
           "automargin": true,
           "gridcolor": "white",
           "linecolor": "white",
           "ticks": "",
           "title": {
            "standoff": 15
           },
           "zerolinecolor": "white",
           "zerolinewidth": 2
          }
         }
        },
        "width": 800,
        "xaxis": {
         "anchor": "y",
         "domain": [
          0,
          0.31999999999999995
         ],
         "title": {
          "text": "Q_x"
         }
        },
        "xaxis2": {
         "anchor": "y2",
         "domain": [
          0.33999999999999997,
          0.6599999999999999
         ],
         "matches": "x",
         "title": {
          "text": "Q_x"
         }
        },
        "xaxis3": {
         "anchor": "y3",
         "domain": [
          0.6799999999999999,
          0.9999999999999999
         ],
         "matches": "x",
         "title": {
          "text": "Q_x"
         }
        },
        "xaxis4": {
         "anchor": "y4",
         "domain": [
          0,
          0.31999999999999995
         ],
         "matches": "x",
         "showticklabels": false
        },
        "xaxis5": {
         "anchor": "y5",
         "domain": [
          0.33999999999999997,
          0.6599999999999999
         ],
         "matches": "x",
         "showticklabels": false
        },
        "xaxis6": {
         "anchor": "y6",
         "domain": [
          0.6799999999999999,
          0.9999999999999999
         ],
         "matches": "x",
         "showticklabels": false
        },
        "xaxis7": {
         "anchor": "y7",
         "domain": [
          0,
          0.31999999999999995
         ],
         "matches": "x",
         "showticklabels": false
        },
        "xaxis8": {
         "anchor": "y8",
         "domain": [
          0.33999999999999997,
          0.6599999999999999
         ],
         "matches": "x",
         "showticklabels": false
        },
        "xaxis9": {
         "anchor": "y9",
         "domain": [
          0.6799999999999999,
          0.9999999999999999
         ],
         "matches": "x",
         "showticklabels": false
        },
        "yaxis": {
         "anchor": "x",
         "domain": [
          0,
          0.2866666666666666
         ],
         "title": {
          "text": "Q_y"
         }
        },
        "yaxis2": {
         "anchor": "x2",
         "domain": [
          0,
          0.2866666666666666
         ],
         "matches": "y",
         "showticklabels": false
        },
        "yaxis3": {
         "anchor": "x3",
         "domain": [
          0,
          0.2866666666666666
         ],
         "matches": "y",
         "showticklabels": false
        },
        "yaxis4": {
         "anchor": "x4",
         "domain": [
          0.35666666666666663,
          0.6433333333333333
         ],
         "matches": "y",
         "title": {
          "text": "Q_y"
         }
        },
        "yaxis5": {
         "anchor": "x5",
         "domain": [
          0.35666666666666663,
          0.6433333333333333
         ],
         "matches": "y",
         "showticklabels": false
        },
        "yaxis6": {
         "anchor": "x6",
         "domain": [
          0.35666666666666663,
          0.6433333333333333
         ],
         "matches": "y",
         "showticklabels": false
        },
        "yaxis7": {
         "anchor": "x7",
         "domain": [
          0.7133333333333333,
          0.9999999999999999
         ],
         "matches": "y",
         "title": {
          "text": "Q_y"
         }
        },
        "yaxis8": {
         "anchor": "x8",
         "domain": [
          0.7133333333333333,
          0.9999999999999999
         ],
         "matches": "y",
         "showticklabels": false
        },
        "yaxis9": {
         "anchor": "x9",
         "domain": [
          0.7133333333333333,
          0.9999999999999999
         ],
         "matches": "y",
         "showticklabels": false
        }
       }
      }
     },
     "metadata": {},
     "output_type": "display_data"
    }
   ],
   "source": [
    "# <IHRE LÖSUNG HIER>\n",
    "(Q_x, Q_y) = probplot(mcdonalds['cal_fat'], fit=False)\n",
    "\n",
    "sim_qq_data = [pd.DataFrame({\"Q_x\": Q_x, \"Q_y\": Q_y, \"sample\": \"data\"})]\n",
    "for i in range(8):\n",
    "    sim_norm = np.random.normal(size = len(mcdonalds['cal_fat']), loc = dqmean, scale = dqsd)\n",
    "    (Q_x, Q_y) = probplot(sim_norm, fit=False)\n",
    "    sim_qq_data.append( pd.DataFrame({\"Q_x\": Q_x, \"Q_y\": Q_y, \"sample\": str(i+1)}) )\n",
    "sim_qq_data = pd.concat(sim_qq_data)\n",
    "\n",
    "px.scatter(sim_qq_data, x=\"Q_x\", y=\"Q_y\", facet_col=\"sample\", facet_col_wrap=3, trendline=\"ols\", width=800, height=800)\n",
    "\n",
    "\"\"\"\n",
    "Das McDonalds Diagramm ist im Vergleich zu den simulierten Diagrammen stärker gekrümmt und stammt somit vermutlich nicht aus einer Normalverteilung.\n",
    "\"\"\""
   ]
  },
  {
   "cell_type": "markdown",
   "metadata": {},
   "source": [
    "## Wahrscheinlichkeiten von Normalverteilungen"
   ]
  },
  {
   "cell_type": "markdown",
   "metadata": {},
   "source": [
    "Sie haben nun einige Werkzeuge, um zu beurteilen, ob eine Variable normalverteilt ist oder nicht. Warum sollte uns das interessieren?\n",
    "\n",
    "Es stellt sich heraus, dass man in der Statistik viel über die Normalverteilung weiß. Sobald man feststellt, dass eine Zufallsvariable annähernd normalverteilt ist, kann man alle möglichen Fragen zu dieser Variablen im Zusammenhang mit der Wahrscheinlichkeit beantworten. Nehmen wir zum Beispiel die Frage: \"Wie groß ist die Wahrscheinlichkeit, dass ein zufällig ausgewähltes Produkt von Dairy Queen mehr als 500 Kalorien aus Fett hat?\"\n",
    "\n",
    "Wenn wir davon ausgehen, dass die Kalorien aus Fett auf der Speisekarte von Dairy Queen normalverteilt sind (eine sehr genaue Annäherung ist auch in Ordnung), können wir diese Wahrscheinlichkeit durch Berechnung eines Z-Scores und Konsultation einer Z-Tabelle (auch *Normalwahrscheinlichkeitstabelle* genannt) ermitteln. In Python wird dies in einem Schritt mit der Funktion `norm.cdf()` aus `scipy.stats` durchgeführt."
   ]
  },
  {
   "cell_type": "markdown",
   "metadata": {},
   "source": [
    "Die Funktion `norm.cdf()` gibt die Fläche unter der Normalkurve *unterhalb* eines bestimmten Wertes q mit einem bestimmten Mittelwert und einer bestimmten Standardabweichung an. Da wir uns für die Wahrscheinlichkeit interessieren, dass ein Dairy-Queen-Artikel *mehr* als 500 Kalorien aus Fett hat, müssen wir 1 minus diese Wahrscheinlichkeit nehmen."
   ]
  },
  {
   "cell_type": "code",
   "execution_count": 34,
   "metadata": {},
   "outputs": [
    {
     "data": {
      "text/plain": [
       "0.0629"
      ]
     },
     "execution_count": 34,
     "metadata": {},
     "output_type": "execute_result"
    }
   ],
   "source": [
    "from scipy.stats import norm\n",
    "\n",
    "prob_theoretical = 1 - norm.cdf(500, loc = dqmean, scale = dqsd)\n",
    "round(prob_theoretical, 4)"
   ]
  },
  {
   "cell_type": "markdown",
   "metadata": {},
   "source": [
    "Unter der Annahme einer Normalverteilung konnten wir eine theoretische Wahrscheinlichkeit berechnen. Wenn wir die Wahrscheinlichkeit empirisch berechnen wollen, müssen wir lediglich feststellen, wie viele Beobachtungen über 500 liegen, und diese Zahl durch den Gesamtumfang der Stichprobe teilen."
   ]
  },
  {
   "cell_type": "code",
   "execution_count": 35,
   "metadata": {},
   "outputs": [
    {
     "data": {
      "text/plain": [
       "0.0714"
      ]
     },
     "execution_count": 35,
     "metadata": {},
     "output_type": "execute_result"
    }
   ],
   "source": [
    "prob_empirical = (sum(dairy_queen['cal_fat'] > 500) / len(dairy_queen['cal_fat']))\n",
    "round(prob_empirical, 4)"
   ]
  },
  {
   "cell_type": "markdown",
   "metadata": {},
   "source": [
    "Obwohl die Wahrscheinlichkeiten nicht genau gleich sind, liegen sie recht nahe beieinander. Je näher Ihre Verteilung an der Normalverteilung liegt, desto genauer sind die theoretischen Wahrscheinlichkeiten."
   ]
  },
  {
   "cell_type": "markdown",
   "metadata": {},
   "source": [
    "### ✏️ Aufgabe 6\n",
    "Formulieren Sie zwei Wahrscheinlichkeitsfragen, die Sie für eines der Restaurants in diesem Datensatz beantworten möchten. Berechnen Sie diese Wahrscheinlichkeiten sowohl mit der theoretischen Normalverteilung als auch mit der empirischen Verteilung (insgesamt vier Wahrscheinlichkeiten). Bei welcher der beiden Fragen war die Übereinstimmung größer?"
   ]
  },
  {
   "cell_type": "code",
   "execution_count": 41,
   "metadata": {},
   "outputs": [
    {
     "name": "stdout",
     "output_type": "stream",
     "text": [
      "0.33629060362947727\n",
      "0.3333333333333333\n",
      "0.1658950367676304\n",
      "0.10526315789473684\n"
     ]
    }
   ],
   "source": [
    "# <IHRE LÖSUNG HIER>\n",
    "#Frage 1: Wir interessieren uns für die Frage wie wahrscheinlich es ist, dass ein Mc Donalds Item weniger als 1000mg Sodium hat\n",
    "prob_theoretical_question_one = norm.cdf(1000, loc = mcdonalds['sodium'].mean(), scale = mcdonalds['sodium'].std())\n",
    "prob_empirical_question_one = sum(mcdonalds['sodium'] < 1000) / len(mcdonalds['sodium'])\n",
    "print(prob_theoretical_question_one)\n",
    "print(prob_empirical_question_one)\n",
    "\n",
    "#Frage 2: Wit interessieren uns für die Frage wie wahrscheinlich es ist, dass ein Mc Donalds Item mehr als 500 Kalorien aus Fett hat\n",
    "prob_theoretical_question_two = 1 - norm.cdf(500, loc = mcdonalds['cal_fat'].mean(), scale = mcdonalds['cal_fat'].std())\n",
    "prob_empirical_question_two = sum(mcdonalds['cal_fat'] > 500) / len(mcdonalds['cal_fat'])\n",
    "print(prob_theoretical_question_two)\n",
    "print(prob_empirical_question_two)\n",
    "\n",
    "#Die Übereinstimmung zwischen empirischer Verteilung und der theoretischen Normalverteilung war bei Frage 1 größer\n"
   ]
  },
  {
   "cell_type": "markdown",
   "metadata": {},
   "source": [
    "---\n",
    "\n",
    "Diese Übung ist eine deutsche Übersetzung der Übungen aus OpenIntro Statistics von Andrew Bray und Mine Çetinkaya-Rundel (https://www.openintro.org/book/os/). Die Python Adaption wurde teilweise von David Akman und Imran Ture (www.featureranking.com) übernommen."
   ]
  }
 ],
 "metadata": {
  "kernelspec": {
   "display_name": "Python 3 (ipykernel)",
   "language": "python",
   "name": "python3"
  },
  "language_info": {
   "codemirror_mode": {
    "name": "ipython",
    "version": 3
   },
   "file_extension": ".py",
   "mimetype": "text/x-python",
   "name": "python",
   "nbconvert_exporter": "python",
   "pygments_lexer": "ipython3",
   "version": "3.11.6"
  }
 },
 "nbformat": 4,
 "nbformat_minor": 4
}
