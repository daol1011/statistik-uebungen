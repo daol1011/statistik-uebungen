{
 "cells": [
  {
   "cell_type": "markdown",
   "metadata": {},
   "source": [
    "# Die Normalverteilung"
   ]
  },
  {
   "cell_type": "markdown",
   "metadata": {},
   "source": [
    "In dieser Übung werden wir die wichtigste Wahrscheinlichkeitsverteilung untersuchen: die Normalverteilung. Wenn wir sicher sind, dass unsere Daten annähernd normal sind, können wir viele leistungsstarke statistischen Methoden einsetzen, die es uns erlauben Schlüsse über die Daten hinaus zu ziehen. Hier werden wir grafische Werkzeuge verwenden, um die Normalität eines Datensatzes zu beurteilen und lernen, wie man Zufallszahlen aus einer Normalverteilung erzeugt."
   ]
  },
  {
   "cell_type": "markdown",
   "metadata": {},
   "source": [
    "## Die Daten"
   ]
  },
  {
   "cell_type": "markdown",
   "metadata": {},
   "source": [
    "In dieser Übung werden Sie mit Fast-Food-Daten arbeiten. Der Datensatz enthält Daten zu 515 Produkten von einigen der beliebtesten Fast-Food-Restaurants weltweit. Werfen wir einen kurzen Blick auf die ersten paar Zeilen der Daten."
   ]
  },
  {
   "cell_type": "code",
   "execution_count": 18,
   "metadata": {},
   "outputs": [
    {
     "data": {
      "text/html": [
       "<div>\n",
       "<style scoped>\n",
       "    .dataframe tbody tr th:only-of-type {\n",
       "        vertical-align: middle;\n",
       "    }\n",
       "\n",
       "    .dataframe tbody tr th {\n",
       "        vertical-align: top;\n",
       "    }\n",
       "\n",
       "    .dataframe thead th {\n",
       "        text-align: right;\n",
       "    }\n",
       "</style>\n",
       "<table border=\"1\" class=\"dataframe\">\n",
       "  <thead>\n",
       "    <tr style=\"text-align: right;\">\n",
       "      <th></th>\n",
       "      <th>restaurant</th>\n",
       "      <th>item</th>\n",
       "      <th>calories</th>\n",
       "      <th>cal_fat</th>\n",
       "      <th>total_fat</th>\n",
       "      <th>sat_fat</th>\n",
       "      <th>trans_fat</th>\n",
       "      <th>cholesterol</th>\n",
       "      <th>sodium</th>\n",
       "      <th>total_carb</th>\n",
       "      <th>fiber</th>\n",
       "      <th>sugar</th>\n",
       "      <th>protein</th>\n",
       "      <th>vit_a</th>\n",
       "      <th>vit_c</th>\n",
       "      <th>calcium</th>\n",
       "      <th>salad</th>\n",
       "    </tr>\n",
       "  </thead>\n",
       "  <tbody>\n",
       "    <tr>\n",
       "      <th>0</th>\n",
       "      <td>Mcdonalds</td>\n",
       "      <td>Artisan Grilled Chicken Sandwich</td>\n",
       "      <td>380</td>\n",
       "      <td>60</td>\n",
       "      <td>7</td>\n",
       "      <td>2.0</td>\n",
       "      <td>0.0</td>\n",
       "      <td>95</td>\n",
       "      <td>1110</td>\n",
       "      <td>44</td>\n",
       "      <td>3.0</td>\n",
       "      <td>11</td>\n",
       "      <td>37.0</td>\n",
       "      <td>4.0</td>\n",
       "      <td>20.0</td>\n",
       "      <td>20.0</td>\n",
       "      <td>Other</td>\n",
       "    </tr>\n",
       "    <tr>\n",
       "      <th>1</th>\n",
       "      <td>Mcdonalds</td>\n",
       "      <td>Single Bacon Smokehouse Burger</td>\n",
       "      <td>840</td>\n",
       "      <td>410</td>\n",
       "      <td>45</td>\n",
       "      <td>17.0</td>\n",
       "      <td>1.5</td>\n",
       "      <td>130</td>\n",
       "      <td>1580</td>\n",
       "      <td>62</td>\n",
       "      <td>2.0</td>\n",
       "      <td>18</td>\n",
       "      <td>46.0</td>\n",
       "      <td>6.0</td>\n",
       "      <td>20.0</td>\n",
       "      <td>20.0</td>\n",
       "      <td>Other</td>\n",
       "    </tr>\n",
       "    <tr>\n",
       "      <th>2</th>\n",
       "      <td>Mcdonalds</td>\n",
       "      <td>Double Bacon Smokehouse Burger</td>\n",
       "      <td>1130</td>\n",
       "      <td>600</td>\n",
       "      <td>67</td>\n",
       "      <td>27.0</td>\n",
       "      <td>3.0</td>\n",
       "      <td>220</td>\n",
       "      <td>1920</td>\n",
       "      <td>63</td>\n",
       "      <td>3.0</td>\n",
       "      <td>18</td>\n",
       "      <td>70.0</td>\n",
       "      <td>10.0</td>\n",
       "      <td>20.0</td>\n",
       "      <td>50.0</td>\n",
       "      <td>Other</td>\n",
       "    </tr>\n",
       "    <tr>\n",
       "      <th>3</th>\n",
       "      <td>Mcdonalds</td>\n",
       "      <td>Grilled Bacon Smokehouse Chicken Sandwich</td>\n",
       "      <td>750</td>\n",
       "      <td>280</td>\n",
       "      <td>31</td>\n",
       "      <td>10.0</td>\n",
       "      <td>0.5</td>\n",
       "      <td>155</td>\n",
       "      <td>1940</td>\n",
       "      <td>62</td>\n",
       "      <td>2.0</td>\n",
       "      <td>18</td>\n",
       "      <td>55.0</td>\n",
       "      <td>6.0</td>\n",
       "      <td>25.0</td>\n",
       "      <td>20.0</td>\n",
       "      <td>Other</td>\n",
       "    </tr>\n",
       "    <tr>\n",
       "      <th>4</th>\n",
       "      <td>Mcdonalds</td>\n",
       "      <td>Crispy Bacon Smokehouse Chicken Sandwich</td>\n",
       "      <td>920</td>\n",
       "      <td>410</td>\n",
       "      <td>45</td>\n",
       "      <td>12.0</td>\n",
       "      <td>0.5</td>\n",
       "      <td>120</td>\n",
       "      <td>1980</td>\n",
       "      <td>81</td>\n",
       "      <td>4.0</td>\n",
       "      <td>18</td>\n",
       "      <td>46.0</td>\n",
       "      <td>6.0</td>\n",
       "      <td>20.0</td>\n",
       "      <td>20.0</td>\n",
       "      <td>Other</td>\n",
       "    </tr>\n",
       "    <tr>\n",
       "      <th>...</th>\n",
       "      <td>...</td>\n",
       "      <td>...</td>\n",
       "      <td>...</td>\n",
       "      <td>...</td>\n",
       "      <td>...</td>\n",
       "      <td>...</td>\n",
       "      <td>...</td>\n",
       "      <td>...</td>\n",
       "      <td>...</td>\n",
       "      <td>...</td>\n",
       "      <td>...</td>\n",
       "      <td>...</td>\n",
       "      <td>...</td>\n",
       "      <td>...</td>\n",
       "      <td>...</td>\n",
       "      <td>...</td>\n",
       "      <td>...</td>\n",
       "    </tr>\n",
       "    <tr>\n",
       "      <th>510</th>\n",
       "      <td>Taco Bell</td>\n",
       "      <td>Spicy Triple Double Crunchwrap</td>\n",
       "      <td>780</td>\n",
       "      <td>340</td>\n",
       "      <td>38</td>\n",
       "      <td>10.0</td>\n",
       "      <td>0.5</td>\n",
       "      <td>50</td>\n",
       "      <td>1850</td>\n",
       "      <td>87</td>\n",
       "      <td>9.0</td>\n",
       "      <td>8</td>\n",
       "      <td>23.0</td>\n",
       "      <td>20.0</td>\n",
       "      <td>10.0</td>\n",
       "      <td>25.0</td>\n",
       "      <td>Other</td>\n",
       "    </tr>\n",
       "    <tr>\n",
       "      <th>511</th>\n",
       "      <td>Taco Bell</td>\n",
       "      <td>Express Taco Salad w/ Chips</td>\n",
       "      <td>580</td>\n",
       "      <td>260</td>\n",
       "      <td>29</td>\n",
       "      <td>9.0</td>\n",
       "      <td>1.0</td>\n",
       "      <td>60</td>\n",
       "      <td>1270</td>\n",
       "      <td>59</td>\n",
       "      <td>8.0</td>\n",
       "      <td>7</td>\n",
       "      <td>23.0</td>\n",
       "      <td>NaN</td>\n",
       "      <td>NaN</td>\n",
       "      <td>NaN</td>\n",
       "      <td>Other</td>\n",
       "    </tr>\n",
       "    <tr>\n",
       "      <th>512</th>\n",
       "      <td>Taco Bell</td>\n",
       "      <td>Fiesta Taco Salad-Beef</td>\n",
       "      <td>780</td>\n",
       "      <td>380</td>\n",
       "      <td>42</td>\n",
       "      <td>10.0</td>\n",
       "      <td>1.0</td>\n",
       "      <td>60</td>\n",
       "      <td>1340</td>\n",
       "      <td>74</td>\n",
       "      <td>11.0</td>\n",
       "      <td>7</td>\n",
       "      <td>26.0</td>\n",
       "      <td>NaN</td>\n",
       "      <td>NaN</td>\n",
       "      <td>NaN</td>\n",
       "      <td>Other</td>\n",
       "    </tr>\n",
       "    <tr>\n",
       "      <th>513</th>\n",
       "      <td>Taco Bell</td>\n",
       "      <td>Fiesta Taco Salad-Chicken</td>\n",
       "      <td>720</td>\n",
       "      <td>320</td>\n",
       "      <td>35</td>\n",
       "      <td>7.0</td>\n",
       "      <td>0.0</td>\n",
       "      <td>70</td>\n",
       "      <td>1260</td>\n",
       "      <td>70</td>\n",
       "      <td>8.0</td>\n",
       "      <td>8</td>\n",
       "      <td>32.0</td>\n",
       "      <td>NaN</td>\n",
       "      <td>NaN</td>\n",
       "      <td>NaN</td>\n",
       "      <td>Other</td>\n",
       "    </tr>\n",
       "    <tr>\n",
       "      <th>514</th>\n",
       "      <td>Taco Bell</td>\n",
       "      <td>Fiesta Taco Salad-Steak</td>\n",
       "      <td>720</td>\n",
       "      <td>320</td>\n",
       "      <td>36</td>\n",
       "      <td>8.0</td>\n",
       "      <td>1.0</td>\n",
       "      <td>55</td>\n",
       "      <td>1340</td>\n",
       "      <td>70</td>\n",
       "      <td>8.0</td>\n",
       "      <td>8</td>\n",
       "      <td>28.0</td>\n",
       "      <td>NaN</td>\n",
       "      <td>NaN</td>\n",
       "      <td>NaN</td>\n",
       "      <td>Other</td>\n",
       "    </tr>\n",
       "  </tbody>\n",
       "</table>\n",
       "<p>515 rows × 17 columns</p>\n",
       "</div>"
      ],
      "text/plain": [
       "    restaurant                                       item  calories  cal_fat  \\\n",
       "0    Mcdonalds           Artisan Grilled Chicken Sandwich       380       60   \n",
       "1    Mcdonalds             Single Bacon Smokehouse Burger       840      410   \n",
       "2    Mcdonalds             Double Bacon Smokehouse Burger      1130      600   \n",
       "3    Mcdonalds  Grilled Bacon Smokehouse Chicken Sandwich       750      280   \n",
       "4    Mcdonalds   Crispy Bacon Smokehouse Chicken Sandwich       920      410   \n",
       "..         ...                                        ...       ...      ...   \n",
       "510  Taco Bell             Spicy Triple Double Crunchwrap       780      340   \n",
       "511  Taco Bell                Express Taco Salad w/ Chips       580      260   \n",
       "512  Taco Bell                     Fiesta Taco Salad-Beef       780      380   \n",
       "513  Taco Bell                  Fiesta Taco Salad-Chicken       720      320   \n",
       "514  Taco Bell                    Fiesta Taco Salad-Steak       720      320   \n",
       "\n",
       "     total_fat  sat_fat  trans_fat  cholesterol  sodium  total_carb  fiber  \\\n",
       "0            7      2.0        0.0           95    1110          44    3.0   \n",
       "1           45     17.0        1.5          130    1580          62    2.0   \n",
       "2           67     27.0        3.0          220    1920          63    3.0   \n",
       "3           31     10.0        0.5          155    1940          62    2.0   \n",
       "4           45     12.0        0.5          120    1980          81    4.0   \n",
       "..         ...      ...        ...          ...     ...         ...    ...   \n",
       "510         38     10.0        0.5           50    1850          87    9.0   \n",
       "511         29      9.0        1.0           60    1270          59    8.0   \n",
       "512         42     10.0        1.0           60    1340          74   11.0   \n",
       "513         35      7.0        0.0           70    1260          70    8.0   \n",
       "514         36      8.0        1.0           55    1340          70    8.0   \n",
       "\n",
       "     sugar  protein  vit_a  vit_c  calcium  salad  \n",
       "0       11     37.0    4.0   20.0     20.0  Other  \n",
       "1       18     46.0    6.0   20.0     20.0  Other  \n",
       "2       18     70.0   10.0   20.0     50.0  Other  \n",
       "3       18     55.0    6.0   25.0     20.0  Other  \n",
       "4       18     46.0    6.0   20.0     20.0  Other  \n",
       "..     ...      ...    ...    ...      ...    ...  \n",
       "510      8     23.0   20.0   10.0     25.0  Other  \n",
       "511      7     23.0    NaN    NaN      NaN  Other  \n",
       "512      7     26.0    NaN    NaN      NaN  Other  \n",
       "513      8     32.0    NaN    NaN      NaN  Other  \n",
       "514      8     28.0    NaN    NaN      NaN  Other  \n",
       "\n",
       "[515 rows x 17 columns]"
      ]
     },
     "execution_count": 18,
     "metadata": {},
     "output_type": "execute_result"
    }
   ],
   "source": [
    "import numpy as np\n",
    "import pandas as pd\n",
    "import plotly.express as px\n",
    "\n",
    "fastfood = pd.read_csv(\"Daten/fastfood.csv\")\n",
    "fastfood"
   ]
  },
  {
   "cell_type": "markdown",
   "metadata": {},
   "source": [
    "Sie werden sehen, dass es für jede Beobachtung 17 Messungen gibt, von denen viele Nährwertangaben sind.\n",
    "\n",
    "Für den Anfang werden Sie sich nur auf drei Spalten konzentrieren: `restaurant`, `calories` (Kalorien), `cal_fat` (Kalorien aus Fett).\n",
    "\n",
    "Konzentrieren wir uns zunächst nur auf die Produkte von McDonalds und Dairy Queen."
   ]
  },
  {
   "cell_type": "code",
   "execution_count": 102,
   "metadata": {},
   "outputs": [],
   "source": [
    "mcdonals = fastfood[fastfood[\"restaurant\"] == \"Mcdonalds\"]\n",
    "dairy_queen = fastfood[fastfood[\"restaurant\"] == \"Dairy Queen\"]"
   ]
  },
  {
   "cell_type": "markdown",
   "metadata": {},
   "source": [
    "### ✏️ Aufgabe 1\n",
    "Erstellen Sie ein Diagramm (oder mehrere Diagramme), um die Verteilungen der Kalorienmenge aus Fett (`cal_fat`) der Optionen dieser beiden Restaurants zu visualisieren. Vergleichen sie die Mittelpunkte, Form und Streuung für beide Restaurants."
   ]
  },
  {
   "cell_type": "markdown",
   "metadata": {},
   "source": [
    "## Die Normalverteilung"
   ]
  },
  {
   "cell_type": "markdown",
   "metadata": {},
   "source": [
    "Haben Sie in Ihrer Beschreibung der Verteilungen Begriffe wie glockenförmig oder normal verwendet? Diese Begriffe liegen nahe, wenn es sich um eine unimodale (eingipflige) symmetrische Verteilung handelt.\n",
    "\n",
    "Um zu sehen, wie genau diese Beschreibung ist, können wir eine Normalverteilungskurve über ein Histogramm legen, um zu sehen, wie genau die Daten einer Normalverteilung folgen. Diese Normalkurve sollte den gleichen Mittelwert und die gleiche Standardabweichung wie die Daten haben. Wir werden uns auf die Kalorien aus Fett von Dairy Queen-Produkten konzentrieren, also speichern wir sie als separates Objekt und berechnen dann einige Statistiken, auf die wir später zurückgreifen werden."
   ]
  },
  {
   "cell_type": "code",
   "execution_count": 103,
   "metadata": {},
   "outputs": [],
   "source": [
    "dqmean = dairy_queen['cal_fat'].mean()\n",
    "dqsd = dairy_queen['cal_fat'].std()"
   ]
  },
  {
   "cell_type": "markdown",
   "metadata": {},
   "source": [
    "Als Nächstes erstellen wir ein Dichtehistogramm, das als Hintergrund dient, und legen darüber die Kurve der Wahrscheinlichkeitsdichte einer Normalverteilung. Der Unterschied zwischen einem Häufigkeitshistogramm und einem Dichtehistogramm besteht darin, dass sich bei einem Häufigkeitshistogramm die *Höhe* der Balken zur Gesamtzahl der Beobachtungen addiert, während sich bei einem Dichtehistogramm die *Fläche* der Balken zu 1 addiert. Die Fläche jedes Balkens kann einfach als die Höhe mal die Breite des Balkens berechnet werden. Die Verwendung eines Dichtehistogramms ermöglicht es, eine Normalverteilungskurve über das Histogramm zu legen, da die Kurve eine Wahrscheinlichkeitsdichtefunktion ist, die ebenfalls eine Fläche unter der Kurve von 1 hat. Häufigkeits- und Dichtehistogramme haben genau dieselbe Form; sie unterscheiden sich nur in ihrer y-Achse. Sie können dies überprüfen, indem Sie das Häufigkeitshistogramm, das Sie zuvor erstellt haben, mit dem Dichtehistogramm vergleichen, das mit den folgenden Befehlen erstellt wurde."
   ]
  },
  {
   "cell_type": "code",
   "execution_count": 104,
   "metadata": {},
   "outputs": [
    {
     "data": {
      "application/vnd.plotly.v1+json": {
       "config": {
        "plotlyServerURL": "https://plot.ly"
       },
       "data": [
        {
         "alignmentgroup": "True",
         "bingroup": "x",
         "histnorm": "probability density",
         "hovertemplate": "variable=cal_fat<br>value=%{x}<br>probability density=%{y}<extra></extra>",
         "legendgroup": "cal_fat",
         "marker": {
          "color": "#636efa",
          "pattern": {
           "shape": ""
          }
         },
         "name": "cal_fat",
         "offsetgroup": "cal_fat",
         "orientation": "v",
         "showlegend": true,
         "type": "histogram",
         "x": [
          660,
          460,
          330,
          270,
          310,
          160,
          310,
          480,
          590,
          240,
          220,
          220,
          180,
          160,
          180,
          80,
          80,
          410,
          670,
          440,
          140,
          200,
          160,
          310,
          240,
          130,
          430,
          310,
          430,
          180,
          180,
          220,
          280,
          120,
          270,
          190,
          170,
          20,
          140,
          130,
          0,
          240
         ],
         "xaxis": "x",
         "yaxis": "y"
        }
       ],
       "layout": {
        "autosize": true,
        "barmode": "relative",
        "legend": {
         "title": {
          "text": "variable"
         },
         "tracegroupgap": 0
        },
        "margin": {
         "t": 60
        },
        "template": {
         "data": {
          "bar": [
           {
            "error_x": {
             "color": "#2a3f5f"
            },
            "error_y": {
             "color": "#2a3f5f"
            },
            "marker": {
             "line": {
              "color": "#E5ECF6",
              "width": 0.5
             },
             "pattern": {
              "fillmode": "overlay",
              "size": 10,
              "solidity": 0.2
             }
            },
            "type": "bar"
           }
          ],
          "barpolar": [
           {
            "marker": {
             "line": {
              "color": "#E5ECF6",
              "width": 0.5
             },
             "pattern": {
              "fillmode": "overlay",
              "size": 10,
              "solidity": 0.2
             }
            },
            "type": "barpolar"
           }
          ],
          "carpet": [
           {
            "aaxis": {
             "endlinecolor": "#2a3f5f",
             "gridcolor": "white",
             "linecolor": "white",
             "minorgridcolor": "white",
             "startlinecolor": "#2a3f5f"
            },
            "baxis": {
             "endlinecolor": "#2a3f5f",
             "gridcolor": "white",
             "linecolor": "white",
             "minorgridcolor": "white",
             "startlinecolor": "#2a3f5f"
            },
            "type": "carpet"
           }
          ],
          "choropleth": [
           {
            "colorbar": {
             "outlinewidth": 0,
             "ticks": ""
            },
            "type": "choropleth"
           }
          ],
          "contour": [
           {
            "colorbar": {
             "outlinewidth": 0,
             "ticks": ""
            },
            "colorscale": [
             [
              0,
              "#0d0887"
             ],
             [
              0.1111111111111111,
              "#46039f"
             ],
             [
              0.2222222222222222,
              "#7201a8"
             ],
             [
              0.3333333333333333,
              "#9c179e"
             ],
             [
              0.4444444444444444,
              "#bd3786"
             ],
             [
              0.5555555555555556,
              "#d8576b"
             ],
             [
              0.6666666666666666,
              "#ed7953"
             ],
             [
              0.7777777777777778,
              "#fb9f3a"
             ],
             [
              0.8888888888888888,
              "#fdca26"
             ],
             [
              1,
              "#f0f921"
             ]
            ],
            "type": "contour"
           }
          ],
          "contourcarpet": [
           {
            "colorbar": {
             "outlinewidth": 0,
             "ticks": ""
            },
            "type": "contourcarpet"
           }
          ],
          "heatmap": [
           {
            "colorbar": {
             "outlinewidth": 0,
             "ticks": ""
            },
            "colorscale": [
             [
              0,
              "#0d0887"
             ],
             [
              0.1111111111111111,
              "#46039f"
             ],
             [
              0.2222222222222222,
              "#7201a8"
             ],
             [
              0.3333333333333333,
              "#9c179e"
             ],
             [
              0.4444444444444444,
              "#bd3786"
             ],
             [
              0.5555555555555556,
              "#d8576b"
             ],
             [
              0.6666666666666666,
              "#ed7953"
             ],
             [
              0.7777777777777778,
              "#fb9f3a"
             ],
             [
              0.8888888888888888,
              "#fdca26"
             ],
             [
              1,
              "#f0f921"
             ]
            ],
            "type": "heatmap"
           }
          ],
          "heatmapgl": [
           {
            "colorbar": {
             "outlinewidth": 0,
             "ticks": ""
            },
            "colorscale": [
             [
              0,
              "#0d0887"
             ],
             [
              0.1111111111111111,
              "#46039f"
             ],
             [
              0.2222222222222222,
              "#7201a8"
             ],
             [
              0.3333333333333333,
              "#9c179e"
             ],
             [
              0.4444444444444444,
              "#bd3786"
             ],
             [
              0.5555555555555556,
              "#d8576b"
             ],
             [
              0.6666666666666666,
              "#ed7953"
             ],
             [
              0.7777777777777778,
              "#fb9f3a"
             ],
             [
              0.8888888888888888,
              "#fdca26"
             ],
             [
              1,
              "#f0f921"
             ]
            ],
            "type": "heatmapgl"
           }
          ],
          "histogram": [
           {
            "marker": {
             "pattern": {
              "fillmode": "overlay",
              "size": 10,
              "solidity": 0.2
             }
            },
            "type": "histogram"
           }
          ],
          "histogram2d": [
           {
            "colorbar": {
             "outlinewidth": 0,
             "ticks": ""
            },
            "colorscale": [
             [
              0,
              "#0d0887"
             ],
             [
              0.1111111111111111,
              "#46039f"
             ],
             [
              0.2222222222222222,
              "#7201a8"
             ],
             [
              0.3333333333333333,
              "#9c179e"
             ],
             [
              0.4444444444444444,
              "#bd3786"
             ],
             [
              0.5555555555555556,
              "#d8576b"
             ],
             [
              0.6666666666666666,
              "#ed7953"
             ],
             [
              0.7777777777777778,
              "#fb9f3a"
             ],
             [
              0.8888888888888888,
              "#fdca26"
             ],
             [
              1,
              "#f0f921"
             ]
            ],
            "type": "histogram2d"
           }
          ],
          "histogram2dcontour": [
           {
            "colorbar": {
             "outlinewidth": 0,
             "ticks": ""
            },
            "colorscale": [
             [
              0,
              "#0d0887"
             ],
             [
              0.1111111111111111,
              "#46039f"
             ],
             [
              0.2222222222222222,
              "#7201a8"
             ],
             [
              0.3333333333333333,
              "#9c179e"
             ],
             [
              0.4444444444444444,
              "#bd3786"
             ],
             [
              0.5555555555555556,
              "#d8576b"
             ],
             [
              0.6666666666666666,
              "#ed7953"
             ],
             [
              0.7777777777777778,
              "#fb9f3a"
             ],
             [
              0.8888888888888888,
              "#fdca26"
             ],
             [
              1,
              "#f0f921"
             ]
            ],
            "type": "histogram2dcontour"
           }
          ],
          "mesh3d": [
           {
            "colorbar": {
             "outlinewidth": 0,
             "ticks": ""
            },
            "type": "mesh3d"
           }
          ],
          "parcoords": [
           {
            "line": {
             "colorbar": {
              "outlinewidth": 0,
              "ticks": ""
             }
            },
            "type": "parcoords"
           }
          ],
          "pie": [
           {
            "automargin": true,
            "type": "pie"
           }
          ],
          "scatter": [
           {
            "fillpattern": {
             "fillmode": "overlay",
             "size": 10,
             "solidity": 0.2
            },
            "type": "scatter"
           }
          ],
          "scatter3d": [
           {
            "line": {
             "colorbar": {
              "outlinewidth": 0,
              "ticks": ""
             }
            },
            "marker": {
             "colorbar": {
              "outlinewidth": 0,
              "ticks": ""
             }
            },
            "type": "scatter3d"
           }
          ],
          "scattercarpet": [
           {
            "marker": {
             "colorbar": {
              "outlinewidth": 0,
              "ticks": ""
             }
            },
            "type": "scattercarpet"
           }
          ],
          "scattergeo": [
           {
            "marker": {
             "colorbar": {
              "outlinewidth": 0,
              "ticks": ""
             }
            },
            "type": "scattergeo"
           }
          ],
          "scattergl": [
           {
            "marker": {
             "colorbar": {
              "outlinewidth": 0,
              "ticks": ""
             }
            },
            "type": "scattergl"
           }
          ],
          "scattermapbox": [
           {
            "marker": {
             "colorbar": {
              "outlinewidth": 0,
              "ticks": ""
             }
            },
            "type": "scattermapbox"
           }
          ],
          "scatterpolar": [
           {
            "marker": {
             "colorbar": {
              "outlinewidth": 0,
              "ticks": ""
             }
            },
            "type": "scatterpolar"
           }
          ],
          "scatterpolargl": [
           {
            "marker": {
             "colorbar": {
              "outlinewidth": 0,
              "ticks": ""
             }
            },
            "type": "scatterpolargl"
           }
          ],
          "scatterternary": [
           {
            "marker": {
             "colorbar": {
              "outlinewidth": 0,
              "ticks": ""
             }
            },
            "type": "scatterternary"
           }
          ],
          "surface": [
           {
            "colorbar": {
             "outlinewidth": 0,
             "ticks": ""
            },
            "colorscale": [
             [
              0,
              "#0d0887"
             ],
             [
              0.1111111111111111,
              "#46039f"
             ],
             [
              0.2222222222222222,
              "#7201a8"
             ],
             [
              0.3333333333333333,
              "#9c179e"
             ],
             [
              0.4444444444444444,
              "#bd3786"
             ],
             [
              0.5555555555555556,
              "#d8576b"
             ],
             [
              0.6666666666666666,
              "#ed7953"
             ],
             [
              0.7777777777777778,
              "#fb9f3a"
             ],
             [
              0.8888888888888888,
              "#fdca26"
             ],
             [
              1,
              "#f0f921"
             ]
            ],
            "type": "surface"
           }
          ],
          "table": [
           {
            "cells": {
             "fill": {
              "color": "#EBF0F8"
             },
             "line": {
              "color": "white"
             }
            },
            "header": {
             "fill": {
              "color": "#C8D4E3"
             },
             "line": {
              "color": "white"
             }
            },
            "type": "table"
           }
          ]
         },
         "layout": {
          "annotationdefaults": {
           "arrowcolor": "#2a3f5f",
           "arrowhead": 0,
           "arrowwidth": 1
          },
          "autotypenumbers": "strict",
          "coloraxis": {
           "colorbar": {
            "outlinewidth": 0,
            "ticks": ""
           }
          },
          "colorscale": {
           "diverging": [
            [
             0,
             "#8e0152"
            ],
            [
             0.1,
             "#c51b7d"
            ],
            [
             0.2,
             "#de77ae"
            ],
            [
             0.3,
             "#f1b6da"
            ],
            [
             0.4,
             "#fde0ef"
            ],
            [
             0.5,
             "#f7f7f7"
            ],
            [
             0.6,
             "#e6f5d0"
            ],
            [
             0.7,
             "#b8e186"
            ],
            [
             0.8,
             "#7fbc41"
            ],
            [
             0.9,
             "#4d9221"
            ],
            [
             1,
             "#276419"
            ]
           ],
           "sequential": [
            [
             0,
             "#0d0887"
            ],
            [
             0.1111111111111111,
             "#46039f"
            ],
            [
             0.2222222222222222,
             "#7201a8"
            ],
            [
             0.3333333333333333,
             "#9c179e"
            ],
            [
             0.4444444444444444,
             "#bd3786"
            ],
            [
             0.5555555555555556,
             "#d8576b"
            ],
            [
             0.6666666666666666,
             "#ed7953"
            ],
            [
             0.7777777777777778,
             "#fb9f3a"
            ],
            [
             0.8888888888888888,
             "#fdca26"
            ],
            [
             1,
             "#f0f921"
            ]
           ],
           "sequentialminus": [
            [
             0,
             "#0d0887"
            ],
            [
             0.1111111111111111,
             "#46039f"
            ],
            [
             0.2222222222222222,
             "#7201a8"
            ],
            [
             0.3333333333333333,
             "#9c179e"
            ],
            [
             0.4444444444444444,
             "#bd3786"
            ],
            [
             0.5555555555555556,
             "#d8576b"
            ],
            [
             0.6666666666666666,
             "#ed7953"
            ],
            [
             0.7777777777777778,
             "#fb9f3a"
            ],
            [
             0.8888888888888888,
             "#fdca26"
            ],
            [
             1,
             "#f0f921"
            ]
           ]
          },
          "colorway": [
           "#636efa",
           "#EF553B",
           "#00cc96",
           "#ab63fa",
           "#FFA15A",
           "#19d3f3",
           "#FF6692",
           "#B6E880",
           "#FF97FF",
           "#FECB52"
          ],
          "font": {
           "color": "#2a3f5f"
          },
          "geo": {
           "bgcolor": "white",
           "lakecolor": "white",
           "landcolor": "#E5ECF6",
           "showlakes": true,
           "showland": true,
           "subunitcolor": "white"
          },
          "hoverlabel": {
           "align": "left"
          },
          "hovermode": "closest",
          "mapbox": {
           "style": "light"
          },
          "paper_bgcolor": "white",
          "plot_bgcolor": "#E5ECF6",
          "polar": {
           "angularaxis": {
            "gridcolor": "white",
            "linecolor": "white",
            "ticks": ""
           },
           "bgcolor": "#E5ECF6",
           "radialaxis": {
            "gridcolor": "white",
            "linecolor": "white",
            "ticks": ""
           }
          },
          "scene": {
           "xaxis": {
            "backgroundcolor": "#E5ECF6",
            "gridcolor": "white",
            "gridwidth": 2,
            "linecolor": "white",
            "showbackground": true,
            "ticks": "",
            "zerolinecolor": "white"
           },
           "yaxis": {
            "backgroundcolor": "#E5ECF6",
            "gridcolor": "white",
            "gridwidth": 2,
            "linecolor": "white",
            "showbackground": true,
            "ticks": "",
            "zerolinecolor": "white"
           },
           "zaxis": {
            "backgroundcolor": "#E5ECF6",
            "gridcolor": "white",
            "gridwidth": 2,
            "linecolor": "white",
            "showbackground": true,
            "ticks": "",
            "zerolinecolor": "white"
           }
          },
          "shapedefaults": {
           "line": {
            "color": "#2a3f5f"
           }
          },
          "ternary": {
           "aaxis": {
            "gridcolor": "white",
            "linecolor": "white",
            "ticks": ""
           },
           "baxis": {
            "gridcolor": "white",
            "linecolor": "white",
            "ticks": ""
           },
           "bgcolor": "#E5ECF6",
           "caxis": {
            "gridcolor": "white",
            "linecolor": "white",
            "ticks": ""
           }
          },
          "title": {
           "x": 0.05
          },
          "xaxis": {
           "automargin": true,
           "gridcolor": "white",
           "linecolor": "white",
           "ticks": "",
           "title": {
            "standoff": 15
           },
           "zerolinecolor": "white",
           "zerolinewidth": 2
          },
          "yaxis": {
           "automargin": true,
           "gridcolor": "white",
           "linecolor": "white",
           "ticks": "",
           "title": {
            "standoff": 15
           },
           "zerolinecolor": "white",
           "zerolinewidth": 2
          }
         }
        },
        "xaxis": {
         "anchor": "y",
         "autorange": true,
         "domain": [
          0,
          1
         ],
         "range": [
          -0.5,
          699.5
         ],
         "title": {
          "text": "value"
         },
         "type": "linear"
        },
        "yaxis": {
         "anchor": "x",
         "autorange": true,
         "domain": [
          0,
          1
         ],
         "range": [
          0,
          0.003508771929824561
         ],
         "title": {
          "text": "probability density"
         }
        }
       }
      },
      "image/png": "[encoded data removed]",
      "text/html": [
       "<div>                            <div id=\"316aba0d-4412-40db-9b34-858f744b599f\" class=\"plotly-graph-div\" style=\"height:525px; width:100%;\"></div>            <script type=\"text/javascript\">                require([\"plotly\"], function(Plotly) {                    window.PLOTLYENV=window.PLOTLYENV || {};                                    if (document.getElementById(\"316aba0d-4412-40db-9b34-858f744b599f\")) {                    Plotly.newPlot(                        \"316aba0d-4412-40db-9b34-858f744b599f\",                        [{\"alignmentgroup\":\"True\",\"bingroup\":\"x\",\"histnorm\":\"probability density\",\"hovertemplate\":\"variable=cal_fat<br>value=%{x}<br>probability density=%{y}<extra></extra>\",\"legendgroup\":\"cal_fat\",\"marker\":{\"color\":\"#636efa\",\"pattern\":{\"shape\":\"\"}},\"name\":\"cal_fat\",\"offsetgroup\":\"cal_fat\",\"orientation\":\"v\",\"showlegend\":true,\"x\":[660,460,330,270,310,160,310,480,590,240,220,220,180,160,180,80,80,410,670,440,140,200,160,310,240,130,430,310,430,180,180,220,280,120,270,190,170,20,140,130,0,240],\"xaxis\":\"x\",\"yaxis\":\"y\",\"type\":\"histogram\"}],                        {\"template\":{\"data\":{\"histogram2dcontour\":[{\"type\":\"histogram2dcontour\",\"colorbar\":{\"outlinewidth\":0,\"ticks\":\"\"},\"colorscale\":[[0.0,\"#0d0887\"],[0.1111111111111111,\"#46039f\"],[0.2222222222222222,\"#7201a8\"],[0.3333333333333333,\"#9c179e\"],[0.4444444444444444,\"#bd3786\"],[0.5555555555555556,\"#d8576b\"],[0.6666666666666666,\"#ed7953\"],[0.7777777777777778,\"#fb9f3a\"],[0.8888888888888888,\"#fdca26\"],[1.0,\"#f0f921\"]]}],\"choropleth\":[{\"type\":\"choropleth\",\"colorbar\":{\"outlinewidth\":0,\"ticks\":\"\"}}],\"histogram2d\":[{\"type\":\"histogram2d\",\"colorbar\":{\"outlinewidth\":0,\"ticks\":\"\"},\"colorscale\":[[0.0,\"#0d0887\"],[0.1111111111111111,\"#46039f\"],[0.2222222222222222,\"#7201a8\"],[0.3333333333333333,\"#9c179e\"],[0.4444444444444444,\"#bd3786\"],[0.5555555555555556,\"#d8576b\"],[0.6666666666666666,\"#ed7953\"],[0.7777777777777778,\"#fb9f3a\"],[0.8888888888888888,\"#fdca26\"],[1.0,\"#f0f921\"]]}],\"heatmap\":[{\"type\":\"heatmap\",\"colorbar\":{\"outlinewidth\":0,\"ticks\":\"\"},\"colorscale\":[[0.0,\"#0d0887\"],[0.1111111111111111,\"#46039f\"],[0.2222222222222222,\"#7201a8\"],[0.3333333333333333,\"#9c179e\"],[0.4444444444444444,\"#bd3786\"],[0.5555555555555556,\"#d8576b\"],[0.6666666666666666,\"#ed7953\"],[0.7777777777777778,\"#fb9f3a\"],[0.8888888888888888,\"#fdca26\"],[1.0,\"#f0f921\"]]}],\"heatmapgl\":[{\"type\":\"heatmapgl\",\"colorbar\":{\"outlinewidth\":0,\"ticks\":\"\"},\"colorscale\":[[0.0,\"#0d0887\"],[0.1111111111111111,\"#46039f\"],[0.2222222222222222,\"#7201a8\"],[0.3333333333333333,\"#9c179e\"],[0.4444444444444444,\"#bd3786\"],[0.5555555555555556,\"#d8576b\"],[0.6666666666666666,\"#ed7953\"],[0.7777777777777778,\"#fb9f3a\"],[0.8888888888888888,\"#fdca26\"],[1.0,\"#f0f921\"]]}],\"contourcarpet\":[{\"type\":\"contourcarpet\",\"colorbar\":{\"outlinewidth\":0,\"ticks\":\"\"}}],\"contour\":[{\"type\":\"contour\",\"colorbar\":{\"outlinewidth\":0,\"ticks\":\"\"},\"colorscale\":[[0.0,\"#0d0887\"],[0.1111111111111111,\"#46039f\"],[0.2222222222222222,\"#7201a8\"],[0.3333333333333333,\"#9c179e\"],[0.4444444444444444,\"#bd3786\"],[0.5555555555555556,\"#d8576b\"],[0.6666666666666666,\"#ed7953\"],[0.7777777777777778,\"#fb9f3a\"],[0.8888888888888888,\"#fdca26\"],[1.0,\"#f0f921\"]]}],\"surface\":[{\"type\":\"surface\",\"colorbar\":{\"outlinewidth\":0,\"ticks\":\"\"},\"colorscale\":[[0.0,\"#0d0887\"],[0.1111111111111111,\"#46039f\"],[0.2222222222222222,\"#7201a8\"],[0.3333333333333333,\"#9c179e\"],[0.4444444444444444,\"#bd3786\"],[0.5555555555555556,\"#d8576b\"],[0.6666666666666666,\"#ed7953\"],[0.7777777777777778,\"#fb9f3a\"],[0.8888888888888888,\"#fdca26\"],[1.0,\"#f0f921\"]]}],\"mesh3d\":[{\"type\":\"mesh3d\",\"colorbar\":{\"outlinewidth\":0,\"ticks\":\"\"}}],\"scatter\":[{\"fillpattern\":{\"fillmode\":\"overlay\",\"size\":10,\"solidity\":0.2},\"type\":\"scatter\"}],\"parcoords\":[{\"type\":\"parcoords\",\"line\":{\"colorbar\":{\"outlinewidth\":0,\"ticks\":\"\"}}}],\"scatterpolargl\":[{\"type\":\"scatterpolargl\",\"marker\":{\"colorbar\":{\"outlinewidth\":0,\"ticks\":\"\"}}}],\"bar\":[{\"error_x\":{\"color\":\"#2a3f5f\"},\"error_y\":{\"color\":\"#2a3f5f\"},\"marker\":{\"line\":{\"color\":\"#E5ECF6\",\"width\":0.5},\"pattern\":{\"fillmode\":\"overlay\",\"size\":10,\"solidity\":0.2}},\"type\":\"bar\"}],\"scattergeo\":[{\"type\":\"scattergeo\",\"marker\":{\"colorbar\":{\"outlinewidth\":0,\"ticks\":\"\"}}}],\"scatterpolar\":[{\"type\":\"scatterpolar\",\"marker\":{\"colorbar\":{\"outlinewidth\":0,\"ticks\":\"\"}}}],\"histogram\":[{\"marker\":{\"pattern\":{\"fillmode\":\"overlay\",\"size\":10,\"solidity\":0.2}},\"type\":\"histogram\"}],\"scattergl\":[{\"type\":\"scattergl\",\"marker\":{\"colorbar\":{\"outlinewidth\":0,\"ticks\":\"\"}}}],\"scatter3d\":[{\"type\":\"scatter3d\",\"line\":{\"colorbar\":{\"outlinewidth\":0,\"ticks\":\"\"}},\"marker\":{\"colorbar\":{\"outlinewidth\":0,\"ticks\":\"\"}}}],\"scattermapbox\":[{\"type\":\"scattermapbox\",\"marker\":{\"colorbar\":{\"outlinewidth\":0,\"ticks\":\"\"}}}],\"scatterternary\":[{\"type\":\"scatterternary\",\"marker\":{\"colorbar\":{\"outlinewidth\":0,\"ticks\":\"\"}}}],\"scattercarpet\":[{\"type\":\"scattercarpet\",\"marker\":{\"colorbar\":{\"outlinewidth\":0,\"ticks\":\"\"}}}],\"carpet\":[{\"aaxis\":{\"endlinecolor\":\"#2a3f5f\",\"gridcolor\":\"white\",\"linecolor\":\"white\",\"minorgridcolor\":\"white\",\"startlinecolor\":\"#2a3f5f\"},\"baxis\":{\"endlinecolor\":\"#2a3f5f\",\"gridcolor\":\"white\",\"linecolor\":\"white\",\"minorgridcolor\":\"white\",\"startlinecolor\":\"#2a3f5f\"},\"type\":\"carpet\"}],\"table\":[{\"cells\":{\"fill\":{\"color\":\"#EBF0F8\"},\"line\":{\"color\":\"white\"}},\"header\":{\"fill\":{\"color\":\"#C8D4E3\"},\"line\":{\"color\":\"white\"}},\"type\":\"table\"}],\"barpolar\":[{\"marker\":{\"line\":{\"color\":\"#E5ECF6\",\"width\":0.5},\"pattern\":{\"fillmode\":\"overlay\",\"size\":10,\"solidity\":0.2}},\"type\":\"barpolar\"}],\"pie\":[{\"automargin\":true,\"type\":\"pie\"}]},\"layout\":{\"autotypenumbers\":\"strict\",\"colorway\":[\"#636efa\",\"#EF553B\",\"#00cc96\",\"#ab63fa\",\"#FFA15A\",\"#19d3f3\",\"#FF6692\",\"#B6E880\",\"#FF97FF\",\"#FECB52\"],\"font\":{\"color\":\"#2a3f5f\"},\"hovermode\":\"closest\",\"hoverlabel\":{\"align\":\"left\"},\"paper_bgcolor\":\"white\",\"plot_bgcolor\":\"#E5ECF6\",\"polar\":{\"bgcolor\":\"#E5ECF6\",\"angularaxis\":{\"gridcolor\":\"white\",\"linecolor\":\"white\",\"ticks\":\"\"},\"radialaxis\":{\"gridcolor\":\"white\",\"linecolor\":\"white\",\"ticks\":\"\"}},\"ternary\":{\"bgcolor\":\"#E5ECF6\",\"aaxis\":{\"gridcolor\":\"white\",\"linecolor\":\"white\",\"ticks\":\"\"},\"baxis\":{\"gridcolor\":\"white\",\"linecolor\":\"white\",\"ticks\":\"\"},\"caxis\":{\"gridcolor\":\"white\",\"linecolor\":\"white\",\"ticks\":\"\"}},\"coloraxis\":{\"colorbar\":{\"outlinewidth\":0,\"ticks\":\"\"}},\"colorscale\":{\"sequential\":[[0.0,\"#0d0887\"],[0.1111111111111111,\"#46039f\"],[0.2222222222222222,\"#7201a8\"],[0.3333333333333333,\"#9c179e\"],[0.4444444444444444,\"#bd3786\"],[0.5555555555555556,\"#d8576b\"],[0.6666666666666666,\"#ed7953\"],[0.7777777777777778,\"#fb9f3a\"],[0.8888888888888888,\"#fdca26\"],[1.0,\"#f0f921\"]],\"sequentialminus\":[[0.0,\"#0d0887\"],[0.1111111111111111,\"#46039f\"],[0.2222222222222222,\"#7201a8\"],[0.3333333333333333,\"#9c179e\"],[0.4444444444444444,\"#bd3786\"],[0.5555555555555556,\"#d8576b\"],[0.6666666666666666,\"#ed7953\"],[0.7777777777777778,\"#fb9f3a\"],[0.8888888888888888,\"#fdca26\"],[1.0,\"#f0f921\"]],\"diverging\":[[0,\"#8e0152\"],[0.1,\"#c51b7d\"],[0.2,\"#de77ae\"],[0.3,\"#f1b6da\"],[0.4,\"#fde0ef\"],[0.5,\"#f7f7f7\"],[0.6,\"#e6f5d0\"],[0.7,\"#b8e186\"],[0.8,\"#7fbc41\"],[0.9,\"#4d9221\"],[1,\"#276419\"]]},\"xaxis\":{\"gridcolor\":\"white\",\"linecolor\":\"white\",\"ticks\":\"\",\"title\":{\"standoff\":15},\"zerolinecolor\":\"white\",\"automargin\":true,\"zerolinewidth\":2},\"yaxis\":{\"gridcolor\":\"white\",\"linecolor\":\"white\",\"ticks\":\"\",\"title\":{\"standoff\":15},\"zerolinecolor\":\"white\",\"automargin\":true,\"zerolinewidth\":2},\"scene\":{\"xaxis\":{\"backgroundcolor\":\"#E5ECF6\",\"gridcolor\":\"white\",\"linecolor\":\"white\",\"showbackground\":true,\"ticks\":\"\",\"zerolinecolor\":\"white\",\"gridwidth\":2},\"yaxis\":{\"backgroundcolor\":\"#E5ECF6\",\"gridcolor\":\"white\",\"linecolor\":\"white\",\"showbackground\":true,\"ticks\":\"\",\"zerolinecolor\":\"white\",\"gridwidth\":2},\"zaxis\":{\"backgroundcolor\":\"#E5ECF6\",\"gridcolor\":\"white\",\"linecolor\":\"white\",\"showbackground\":true,\"ticks\":\"\",\"zerolinecolor\":\"white\",\"gridwidth\":2}},\"shapedefaults\":{\"line\":{\"color\":\"#2a3f5f\"}},\"annotationdefaults\":{\"arrowcolor\":\"#2a3f5f\",\"arrowhead\":0,\"arrowwidth\":1},\"geo\":{\"bgcolor\":\"white\",\"landcolor\":\"#E5ECF6\",\"subunitcolor\":\"white\",\"showland\":true,\"showlakes\":true,\"lakecolor\":\"white\"},\"title\":{\"x\":0.05},\"mapbox\":{\"style\":\"light\"}}},\"xaxis\":{\"anchor\":\"y\",\"domain\":[0.0,1.0],\"title\":{\"text\":\"value\"}},\"yaxis\":{\"anchor\":\"x\",\"domain\":[0.0,1.0],\"title\":{\"text\":\"probability density\"}},\"legend\":{\"title\":{\"text\":\"variable\"},\"tracegroupgap\":0},\"margin\":{\"t\":60},\"barmode\":\"relative\"},                        {\"responsive\": true}                    ).then(function(){\n",
       "                            \n",
       "var gd = document.getElementById('316aba0d-4412-40db-9b34-858f744b599f');\n",
       "var x = new MutationObserver(function (mutations, observer) {{\n",
       "        var display = window.getComputedStyle(gd).display;\n",
       "        if (!display || display === 'none') {{\n",
       "            console.log([gd, 'removed!']);\n",
       "            Plotly.purge(gd);\n",
       "            observer.disconnect();\n",
       "        }}\n",
       "}});\n",
       "\n",
       "// Listen for the removal of the full notebook cells\n",
       "var notebookContainer = gd.closest('#notebook-container');\n",
       "if (notebookContainer) {{\n",
       "    x.observe(notebookContainer, {childList: true});\n",
       "}}\n",
       "\n",
       "// Listen for the clearing of the current output cell\n",
       "var outputEl = gd.closest('.output');\n",
       "if (outputEl) {{\n",
       "    x.observe(outputEl, {childList: true});\n",
       "}}\n",
       "\n",
       "                        })                };                });            </script>        </div>"
      ]
     },
     "metadata": {},
     "output_type": "display_data"
    }
   ],
   "source": [
    "px.histogram(dairy_queen['cal_fat'], histnorm=\"probability density\")"
   ]
  },
  {
   "cell_type": "markdown",
   "metadata": {},
   "source": [
    "Als nächstes möchten wir die Dichtekurve der Normalverteilung mit den Parametern $\\mu=$`dqmean` und $\\sigma=$`dqstd` erzeugen und zum Plot hinzufügen. Zunächst erstellen wir die x- und y-Koordinaten für die Normalkurve. Wir haben den x-Bereich mit 0 bis 700 gewählt, um den gesamten Wertebereich der Variable `cal_fat` abzudecken. Die Funktionswerte erzeugen wir uns mit der Funktion `norm.pdf` aus dem Modul `scipy.stats` (pdf steht hier für probability density function)."
   ]
  },
  {
   "cell_type": "code",
   "execution_count": 105,
   "metadata": {},
   "outputs": [],
   "source": [
    "from scipy.stats import norm\n",
    "\n",
    "# Erzeuge einen Vektor mit 101 äquidistanten Samples zwischen 0 und 700 \n",
    "x = np.linspace(0, 700, 101)       \n",
    "y = norm.pdf(x, loc = dqmean, scale = dqsd)"
   ]
  },
  {
   "cell_type": "markdown",
   "metadata": {},
   "source": [
    "Nun möchten wir die Dichtefunktion als Linie zum Histogrammplot hinzufügen. Dazu speichern wir zunächst den Histogrammplot in einer Variable und fügen dann die Dichtekurve hinzu. Dies geschieht in plotly mittels `add_scatter` (eigentlich ein Streuplot, der aber hier als Linie dargestellt wird)"
   ]
  },
  {
   "cell_type": "code",
   "execution_count": 106,
   "metadata": {},
   "outputs": [
    {
     "data": {
      "application/vnd.plotly.v1+json": {
       "config": {
        "plotlyServerURL": "https://plot.ly"
       },
       "data": [
        {
         "alignmentgroup": "True",
         "bingroup": "x",
         "histnorm": "probability density",
         "hovertemplate": "variable=cal_fat<br>value=%{x}<br>probability density=%{y}<extra></extra>",
         "legendgroup": "cal_fat",
         "marker": {
          "color": "#636efa",
          "pattern": {
           "shape": ""
          }
         },
         "name": "cal_fat",
         "offsetgroup": "cal_fat",
         "orientation": "v",
         "showlegend": true,
         "type": "histogram",
         "x": [
          660,
          460,
          330,
          270,
          310,
          160,
          310,
          480,
          590,
          240,
          220,
          220,
          180,
          160,
          180,
          80,
          80,
          410,
          670,
          440,
          140,
          200,
          160,
          310,
          240,
          130,
          430,
          310,
          430,
          180,
          180,
          220,
          280,
          120,
          270,
          190,
          170,
          20,
          140,
          130,
          0,
          240
         ],
         "xaxis": "x",
         "yaxis": "y"
        },
        {
         "name": "Dichtekurve der Normalverteilung",
         "type": "scatter",
         "x": [
          0,
          7,
          14,
          21,
          28,
          35,
          42,
          49,
          56,
          63,
          70,
          77,
          84,
          91,
          98,
          105,
          112,
          119,
          126,
          133,
          140,
          147,
          154,
          161,
          168,
          175,
          182,
          189,
          196,
          203,
          210,
          217,
          224,
          231,
          238,
          245,
          252,
          259,
          266,
          273,
          280,
          287,
          294,
          301,
          308,
          315,
          322,
          329,
          336,
          343,
          350,
          357,
          364,
          371,
          378,
          385,
          392,
          399,
          406,
          413,
          420,
          427,
          434,
          441,
          448,
          455,
          462,
          469,
          476,
          483,
          490,
          497,
          504,
          511,
          518,
          525,
          532,
          539,
          546,
          553,
          560,
          567,
          574,
          581,
          588,
          595,
          602,
          609,
          616,
          623,
          630,
          637,
          644,
          651,
          658,
          665,
          672,
          679,
          686,
          693,
          700
         ],
         "y": [
          0.0006379493484844831,
          0.0006865766822482884,
          0.0007374335145720357,
          0.0007904741336261922,
          0.000845635926236957,
          0.0009028386812638791,
          0.0009619840255579099,
          0.0010229550087323862,
          0.0010856158519436622,
          0.0011498118745217293,
          0.0012153696106179228,
          0.0012820971260573903,
          0.0013497845433159351,
          0.001418204780008723,
          0.0014871145035136439,
          0.001556255301392803,
          0.0016253550641658209,
          0.0016941295737777707,
          0.0017622842878467894,
          0.001829516306529233,
          0.0018955165056638466,
          0.0019599718168120815,
          0.002022567631960612,
          0.0020829903080540504,
          0.002140929744237691,
          0.0021960820027644686,
          0.0022481519430042588,
          0.0022968558369274718,
          0.002341923933850924,
          0.002383102942155803,
          0.002420158396128995,
          0.002452876877043983,
          0.0024810680590791057,
          0.002504566552652095,
          0.0025232335202027504,
          0.0025369580423429345,
          0.002545658215568044,
          0.0025492819663316397,
          0.0025478075701628427,
          0.002541243868586255,
          0.0025296301808140896,
          0.0025130359114444974,
          0.002491559859642223,
          0.0024653292394216627,
          0.002434498424624211,
          0.0023992474359112955,
          0.00235978019051691,
          0.002316322538560472,
          0.002269120112362096,
          0.0022184360173864684,
          0.002164548395136474,
          0.0021077478895020017,
          0.0020483350487317596,
          0.0019866176953357646,
          0.0019229082958532456,
          0.0018575213615544225,
          0.0017907709098138466,
          0.0017229680141347123,
          0.0016544184686621659,
          0.001585420590549548,
          0.0015162631807900111,
          0.0014472236611557028,
          0.0013785664017585055,
          0.0013105412505215804,
          0.0012433822725904568,
          0.0011773067044749295,
          0.0011125141245542985,
          0.0010491858385499936,
          0.0009874844757178519,
          0.0009275537888778595,
          0.0008695186490163579,
          0.0008134852230919843,
          0.0007595413218725538,
          0.0007077569031392115,
          0.000658184714423141,
          0.0006108610585889914,
          0.0005658066650418488,
          0.0005230276490993049,
          0.00048251654212017075,
          0.0004442533752955787,
          0.0004082068005619634,
          0.00037433523286128077,
          0.00034258799892238263,
          0.0003129064788380707,
          0.00028522522793386076,
          0.00025947306773598406,
          0.0002355741362175363,
          0.00021344888890431358,
          0.00019301504382890193,
          0.00017418846470856997,
          0.00015688397806746753,
          0.00014101612130750182,
          0.00012649981993887152,
          0.00011325099329744056,
          0.00010118708909179744,
          9.022754803070783e-05,
          8.02942005772842e-05,
          7.131159855765289e-05,
          6.320728491967907e-05,
          5.591200539396564e-05,
          4.935986615923866e-05
         ]
        }
       ],
       "layout": {
        "autosize": true,
        "barmode": "relative",
        "legend": {
         "title": {
          "text": "variable"
         },
         "tracegroupgap": 0
        },
        "margin": {
         "t": 60
        },
        "template": {
         "data": {
          "bar": [
           {
            "error_x": {
             "color": "#2a3f5f"
            },
            "error_y": {
             "color": "#2a3f5f"
            },
            "marker": {
             "line": {
              "color": "#E5ECF6",
              "width": 0.5
             },
             "pattern": {
              "fillmode": "overlay",
              "size": 10,
              "solidity": 0.2
             }
            },
            "type": "bar"
           }
          ],
          "barpolar": [
           {
            "marker": {
             "line": {
              "color": "#E5ECF6",
              "width": 0.5
             },
             "pattern": {
              "fillmode": "overlay",
              "size": 10,
              "solidity": 0.2
             }
            },
            "type": "barpolar"
           }
          ],
          "carpet": [
           {
            "aaxis": {
             "endlinecolor": "#2a3f5f",
             "gridcolor": "white",
             "linecolor": "white",
             "minorgridcolor": "white",
             "startlinecolor": "#2a3f5f"
            },
            "baxis": {
             "endlinecolor": "#2a3f5f",
             "gridcolor": "white",
             "linecolor": "white",
             "minorgridcolor": "white",
             "startlinecolor": "#2a3f5f"
            },
            "type": "carpet"
           }
          ],
          "choropleth": [
           {
            "colorbar": {
             "outlinewidth": 0,
             "ticks": ""
            },
            "type": "choropleth"
           }
          ],
          "contour": [
           {
            "colorbar": {
             "outlinewidth": 0,
             "ticks": ""
            },
            "colorscale": [
             [
              0,
              "#0d0887"
             ],
             [
              0.1111111111111111,
              "#46039f"
             ],
             [
              0.2222222222222222,
              "#7201a8"
             ],
             [
              0.3333333333333333,
              "#9c179e"
             ],
             [
              0.4444444444444444,
              "#bd3786"
             ],
             [
              0.5555555555555556,
              "#d8576b"
             ],
             [
              0.6666666666666666,
              "#ed7953"
             ],
             [
              0.7777777777777778,
              "#fb9f3a"
             ],
             [
              0.8888888888888888,
              "#fdca26"
             ],
             [
              1,
              "#f0f921"
             ]
            ],
            "type": "contour"
           }
          ],
          "contourcarpet": [
           {
            "colorbar": {
             "outlinewidth": 0,
             "ticks": ""
            },
            "type": "contourcarpet"
           }
          ],
          "heatmap": [
           {
            "colorbar": {
             "outlinewidth": 0,
             "ticks": ""
            },
            "colorscale": [
             [
              0,
              "#0d0887"
             ],
             [
              0.1111111111111111,
              "#46039f"
             ],
             [
              0.2222222222222222,
              "#7201a8"
             ],
             [
              0.3333333333333333,
              "#9c179e"
             ],
             [
              0.4444444444444444,
              "#bd3786"
             ],
             [
              0.5555555555555556,
              "#d8576b"
             ],
             [
              0.6666666666666666,
              "#ed7953"
             ],
             [
              0.7777777777777778,
              "#fb9f3a"
             ],
             [
              0.8888888888888888,
              "#fdca26"
             ],
             [
              1,
              "#f0f921"
             ]
            ],
            "type": "heatmap"
           }
          ],
          "heatmapgl": [
           {
            "colorbar": {
             "outlinewidth": 0,
             "ticks": ""
            },
            "colorscale": [
             [
              0,
              "#0d0887"
             ],
             [
              0.1111111111111111,
              "#46039f"
             ],
             [
              0.2222222222222222,
              "#7201a8"
             ],
             [
              0.3333333333333333,
              "#9c179e"
             ],
             [
              0.4444444444444444,
              "#bd3786"
             ],
             [
              0.5555555555555556,
              "#d8576b"
             ],
             [
              0.6666666666666666,
              "#ed7953"
             ],
             [
              0.7777777777777778,
              "#fb9f3a"
             ],
             [
              0.8888888888888888,
              "#fdca26"
             ],
             [
              1,
              "#f0f921"
             ]
            ],
            "type": "heatmapgl"
           }
          ],
          "histogram": [
           {
            "marker": {
             "pattern": {
              "fillmode": "overlay",
              "size": 10,
              "solidity": 0.2
             }
            },
            "type": "histogram"
           }
          ],
          "histogram2d": [
           {
            "colorbar": {
             "outlinewidth": 0,
             "ticks": ""
            },
            "colorscale": [
             [
              0,
              "#0d0887"
             ],
             [
              0.1111111111111111,
              "#46039f"
             ],
             [
              0.2222222222222222,
              "#7201a8"
             ],
             [
              0.3333333333333333,
              "#9c179e"
             ],
             [
              0.4444444444444444,
              "#bd3786"
             ],
             [
              0.5555555555555556,
              "#d8576b"
             ],
             [
              0.6666666666666666,
              "#ed7953"
             ],
             [
              0.7777777777777778,
              "#fb9f3a"
             ],
             [
              0.8888888888888888,
              "#fdca26"
             ],
             [
              1,
              "#f0f921"
             ]
            ],
            "type": "histogram2d"
           }
          ],
          "histogram2dcontour": [
           {
            "colorbar": {
             "outlinewidth": 0,
             "ticks": ""
            },
            "colorscale": [
             [
              0,
              "#0d0887"
             ],
             [
              0.1111111111111111,
              "#46039f"
             ],
             [
              0.2222222222222222,
              "#7201a8"
             ],
             [
              0.3333333333333333,
              "#9c179e"
             ],
             [
              0.4444444444444444,
              "#bd3786"
             ],
             [
              0.5555555555555556,
              "#d8576b"
             ],
             [
              0.6666666666666666,
              "#ed7953"
             ],
             [
              0.7777777777777778,
              "#fb9f3a"
             ],
             [
              0.8888888888888888,
              "#fdca26"
             ],
             [
              1,
              "#f0f921"
             ]
            ],
            "type": "histogram2dcontour"
           }
          ],
          "mesh3d": [
           {
            "colorbar": {
             "outlinewidth": 0,
             "ticks": ""
            },
            "type": "mesh3d"
           }
          ],
          "parcoords": [
           {
            "line": {
             "colorbar": {
              "outlinewidth": 0,
              "ticks": ""
             }
            },
            "type": "parcoords"
           }
          ],
          "pie": [
           {
            "automargin": true,
            "type": "pie"
           }
          ],
          "scatter": [
           {
            "fillpattern": {
             "fillmode": "overlay",
             "size": 10,
             "solidity": 0.2
            },
            "type": "scatter"
           }
          ],
          "scatter3d": [
           {
            "line": {
             "colorbar": {
              "outlinewidth": 0,
              "ticks": ""
             }
            },
            "marker": {
             "colorbar": {
              "outlinewidth": 0,
              "ticks": ""
             }
            },
            "type": "scatter3d"
           }
          ],
          "scattercarpet": [
           {
            "marker": {
             "colorbar": {
              "outlinewidth": 0,
              "ticks": ""
             }
            },
            "type": "scattercarpet"
           }
          ],
          "scattergeo": [
           {
            "marker": {
             "colorbar": {
              "outlinewidth": 0,
              "ticks": ""
             }
            },
            "type": "scattergeo"
           }
          ],
          "scattergl": [
           {
            "marker": {
             "colorbar": {
              "outlinewidth": 0,
              "ticks": ""
             }
            },
            "type": "scattergl"
           }
          ],
          "scattermapbox": [
           {
            "marker": {
             "colorbar": {
              "outlinewidth": 0,
              "ticks": ""
             }
            },
            "type": "scattermapbox"
           }
          ],
          "scatterpolar": [
           {
            "marker": {
             "colorbar": {
              "outlinewidth": 0,
              "ticks": ""
             }
            },
            "type": "scatterpolar"
           }
          ],
          "scatterpolargl": [
           {
            "marker": {
             "colorbar": {
              "outlinewidth": 0,
              "ticks": ""
             }
            },
            "type": "scatterpolargl"
           }
          ],
          "scatterternary": [
           {
            "marker": {
             "colorbar": {
              "outlinewidth": 0,
              "ticks": ""
             }
            },
            "type": "scatterternary"
           }
          ],
          "surface": [
           {
            "colorbar": {
             "outlinewidth": 0,
             "ticks": ""
            },
            "colorscale": [
             [
              0,
              "#0d0887"
             ],
             [
              0.1111111111111111,
              "#46039f"
             ],
             [
              0.2222222222222222,
              "#7201a8"
             ],
             [
              0.3333333333333333,
              "#9c179e"
             ],
             [
              0.4444444444444444,
              "#bd3786"
             ],
             [
              0.5555555555555556,
              "#d8576b"
             ],
             [
              0.6666666666666666,
              "#ed7953"
             ],
             [
              0.7777777777777778,
              "#fb9f3a"
             ],
             [
              0.8888888888888888,
              "#fdca26"
             ],
             [
              1,
              "#f0f921"
             ]
            ],
            "type": "surface"
           }
          ],
          "table": [
           {
            "cells": {
             "fill": {
              "color": "#EBF0F8"
             },
             "line": {
              "color": "white"
             }
            },
            "header": {
             "fill": {
              "color": "#C8D4E3"
             },
             "line": {
              "color": "white"
             }
            },
            "type": "table"
           }
          ]
         },
         "layout": {
          "annotationdefaults": {
           "arrowcolor": "#2a3f5f",
           "arrowhead": 0,
           "arrowwidth": 1
          },
          "autotypenumbers": "strict",
          "coloraxis": {
           "colorbar": {
            "outlinewidth": 0,
            "ticks": ""
           }
          },
          "colorscale": {
           "diverging": [
            [
             0,
             "#8e0152"
            ],
            [
             0.1,
             "#c51b7d"
            ],
            [
             0.2,
             "#de77ae"
            ],
            [
             0.3,
             "#f1b6da"
            ],
            [
             0.4,
             "#fde0ef"
            ],
            [
             0.5,
             "#f7f7f7"
            ],
            [
             0.6,
             "#e6f5d0"
            ],
            [
             0.7,
             "#b8e186"
            ],
            [
             0.8,
             "#7fbc41"
            ],
            [
             0.9,
             "#4d9221"
            ],
            [
             1,
             "#276419"
            ]
           ],
           "sequential": [
            [
             0,
             "#0d0887"
            ],
            [
             0.1111111111111111,
             "#46039f"
            ],
            [
             0.2222222222222222,
             "#7201a8"
            ],
            [
             0.3333333333333333,
             "#9c179e"
            ],
            [
             0.4444444444444444,
             "#bd3786"
            ],
            [
             0.5555555555555556,
             "#d8576b"
            ],
            [
             0.6666666666666666,
             "#ed7953"
            ],
            [
             0.7777777777777778,
             "#fb9f3a"
            ],
            [
             0.8888888888888888,
             "#fdca26"
            ],
            [
             1,
             "#f0f921"
            ]
           ],
           "sequentialminus": [
            [
             0,
             "#0d0887"
            ],
            [
             0.1111111111111111,
             "#46039f"
            ],
            [
             0.2222222222222222,
             "#7201a8"
            ],
            [
             0.3333333333333333,
             "#9c179e"
            ],
            [
             0.4444444444444444,
             "#bd3786"
            ],
            [
             0.5555555555555556,
             "#d8576b"
            ],
            [
             0.6666666666666666,
             "#ed7953"
            ],
            [
             0.7777777777777778,
             "#fb9f3a"
            ],
            [
             0.8888888888888888,
             "#fdca26"
            ],
            [
             1,
             "#f0f921"
            ]
           ]
          },
          "colorway": [
           "#636efa",
           "#EF553B",
           "#00cc96",
           "#ab63fa",
           "#FFA15A",
           "#19d3f3",
           "#FF6692",
           "#B6E880",
           "#FF97FF",
           "#FECB52"
          ],
          "font": {
           "color": "#2a3f5f"
          },
          "geo": {
           "bgcolor": "white",
           "lakecolor": "white",
           "landcolor": "#E5ECF6",
           "showlakes": true,
           "showland": true,
           "subunitcolor": "white"
          },
          "hoverlabel": {
           "align": "left"
          },
          "hovermode": "closest",
          "mapbox": {
           "style": "light"
          },
          "paper_bgcolor": "white",
          "plot_bgcolor": "#E5ECF6",
          "polar": {
           "angularaxis": {
            "gridcolor": "white",
            "linecolor": "white",
            "ticks": ""
           },
           "bgcolor": "#E5ECF6",
           "radialaxis": {
            "gridcolor": "white",
            "linecolor": "white",
            "ticks": ""
           }
          },
          "scene": {
           "xaxis": {
            "backgroundcolor": "#E5ECF6",
            "gridcolor": "white",
            "gridwidth": 2,
            "linecolor": "white",
            "showbackground": true,
            "ticks": "",
            "zerolinecolor": "white"
           },
           "yaxis": {
            "backgroundcolor": "#E5ECF6",
            "gridcolor": "white",
            "gridwidth": 2,
            "linecolor": "white",
            "showbackground": true,
            "ticks": "",
            "zerolinecolor": "white"
           },
           "zaxis": {
            "backgroundcolor": "#E5ECF6",
            "gridcolor": "white",
            "gridwidth": 2,
            "linecolor": "white",
            "showbackground": true,
            "ticks": "",
            "zerolinecolor": "white"
           }
          },
          "shapedefaults": {
           "line": {
            "color": "#2a3f5f"
           }
          },
          "ternary": {
           "aaxis": {
            "gridcolor": "white",
            "linecolor": "white",
            "ticks": ""
           },
           "baxis": {
            "gridcolor": "white",
            "linecolor": "white",
            "ticks": ""
           },
           "bgcolor": "#E5ECF6",
           "caxis": {
            "gridcolor": "white",
            "linecolor": "white",
            "ticks": ""
           }
          },
          "title": {
           "x": 0.05
          },
          "xaxis": {
           "automargin": true,
           "gridcolor": "white",
           "linecolor": "white",
           "ticks": "",
           "title": {
            "standoff": 15
           },
           "zerolinecolor": "white",
           "zerolinewidth": 2
          },
          "yaxis": {
           "automargin": true,
           "gridcolor": "white",
           "linecolor": "white",
           "ticks": "",
           "title": {
            "standoff": 15
           },
           "zerolinecolor": "white",
           "zerolinewidth": 2
          }
         }
        },
        "xaxis": {
         "anchor": "y",
         "autorange": true,
         "domain": [
          0,
          1
         ],
         "range": [
          -0.5,
          700
         ],
         "title": {
          "text": "value"
         },
         "type": "linear"
        },
        "yaxis": {
         "anchor": "x",
         "autorange": true,
         "domain": [
          0,
          1
         ],
         "range": [
          -0.00013308310423932213,
          0.0035157763037318938
         ],
         "title": {
          "text": "probability density"
         },
         "type": "linear"
        }
       }
      },
      "image/png": "[encoded data removed]",
      "text/html": [
       "<div>                            <div id=\"17f1ae8f-60fd-4a02-af89-b2e86c8ef3eb\" class=\"plotly-graph-div\" style=\"height:525px; width:100%;\"></div>            <script type=\"text/javascript\">                require([\"plotly\"], function(Plotly) {                    window.PLOTLYENV=window.PLOTLYENV || {};                                    if (document.getElementById(\"17f1ae8f-60fd-4a02-af89-b2e86c8ef3eb\")) {                    Plotly.newPlot(                        \"17f1ae8f-60fd-4a02-af89-b2e86c8ef3eb\",                        [{\"alignmentgroup\":\"True\",\"bingroup\":\"x\",\"histnorm\":\"probability density\",\"hovertemplate\":\"variable=cal_fat<br>value=%{x}<br>probability density=%{y}<extra></extra>\",\"legendgroup\":\"cal_fat\",\"marker\":{\"color\":\"#636efa\",\"pattern\":{\"shape\":\"\"}},\"name\":\"cal_fat\",\"offsetgroup\":\"cal_fat\",\"orientation\":\"v\",\"showlegend\":true,\"x\":[660,460,330,270,310,160,310,480,590,240,220,220,180,160,180,80,80,410,670,440,140,200,160,310,240,130,430,310,430,180,180,220,280,120,270,190,170,20,140,130,0,240],\"xaxis\":\"x\",\"yaxis\":\"y\",\"type\":\"histogram\"},{\"name\":\"Dichtekurve der Normalverteilung\",\"x\":[0.0,7.0,14.0,21.0,28.0,35.0,42.0,49.0,56.0,63.0,70.0,77.0,84.0,91.0,98.0,105.0,112.0,119.0,126.0,133.0,140.0,147.0,154.0,161.0,168.0,175.0,182.0,189.0,196.0,203.0,210.0,217.0,224.0,231.0,238.0,245.0,252.0,259.0,266.0,273.0,280.0,287.0,294.0,301.0,308.0,315.0,322.0,329.0,336.0,343.0,350.0,357.0,364.0,371.0,378.0,385.0,392.0,399.0,406.0,413.0,420.0,427.0,434.0,441.0,448.0,455.0,462.0,469.0,476.0,483.0,490.0,497.0,504.0,511.0,518.0,525.0,532.0,539.0,546.0,553.0,560.0,567.0,574.0,581.0,588.0,595.0,602.0,609.0,616.0,623.0,630.0,637.0,644.0,651.0,658.0,665.0,672.0,679.0,686.0,693.0,700.0],\"y\":[0.0006379493484844831,0.0006865766822482884,0.0007374335145720357,0.0007904741336261922,0.000845635926236957,0.0009028386812638791,0.0009619840255579099,0.0010229550087323862,0.0010856158519436622,0.0011498118745217293,0.0012153696106179228,0.0012820971260573903,0.0013497845433159351,0.001418204780008723,0.0014871145035136439,0.001556255301392803,0.0016253550641658209,0.0016941295737777707,0.0017622842878467894,0.001829516306529233,0.0018955165056638466,0.0019599718168120815,0.002022567631960612,0.0020829903080540504,0.002140929744237691,0.0021960820027644686,0.0022481519430042588,0.0022968558369274718,0.002341923933850924,0.002383102942155803,0.002420158396128995,0.002452876877043983,0.0024810680590791057,0.002504566552652095,0.0025232335202027504,0.0025369580423429345,0.002545658215568044,0.0025492819663316397,0.0025478075701628427,0.002541243868586255,0.0025296301808140896,0.0025130359114444974,0.002491559859642223,0.0024653292394216627,0.002434498424624211,0.0023992474359112955,0.00235978019051691,0.002316322538560472,0.002269120112362096,0.0022184360173864684,0.002164548395136474,0.0021077478895020017,0.0020483350487317596,0.0019866176953357646,0.0019229082958532456,0.0018575213615544225,0.0017907709098138466,0.0017229680141347123,0.0016544184686621659,0.001585420590549548,0.0015162631807900111,0.0014472236611557028,0.0013785664017585055,0.0013105412505215804,0.0012433822725904568,0.0011773067044749295,0.0011125141245542985,0.0010491858385499936,0.0009874844757178519,0.0009275537888778595,0.0008695186490163579,0.0008134852230919843,0.0007595413218725538,0.0007077569031392115,0.000658184714423141,0.0006108610585889914,0.0005658066650418488,0.0005230276490993049,0.00048251654212017075,0.0004442533752955787,0.0004082068005619634,0.00037433523286128077,0.00034258799892238263,0.0003129064788380707,0.00028522522793386076,0.00025947306773598406,0.0002355741362175363,0.00021344888890431358,0.00019301504382890193,0.00017418846470856997,0.00015688397806746753,0.00014101612130750182,0.00012649981993887152,0.00011325099329744056,0.00010118708909179744,9.022754803070783e-05,8.02942005772842e-05,7.131159855765289e-05,6.320728491967907e-05,5.591200539396564e-05,4.935986615923866e-05],\"type\":\"scatter\"}],                        {\"template\":{\"data\":{\"histogram2dcontour\":[{\"type\":\"histogram2dcontour\",\"colorbar\":{\"outlinewidth\":0,\"ticks\":\"\"},\"colorscale\":[[0.0,\"#0d0887\"],[0.1111111111111111,\"#46039f\"],[0.2222222222222222,\"#7201a8\"],[0.3333333333333333,\"#9c179e\"],[0.4444444444444444,\"#bd3786\"],[0.5555555555555556,\"#d8576b\"],[0.6666666666666666,\"#ed7953\"],[0.7777777777777778,\"#fb9f3a\"],[0.8888888888888888,\"#fdca26\"],[1.0,\"#f0f921\"]]}],\"choropleth\":[{\"type\":\"choropleth\",\"colorbar\":{\"outlinewidth\":0,\"ticks\":\"\"}}],\"histogram2d\":[{\"type\":\"histogram2d\",\"colorbar\":{\"outlinewidth\":0,\"ticks\":\"\"},\"colorscale\":[[0.0,\"#0d0887\"],[0.1111111111111111,\"#46039f\"],[0.2222222222222222,\"#7201a8\"],[0.3333333333333333,\"#9c179e\"],[0.4444444444444444,\"#bd3786\"],[0.5555555555555556,\"#d8576b\"],[0.6666666666666666,\"#ed7953\"],[0.7777777777777778,\"#fb9f3a\"],[0.8888888888888888,\"#fdca26\"],[1.0,\"#f0f921\"]]}],\"heatmap\":[{\"type\":\"heatmap\",\"colorbar\":{\"outlinewidth\":0,\"ticks\":\"\"},\"colorscale\":[[0.0,\"#0d0887\"],[0.1111111111111111,\"#46039f\"],[0.2222222222222222,\"#7201a8\"],[0.3333333333333333,\"#9c179e\"],[0.4444444444444444,\"#bd3786\"],[0.5555555555555556,\"#d8576b\"],[0.6666666666666666,\"#ed7953\"],[0.7777777777777778,\"#fb9f3a\"],[0.8888888888888888,\"#fdca26\"],[1.0,\"#f0f921\"]]}],\"heatmapgl\":[{\"type\":\"heatmapgl\",\"colorbar\":{\"outlinewidth\":0,\"ticks\":\"\"},\"colorscale\":[[0.0,\"#0d0887\"],[0.1111111111111111,\"#46039f\"],[0.2222222222222222,\"#7201a8\"],[0.3333333333333333,\"#9c179e\"],[0.4444444444444444,\"#bd3786\"],[0.5555555555555556,\"#d8576b\"],[0.6666666666666666,\"#ed7953\"],[0.7777777777777778,\"#fb9f3a\"],[0.8888888888888888,\"#fdca26\"],[1.0,\"#f0f921\"]]}],\"contourcarpet\":[{\"type\":\"contourcarpet\",\"colorbar\":{\"outlinewidth\":0,\"ticks\":\"\"}}],\"contour\":[{\"type\":\"contour\",\"colorbar\":{\"outlinewidth\":0,\"ticks\":\"\"},\"colorscale\":[[0.0,\"#0d0887\"],[0.1111111111111111,\"#46039f\"],[0.2222222222222222,\"#7201a8\"],[0.3333333333333333,\"#9c179e\"],[0.4444444444444444,\"#bd3786\"],[0.5555555555555556,\"#d8576b\"],[0.6666666666666666,\"#ed7953\"],[0.7777777777777778,\"#fb9f3a\"],[0.8888888888888888,\"#fdca26\"],[1.0,\"#f0f921\"]]}],\"surface\":[{\"type\":\"surface\",\"colorbar\":{\"outlinewidth\":0,\"ticks\":\"\"},\"colorscale\":[[0.0,\"#0d0887\"],[0.1111111111111111,\"#46039f\"],[0.2222222222222222,\"#7201a8\"],[0.3333333333333333,\"#9c179e\"],[0.4444444444444444,\"#bd3786\"],[0.5555555555555556,\"#d8576b\"],[0.6666666666666666,\"#ed7953\"],[0.7777777777777778,\"#fb9f3a\"],[0.8888888888888888,\"#fdca26\"],[1.0,\"#f0f921\"]]}],\"mesh3d\":[{\"type\":\"mesh3d\",\"colorbar\":{\"outlinewidth\":0,\"ticks\":\"\"}}],\"scatter\":[{\"fillpattern\":{\"fillmode\":\"overlay\",\"size\":10,\"solidity\":0.2},\"type\":\"scatter\"}],\"parcoords\":[{\"type\":\"parcoords\",\"line\":{\"colorbar\":{\"outlinewidth\":0,\"ticks\":\"\"}}}],\"scatterpolargl\":[{\"type\":\"scatterpolargl\",\"marker\":{\"colorbar\":{\"outlinewidth\":0,\"ticks\":\"\"}}}],\"bar\":[{\"error_x\":{\"color\":\"#2a3f5f\"},\"error_y\":{\"color\":\"#2a3f5f\"},\"marker\":{\"line\":{\"color\":\"#E5ECF6\",\"width\":0.5},\"pattern\":{\"fillmode\":\"overlay\",\"size\":10,\"solidity\":0.2}},\"type\":\"bar\"}],\"scattergeo\":[{\"type\":\"scattergeo\",\"marker\":{\"colorbar\":{\"outlinewidth\":0,\"ticks\":\"\"}}}],\"scatterpolar\":[{\"type\":\"scatterpolar\",\"marker\":{\"colorbar\":{\"outlinewidth\":0,\"ticks\":\"\"}}}],\"histogram\":[{\"marker\":{\"pattern\":{\"fillmode\":\"overlay\",\"size\":10,\"solidity\":0.2}},\"type\":\"histogram\"}],\"scattergl\":[{\"type\":\"scattergl\",\"marker\":{\"colorbar\":{\"outlinewidth\":0,\"ticks\":\"\"}}}],\"scatter3d\":[{\"type\":\"scatter3d\",\"line\":{\"colorbar\":{\"outlinewidth\":0,\"ticks\":\"\"}},\"marker\":{\"colorbar\":{\"outlinewidth\":0,\"ticks\":\"\"}}}],\"scattermapbox\":[{\"type\":\"scattermapbox\",\"marker\":{\"colorbar\":{\"outlinewidth\":0,\"ticks\":\"\"}}}],\"scatterternary\":[{\"type\":\"scatterternary\",\"marker\":{\"colorbar\":{\"outlinewidth\":0,\"ticks\":\"\"}}}],\"scattercarpet\":[{\"type\":\"scattercarpet\",\"marker\":{\"colorbar\":{\"outlinewidth\":0,\"ticks\":\"\"}}}],\"carpet\":[{\"aaxis\":{\"endlinecolor\":\"#2a3f5f\",\"gridcolor\":\"white\",\"linecolor\":\"white\",\"minorgridcolor\":\"white\",\"startlinecolor\":\"#2a3f5f\"},\"baxis\":{\"endlinecolor\":\"#2a3f5f\",\"gridcolor\":\"white\",\"linecolor\":\"white\",\"minorgridcolor\":\"white\",\"startlinecolor\":\"#2a3f5f\"},\"type\":\"carpet\"}],\"table\":[{\"cells\":{\"fill\":{\"color\":\"#EBF0F8\"},\"line\":{\"color\":\"white\"}},\"header\":{\"fill\":{\"color\":\"#C8D4E3\"},\"line\":{\"color\":\"white\"}},\"type\":\"table\"}],\"barpolar\":[{\"marker\":{\"line\":{\"color\":\"#E5ECF6\",\"width\":0.5},\"pattern\":{\"fillmode\":\"overlay\",\"size\":10,\"solidity\":0.2}},\"type\":\"barpolar\"}],\"pie\":[{\"automargin\":true,\"type\":\"pie\"}]},\"layout\":{\"autotypenumbers\":\"strict\",\"colorway\":[\"#636efa\",\"#EF553B\",\"#00cc96\",\"#ab63fa\",\"#FFA15A\",\"#19d3f3\",\"#FF6692\",\"#B6E880\",\"#FF97FF\",\"#FECB52\"],\"font\":{\"color\":\"#2a3f5f\"},\"hovermode\":\"closest\",\"hoverlabel\":{\"align\":\"left\"},\"paper_bgcolor\":\"white\",\"plot_bgcolor\":\"#E5ECF6\",\"polar\":{\"bgcolor\":\"#E5ECF6\",\"angularaxis\":{\"gridcolor\":\"white\",\"linecolor\":\"white\",\"ticks\":\"\"},\"radialaxis\":{\"gridcolor\":\"white\",\"linecolor\":\"white\",\"ticks\":\"\"}},\"ternary\":{\"bgcolor\":\"#E5ECF6\",\"aaxis\":{\"gridcolor\":\"white\",\"linecolor\":\"white\",\"ticks\":\"\"},\"baxis\":{\"gridcolor\":\"white\",\"linecolor\":\"white\",\"ticks\":\"\"},\"caxis\":{\"gridcolor\":\"white\",\"linecolor\":\"white\",\"ticks\":\"\"}},\"coloraxis\":{\"colorbar\":{\"outlinewidth\":0,\"ticks\":\"\"}},\"colorscale\":{\"sequential\":[[0.0,\"#0d0887\"],[0.1111111111111111,\"#46039f\"],[0.2222222222222222,\"#7201a8\"],[0.3333333333333333,\"#9c179e\"],[0.4444444444444444,\"#bd3786\"],[0.5555555555555556,\"#d8576b\"],[0.6666666666666666,\"#ed7953\"],[0.7777777777777778,\"#fb9f3a\"],[0.8888888888888888,\"#fdca26\"],[1.0,\"#f0f921\"]],\"sequentialminus\":[[0.0,\"#0d0887\"],[0.1111111111111111,\"#46039f\"],[0.2222222222222222,\"#7201a8\"],[0.3333333333333333,\"#9c179e\"],[0.4444444444444444,\"#bd3786\"],[0.5555555555555556,\"#d8576b\"],[0.6666666666666666,\"#ed7953\"],[0.7777777777777778,\"#fb9f3a\"],[0.8888888888888888,\"#fdca26\"],[1.0,\"#f0f921\"]],\"diverging\":[[0,\"#8e0152\"],[0.1,\"#c51b7d\"],[0.2,\"#de77ae\"],[0.3,\"#f1b6da\"],[0.4,\"#fde0ef\"],[0.5,\"#f7f7f7\"],[0.6,\"#e6f5d0\"],[0.7,\"#b8e186\"],[0.8,\"#7fbc41\"],[0.9,\"#4d9221\"],[1,\"#276419\"]]},\"xaxis\":{\"gridcolor\":\"white\",\"linecolor\":\"white\",\"ticks\":\"\",\"title\":{\"standoff\":15},\"zerolinecolor\":\"white\",\"automargin\":true,\"zerolinewidth\":2},\"yaxis\":{\"gridcolor\":\"white\",\"linecolor\":\"white\",\"ticks\":\"\",\"title\":{\"standoff\":15},\"zerolinecolor\":\"white\",\"automargin\":true,\"zerolinewidth\":2},\"scene\":{\"xaxis\":{\"backgroundcolor\":\"#E5ECF6\",\"gridcolor\":\"white\",\"linecolor\":\"white\",\"showbackground\":true,\"ticks\":\"\",\"zerolinecolor\":\"white\",\"gridwidth\":2},\"yaxis\":{\"backgroundcolor\":\"#E5ECF6\",\"gridcolor\":\"white\",\"linecolor\":\"white\",\"showbackground\":true,\"ticks\":\"\",\"zerolinecolor\":\"white\",\"gridwidth\":2},\"zaxis\":{\"backgroundcolor\":\"#E5ECF6\",\"gridcolor\":\"white\",\"linecolor\":\"white\",\"showbackground\":true,\"ticks\":\"\",\"zerolinecolor\":\"white\",\"gridwidth\":2}},\"shapedefaults\":{\"line\":{\"color\":\"#2a3f5f\"}},\"annotationdefaults\":{\"arrowcolor\":\"#2a3f5f\",\"arrowhead\":0,\"arrowwidth\":1},\"geo\":{\"bgcolor\":\"white\",\"landcolor\":\"#E5ECF6\",\"subunitcolor\":\"white\",\"showland\":true,\"showlakes\":true,\"lakecolor\":\"white\"},\"title\":{\"x\":0.05},\"mapbox\":{\"style\":\"light\"}}},\"xaxis\":{\"anchor\":\"y\",\"domain\":[0.0,1.0],\"title\":{\"text\":\"value\"}},\"yaxis\":{\"anchor\":\"x\",\"domain\":[0.0,1.0],\"title\":{\"text\":\"probability density\"}},\"legend\":{\"title\":{\"text\":\"variable\"},\"tracegroupgap\":0},\"margin\":{\"t\":60},\"barmode\":\"relative\"},                        {\"responsive\": true}                    ).then(function(){\n",
       "                            \n",
       "var gd = document.getElementById('17f1ae8f-60fd-4a02-af89-b2e86c8ef3eb');\n",
       "var x = new MutationObserver(function (mutations, observer) {{\n",
       "        var display = window.getComputedStyle(gd).display;\n",
       "        if (!display || display === 'none') {{\n",
       "            console.log([gd, 'removed!']);\n",
       "            Plotly.purge(gd);\n",
       "            observer.disconnect();\n",
       "        }}\n",
       "}});\n",
       "\n",
       "// Listen for the removal of the full notebook cells\n",
       "var notebookContainer = gd.closest('#notebook-container');\n",
       "if (notebookContainer) {{\n",
       "    x.observe(notebookContainer, {childList: true});\n",
       "}}\n",
       "\n",
       "// Listen for the clearing of the current output cell\n",
       "var outputEl = gd.closest('.output');\n",
       "if (outputEl) {{\n",
       "    x.observe(outputEl, {childList: true});\n",
       "}}\n",
       "\n",
       "                        })                };                });            </script>        </div>"
      ]
     },
     "metadata": {},
     "output_type": "display_data"
    }
   ],
   "source": [
    "hist = px.histogram(dairy_queen['cal_fat'], histnorm=\"probability density\")\n",
    "hist.add_scatter(x=x, y=y, name=f\"Dichtekurve der Normalverteilung\")\n",
    "hist.show()"
   ]
  },
  {
   "cell_type": "markdown",
   "metadata": {},
   "source": [
    "### ✏️ Aufgabe 2\n",
    "Sieht es so aus, als ob die Daten einer annähernden Normalverteilung folgen?"
   ]
  },
  {
   "cell_type": "markdown",
   "metadata": {},
   "source": [
    "## Evaluating the normal distribution"
   ]
  },
  {
   "cell_type": "markdown",
   "metadata": {},
   "source": [
    "Ein Blick auf die Form des Histogramms ist eine Möglichkeit, um festzustellen, ob die Daten annähernd normalverteilt sind, aber es kann sehr schwierig bzw. unklar sein, zu entscheiden, wie nahe das Histogramm an der Kurve liegt. Ein alternativer Ansatz besteht darin, ein normales Wahrscheinlichkeitsdiagramm zu erstellen, das auch als normales Q-Q-Diagramm für \"Quantil-Quantil\" bezeichnet wird."
   ]
  },
  {
   "cell_type": "code",
   "execution_count": 107,
   "metadata": {},
   "outputs": [
    {
     "data": {
      "application/vnd.plotly.v1+json": {
       "config": {
        "plotlyServerURL": "https://plot.ly"
       },
       "data": [
        {
         "hovertemplate": "x=%{x}<br>y=%{y}<extra></extra>",
         "legendgroup": "",
         "marker": {
          "color": "#636efa",
          "symbol": "circle"
         },
         "mode": "markers",
         "name": "",
         "orientation": "v",
         "showlegend": false,
         "type": "scatter",
         "x": [
          -2.1353046284158346,
          -1.7540101162150163,
          -1.527496670219539,
          -1.359948140410081,
          -1.2237273032174234,
          -1.1070694628903044,
          -1.0038048672080377,
          -0.9102674907071854,
          -0.8240868004562736,
          -0.7436321948616521,
          -0.667727110604202,
          -0.595489101363644,
          -0.5262343894479194,
          -0.45941783418576615,
          -0.3945934820453098,
          -0.33138763259250686,
          -0.26947979801752303,
          -0.20858878396464725,
          -0.148462158735626,
          -0.08886798295158897,
          -0.029588032793860894,
          0.029588032793860894,
          0.08886798295158911,
          0.148462158735626,
          0.2085887839646474,
          0.26947979801752303,
          0.33138763259250686,
          0.3945934820453096,
          0.45941783418576615,
          0.5262343894479193,
          0.5954891013636436,
          0.6677271106042019,
          0.7436321948616517,
          0.8240868004562732,
          0.9102674907071853,
          1.003804867208037,
          1.107069462890304,
          1.223727303217423,
          1.35994814041008,
          1.5274966702195378,
          1.754010116215015,
          2.1353046284158346
         ],
         "xaxis": "x",
         "y": [
          0,
          20,
          80,
          80,
          120,
          130,
          130,
          140,
          140,
          160,
          160,
          160,
          170,
          180,
          180,
          180,
          180,
          190,
          200,
          220,
          220,
          220,
          240,
          240,
          240,
          270,
          270,
          280,
          310,
          310,
          310,
          310,
          330,
          410,
          430,
          430,
          440,
          460,
          480,
          590,
          660,
          670
         ],
         "yaxis": "y"
        },
        {
         "hovertemplate": "<b>OLS trendline</b><br>y = 154.939 * x + 260.476<br>R<sup>2</sup>=0.923481<br><br>x=%{x}<br>y=%{y} <b>(trend)</b><extra></extra>",
         "legendgroup": "",
         "marker": {
          "color": "#636efa",
          "symbol": "circle"
         },
         "mode": "lines",
         "name": "",
         "showlegend": false,
         "type": "scatter",
         "x": [
          -2.1353046284158346,
          -1.7540101162150163,
          -1.527496670219539,
          -1.359948140410081,
          -1.2237273032174234,
          -1.1070694628903044,
          -1.0038048672080377,
          -0.9102674907071854,
          -0.8240868004562736,
          -0.7436321948616521,
          -0.667727110604202,
          -0.595489101363644,
          -0.5262343894479194,
          -0.45941783418576615,
          -0.3945934820453098,
          -0.33138763259250686,
          -0.26947979801752303,
          -0.20858878396464725,
          -0.148462158735626,
          -0.08886798295158897,
          -0.029588032793860894,
          0.029588032793860894,
          0.08886798295158911,
          0.148462158735626,
          0.2085887839646474,
          0.26947979801752303,
          0.33138763259250686,
          0.3945934820453096,
          0.45941783418576615,
          0.5262343894479193,
          0.5954891013636436,
          0.6677271106042019,
          0.7436321948616517,
          0.8240868004562732,
          0.9102674907071853,
          1.003804867208037,
          1.107069462890304,
          1.223727303217423,
          1.35994814041008,
          1.5274966702195378,
          1.754010116215015,
          2.1353046284158346
         ],
         "xaxis": "x",
         "y": [
          -70.36518919813165,
          -11.28790308165162,
          23.80780176095257,
          49.767557585436435,
          70.87344061377289,
          88.94825782254011,
          104.9479427632215,
          119.44050475219501,
          132.79323114283181,
          145.2587652693726,
          157.01940235404993,
          168.2118675058739,
          178.94210436961566,
          189.29457634660773,
          199.33837890912721,
          209.13141272649247,
          218.7233337717967,
          228.15770994039403,
          237.47365267812333,
          246.70709837695657,
          255.89185835743672,
          265.060522594944,
          274.2452825754242,
          283.4787282742574,
          292.79467101198674,
          302.2290471805841,
          311.8209682258883,
          321.6140020432535,
          331.657804605773,
          342.0102765827651,
          352.7405134465068,
          363.9329785983308,
          375.6936156830081,
          388.15914980954886,
          401.5118762001857,
          416.00443818915915,
          432.00412312984054,
          450.07894033860777,
          471.1848233669441,
          497.14457919142797,
          532.2402840340321,
          591.3175701505124
         ],
         "yaxis": "y"
        }
       ],
       "layout": {
        "autosize": true,
        "legend": {
         "tracegroupgap": 0
        },
        "margin": {
         "t": 60
        },
        "template": {
         "data": {
          "bar": [
           {
            "error_x": {
             "color": "#2a3f5f"
            },
            "error_y": {
             "color": "#2a3f5f"
            },
            "marker": {
             "line": {
              "color": "#E5ECF6",
              "width": 0.5
             },
             "pattern": {
              "fillmode": "overlay",
              "size": 10,
              "solidity": 0.2
             }
            },
            "type": "bar"
           }
          ],
          "barpolar": [
           {
            "marker": {
             "line": {
              "color": "#E5ECF6",
              "width": 0.5
             },
             "pattern": {
              "fillmode": "overlay",
              "size": 10,
              "solidity": 0.2
             }
            },
            "type": "barpolar"
           }
          ],
          "carpet": [
           {
            "aaxis": {
             "endlinecolor": "#2a3f5f",
             "gridcolor": "white",
             "linecolor": "white",
             "minorgridcolor": "white",
             "startlinecolor": "#2a3f5f"
            },
            "baxis": {
             "endlinecolor": "#2a3f5f",
             "gridcolor": "white",
             "linecolor": "white",
             "minorgridcolor": "white",
             "startlinecolor": "#2a3f5f"
            },
            "type": "carpet"
           }
          ],
          "choropleth": [
           {
            "colorbar": {
             "outlinewidth": 0,
             "ticks": ""
            },
            "type": "choropleth"
           }
          ],
          "contour": [
           {
            "colorbar": {
             "outlinewidth": 0,
             "ticks": ""
            },
            "colorscale": [
             [
              0,
              "#0d0887"
             ],
             [
              0.1111111111111111,
              "#46039f"
             ],
             [
              0.2222222222222222,
              "#7201a8"
             ],
             [
              0.3333333333333333,
              "#9c179e"
             ],
             [
              0.4444444444444444,
              "#bd3786"
             ],
             [
              0.5555555555555556,
              "#d8576b"
             ],
             [
              0.6666666666666666,
              "#ed7953"
             ],
             [
              0.7777777777777778,
              "#fb9f3a"
             ],
             [
              0.8888888888888888,
              "#fdca26"
             ],
             [
              1,
              "#f0f921"
             ]
            ],
            "type": "contour"
           }
          ],
          "contourcarpet": [
           {
            "colorbar": {
             "outlinewidth": 0,
             "ticks": ""
            },
            "type": "contourcarpet"
           }
          ],
          "heatmap": [
           {
            "colorbar": {
             "outlinewidth": 0,
             "ticks": ""
            },
            "colorscale": [
             [
              0,
              "#0d0887"
             ],
             [
              0.1111111111111111,
              "#46039f"
             ],
             [
              0.2222222222222222,
              "#7201a8"
             ],
             [
              0.3333333333333333,
              "#9c179e"
             ],
             [
              0.4444444444444444,
              "#bd3786"
             ],
             [
              0.5555555555555556,
              "#d8576b"
             ],
             [
              0.6666666666666666,
              "#ed7953"
             ],
             [
              0.7777777777777778,
              "#fb9f3a"
             ],
             [
              0.8888888888888888,
              "#fdca26"
             ],
             [
              1,
              "#f0f921"
             ]
            ],
            "type": "heatmap"
           }
          ],
          "heatmapgl": [
           {
            "colorbar": {
             "outlinewidth": 0,
             "ticks": ""
            },
            "colorscale": [
             [
              0,
              "#0d0887"
             ],
             [
              0.1111111111111111,
              "#46039f"
             ],
             [
              0.2222222222222222,
              "#7201a8"
             ],
             [
              0.3333333333333333,
              "#9c179e"
             ],
             [
              0.4444444444444444,
              "#bd3786"
             ],
             [
              0.5555555555555556,
              "#d8576b"
             ],
             [
              0.6666666666666666,
              "#ed7953"
             ],
             [
              0.7777777777777778,
              "#fb9f3a"
             ],
             [
              0.8888888888888888,
              "#fdca26"
             ],
             [
              1,
              "#f0f921"
             ]
            ],
            "type": "heatmapgl"
           }
          ],
          "histogram": [
           {
            "marker": {
             "pattern": {
              "fillmode": "overlay",
              "size": 10,
              "solidity": 0.2
             }
            },
            "type": "histogram"
           }
          ],
          "histogram2d": [
           {
            "colorbar": {
             "outlinewidth": 0,
             "ticks": ""
            },
            "colorscale": [
             [
              0,
              "#0d0887"
             ],
             [
              0.1111111111111111,
              "#46039f"
             ],
             [
              0.2222222222222222,
              "#7201a8"
             ],
             [
              0.3333333333333333,
              "#9c179e"
             ],
             [
              0.4444444444444444,
              "#bd3786"
             ],
             [
              0.5555555555555556,
              "#d8576b"
             ],
             [
              0.6666666666666666,
              "#ed7953"
             ],
             [
              0.7777777777777778,
              "#fb9f3a"
             ],
             [
              0.8888888888888888,
              "#fdca26"
             ],
             [
              1,
              "#f0f921"
             ]
            ],
            "type": "histogram2d"
           }
          ],
          "histogram2dcontour": [
           {
            "colorbar": {
             "outlinewidth": 0,
             "ticks": ""
            },
            "colorscale": [
             [
              0,
              "#0d0887"
             ],
             [
              0.1111111111111111,
              "#46039f"
             ],
             [
              0.2222222222222222,
              "#7201a8"
             ],
             [
              0.3333333333333333,
              "#9c179e"
             ],
             [
              0.4444444444444444,
              "#bd3786"
             ],
             [
              0.5555555555555556,
              "#d8576b"
             ],
             [
              0.6666666666666666,
              "#ed7953"
             ],
             [
              0.7777777777777778,
              "#fb9f3a"
             ],
             [
              0.8888888888888888,
              "#fdca26"
             ],
             [
              1,
              "#f0f921"
             ]
            ],
            "type": "histogram2dcontour"
           }
          ],
          "mesh3d": [
           {
            "colorbar": {
             "outlinewidth": 0,
             "ticks": ""
            },
            "type": "mesh3d"
           }
          ],
          "parcoords": [
           {
            "line": {
             "colorbar": {
              "outlinewidth": 0,
              "ticks": ""
             }
            },
            "type": "parcoords"
           }
          ],
          "pie": [
           {
            "automargin": true,
            "type": "pie"
           }
          ],
          "scatter": [
           {
            "fillpattern": {
             "fillmode": "overlay",
             "size": 10,
             "solidity": 0.2
            },
            "type": "scatter"
           }
          ],
          "scatter3d": [
           {
            "line": {
             "colorbar": {
              "outlinewidth": 0,
              "ticks": ""
             }
            },
            "marker": {
             "colorbar": {
              "outlinewidth": 0,
              "ticks": ""
             }
            },
            "type": "scatter3d"
           }
          ],
          "scattercarpet": [
           {
            "marker": {
             "colorbar": {
              "outlinewidth": 0,
              "ticks": ""
             }
            },
            "type": "scattercarpet"
           }
          ],
          "scattergeo": [
           {
            "marker": {
             "colorbar": {
              "outlinewidth": 0,
              "ticks": ""
             }
            },
            "type": "scattergeo"
           }
          ],
          "scattergl": [
           {
            "marker": {
             "colorbar": {
              "outlinewidth": 0,
              "ticks": ""
             }
            },
            "type": "scattergl"
           }
          ],
          "scattermapbox": [
           {
            "marker": {
             "colorbar": {
              "outlinewidth": 0,
              "ticks": ""
             }
            },
            "type": "scattermapbox"
           }
          ],
          "scatterpolar": [
           {
            "marker": {
             "colorbar": {
              "outlinewidth": 0,
              "ticks": ""
             }
            },
            "type": "scatterpolar"
           }
          ],
          "scatterpolargl": [
           {
            "marker": {
             "colorbar": {
              "outlinewidth": 0,
              "ticks": ""
             }
            },
            "type": "scatterpolargl"
           }
          ],
          "scatterternary": [
           {
            "marker": {
             "colorbar": {
              "outlinewidth": 0,
              "ticks": ""
             }
            },
            "type": "scatterternary"
           }
          ],
          "surface": [
           {
            "colorbar": {
             "outlinewidth": 0,
             "ticks": ""
            },
            "colorscale": [
             [
              0,
              "#0d0887"
             ],
             [
              0.1111111111111111,
              "#46039f"
             ],
             [
              0.2222222222222222,
              "#7201a8"
             ],
             [
              0.3333333333333333,
              "#9c179e"
             ],
             [
              0.4444444444444444,
              "#bd3786"
             ],
             [
              0.5555555555555556,
              "#d8576b"
             ],
             [
              0.6666666666666666,
              "#ed7953"
             ],
             [
              0.7777777777777778,
              "#fb9f3a"
             ],
             [
              0.8888888888888888,
              "#fdca26"
             ],
             [
              1,
              "#f0f921"
             ]
            ],
            "type": "surface"
           }
          ],
          "table": [
           {
            "cells": {
             "fill": {
              "color": "#EBF0F8"
             },
             "line": {
              "color": "white"
             }
            },
            "header": {
             "fill": {
              "color": "#C8D4E3"
             },
             "line": {
              "color": "white"
             }
            },
            "type": "table"
           }
          ]
         },
         "layout": {
          "annotationdefaults": {
           "arrowcolor": "#2a3f5f",
           "arrowhead": 0,
           "arrowwidth": 1
          },
          "autotypenumbers": "strict",
          "coloraxis": {
           "colorbar": {
            "outlinewidth": 0,
            "ticks": ""
           }
          },
          "colorscale": {
           "diverging": [
            [
             0,
             "#8e0152"
            ],
            [
             0.1,
             "#c51b7d"
            ],
            [
             0.2,
             "#de77ae"
            ],
            [
             0.3,
             "#f1b6da"
            ],
            [
             0.4,
             "#fde0ef"
            ],
            [
             0.5,
             "#f7f7f7"
            ],
            [
             0.6,
             "#e6f5d0"
            ],
            [
             0.7,
             "#b8e186"
            ],
            [
             0.8,
             "#7fbc41"
            ],
            [
             0.9,
             "#4d9221"
            ],
            [
             1,
             "#276419"
            ]
           ],
           "sequential": [
            [
             0,
             "#0d0887"
            ],
            [
             0.1111111111111111,
             "#46039f"
            ],
            [
             0.2222222222222222,
             "#7201a8"
            ],
            [
             0.3333333333333333,
             "#9c179e"
            ],
            [
             0.4444444444444444,
             "#bd3786"
            ],
            [
             0.5555555555555556,
             "#d8576b"
            ],
            [
             0.6666666666666666,
             "#ed7953"
            ],
            [
             0.7777777777777778,
             "#fb9f3a"
            ],
            [
             0.8888888888888888,
             "#fdca26"
            ],
            [
             1,
             "#f0f921"
            ]
           ],
           "sequentialminus": [
            [
             0,
             "#0d0887"
            ],
            [
             0.1111111111111111,
             "#46039f"
            ],
            [
             0.2222222222222222,
             "#7201a8"
            ],
            [
             0.3333333333333333,
             "#9c179e"
            ],
            [
             0.4444444444444444,
             "#bd3786"
            ],
            [
             0.5555555555555556,
             "#d8576b"
            ],
            [
             0.6666666666666666,
             "#ed7953"
            ],
            [
             0.7777777777777778,
             "#fb9f3a"
            ],
            [
             0.8888888888888888,
             "#fdca26"
            ],
            [
             1,
             "#f0f921"
            ]
           ]
          },
          "colorway": [
           "#636efa",
           "#EF553B",
           "#00cc96",
           "#ab63fa",
           "#FFA15A",
           "#19d3f3",
           "#FF6692",
           "#B6E880",
           "#FF97FF",
           "#FECB52"
          ],
          "font": {
           "color": "#2a3f5f"
          },
          "geo": {
           "bgcolor": "white",
           "lakecolor": "white",
           "landcolor": "#E5ECF6",
           "showlakes": true,
           "showland": true,
           "subunitcolor": "white"
          },
          "hoverlabel": {
           "align": "left"
          },
          "hovermode": "closest",
          "mapbox": {
           "style": "light"
          },
          "paper_bgcolor": "white",
          "plot_bgcolor": "#E5ECF6",
          "polar": {
           "angularaxis": {
            "gridcolor": "white",
            "linecolor": "white",
            "ticks": ""
           },
           "bgcolor": "#E5ECF6",
           "radialaxis": {
            "gridcolor": "white",
            "linecolor": "white",
            "ticks": ""
           }
          },
          "scene": {
           "xaxis": {
            "backgroundcolor": "#E5ECF6",
            "gridcolor": "white",
            "gridwidth": 2,
            "linecolor": "white",
            "showbackground": true,
            "ticks": "",
            "zerolinecolor": "white"
           },
           "yaxis": {
            "backgroundcolor": "#E5ECF6",
            "gridcolor": "white",
            "gridwidth": 2,
            "linecolor": "white",
            "showbackground": true,
            "ticks": "",
            "zerolinecolor": "white"
           },
           "zaxis": {
            "backgroundcolor": "#E5ECF6",
            "gridcolor": "white",
            "gridwidth": 2,
            "linecolor": "white",
            "showbackground": true,
            "ticks": "",
            "zerolinecolor": "white"
           }
          },
          "shapedefaults": {
           "line": {
            "color": "#2a3f5f"
           }
          },
          "ternary": {
           "aaxis": {
            "gridcolor": "white",
            "linecolor": "white",
            "ticks": ""
           },
           "baxis": {
            "gridcolor": "white",
            "linecolor": "white",
            "ticks": ""
           },
           "bgcolor": "#E5ECF6",
           "caxis": {
            "gridcolor": "white",
            "linecolor": "white",
            "ticks": ""
           }
          },
          "title": {
           "x": 0.05
          },
          "xaxis": {
           "automargin": true,
           "gridcolor": "white",
           "linecolor": "white",
           "ticks": "",
           "title": {
            "standoff": 15
           },
           "zerolinecolor": "white",
           "zerolinewidth": 2
          },
          "yaxis": {
           "automargin": true,
           "gridcolor": "white",
           "linecolor": "white",
           "ticks": "",
           "title": {
            "standoff": 15
           },
           "zerolinecolor": "white",
           "zerolinewidth": 2
          }
         }
        },
        "xaxis": {
         "anchor": "y",
         "autorange": true,
         "domain": [
          0,
          1
         ],
         "range": [
          -2.3940590735410106,
          2.3940590735410106
         ],
         "title": {
          "text": "x"
         },
         "type": "linear"
        },
        "yaxis": {
         "anchor": "x",
         "autorange": true,
         "domain": [
          0,
          1
         ],
         "range": [
          -112.29063105748531,
          726.2182061295879
         ],
         "title": {
          "text": "y"
         },
         "type": "linear"
        }
       }
      },
      "image/png": "[encoded data removed]",
      "text/html": [
       "<div>                            <div id=\"b96c1540-d7b9-4738-b0ca-24267b98855b\" class=\"plotly-graph-div\" style=\"height:525px; width:100%;\"></div>            <script type=\"text/javascript\">                require([\"plotly\"], function(Plotly) {                    window.PLOTLYENV=window.PLOTLYENV || {};                                    if (document.getElementById(\"b96c1540-d7b9-4738-b0ca-24267b98855b\")) {                    Plotly.newPlot(                        \"b96c1540-d7b9-4738-b0ca-24267b98855b\",                        [{\"hovertemplate\":\"x=%{x}<br>y=%{y}<extra></extra>\",\"legendgroup\":\"\",\"marker\":{\"color\":\"#636efa\",\"symbol\":\"circle\"},\"mode\":\"markers\",\"name\":\"\",\"orientation\":\"v\",\"showlegend\":false,\"x\":[-2.1353046284158346,-1.7540101162150163,-1.527496670219539,-1.359948140410081,-1.2237273032174234,-1.1070694628903044,-1.0038048672080377,-0.9102674907071854,-0.8240868004562736,-0.7436321948616521,-0.667727110604202,-0.595489101363644,-0.5262343894479194,-0.45941783418576615,-0.3945934820453098,-0.33138763259250686,-0.26947979801752303,-0.20858878396464725,-0.148462158735626,-0.08886798295158897,-0.029588032793860894,0.029588032793860894,0.08886798295158911,0.148462158735626,0.2085887839646474,0.26947979801752303,0.33138763259250686,0.3945934820453096,0.45941783418576615,0.5262343894479193,0.5954891013636436,0.6677271106042019,0.7436321948616517,0.8240868004562732,0.9102674907071853,1.003804867208037,1.107069462890304,1.223727303217423,1.35994814041008,1.5274966702195378,1.754010116215015,2.1353046284158346],\"xaxis\":\"x\",\"y\":[0,20,80,80,120,130,130,140,140,160,160,160,170,180,180,180,180,190,200,220,220,220,240,240,240,270,270,280,310,310,310,310,330,410,430,430,440,460,480,590,660,670],\"yaxis\":\"y\",\"type\":\"scatter\"},{\"hovertemplate\":\"<b>OLS trendline</b><br>y = 154.939 * x + 260.476<br>R<sup>2</sup>=0.923481<br><br>x=%{x}<br>y=%{y} <b>(trend)</b><extra></extra>\",\"legendgroup\":\"\",\"marker\":{\"color\":\"#636efa\",\"symbol\":\"circle\"},\"mode\":\"lines\",\"name\":\"\",\"showlegend\":false,\"x\":[-2.1353046284158346,-1.7540101162150163,-1.527496670219539,-1.359948140410081,-1.2237273032174234,-1.1070694628903044,-1.0038048672080377,-0.9102674907071854,-0.8240868004562736,-0.7436321948616521,-0.667727110604202,-0.595489101363644,-0.5262343894479194,-0.45941783418576615,-0.3945934820453098,-0.33138763259250686,-0.26947979801752303,-0.20858878396464725,-0.148462158735626,-0.08886798295158897,-0.029588032793860894,0.029588032793860894,0.08886798295158911,0.148462158735626,0.2085887839646474,0.26947979801752303,0.33138763259250686,0.3945934820453096,0.45941783418576615,0.5262343894479193,0.5954891013636436,0.6677271106042019,0.7436321948616517,0.8240868004562732,0.9102674907071853,1.003804867208037,1.107069462890304,1.223727303217423,1.35994814041008,1.5274966702195378,1.754010116215015,2.1353046284158346],\"xaxis\":\"x\",\"y\":[-70.36518919813165,-11.28790308165162,23.80780176095257,49.767557585436435,70.87344061377289,88.94825782254011,104.9479427632215,119.44050475219501,132.79323114283181,145.2587652693726,157.01940235404993,168.2118675058739,178.94210436961566,189.29457634660773,199.33837890912721,209.13141272649247,218.7233337717967,228.15770994039403,237.47365267812333,246.70709837695657,255.89185835743672,265.060522594944,274.2452825754242,283.4787282742574,292.79467101198674,302.2290471805841,311.8209682258883,321.6140020432535,331.657804605773,342.0102765827651,352.7405134465068,363.9329785983308,375.6936156830081,388.15914980954886,401.5118762001857,416.00443818915915,432.00412312984054,450.07894033860777,471.1848233669441,497.14457919142797,532.2402840340321,591.3175701505124],\"yaxis\":\"y\",\"type\":\"scatter\"}],                        {\"template\":{\"data\":{\"histogram2dcontour\":[{\"type\":\"histogram2dcontour\",\"colorbar\":{\"outlinewidth\":0,\"ticks\":\"\"},\"colorscale\":[[0.0,\"#0d0887\"],[0.1111111111111111,\"#46039f\"],[0.2222222222222222,\"#7201a8\"],[0.3333333333333333,\"#9c179e\"],[0.4444444444444444,\"#bd3786\"],[0.5555555555555556,\"#d8576b\"],[0.6666666666666666,\"#ed7953\"],[0.7777777777777778,\"#fb9f3a\"],[0.8888888888888888,\"#fdca26\"],[1.0,\"#f0f921\"]]}],\"choropleth\":[{\"type\":\"choropleth\",\"colorbar\":{\"outlinewidth\":0,\"ticks\":\"\"}}],\"histogram2d\":[{\"type\":\"histogram2d\",\"colorbar\":{\"outlinewidth\":0,\"ticks\":\"\"},\"colorscale\":[[0.0,\"#0d0887\"],[0.1111111111111111,\"#46039f\"],[0.2222222222222222,\"#7201a8\"],[0.3333333333333333,\"#9c179e\"],[0.4444444444444444,\"#bd3786\"],[0.5555555555555556,\"#d8576b\"],[0.6666666666666666,\"#ed7953\"],[0.7777777777777778,\"#fb9f3a\"],[0.8888888888888888,\"#fdca26\"],[1.0,\"#f0f921\"]]}],\"heatmap\":[{\"type\":\"heatmap\",\"colorbar\":{\"outlinewidth\":0,\"ticks\":\"\"},\"colorscale\":[[0.0,\"#0d0887\"],[0.1111111111111111,\"#46039f\"],[0.2222222222222222,\"#7201a8\"],[0.3333333333333333,\"#9c179e\"],[0.4444444444444444,\"#bd3786\"],[0.5555555555555556,\"#d8576b\"],[0.6666666666666666,\"#ed7953\"],[0.7777777777777778,\"#fb9f3a\"],[0.8888888888888888,\"#fdca26\"],[1.0,\"#f0f921\"]]}],\"heatmapgl\":[{\"type\":\"heatmapgl\",\"colorbar\":{\"outlinewidth\":0,\"ticks\":\"\"},\"colorscale\":[[0.0,\"#0d0887\"],[0.1111111111111111,\"#46039f\"],[0.2222222222222222,\"#7201a8\"],[0.3333333333333333,\"#9c179e\"],[0.4444444444444444,\"#bd3786\"],[0.5555555555555556,\"#d8576b\"],[0.6666666666666666,\"#ed7953\"],[0.7777777777777778,\"#fb9f3a\"],[0.8888888888888888,\"#fdca26\"],[1.0,\"#f0f921\"]]}],\"contourcarpet\":[{\"type\":\"contourcarpet\",\"colorbar\":{\"outlinewidth\":0,\"ticks\":\"\"}}],\"contour\":[{\"type\":\"contour\",\"colorbar\":{\"outlinewidth\":0,\"ticks\":\"\"},\"colorscale\":[[0.0,\"#0d0887\"],[0.1111111111111111,\"#46039f\"],[0.2222222222222222,\"#7201a8\"],[0.3333333333333333,\"#9c179e\"],[0.4444444444444444,\"#bd3786\"],[0.5555555555555556,\"#d8576b\"],[0.6666666666666666,\"#ed7953\"],[0.7777777777777778,\"#fb9f3a\"],[0.8888888888888888,\"#fdca26\"],[1.0,\"#f0f921\"]]}],\"surface\":[{\"type\":\"surface\",\"colorbar\":{\"outlinewidth\":0,\"ticks\":\"\"},\"colorscale\":[[0.0,\"#0d0887\"],[0.1111111111111111,\"#46039f\"],[0.2222222222222222,\"#7201a8\"],[0.3333333333333333,\"#9c179e\"],[0.4444444444444444,\"#bd3786\"],[0.5555555555555556,\"#d8576b\"],[0.6666666666666666,\"#ed7953\"],[0.7777777777777778,\"#fb9f3a\"],[0.8888888888888888,\"#fdca26\"],[1.0,\"#f0f921\"]]}],\"mesh3d\":[{\"type\":\"mesh3d\",\"colorbar\":{\"outlinewidth\":0,\"ticks\":\"\"}}],\"scatter\":[{\"fillpattern\":{\"fillmode\":\"overlay\",\"size\":10,\"solidity\":0.2},\"type\":\"scatter\"}],\"parcoords\":[{\"type\":\"parcoords\",\"line\":{\"colorbar\":{\"outlinewidth\":0,\"ticks\":\"\"}}}],\"scatterpolargl\":[{\"type\":\"scatterpolargl\",\"marker\":{\"colorbar\":{\"outlinewidth\":0,\"ticks\":\"\"}}}],\"bar\":[{\"error_x\":{\"color\":\"#2a3f5f\"},\"error_y\":{\"color\":\"#2a3f5f\"},\"marker\":{\"line\":{\"color\":\"#E5ECF6\",\"width\":0.5},\"pattern\":{\"fillmode\":\"overlay\",\"size\":10,\"solidity\":0.2}},\"type\":\"bar\"}],\"scattergeo\":[{\"type\":\"scattergeo\",\"marker\":{\"colorbar\":{\"outlinewidth\":0,\"ticks\":\"\"}}}],\"scatterpolar\":[{\"type\":\"scatterpolar\",\"marker\":{\"colorbar\":{\"outlinewidth\":0,\"ticks\":\"\"}}}],\"histogram\":[{\"marker\":{\"pattern\":{\"fillmode\":\"overlay\",\"size\":10,\"solidity\":0.2}},\"type\":\"histogram\"}],\"scattergl\":[{\"type\":\"scattergl\",\"marker\":{\"colorbar\":{\"outlinewidth\":0,\"ticks\":\"\"}}}],\"scatter3d\":[{\"type\":\"scatter3d\",\"line\":{\"colorbar\":{\"outlinewidth\":0,\"ticks\":\"\"}},\"marker\":{\"colorbar\":{\"outlinewidth\":0,\"ticks\":\"\"}}}],\"scattermapbox\":[{\"type\":\"scattermapbox\",\"marker\":{\"colorbar\":{\"outlinewidth\":0,\"ticks\":\"\"}}}],\"scatterternary\":[{\"type\":\"scatterternary\",\"marker\":{\"colorbar\":{\"outlinewidth\":0,\"ticks\":\"\"}}}],\"scattercarpet\":[{\"type\":\"scattercarpet\",\"marker\":{\"colorbar\":{\"outlinewidth\":0,\"ticks\":\"\"}}}],\"carpet\":[{\"aaxis\":{\"endlinecolor\":\"#2a3f5f\",\"gridcolor\":\"white\",\"linecolor\":\"white\",\"minorgridcolor\":\"white\",\"startlinecolor\":\"#2a3f5f\"},\"baxis\":{\"endlinecolor\":\"#2a3f5f\",\"gridcolor\":\"white\",\"linecolor\":\"white\",\"minorgridcolor\":\"white\",\"startlinecolor\":\"#2a3f5f\"},\"type\":\"carpet\"}],\"table\":[{\"cells\":{\"fill\":{\"color\":\"#EBF0F8\"},\"line\":{\"color\":\"white\"}},\"header\":{\"fill\":{\"color\":\"#C8D4E3\"},\"line\":{\"color\":\"white\"}},\"type\":\"table\"}],\"barpolar\":[{\"marker\":{\"line\":{\"color\":\"#E5ECF6\",\"width\":0.5},\"pattern\":{\"fillmode\":\"overlay\",\"size\":10,\"solidity\":0.2}},\"type\":\"barpolar\"}],\"pie\":[{\"automargin\":true,\"type\":\"pie\"}]},\"layout\":{\"autotypenumbers\":\"strict\",\"colorway\":[\"#636efa\",\"#EF553B\",\"#00cc96\",\"#ab63fa\",\"#FFA15A\",\"#19d3f3\",\"#FF6692\",\"#B6E880\",\"#FF97FF\",\"#FECB52\"],\"font\":{\"color\":\"#2a3f5f\"},\"hovermode\":\"closest\",\"hoverlabel\":{\"align\":\"left\"},\"paper_bgcolor\":\"white\",\"plot_bgcolor\":\"#E5ECF6\",\"polar\":{\"bgcolor\":\"#E5ECF6\",\"angularaxis\":{\"gridcolor\":\"white\",\"linecolor\":\"white\",\"ticks\":\"\"},\"radialaxis\":{\"gridcolor\":\"white\",\"linecolor\":\"white\",\"ticks\":\"\"}},\"ternary\":{\"bgcolor\":\"#E5ECF6\",\"aaxis\":{\"gridcolor\":\"white\",\"linecolor\":\"white\",\"ticks\":\"\"},\"baxis\":{\"gridcolor\":\"white\",\"linecolor\":\"white\",\"ticks\":\"\"},\"caxis\":{\"gridcolor\":\"white\",\"linecolor\":\"white\",\"ticks\":\"\"}},\"coloraxis\":{\"colorbar\":{\"outlinewidth\":0,\"ticks\":\"\"}},\"colorscale\":{\"sequential\":[[0.0,\"#0d0887\"],[0.1111111111111111,\"#46039f\"],[0.2222222222222222,\"#7201a8\"],[0.3333333333333333,\"#9c179e\"],[0.4444444444444444,\"#bd3786\"],[0.5555555555555556,\"#d8576b\"],[0.6666666666666666,\"#ed7953\"],[0.7777777777777778,\"#fb9f3a\"],[0.8888888888888888,\"#fdca26\"],[1.0,\"#f0f921\"]],\"sequentialminus\":[[0.0,\"#0d0887\"],[0.1111111111111111,\"#46039f\"],[0.2222222222222222,\"#7201a8\"],[0.3333333333333333,\"#9c179e\"],[0.4444444444444444,\"#bd3786\"],[0.5555555555555556,\"#d8576b\"],[0.6666666666666666,\"#ed7953\"],[0.7777777777777778,\"#fb9f3a\"],[0.8888888888888888,\"#fdca26\"],[1.0,\"#f0f921\"]],\"diverging\":[[0,\"#8e0152\"],[0.1,\"#c51b7d\"],[0.2,\"#de77ae\"],[0.3,\"#f1b6da\"],[0.4,\"#fde0ef\"],[0.5,\"#f7f7f7\"],[0.6,\"#e6f5d0\"],[0.7,\"#b8e186\"],[0.8,\"#7fbc41\"],[0.9,\"#4d9221\"],[1,\"#276419\"]]},\"xaxis\":{\"gridcolor\":\"white\",\"linecolor\":\"white\",\"ticks\":\"\",\"title\":{\"standoff\":15},\"zerolinecolor\":\"white\",\"automargin\":true,\"zerolinewidth\":2},\"yaxis\":{\"gridcolor\":\"white\",\"linecolor\":\"white\",\"ticks\":\"\",\"title\":{\"standoff\":15},\"zerolinecolor\":\"white\",\"automargin\":true,\"zerolinewidth\":2},\"scene\":{\"xaxis\":{\"backgroundcolor\":\"#E5ECF6\",\"gridcolor\":\"white\",\"linecolor\":\"white\",\"showbackground\":true,\"ticks\":\"\",\"zerolinecolor\":\"white\",\"gridwidth\":2},\"yaxis\":{\"backgroundcolor\":\"#E5ECF6\",\"gridcolor\":\"white\",\"linecolor\":\"white\",\"showbackground\":true,\"ticks\":\"\",\"zerolinecolor\":\"white\",\"gridwidth\":2},\"zaxis\":{\"backgroundcolor\":\"#E5ECF6\",\"gridcolor\":\"white\",\"linecolor\":\"white\",\"showbackground\":true,\"ticks\":\"\",\"zerolinecolor\":\"white\",\"gridwidth\":2}},\"shapedefaults\":{\"line\":{\"color\":\"#2a3f5f\"}},\"annotationdefaults\":{\"arrowcolor\":\"#2a3f5f\",\"arrowhead\":0,\"arrowwidth\":1},\"geo\":{\"bgcolor\":\"white\",\"landcolor\":\"#E5ECF6\",\"subunitcolor\":\"white\",\"showland\":true,\"showlakes\":true,\"lakecolor\":\"white\"},\"title\":{\"x\":0.05},\"mapbox\":{\"style\":\"light\"}}},\"xaxis\":{\"anchor\":\"y\",\"domain\":[0.0,1.0],\"title\":{\"text\":\"x\"}},\"yaxis\":{\"anchor\":\"x\",\"domain\":[0.0,1.0],\"title\":{\"text\":\"y\"}},\"legend\":{\"tracegroupgap\":0},\"margin\":{\"t\":60}},                        {\"responsive\": true}                    ).then(function(){\n",
       "                            \n",
       "var gd = document.getElementById('b96c1540-d7b9-4738-b0ca-24267b98855b');\n",
       "var x = new MutationObserver(function (mutations, observer) {{\n",
       "        var display = window.getComputedStyle(gd).display;\n",
       "        if (!display || display === 'none') {{\n",
       "            console.log([gd, 'removed!']);\n",
       "            Plotly.purge(gd);\n",
       "            observer.disconnect();\n",
       "        }}\n",
       "}});\n",
       "\n",
       "// Listen for the removal of the full notebook cells\n",
       "var notebookContainer = gd.closest('#notebook-container');\n",
       "if (notebookContainer) {{\n",
       "    x.observe(notebookContainer, {childList: true});\n",
       "}}\n",
       "\n",
       "// Listen for the clearing of the current output cell\n",
       "var outputEl = gd.closest('.output');\n",
       "if (outputEl) {{\n",
       "    x.observe(outputEl, {childList: true});\n",
       "}}\n",
       "\n",
       "                        })                };                });            </script>        </div>"
      ]
     },
     "metadata": {},
     "output_type": "display_data"
    }
   ],
   "source": [
    "from scipy.stats import probplot\n",
    "\n",
    "(Q_x, Q_y) = probplot(dairy_queen['cal_fat'], fit=False)\n",
    "px.scatter(x=Q_x, y=Q_y, trendline=\"ols\")"
   ]
  },
  {
   "cell_type": "markdown",
   "metadata": {},
   "source": [
    "Die Werte auf der x-Achse entsprechen den Quantilen einer theoretischen Normalkurve mit Mittelwert 0 und Standardabweichung 1 (d. h. der Standardnormalverteilung). Die Werte auf der y-Achse entsprechen den Quantilen der ursprünglichen, nicht standardisierten Stichprobendaten. Aber auch wenn wir die Stichprobendatenwerte standardisieren würden, sähe die Q-Q-Kurve identisch aus. Ein nahezu normaler Datensatz führt zu einem Wahrscheinlichkeitsdiagramm, bei dem die Punkte eng an einer diagonalen Linie liegen. Jede Abweichung von der Normalität führt zu einer Abweichung der Punkte von dieser Linie.\n",
    "\n",
    "Das Diagramm für die Kalorien aus Fett von Dairy Queen zeigt Punkte, die tendenziell der Linie folgen, aber mit einigen abweichenden Punkten am oberen Ende. Hier stellt sich das gleiche Problem wie beim obigen Histogramm: Wie nah ist nah genug?\n",
    "\n",
    "Diese Frage lässt sich sinnvollerweise folgendermaßen umformulieren: Wie sehen Wahrscheinlichkeitsdiagramme für Daten aus, von denen ich *weiß*, dass sie aus einer Normalverteilung stammen? Wir können diese Frage beantworten, indem wir Daten aus einer Normalverteilung mit `np.random.norm` simulieren."
   ]
  },
  {
   "cell_type": "code",
   "execution_count": 109,
   "metadata": {},
   "outputs": [],
   "source": [
    "sim_norm = np.random.normal(size = len(dairy_queen['cal_fat']), loc = dqmean, scale = dqsd)"
   ]
  },
  {
   "cell_type": "markdown",
   "metadata": {},
   "source": [
    "Das erste Argument gibt an, wie viele Zahlen Sie generieren möchten. Wir geben an, dass dies die gleiche Anzahl von Produkten im dairy_queen-Datensatz ist, indem wir die Funktion `len()` verwenden. Die letzten beiden Argumente (`loc` and `scale`) bestimmen den Mittelwert und die Standardabweichung der Normalverteilung, aus der die simulierte Stichprobe erzeugt wird. Wir können uns die Form unseres simulierten Datensatzes, `sim_norm`, sowie die Darstellung der Normalwahrscheinlichkeit ansehen."
   ]
  },
  {
   "cell_type": "markdown",
   "metadata": {},
   "source": [
    "<div class = 'exercise'>\n",
    "<h4>Exercise 3</h4>\n",
    "Make a normal probability plot of <code>sim_norm</code>. Do all of the points fall on the line? How does this plot compare to the probability plot for the real data?\n",
    "</div>"
   ]
  },
  {
   "cell_type": "markdown",
   "metadata": {},
   "source": [
    "### ✏️ Aufgabe 3\n",
    "Erstellen Sie ein Normalwahrscheinlichkeitsdiagramm von `sim_norm`. Fallen alle Punkte auf die Linie? Wie verhält sich diese Darstellung im Vergleich zur Wahrscheinlichkeitsdarstellung für die realen Daten?"
   ]
  },
  {
   "cell_type": "markdown",
   "metadata": {},
   "source": [
    "Noch besser als der Vergleich des ursprünglichen Diagramms mit einem einzelnen Diagramm, das aus einer Normalverteilung generiert wurde, ist der Vergleich mit vielen weiteren Diagrammen, bei denen zufällig Daten aus einer Normalverteilung generiert wurden. Der folgende Code generiert 9 Plots: in der linken oberen Ecke sieht man den Q-Q-Plot, die den Originaldaten entspricht. Die restlichen Plots zeigen Q-Q-Plots von 8 verschiedenen simulierten *normalverteilten* Daten. Je nachdem, welches Gerät sie benutzen, kann es sinnvoll sein, die Parameter `width` und `height` zu modifizieren oder die Zoom Funktionalität von plotly zu benutzen."
   ]
  },
  {
   "cell_type": "code",
   "execution_count": 111,
   "metadata": {},
   "outputs": [
    {
     "data": {
      "application/vnd.plotly.v1+json": {
       "config": {
        "plotlyServerURL": "https://plot.ly"
       },
       "data": [
        {
         "hovertemplate": "sample=data<br>Q_x=%{x}<br>Q_y=%{y}<extra></extra>",
         "legendgroup": "",
         "marker": {
          "color": "#636efa",
          "symbol": "circle"
         },
         "mode": "markers",
         "name": "",
         "orientation": "v",
         "showlegend": false,
         "type": "scatter",
         "x": [
          -2.1353046284158346,
          -1.7540101162150163,
          -1.527496670219539,
          -1.359948140410081,
          -1.2237273032174234,
          -1.1070694628903044,
          -1.0038048672080377,
          -0.9102674907071854,
          -0.8240868004562736,
          -0.7436321948616521,
          -0.667727110604202,
          -0.595489101363644,
          -0.5262343894479194,
          -0.45941783418576615,
          -0.3945934820453098,
          -0.33138763259250686,
          -0.26947979801752303,
          -0.20858878396464725,
          -0.148462158735626,
          -0.08886798295158897,
          -0.029588032793860894,
          0.029588032793860894,
          0.08886798295158911,
          0.148462158735626,
          0.2085887839646474,
          0.26947979801752303,
          0.33138763259250686,
          0.3945934820453096,
          0.45941783418576615,
          0.5262343894479193,
          0.5954891013636436,
          0.6677271106042019,
          0.7436321948616517,
          0.8240868004562732,
          0.9102674907071853,
          1.003804867208037,
          1.107069462890304,
          1.223727303217423,
          1.35994814041008,
          1.5274966702195378,
          1.754010116215015,
          2.1353046284158346
         ],
         "xaxis": "x7",
         "y": [
          0,
          20,
          80,
          80,
          120,
          130,
          130,
          140,
          140,
          160,
          160,
          160,
          170,
          180,
          180,
          180,
          180,
          190,
          200,
          220,
          220,
          220,
          240,
          240,
          240,
          270,
          270,
          280,
          310,
          310,
          310,
          310,
          330,
          410,
          430,
          430,
          440,
          460,
          480,
          590,
          660,
          670
         ],
         "yaxis": "y7"
        },
        {
         "hovertemplate": "<b>OLS trendline</b><br>Q_y = 154.939 * Q_x + 260.476<br>R<sup>2</sup>=0.923481<br><br>sample=data<br>Q_x=%{x}<br>Q_y=%{y} <b>(trend)</b><extra></extra>",
         "legendgroup": "",
         "marker": {
          "color": "#636efa",
          "symbol": "circle"
         },
         "mode": "lines",
         "name": "",
         "showlegend": false,
         "type": "scatter",
         "x": [
          -2.1353046284158346,
          -1.7540101162150163,
          -1.527496670219539,
          -1.359948140410081,
          -1.2237273032174234,
          -1.1070694628903044,
          -1.0038048672080377,
          -0.9102674907071854,
          -0.8240868004562736,
          -0.7436321948616521,
          -0.667727110604202,
          -0.595489101363644,
          -0.5262343894479194,
          -0.45941783418576615,
          -0.3945934820453098,
          -0.33138763259250686,
          -0.26947979801752303,
          -0.20858878396464725,
          -0.148462158735626,
          -0.08886798295158897,
          -0.029588032793860894,
          0.029588032793860894,
          0.08886798295158911,
          0.148462158735626,
          0.2085887839646474,
          0.26947979801752303,
          0.33138763259250686,
          0.3945934820453096,
          0.45941783418576615,
          0.5262343894479193,
          0.5954891013636436,
          0.6677271106042019,
          0.7436321948616517,
          0.8240868004562732,
          0.9102674907071853,
          1.003804867208037,
          1.107069462890304,
          1.223727303217423,
          1.35994814041008,
          1.5274966702195378,
          1.754010116215015,
          2.1353046284158346
         ],
         "xaxis": "x7",
         "y": [
          -70.36518919813165,
          -11.28790308165162,
          23.80780176095257,
          49.767557585436435,
          70.87344061377289,
          88.94825782254011,
          104.9479427632215,
          119.44050475219501,
          132.79323114283181,
          145.2587652693726,
          157.01940235404993,
          168.2118675058739,
          178.94210436961566,
          189.29457634660773,
          199.33837890912721,
          209.13141272649247,
          218.7233337717967,
          228.15770994039403,
          237.47365267812333,
          246.70709837695657,
          255.89185835743672,
          265.060522594944,
          274.2452825754242,
          283.4787282742574,
          292.79467101198674,
          302.2290471805841,
          311.8209682258883,
          321.6140020432535,
          331.657804605773,
          342.0102765827651,
          352.7405134465068,
          363.9329785983308,
          375.6936156830081,
          388.15914980954886,
          401.5118762001857,
          416.00443818915915,
          432.00412312984054,
          450.07894033860777,
          471.1848233669441,
          497.14457919142797,
          532.2402840340321,
          591.3175701505124
         ],
         "yaxis": "y7"
        },
        {
         "hovertemplate": "sample=1<br>Q_x=%{x}<br>Q_y=%{y}<extra></extra>",
         "legendgroup": "",
         "marker": {
          "color": "#636efa",
          "symbol": "circle"
         },
         "mode": "markers",
         "name": "",
         "orientation": "v",
         "showlegend": false,
         "type": "scatter",
         "x": [
          -2.1353046284158346,
          -1.7540101162150163,
          -1.527496670219539,
          -1.359948140410081,
          -1.2237273032174234,
          -1.1070694628903044,
          -1.0038048672080377,
          -0.9102674907071854,
          -0.8240868004562736,
          -0.7436321948616521,
          -0.667727110604202,
          -0.595489101363644,
          -0.5262343894479194,
          -0.45941783418576615,
          -0.3945934820453098,
          -0.33138763259250686,
          -0.26947979801752303,
          -0.20858878396464725,
          -0.148462158735626,
          -0.08886798295158897,
          -0.029588032793860894,
          0.029588032793860894,
          0.08886798295158911,
          0.148462158735626,
          0.2085887839646474,
          0.26947979801752303,
          0.33138763259250686,
          0.3945934820453096,
          0.45941783418576615,
          0.5262343894479193,
          0.5954891013636436,
          0.6677271106042019,
          0.7436321948616517,
          0.8240868004562732,
          0.9102674907071853,
          1.003804867208037,
          1.107069462890304,
          1.223727303217423,
          1.35994814041008,
          1.5274966702195378,
          1.754010116215015,
          2.1353046284158346
         ],
         "xaxis": "x8",
         "y": [
          -98.55004758933774,
          -52.5351656385302,
          -6.969962891758485,
          18.221152373964543,
          31.43374861139671,
          72.88321750095804,
          73.50849495364074,
          96.19711762866069,
          133.46604728990005,
          154.20245964940813,
          158.39903779553168,
          166.15743605520404,
          178.83463052439132,
          183.29213111811004,
          186.55536817392226,
          193.9745550742144,
          196.71516974863025,
          201.2265592586054,
          214.79193025546746,
          219.8130321719142,
          221.37681674678078,
          239.69516234057616,
          242.91556271089237,
          247.86908983951827,
          255.9030722525187,
          276.7791646220889,
          278.53895664019257,
          282.787557091134,
          287.84102391468065,
          289.1851799521622,
          298.3849327766582,
          301.5479616257559,
          324.6739998947299,
          346.7550131536357,
          384.0223587928582,
          384.03069296450155,
          389.5401058664746,
          392.64214645863365,
          454.1873269281848,
          558.4468324328724,
          577.0343094604896,
          612.5099192326433
         ],
         "yaxis": "y8"
        },
        {
         "hovertemplate": "<b>OLS trendline</b><br>Q_y = 158.843 * Q_x + 237.34<br>R<sup>2</sup>=0.974804<br><br>sample=1<br>Q_x=%{x}<br>Q_y=%{y} <b>(trend)</b><extra></extra>",
         "legendgroup": "",
         "marker": {
          "color": "#636efa",
          "symbol": "circle"
         },
         "mode": "lines",
         "name": "",
         "showlegend": false,
         "type": "scatter",
         "x": [
          -2.1353046284158346,
          -1.7540101162150163,
          -1.527496670219539,
          -1.359948140410081,
          -1.2237273032174234,
          -1.1070694628903044,
          -1.0038048672080377,
          -0.9102674907071854,
          -0.8240868004562736,
          -0.7436321948616521,
          -0.667727110604202,
          -0.595489101363644,
          -0.5262343894479194,
          -0.45941783418576615,
          -0.3945934820453098,
          -0.33138763259250686,
          -0.26947979801752303,
          -0.20858878396464725,
          -0.148462158735626,
          -0.08886798295158897,
          -0.029588032793860894,
          0.029588032793860894,
          0.08886798295158911,
          0.148462158735626,
          0.2085887839646474,
          0.26947979801752303,
          0.33138763259250686,
          0.3945934820453096,
          0.45941783418576615,
          0.5262343894479193,
          0.5954891013636436,
          0.6677271106042019,
          0.7436321948616517,
          0.8240868004562732,
          0.9102674907071853,
          1.003804867208037,
          1.107069462890304,
          1.223727303217423,
          1.35994814041008,
          1.5274966702195378,
          1.754010116215015,
          2.1353046284158346
         ],
         "xaxis": "x8",
         "y": [
          -101.83906219126197,
          -41.27292537537028,
          -5.292747529076706,
          21.32123944169973,
          42.95902755190613,
          61.48936169471045,
          77.89226661518805,
          92.75006645566015,
          106.43930485171569,
          119.21899219047828,
          131.2760178518842,
          142.7505526562744,
          153.75121021313905,
          164.36458254891187,
          174.6615064623424,
          184.7013418206518,
          194.53499601410448,
          204.20713492504302,
          213.75785567599047,
          223.22400031870518,
          232.6402322780082,
          242.03996285352852,
          251.45619481283157,
          260.92233945554625,
          270.47306020649376,
          280.14519911743224,
          289.9788533108849,
          300.0186886691943,
          310.31561258262485,
          320.92898491839765,
          331.92964247526226,
          343.4041772796525,
          355.4612029410584,
          368.240890279821,
          381.9301286758765,
          396.78792851634853,
          413.1908334368262,
          431.7211675796305,
          453.3589556898368,
          479.9729426606133,
          515.9531205069068,
          576.5192573227987
         ],
         "yaxis": "y8"
        },
        {
         "hovertemplate": "sample=2<br>Q_x=%{x}<br>Q_y=%{y}<extra></extra>",
         "legendgroup": "",
         "marker": {
          "color": "#636efa",
          "symbol": "circle"
         },
         "mode": "markers",
         "name": "",
         "orientation": "v",
         "showlegend": false,
         "type": "scatter",
         "x": [
          -2.1353046284158346,
          -1.7540101162150163,
          -1.527496670219539,
          -1.359948140410081,
          -1.2237273032174234,
          -1.1070694628903044,
          -1.0038048672080377,
          -0.9102674907071854,
          -0.8240868004562736,
          -0.7436321948616521,
          -0.667727110604202,
          -0.595489101363644,
          -0.5262343894479194,
          -0.45941783418576615,
          -0.3945934820453098,
          -0.33138763259250686,
          -0.26947979801752303,
          -0.20858878396464725,
          -0.148462158735626,
          -0.08886798295158897,
          -0.029588032793860894,
          0.029588032793860894,
          0.08886798295158911,
          0.148462158735626,
          0.2085887839646474,
          0.26947979801752303,
          0.33138763259250686,
          0.3945934820453096,
          0.45941783418576615,
          0.5262343894479193,
          0.5954891013636436,
          0.6677271106042019,
          0.7436321948616517,
          0.8240868004562732,
          0.9102674907071853,
          1.003804867208037,
          1.107069462890304,
          1.223727303217423,
          1.35994814041008,
          1.5274966702195378,
          1.754010116215015,
          2.1353046284158346
         ],
         "xaxis": "x9",
         "y": [
          -200.5544446394827,
          -121.0688544053856,
          -108.70954626697147,
          -103.30618664012496,
          -64.58076000411677,
          -41.97084763781049,
          17.61781330836064,
          40.69766811011564,
          76.66853798099652,
          97.54708367980137,
          114.26732732706122,
          119.75187733512627,
          166.07288018652892,
          173.0411685664427,
          199.78863590013881,
          202.80077037684688,
          214.11250867496594,
          214.44196881381592,
          223.78096913291628,
          231.7810567112963,
          233.35326924301958,
          235.0372548796944,
          240.13771561030748,
          257.23497843846303,
          260.82770636066425,
          282.3415419667788,
          282.351379470273,
          283.7171330881027,
          312.0865381130693,
          320.1657025330054,
          322.5736148987602,
          337.87019867111513,
          343.91410219935085,
          352.66242460448547,
          353.6275940425685,
          373.0470258749794,
          385.6956239259022,
          386.7158225269901,
          389.3472003712146,
          431.9244747625288,
          469.63344875765415,
          524.6361626975473
         ],
         "yaxis": "y9"
        },
        {
         "hovertemplate": "<b>OLS trendline</b><br>Q_y = 172.614 * Q_x + 210.264<br>R<sup>2</sup>=0.955688<br><br>sample=2<br>Q_x=%{x}<br>Q_y=%{y} <b>(trend)</b><extra></extra>",
         "legendgroup": "",
         "marker": {
          "color": "#636efa",
          "symbol": "circle"
         },
         "mode": "lines",
         "name": "",
         "showlegend": false,
         "type": "scatter",
         "x": [
          -2.1353046284158346,
          -1.7540101162150163,
          -1.527496670219539,
          -1.359948140410081,
          -1.2237273032174234,
          -1.1070694628903044,
          -1.0038048672080377,
          -0.9102674907071854,
          -0.8240868004562736,
          -0.7436321948616521,
          -0.667727110604202,
          -0.595489101363644,
          -0.5262343894479194,
          -0.45941783418576615,
          -0.3945934820453098,
          -0.33138763259250686,
          -0.26947979801752303,
          -0.20858878396464725,
          -0.148462158735626,
          -0.08886798295158897,
          -0.029588032793860894,
          0.029588032793860894,
          0.08886798295158911,
          0.148462158735626,
          0.2085887839646474,
          0.26947979801752303,
          0.33138763259250686,
          0.3945934820453096,
          0.45941783418576615,
          0.5262343894479193,
          0.5954891013636436,
          0.6677271106042019,
          0.7436321948616517,
          0.8240868004562732,
          0.9102674907071853,
          1.003804867208037,
          1.107069462890304,
          1.223727303217423,
          1.35994814041008,
          1.5274966702195378,
          1.754010116215015,
          2.1353046284158346
         ],
         "xaxis": "x9",
         "y": [
          -158.32031087679707,
          -92.5034220726796,
          -53.4039600802397,
          -24.482686359010444,
          -0.9690206559201044,
          19.167791858430064,
          36.99273870120635,
          53.138628325086046,
          68.01464863433975,
          81.90226479654521,
          95.00456847619687,
          107.47388253522678,
          119.42823678755806,
          130.96173031354718,
          142.15134107400914,
          153.06157511119335,
          163.7477532069836,
          174.25841353082626,
          184.6371294059215,
          194.92393688791648,
          205.15650453051063,
          215.37114020982239,
          225.60370785241656,
          235.8905153344115,
          246.26923120950678,
          256.7798915333494,
          267.46606962913967,
          278.37630366632385,
          289.56591442678587,
          301.0994079527749,
          313.0537622051062,
          325.52307626413614,
          338.6253799437877,
          352.51299610599324,
          367.38901641524694,
          383.53490603912655,
          401.35985288190284,
          421.4966653962531,
          445.01033109934326,
          473.93160482057255,
          513.0310668130123,
          578.8479556171301
         ],
         "yaxis": "y9"
        },
        {
         "hovertemplate": "sample=3<br>Q_x=%{x}<br>Q_y=%{y}<extra></extra>",
         "legendgroup": "",
         "marker": {
          "color": "#636efa",
          "symbol": "circle"
         },
         "mode": "markers",
         "name": "",
         "orientation": "v",
         "showlegend": false,
         "type": "scatter",
         "x": [
          -2.1353046284158346,
          -1.7540101162150163,
          -1.527496670219539,
          -1.359948140410081,
          -1.2237273032174234,
          -1.1070694628903044,
          -1.0038048672080377,
          -0.9102674907071854,
          -0.8240868004562736,
          -0.7436321948616521,
          -0.667727110604202,
          -0.595489101363644,
          -0.5262343894479194,
          -0.45941783418576615,
          -0.3945934820453098,
          -0.33138763259250686,
          -0.26947979801752303,
          -0.20858878396464725,
          -0.148462158735626,
          -0.08886798295158897,
          -0.029588032793860894,
          0.029588032793860894,
          0.08886798295158911,
          0.148462158735626,
          0.2085887839646474,
          0.26947979801752303,
          0.33138763259250686,
          0.3945934820453096,
          0.45941783418576615,
          0.5262343894479193,
          0.5954891013636436,
          0.6677271106042019,
          0.7436321948616517,
          0.8240868004562732,
          0.9102674907071853,
          1.003804867208037,
          1.107069462890304,
          1.223727303217423,
          1.35994814041008,
          1.5274966702195378,
          1.754010116215015,
          2.1353046284158346
         ],
         "xaxis": "x4",
         "y": [
          -9.152824958971166,
          5.883615679014042,
          29.777457729517664,
          36.36305259398176,
          63.89283328348401,
          67.31942765895863,
          127.91604398426904,
          141.395132987541,
          149.11451417103035,
          159.98347475114716,
          160.76082477148952,
          176.58250771248964,
          179.53756570921144,
          196.27736363556028,
          198.79922547472947,
          203.8546842456161,
          206.693855067816,
          212.67717724313792,
          212.74185835193953,
          218.3188062762328,
          248.06813517623846,
          251.51959963907885,
          267.2754796631001,
          284.8443012761075,
          300.7730662001984,
          313.26758174848493,
          319.15288353022936,
          321.68358568005146,
          339.33207414036565,
          347.9910497858199,
          356.9094540112125,
          382.13509039382325,
          392.6414095654128,
          392.7328595530727,
          406.8122805996328,
          407.4871608722339,
          413.6461633129836,
          467.94422261062823,
          497.0567635749208,
          504.17698423245145,
          533.5248165268392,
          719.1400016200748
         ],
         "yaxis": "y4"
        },
        {
         "hovertemplate": "<b>OLS trendline</b><br>Q_y = 159.601 * Q_x + 266.83<br>R<sup>2</sup>=0.975415<br><br>sample=3<br>Q_x=%{x}<br>Q_y=%{y} <b>(trend)</b><extra></extra>",
         "legendgroup": "",
         "marker": {
          "color": "#636efa",
          "symbol": "circle"
         },
         "mode": "lines",
         "name": "",
         "showlegend": false,
         "type": "scatter",
         "x": [
          -2.1353046284158346,
          -1.7540101162150163,
          -1.527496670219539,
          -1.359948140410081,
          -1.2237273032174234,
          -1.1070694628903044,
          -1.0038048672080377,
          -0.9102674907071854,
          -0.8240868004562736,
          -0.7436321948616521,
          -0.667727110604202,
          -0.595489101363644,
          -0.5262343894479194,
          -0.45941783418576615,
          -0.3945934820453098,
          -0.33138763259250686,
          -0.26947979801752303,
          -0.20858878396464725,
          -0.148462158735626,
          -0.08886798295158897,
          -0.029588032793860894,
          0.029588032793860894,
          0.08886798295158911,
          0.148462158735626,
          0.2085887839646474,
          0.26947979801752303,
          0.33138763259250686,
          0.3945934820453096,
          0.45941783418576615,
          0.5262343894479193,
          0.5954891013636436,
          0.6677271106042019,
          0.7436321948616517,
          0.8240868004562732,
          0.9102674907071853,
          1.003804867208037,
          1.107069462890304,
          1.223727303217423,
          1.35994814041008,
          1.5274966702195378,
          1.754010116215015,
          2.1353046284158346
         ],
         "xaxis": "x4",
         "y": [
          -73.96759986967305,
          -13.112499266712291,
          23.03934164076486,
          49.78030515104652,
          71.5213281301885,
          90.14007133804242,
          106.62123526221313,
          121.54992233992914,
          135.3044727135513,
          148.14513252051324,
          160.25968279846353,
          171.78896312908753,
          182.84210532233476,
          193.50611453912646,
          203.8521655437933,
          213.9399014121766,
          223.8204724160097,
          233.5387575405867,
          243.1350452136217,
          252.6463532619737,
          262.1075104912366,
          271.552087607866,
          281.0132448371289,
          290.5245528854809,
          300.1208405585159,
          309.8391256830929,
          319.719696686926,
          329.8074325553093,
          340.15348355997617,
          350.81749277676784,
          361.870634970015,
          373.399915300639,
          385.51446557858924,
          398.3551253855512,
          412.10967575917346,
          427.03836283688935,
          443.5195267610601,
          462.138269968914,
          483.8792929480559,
          510.6202564583375,
          546.7720973658147,
          607.6271979687756
         ],
         "yaxis": "y4"
        },
        {
         "hovertemplate": "sample=4<br>Q_x=%{x}<br>Q_y=%{y}<extra></extra>",
         "legendgroup": "",
         "marker": {
          "color": "#636efa",
          "symbol": "circle"
         },
         "mode": "markers",
         "name": "",
         "orientation": "v",
         "showlegend": false,
         "type": "scatter",
         "x": [
          -2.1353046284158346,
          -1.7540101162150163,
          -1.527496670219539,
          -1.359948140410081,
          -1.2237273032174234,
          -1.1070694628903044,
          -1.0038048672080377,
          -0.9102674907071854,
          -0.8240868004562736,
          -0.7436321948616521,
          -0.667727110604202,
          -0.595489101363644,
          -0.5262343894479194,
          -0.45941783418576615,
          -0.3945934820453098,
          -0.33138763259250686,
          -0.26947979801752303,
          -0.20858878396464725,
          -0.148462158735626,
          -0.08886798295158897,
          -0.029588032793860894,
          0.029588032793860894,
          0.08886798295158911,
          0.148462158735626,
          0.2085887839646474,
          0.26947979801752303,
          0.33138763259250686,
          0.3945934820453096,
          0.45941783418576615,
          0.5262343894479193,
          0.5954891013636436,
          0.6677271106042019,
          0.7436321948616517,
          0.8240868004562732,
          0.9102674907071853,
          1.003804867208037,
          1.107069462890304,
          1.223727303217423,
          1.35994814041008,
          1.5274966702195378,
          1.754010116215015,
          2.1353046284158346
         ],
         "xaxis": "x5",
         "y": [
          -320.68902130304105,
          -18.82716001222559,
          12.203284827021434,
          23.59872637949084,
          32.897974035530126,
          33.4974745397476,
          42.15829212440184,
          52.31196163713926,
          70.79279649933247,
          117.86102318288573,
          125.57276255030635,
          140.7934298254189,
          151.12679095515398,
          155.33541013748714,
          169.0454231931928,
          171.55894216003924,
          186.35155021408707,
          187.0182800092212,
          187.65534614799174,
          195.7958131600903,
          202.10454304921916,
          226.6388720382276,
          238.33564474191104,
          253.04891852599712,
          279.1972464878803,
          287.447269616987,
          289.87625368517536,
          305.0130070705173,
          319.9267211145465,
          348.15109053644215,
          365.5022009688393,
          378.37232002790046,
          389.50568904822796,
          415.37049732454994,
          422.3414554836568,
          422.9803430965201,
          426.3820859154573,
          436.58682213854286,
          439.2021608013264,
          568.42469017496,
          637.3450081486849,
          705.5869277035144
         ],
         "yaxis": "y5"
        },
        {
         "hovertemplate": "<b>OLS trendline</b><br>Q_y = 194.878 * Q_x + 239.843<br>R<sup>2</sup>=0.963512<br><br>sample=4<br>Q_x=%{x}<br>Q_y=%{y} <b>(trend)</b><extra></extra>",
         "legendgroup": "",
         "marker": {
          "color": "#636efa",
          "symbol": "circle"
         },
         "mode": "lines",
         "name": "",
         "showlegend": false,
         "type": "scatter",
         "x": [
          -2.1353046284158346,
          -1.7540101162150163,
          -1.527496670219539,
          -1.359948140410081,
          -1.2237273032174234,
          -1.1070694628903044,
          -1.0038048672080377,
          -0.9102674907071854,
          -0.8240868004562736,
          -0.7436321948616521,
          -0.667727110604202,
          -0.595489101363644,
          -0.5262343894479194,
          -0.45941783418576615,
          -0.3945934820453098,
          -0.33138763259250686,
          -0.26947979801752303,
          -0.20858878396464725,
          -0.148462158735626,
          -0.08886798295158897,
          -0.029588032793860894,
          0.029588032793860894,
          0.08886798295158911,
          0.148462158735626,
          0.2085887839646474,
          0.26947979801752303,
          0.33138763259250686,
          0.3945934820453096,
          0.45941783418576615,
          0.5262343894479193,
          0.5954891013636436,
          0.6677271106042019,
          0.7436321948616517,
          0.8240868004562732,
          0.9102674907071853,
          1.003804867208037,
          1.107069462890304,
          1.223727303217423,
          1.35994814041008,
          1.5274966702195378,
          1.754010116215015,
          2.1353046284158346
         ],
         "xaxis": "x5",
         "y": [
          -176.28189468975944,
          -101.97583461940758,
          -57.83325929690278,
          -25.18167181702927,
          1.3648254111821245,
          24.098917336583355,
          44.22295532920421,
          62.451368523451436,
          79.24612255682695,
          94.92498644013875,
          109.71724693695035,
          123.79487376406946,
          137.29112041619658,
          150.31222302883705,
          162.94508830761526,
          175.26254239088837,
          187.3270414265613,
          199.19338411752204,
          210.91076394632515,
          222.52438088534768,
          234.076762040699,
          245.60889833846056,
          257.1612794938119,
          268.7748964328344,
          280.4922762616375,
          292.35861895259825,
          304.4231179882712,
          316.74057207154425,
          329.37343735032255,
          342.394539962963,
          355.89078661509006,
          369.9684134422092,
          384.76067393902076,
          400.43953782233257,
          417.2342918557081,
          435.4627050499552,
          455.58674304257613,
          478.32083496797736,
          504.8673321961886,
          537.5189196760621,
          581.6614949985669,
          655.967555068919
         ],
         "yaxis": "y5"
        },
        {
         "hovertemplate": "sample=5<br>Q_x=%{x}<br>Q_y=%{y}<extra></extra>",
         "legendgroup": "",
         "marker": {
          "color": "#636efa",
          "symbol": "circle"
         },
         "mode": "markers",
         "name": "",
         "orientation": "v",
         "showlegend": false,
         "type": "scatter",
         "x": [
          -2.1353046284158346,
          -1.7540101162150163,
          -1.527496670219539,
          -1.359948140410081,
          -1.2237273032174234,
          -1.1070694628903044,
          -1.0038048672080377,
          -0.9102674907071854,
          -0.8240868004562736,
          -0.7436321948616521,
          -0.667727110604202,
          -0.595489101363644,
          -0.5262343894479194,
          -0.45941783418576615,
          -0.3945934820453098,
          -0.33138763259250686,
          -0.26947979801752303,
          -0.20858878396464725,
          -0.148462158735626,
          -0.08886798295158897,
          -0.029588032793860894,
          0.029588032793860894,
          0.08886798295158911,
          0.148462158735626,
          0.2085887839646474,
          0.26947979801752303,
          0.33138763259250686,
          0.3945934820453096,
          0.45941783418576615,
          0.5262343894479193,
          0.5954891013636436,
          0.6677271106042019,
          0.7436321948616517,
          0.8240868004562732,
          0.9102674907071853,
          1.003804867208037,
          1.107069462890304,
          1.223727303217423,
          1.35994814041008,
          1.5274966702195378,
          1.754010116215015,
          2.1353046284158346
         ],
         "xaxis": "x6",
         "y": [
          -46.2066618457402,
          -31.495882714238007,
          38.54828324857496,
          73.44388364842513,
          94.54988316991228,
          114.90515966271391,
          117.79008625856363,
          118.03346221586679,
          121.3083042333061,
          140.91387414113268,
          142.75300954786167,
          196.09456868071857,
          219.8375339919315,
          222.14969352072615,
          241.21641268198658,
          248.0470269679435,
          250.8271478265726,
          258.06833543037834,
          260.6851959796575,
          267.60825673993185,
          268.8336546402966,
          270.9323064980545,
          277.16680199164585,
          278.07398846095106,
          278.27747711683077,
          287.6247701856413,
          305.90834295205525,
          334.80969675665483,
          338.64843536011705,
          345.5235349248213,
          351.0691454346732,
          355.4735578147023,
          368.869849076141,
          368.92760071787654,
          386.6150466056346,
          402.8452304621449,
          418.8769707865139,
          436.09628819354987,
          443.1991017615088,
          445.59764572290146,
          519.4236771795205,
          551.6620790663735
         ],
         "yaxis": "y6"
        },
        {
         "hovertemplate": "<b>OLS trendline</b><br>Q_y = 141.213 * Q_x + 263.894<br>R<sup>2</sup>=0.983625<br><br>sample=5<br>Q_x=%{x}<br>Q_y=%{y} <b>(trend)</b><extra></extra>",
         "legendgroup": "",
         "marker": {
          "color": "#636efa",
          "symbol": "circle"
         },
         "mode": "lines",
         "name": "",
         "showlegend": false,
         "type": "scatter",
         "x": [
          -2.1353046284158346,
          -1.7540101162150163,
          -1.527496670219539,
          -1.359948140410081,
          -1.2237273032174234,
          -1.1070694628903044,
          -1.0038048672080377,
          -0.9102674907071854,
          -0.8240868004562736,
          -0.7436321948616521,
          -0.667727110604202,
          -0.595489101363644,
          -0.5262343894479194,
          -0.45941783418576615,
          -0.3945934820453098,
          -0.33138763259250686,
          -0.26947979801752303,
          -0.20858878396464725,
          -0.148462158735626,
          -0.08886798295158897,
          -0.029588032793860894,
          0.029588032793860894,
          0.08886798295158911,
          0.148462158735626,
          0.2085887839646474,
          0.26947979801752303,
          0.33138763259250686,
          0.3945934820453096,
          0.45941783418576615,
          0.5262343894479193,
          0.5954891013636436,
          0.6677271106042019,
          0.7436321948616517,
          0.8240868004562732,
          0.9102674907071853,
          1.003804867208037,
          1.107069462890304,
          1.223727303217423,
          1.35994814041008,
          1.5274966702195378,
          1.754010116215015,
          2.1353046284158346
         ],
         "xaxis": "x6",
         "y": [
          -37.63859797646819,
          16.205048082117997,
          48.19163436497453,
          71.85162276770711,
          91.08774159163286,
          107.56131585913838,
          122.14359323891503,
          135.35226326275233,
          147.52207540133048,
          158.88329138740897,
          169.60205696107346,
          179.8029847926205,
          189.58263300931367,
          199.01798242366493,
          208.17200735961677,
          217.09747908257881,
          225.8396545570408,
          234.43824201083737,
          242.92888801788928,
          251.34434537537382,
          259.7154300685159,
          268.0718449359999,
          276.442929629142,
          284.8583869866265,
          293.3490329936784,
          301.947620447475,
          310.68979592193693,
          319.61526764489895,
          328.76929258085084,
          338.2046419952021,
          347.98429021189526,
          358.1852180434423,
          368.90398361710675,
          380.26519960318524,
          392.43501174176345,
          405.6436817656006,
          420.2259591453774,
          436.69953341288283,
          455.93565223680855,
          479.5956406395411,
          511.5822269223976,
          565.425872980984
         ],
         "yaxis": "y6"
        },
        {
         "hovertemplate": "sample=6<br>Q_x=%{x}<br>Q_y=%{y}<extra></extra>",
         "legendgroup": "",
         "marker": {
          "color": "#636efa",
          "symbol": "circle"
         },
         "mode": "markers",
         "name": "",
         "orientation": "v",
         "showlegend": false,
         "type": "scatter",
         "x": [
          -2.1353046284158346,
          -1.7540101162150163,
          -1.527496670219539,
          -1.359948140410081,
          -1.2237273032174234,
          -1.1070694628903044,
          -1.0038048672080377,
          -0.9102674907071854,
          -0.8240868004562736,
          -0.7436321948616521,
          -0.667727110604202,
          -0.595489101363644,
          -0.5262343894479194,
          -0.45941783418576615,
          -0.3945934820453098,
          -0.33138763259250686,
          -0.26947979801752303,
          -0.20858878396464725,
          -0.148462158735626,
          -0.08886798295158897,
          -0.029588032793860894,
          0.029588032793860894,
          0.08886798295158911,
          0.148462158735626,
          0.2085887839646474,
          0.26947979801752303,
          0.33138763259250686,
          0.3945934820453096,
          0.45941783418576615,
          0.5262343894479193,
          0.5954891013636436,
          0.6677271106042019,
          0.7436321948616517,
          0.8240868004562732,
          0.9102674907071853,
          1.003804867208037,
          1.107069462890304,
          1.223727303217423,
          1.35994814041008,
          1.5274966702195378,
          1.754010116215015,
          2.1353046284158346
         ],
         "xaxis": "x",
         "y": [
          -193.67432035995438,
          -21.24652857915561,
          -11.133268718554575,
          33.07374264071706,
          59.16932766103537,
          87.53704262172505,
          88.21011757097946,
          89.17648631536454,
          113.37106441513927,
          134.26668274538207,
          139.23542535165507,
          157.44922232580203,
          162.53630380411562,
          191.943146789487,
          195.89690293910763,
          196.15904901713526,
          198.44075690730506,
          198.99691608088585,
          203.11213515845108,
          216.44003219018444,
          235.00239649665377,
          258.7186585729566,
          277.00768058587784,
          287.7318865408066,
          303.6531650485606,
          315.21195141754265,
          318.6151051853699,
          321.72093115994664,
          348.3460639829402,
          352.165226307153,
          365.4164142040344,
          385.5138960683453,
          428.00877947493495,
          431.9446334144599,
          435.19272948917126,
          437.6535406035889,
          440.0930139085792,
          450.3699046040961,
          465.7285439012252,
          508.1030304891575,
          562.1149560877229,
          566.611587523329
         ],
         "yaxis": "y"
        },
        {
         "hovertemplate": "<b>OLS trendline</b><br>Q_y = 172.595 * Q_x + 255.569<br>R<sup>2</sup>=0.983208<br><br>sample=6<br>Q_x=%{x}<br>Q_y=%{y} <b>(trend)</b><extra></extra>",
         "legendgroup": "",
         "marker": {
          "color": "#636efa",
          "symbol": "circle"
         },
         "mode": "lines",
         "name": "",
         "showlegend": false,
         "type": "scatter",
         "x": [
          -2.1353046284158346,
          -1.7540101162150163,
          -1.527496670219539,
          -1.359948140410081,
          -1.2237273032174234,
          -1.1070694628903044,
          -1.0038048672080377,
          -0.9102674907071854,
          -0.8240868004562736,
          -0.7436321948616521,
          -0.667727110604202,
          -0.595489101363644,
          -0.5262343894479194,
          -0.45941783418576615,
          -0.3945934820453098,
          -0.33138763259250686,
          -0.26947979801752303,
          -0.20858878396464725,
          -0.148462158735626,
          -0.08886798295158897,
          -0.029588032793860894,
          0.029588032793860894,
          0.08886798295158911,
          0.148462158735626,
          0.2085887839646474,
          0.26947979801752303,
          0.33138763259250686,
          0.3945934820453096,
          0.45941783418576615,
          0.5262343894479193,
          0.5954891013636436,
          0.6677271106042019,
          0.7436321948616517,
          0.8240868004562732,
          0.9102674907071853,
          1.003804867208037,
          1.107069462890304,
          1.223727303217423,
          1.35994814041008,
          1.5274966702195378,
          1.754010116215015,
          2.1353046284158346
         ],
         "xaxis": "x",
         "y": [
          -112.97515948573363,
          -47.16546677917904,
          -8.070279731183746,
          20.847831879056628,
          44.35892671264014,
          64.49353756613866,
          82.31653551617836,
          98.4606598272473,
          113.33505366500654,
          127.2211514230055,
          140.3220225606867,
          152.78997328574349,
          164.74302050729491,
          176.275253017363,
          187.46364036036806,
          198.37268152578346,
          209.05769124698858,
          219.56720238650308,
          229.9447835034326,
          240.23046627607718,
          250.4619151396404,
          260.67543400051466,
          270.9068828640779,
          281.1925656367224,
          291.57014675365195,
          302.0796578931665,
          312.76466761437155,
          323.6737087797869,
          334.862096122792,
          346.3943286328601,
          358.3473758544115,
          370.8153265794683,
          383.91619771714943,
          397.8022954751484,
          412.67668931290774,
          428.82081362397656,
          446.6438115740163,
          466.7784224275148,
          490.28951726109824,
          519.2076288713386,
          558.3028159193339,
          624.1125086258887
         ],
         "yaxis": "y"
        },
        {
         "hovertemplate": "sample=7<br>Q_x=%{x}<br>Q_y=%{y}<extra></extra>",
         "legendgroup": "",
         "marker": {
          "color": "#636efa",
          "symbol": "circle"
         },
         "mode": "markers",
         "name": "",
         "orientation": "v",
         "showlegend": false,
         "type": "scatter",
         "x": [
          -2.1353046284158346,
          -1.7540101162150163,
          -1.527496670219539,
          -1.359948140410081,
          -1.2237273032174234,
          -1.1070694628903044,
          -1.0038048672080377,
          -0.9102674907071854,
          -0.8240868004562736,
          -0.7436321948616521,
          -0.667727110604202,
          -0.595489101363644,
          -0.5262343894479194,
          -0.45941783418576615,
          -0.3945934820453098,
          -0.33138763259250686,
          -0.26947979801752303,
          -0.20858878396464725,
          -0.148462158735626,
          -0.08886798295158897,
          -0.029588032793860894,
          0.029588032793860894,
          0.08886798295158911,
          0.148462158735626,
          0.2085887839646474,
          0.26947979801752303,
          0.33138763259250686,
          0.3945934820453096,
          0.45941783418576615,
          0.5262343894479193,
          0.5954891013636436,
          0.6677271106042019,
          0.7436321948616517,
          0.8240868004562732,
          0.9102674907071853,
          1.003804867208037,
          1.107069462890304,
          1.223727303217423,
          1.35994814041008,
          1.5274966702195378,
          1.754010116215015,
          2.1353046284158346
         ],
         "xaxis": "x2",
         "y": [
          -90.02670367586558,
          -81.10166193135575,
          -37.44678718824866,
          -14.380818820117838,
          23.507264030363928,
          52.89299278681909,
          78.76257583219419,
          104.52142611312922,
          107.92015489731301,
          126.07291443377642,
          143.50380199584504,
          151.64908626522256,
          173.8733063470109,
          181.35893929602236,
          188.80007318298777,
          195.16648458187876,
          203.29986256177952,
          208.22075214198566,
          210.54354664501196,
          228.87978293268145,
          239.3363506076576,
          278.5098116418356,
          279.79227481755726,
          282.79948802112904,
          299.3510422977894,
          300.3685563572867,
          322.7141118008691,
          348.7618811293287,
          349.60060199390887,
          350.47921302115174,
          353.10242271905497,
          355.8512535276155,
          358.78761069634504,
          397.16270195585605,
          403.21662079240144,
          406.9239922303925,
          410.23744927606276,
          425.0817506332045,
          427.08348545996694,
          432.79810001962426,
          454.072991109308,
          511.6615093445629
         ],
         "yaxis": "y2"
        },
        {
         "hovertemplate": "<b>OLS trendline</b><br>Q_y = 156.408 * Q_x + 241.517<br>R<sup>2</sup>=0.971363<br><br>sample=7<br>Q_x=%{x}<br>Q_y=%{y} <b>(trend)</b><extra></extra>",
         "legendgroup": "",
         "marker": {
          "color": "#636efa",
          "symbol": "circle"
         },
         "mode": "lines",
         "name": "",
         "showlegend": false,
         "type": "scatter",
         "x": [
          -2.1353046284158346,
          -1.7540101162150163,
          -1.527496670219539,
          -1.359948140410081,
          -1.2237273032174234,
          -1.1070694628903044,
          -1.0038048672080377,
          -0.9102674907071854,
          -0.8240868004562736,
          -0.7436321948616521,
          -0.667727110604202,
          -0.595489101363644,
          -0.5262343894479194,
          -0.45941783418576615,
          -0.3945934820453098,
          -0.33138763259250686,
          -0.26947979801752303,
          -0.20858878396464725,
          -0.148462158735626,
          -0.08886798295158897,
          -0.029588032793860894,
          0.029588032793860894,
          0.08886798295158911,
          0.148462158735626,
          0.2085887839646474,
          0.26947979801752303,
          0.33138763259250686,
          0.3945934820453096,
          0.45941783418576615,
          0.5262343894479193,
          0.5954891013636436,
          0.6677271106042019,
          0.7436321948616517,
          0.8240868004562732,
          0.9102674907071853,
          1.003804867208037,
          1.107069462890304,
          1.223727303217423,
          1.35994814041008,
          1.5274966702195378,
          1.754010116215015,
          2.1353046284158346
         ],
         "xaxis": "x2",
         "y": [
          -92.4625373682365,
          -32.824896583398356,
          2.6036949461314407,
          28.809681958977706,
          50.11575664915574,
          68.36201552135148,
          84.51345926373364,
          99.14348482459462,
          112.62286331894435,
          125.20663443131436,
          137.07882247451528,
          148.37744941051284,
          159.20946377140183,
          169.6601301033261,
          179.79919925684774,
          189.68512109561144,
          199.36802258517068,
          208.8918848672414,
          218.29619036410207,
          227.61721632842296,
          236.88909478490527,
          246.14472482849183,
          255.41660328497414,
          264.737629249295,
          274.1419347461557,
          283.66579702822645,
          293.3486985177857,
          303.2346203565493,
          313.373689510071,
          323.82435584199527,
          334.6563702028842,
          345.9549971388818,
          357.82718518208264,
          370.4109562944527,
          383.8903347888024,
          398.52036034966335,
          414.6718040920456,
          432.9180629642413,
          454.2241376544192,
          480.4301246672655,
          515.8587161967953,
          575.4963569816337
         ],
         "yaxis": "y2"
        },
        {
         "hovertemplate": "sample=8<br>Q_x=%{x}<br>Q_y=%{y}<extra></extra>",
         "legendgroup": "",
         "marker": {
          "color": "#636efa",
          "symbol": "circle"
         },
         "mode": "markers",
         "name": "",
         "orientation": "v",
         "showlegend": false,
         "type": "scatter",
         "x": [
          -2.1353046284158346,
          -1.7540101162150163,
          -1.527496670219539,
          -1.359948140410081,
          -1.2237273032174234,
          -1.1070694628903044,
          -1.0038048672080377,
          -0.9102674907071854,
          -0.8240868004562736,
          -0.7436321948616521,
          -0.667727110604202,
          -0.595489101363644,
          -0.5262343894479194,
          -0.45941783418576615,
          -0.3945934820453098,
          -0.33138763259250686,
          -0.26947979801752303,
          -0.20858878396464725,
          -0.148462158735626,
          -0.08886798295158897,
          -0.029588032793860894,
          0.029588032793860894,
          0.08886798295158911,
          0.148462158735626,
          0.2085887839646474,
          0.26947979801752303,
          0.33138763259250686,
          0.3945934820453096,
          0.45941783418576615,
          0.5262343894479193,
          0.5954891013636436,
          0.6677271106042019,
          0.7436321948616517,
          0.8240868004562732,
          0.9102674907071853,
          1.003804867208037,
          1.107069462890304,
          1.223727303217423,
          1.35994814041008,
          1.5274966702195378,
          1.754010116215015,
          2.1353046284158346
         ],
         "xaxis": "x3",
         "y": [
          10.451179527831982,
          40.29782713834669,
          47.63186496192759,
          112.48052270380745,
          125.65237010382839,
          125.68053744460195,
          141.1549741879564,
          145.519193706278,
          168.12645831359706,
          168.28156637515366,
          182.083716605383,
          192.67396706922983,
          197.61247537743205,
          216.83295816699564,
          218.80776533750065,
          220.16681667154805,
          220.8887460470803,
          221.41175099792565,
          227.11901700973814,
          235.42504425846496,
          242.47720591495283,
          247.28657393291047,
          266.83468431298417,
          275.28583813587557,
          285.3834542033686,
          289.92941825259527,
          314.64751443369266,
          327.77189081971983,
          345.5441230845715,
          356.7089638785311,
          365.6870997903952,
          368.193068994177,
          391.5959487596191,
          392.9625898045726,
          397.2948924176101,
          413.5607091831504,
          415.09277766386174,
          435.69996655443515,
          437.6961197131649,
          457.93140920758276,
          458.9209001022043,
          545.6565748624067
         ],
         "yaxis": "y3"
        },
        {
         "hovertemplate": "<b>OLS trendline</b><br>Q_y = 129.106 * Q_x + 267.868<br>R<sup>2</sup>=0.985849<br><br>sample=8<br>Q_x=%{x}<br>Q_y=%{y} <b>(trend)</b><extra></extra>",
         "legendgroup": "",
         "marker": {
          "color": "#636efa",
          "symbol": "circle"
         },
         "mode": "lines",
         "name": "",
         "showlegend": false,
         "type": "scatter",
         "x": [
          -2.1353046284158346,
          -1.7540101162150163,
          -1.527496670219539,
          -1.359948140410081,
          -1.2237273032174234,
          -1.1070694628903044,
          -1.0038048672080377,
          -0.9102674907071854,
          -0.8240868004562736,
          -0.7436321948616521,
          -0.667727110604202,
          -0.595489101363644,
          -0.5262343894479194,
          -0.45941783418576615,
          -0.3945934820453098,
          -0.33138763259250686,
          -0.26947979801752303,
          -0.20858878396464725,
          -0.148462158735626,
          -0.08886798295158897,
          -0.029588032793860894,
          0.029588032793860894,
          0.08886798295158911,
          0.148462158735626,
          0.2085887839646474,
          0.26947979801752303,
          0.33138763259250686,
          0.3945934820453096,
          0.45941783418576615,
          0.5262343894479193,
          0.5954891013636436,
          0.6677271106042019,
          0.7436321948616517,
          0.8240868004562732,
          0.9102674907071853,
          1.003804867208037,
          1.107069462890304,
          1.223727303217423,
          1.35994814041008,
          1.5274966702195378,
          1.754010116215015,
          2.1353046284158346
         ],
         "xaxis": "x3",
         "y": [
          -7.813409016570972,
          41.41415674164048,
          70.65849465120013,
          92.29008389511435,
          109.87706720057659,
          124.93834220494804,
          138.27046347021965,
          150.34673838424504,
          161.4732179444345,
          171.86042326926292,
          181.66025622541684,
          190.98664628963823,
          199.92787354522943,
          208.55431914739557,
          216.92355855582184,
          225.0838388920957,
          233.07653718690727,
          240.93795743413446,
          248.7006901841985,
          256.39468029772524,
          264.0481018685977,
          271.6881112755455,
          279.34153284641803,
          287.03552295994473,
          294.7982557100088,
          302.65967595723595,
          310.6523742520475,
          318.8126545883213,
          327.18189399674765,
          335.8083395989138,
          344.74956685450496,
          354.0759569187264,
          363.87578987488024,
          374.2629951997087,
          385.3894747598982,
          397.4657496739235,
          410.79787093919515,
          425.85914594356655,
          443.44612924902873,
          465.07771849294295,
          494.32205640250254,
          543.5496221607142
         ],
         "yaxis": "y3"
        }
       ],
       "layout": {
        "annotations": [
         {
          "font": {},
          "showarrow": false,
          "text": "sample=6",
          "x": 0.15999999999999998,
          "xanchor": "center",
          "xref": "paper",
          "y": 0.2866666666666666,
          "yanchor": "bottom",
          "yref": "paper"
         },
         {
          "font": {},
          "showarrow": false,
          "text": "sample=7",
          "x": 0.49999999999999994,
          "xanchor": "center",
          "xref": "paper",
          "y": 0.2866666666666666,
          "yanchor": "bottom",
          "yref": "paper"
         },
         {
          "font": {},
          "showarrow": false,
          "text": "sample=8",
          "x": 0.8399999999999999,
          "xanchor": "center",
          "xref": "paper",
          "y": 0.2866666666666666,
          "yanchor": "bottom",
          "yref": "paper"
         },
         {
          "font": {},
          "showarrow": false,
          "text": "sample=3",
          "x": 0.15999999999999998,
          "xanchor": "center",
          "xref": "paper",
          "y": 0.6433333333333333,
          "yanchor": "bottom",
          "yref": "paper"
         },
         {
          "font": {},
          "showarrow": false,
          "text": "sample=4",
          "x": 0.49999999999999994,
          "xanchor": "center",
          "xref": "paper",
          "y": 0.6433333333333333,
          "yanchor": "bottom",
          "yref": "paper"
         },
         {
          "font": {},
          "showarrow": false,
          "text": "sample=5",
          "x": 0.8399999999999999,
          "xanchor": "center",
          "xref": "paper",
          "y": 0.6433333333333333,
          "yanchor": "bottom",
          "yref": "paper"
         },
         {
          "font": {},
          "showarrow": false,
          "text": "sample=data",
          "x": 0.15999999999999998,
          "xanchor": "center",
          "xref": "paper",
          "y": 0.9999999999999999,
          "yanchor": "bottom",
          "yref": "paper"
         },
         {
          "font": {},
          "showarrow": false,
          "text": "sample=1",
          "x": 0.49999999999999994,
          "xanchor": "center",
          "xref": "paper",
          "y": 0.9999999999999999,
          "yanchor": "bottom",
          "yref": "paper"
         },
         {
          "font": {},
          "showarrow": false,
          "text": "sample=2",
          "x": 0.8399999999999999,
          "xanchor": "center",
          "xref": "paper",
          "y": 0.9999999999999999,
          "yanchor": "bottom",
          "yref": "paper"
         }
        ],
        "height": 800,
        "legend": {
         "tracegroupgap": 0
        },
        "margin": {
         "t": 60
        },
        "template": {
         "data": {
          "bar": [
           {
            "error_x": {
             "color": "#2a3f5f"
            },
            "error_y": {
             "color": "#2a3f5f"
            },
            "marker": {
             "line": {
              "color": "#E5ECF6",
              "width": 0.5
             },
             "pattern": {
              "fillmode": "overlay",
              "size": 10,
              "solidity": 0.2
             }
            },
            "type": "bar"
           }
          ],
          "barpolar": [
           {
            "marker": {
             "line": {
              "color": "#E5ECF6",
              "width": 0.5
             },
             "pattern": {
              "fillmode": "overlay",
              "size": 10,
              "solidity": 0.2
             }
            },
            "type": "barpolar"
           }
          ],
          "carpet": [
           {
            "aaxis": {
             "endlinecolor": "#2a3f5f",
             "gridcolor": "white",
             "linecolor": "white",
             "minorgridcolor": "white",
             "startlinecolor": "#2a3f5f"
            },
            "baxis": {
             "endlinecolor": "#2a3f5f",
             "gridcolor": "white",
             "linecolor": "white",
             "minorgridcolor": "white",
             "startlinecolor": "#2a3f5f"
            },
            "type": "carpet"
           }
          ],
          "choropleth": [
           {
            "colorbar": {
             "outlinewidth": 0,
             "ticks": ""
            },
            "type": "choropleth"
           }
          ],
          "contour": [
           {
            "colorbar": {
             "outlinewidth": 0,
             "ticks": ""
            },
            "colorscale": [
             [
              0,
              "#0d0887"
             ],
             [
              0.1111111111111111,
              "#46039f"
             ],
             [
              0.2222222222222222,
              "#7201a8"
             ],
             [
              0.3333333333333333,
              "#9c179e"
             ],
             [
              0.4444444444444444,
              "#bd3786"
             ],
             [
              0.5555555555555556,
              "#d8576b"
             ],
             [
              0.6666666666666666,
              "#ed7953"
             ],
             [
              0.7777777777777778,
              "#fb9f3a"
             ],
             [
              0.8888888888888888,
              "#fdca26"
             ],
             [
              1,
              "#f0f921"
             ]
            ],
            "type": "contour"
           }
          ],
          "contourcarpet": [
           {
            "colorbar": {
             "outlinewidth": 0,
             "ticks": ""
            },
            "type": "contourcarpet"
           }
          ],
          "heatmap": [
           {
            "colorbar": {
             "outlinewidth": 0,
             "ticks": ""
            },
            "colorscale": [
             [
              0,
              "#0d0887"
             ],
             [
              0.1111111111111111,
              "#46039f"
             ],
             [
              0.2222222222222222,
              "#7201a8"
             ],
             [
              0.3333333333333333,
              "#9c179e"
             ],
             [
              0.4444444444444444,
              "#bd3786"
             ],
             [
              0.5555555555555556,
              "#d8576b"
             ],
             [
              0.6666666666666666,
              "#ed7953"
             ],
             [
              0.7777777777777778,
              "#fb9f3a"
             ],
             [
              0.8888888888888888,
              "#fdca26"
             ],
             [
              1,
              "#f0f921"
             ]
            ],
            "type": "heatmap"
           }
          ],
          "heatmapgl": [
           {
            "colorbar": {
             "outlinewidth": 0,
             "ticks": ""
            },
            "colorscale": [
             [
              0,
              "#0d0887"
             ],
             [
              0.1111111111111111,
              "#46039f"
             ],
             [
              0.2222222222222222,
              "#7201a8"
             ],
             [
              0.3333333333333333,
              "#9c179e"
             ],
             [
              0.4444444444444444,
              "#bd3786"
             ],
             [
              0.5555555555555556,
              "#d8576b"
             ],
             [
              0.6666666666666666,
              "#ed7953"
             ],
             [
              0.7777777777777778,
              "#fb9f3a"
             ],
             [
              0.8888888888888888,
              "#fdca26"
             ],
             [
              1,
              "#f0f921"
             ]
            ],
            "type": "heatmapgl"
           }
          ],
          "histogram": [
           {
            "marker": {
             "pattern": {
              "fillmode": "overlay",
              "size": 10,
              "solidity": 0.2
             }
            },
            "type": "histogram"
           }
          ],
          "histogram2d": [
           {
            "colorbar": {
             "outlinewidth": 0,
             "ticks": ""
            },
            "colorscale": [
             [
              0,
              "#0d0887"
             ],
             [
              0.1111111111111111,
              "#46039f"
             ],
             [
              0.2222222222222222,
              "#7201a8"
             ],
             [
              0.3333333333333333,
              "#9c179e"
             ],
             [
              0.4444444444444444,
              "#bd3786"
             ],
             [
              0.5555555555555556,
              "#d8576b"
             ],
             [
              0.6666666666666666,
              "#ed7953"
             ],
             [
              0.7777777777777778,
              "#fb9f3a"
             ],
             [
              0.8888888888888888,
              "#fdca26"
             ],
             [
              1,
              "#f0f921"
             ]
            ],
            "type": "histogram2d"
           }
          ],
          "histogram2dcontour": [
           {
            "colorbar": {
             "outlinewidth": 0,
             "ticks": ""
            },
            "colorscale": [
             [
              0,
              "#0d0887"
             ],
             [
              0.1111111111111111,
              "#46039f"
             ],
             [
              0.2222222222222222,
              "#7201a8"
             ],
             [
              0.3333333333333333,
              "#9c179e"
             ],
             [
              0.4444444444444444,
              "#bd3786"
             ],
             [
              0.5555555555555556,
              "#d8576b"
             ],
             [
              0.6666666666666666,
              "#ed7953"
             ],
             [
              0.7777777777777778,
              "#fb9f3a"
             ],
             [
              0.8888888888888888,
              "#fdca26"
             ],
             [
              1,
              "#f0f921"
             ]
            ],
            "type": "histogram2dcontour"
           }
          ],
          "mesh3d": [
           {
            "colorbar": {
             "outlinewidth": 0,
             "ticks": ""
            },
            "type": "mesh3d"
           }
          ],
          "parcoords": [
           {
            "line": {
             "colorbar": {
              "outlinewidth": 0,
              "ticks": ""
             }
            },
            "type": "parcoords"
           }
          ],
          "pie": [
           {
            "automargin": true,
            "type": "pie"
           }
          ],
          "scatter": [
           {
            "fillpattern": {
             "fillmode": "overlay",
             "size": 10,
             "solidity": 0.2
            },
            "type": "scatter"
           }
          ],
          "scatter3d": [
           {
            "line": {
             "colorbar": {
              "outlinewidth": 0,
              "ticks": ""
             }
            },
            "marker": {
             "colorbar": {
              "outlinewidth": 0,
              "ticks": ""
             }
            },
            "type": "scatter3d"
           }
          ],
          "scattercarpet": [
           {
            "marker": {
             "colorbar": {
              "outlinewidth": 0,
              "ticks": ""
             }
            },
            "type": "scattercarpet"
           }
          ],
          "scattergeo": [
           {
            "marker": {
             "colorbar": {
              "outlinewidth": 0,
              "ticks": ""
             }
            },
            "type": "scattergeo"
           }
          ],
          "scattergl": [
           {
            "marker": {
             "colorbar": {
              "outlinewidth": 0,
              "ticks": ""
             }
            },
            "type": "scattergl"
           }
          ],
          "scattermapbox": [
           {
            "marker": {
             "colorbar": {
              "outlinewidth": 0,
              "ticks": ""
             }
            },
            "type": "scattermapbox"
           }
          ],
          "scatterpolar": [
           {
            "marker": {
             "colorbar": {
              "outlinewidth": 0,
              "ticks": ""
             }
            },
            "type": "scatterpolar"
           }
          ],
          "scatterpolargl": [
           {
            "marker": {
             "colorbar": {
              "outlinewidth": 0,
              "ticks": ""
             }
            },
            "type": "scatterpolargl"
           }
          ],
          "scatterternary": [
           {
            "marker": {
             "colorbar": {
              "outlinewidth": 0,
              "ticks": ""
             }
            },
            "type": "scatterternary"
           }
          ],
          "surface": [
           {
            "colorbar": {
             "outlinewidth": 0,
             "ticks": ""
            },
            "colorscale": [
             [
              0,
              "#0d0887"
             ],
             [
              0.1111111111111111,
              "#46039f"
             ],
             [
              0.2222222222222222,
              "#7201a8"
             ],
             [
              0.3333333333333333,
              "#9c179e"
             ],
             [
              0.4444444444444444,
              "#bd3786"
             ],
             [
              0.5555555555555556,
              "#d8576b"
             ],
             [
              0.6666666666666666,
              "#ed7953"
             ],
             [
              0.7777777777777778,
              "#fb9f3a"
             ],
             [
              0.8888888888888888,
              "#fdca26"
             ],
             [
              1,
              "#f0f921"
             ]
            ],
            "type": "surface"
           }
          ],
          "table": [
           {
            "cells": {
             "fill": {
              "color": "#EBF0F8"
             },
             "line": {
              "color": "white"
             }
            },
            "header": {
             "fill": {
              "color": "#C8D4E3"
             },
             "line": {
              "color": "white"
             }
            },
            "type": "table"
           }
          ]
         },
         "layout": {
          "annotationdefaults": {
           "arrowcolor": "#2a3f5f",
           "arrowhead": 0,
           "arrowwidth": 1
          },
          "autotypenumbers": "strict",
          "coloraxis": {
           "colorbar": {
            "outlinewidth": 0,
            "ticks": ""
           }
          },
          "colorscale": {
           "diverging": [
            [
             0,
             "#8e0152"
            ],
            [
             0.1,
             "#c51b7d"
            ],
            [
             0.2,
             "#de77ae"
            ],
            [
             0.3,
             "#f1b6da"
            ],
            [
             0.4,
             "#fde0ef"
            ],
            [
             0.5,
             "#f7f7f7"
            ],
            [
             0.6,
             "#e6f5d0"
            ],
            [
             0.7,
             "#b8e186"
            ],
            [
             0.8,
             "#7fbc41"
            ],
            [
             0.9,
             "#4d9221"
            ],
            [
             1,
             "#276419"
            ]
           ],
           "sequential": [
            [
             0,
             "#0d0887"
            ],
            [
             0.1111111111111111,
             "#46039f"
            ],
            [
             0.2222222222222222,
             "#7201a8"
            ],
            [
             0.3333333333333333,
             "#9c179e"
            ],
            [
             0.4444444444444444,
             "#bd3786"
            ],
            [
             0.5555555555555556,
             "#d8576b"
            ],
            [
             0.6666666666666666,
             "#ed7953"
            ],
            [
             0.7777777777777778,
             "#fb9f3a"
            ],
            [
             0.8888888888888888,
             "#fdca26"
            ],
            [
             1,
             "#f0f921"
            ]
           ],
           "sequentialminus": [
            [
             0,
             "#0d0887"
            ],
            [
             0.1111111111111111,
             "#46039f"
            ],
            [
             0.2222222222222222,
             "#7201a8"
            ],
            [
             0.3333333333333333,
             "#9c179e"
            ],
            [
             0.4444444444444444,
             "#bd3786"
            ],
            [
             0.5555555555555556,
             "#d8576b"
            ],
            [
             0.6666666666666666,
             "#ed7953"
            ],
            [
             0.7777777777777778,
             "#fb9f3a"
            ],
            [
             0.8888888888888888,
             "#fdca26"
            ],
            [
             1,
             "#f0f921"
            ]
           ]
          },
          "colorway": [
           "#636efa",
           "#EF553B",
           "#00cc96",
           "#ab63fa",
           "#FFA15A",
           "#19d3f3",
           "#FF6692",
           "#B6E880",
           "#FF97FF",
           "#FECB52"
          ],
          "font": {
           "color": "#2a3f5f"
          },
          "geo": {
           "bgcolor": "white",
           "lakecolor": "white",
           "landcolor": "#E5ECF6",
           "showlakes": true,
           "showland": true,
           "subunitcolor": "white"
          },
          "hoverlabel": {
           "align": "left"
          },
          "hovermode": "closest",
          "mapbox": {
           "style": "light"
          },
          "paper_bgcolor": "white",
          "plot_bgcolor": "#E5ECF6",
          "polar": {
           "angularaxis": {
            "gridcolor": "white",
            "linecolor": "white",
            "ticks": ""
           },
           "bgcolor": "#E5ECF6",
           "radialaxis": {
            "gridcolor": "white",
            "linecolor": "white",
            "ticks": ""
           }
          },
          "scene": {
           "xaxis": {
            "backgroundcolor": "#E5ECF6",
            "gridcolor": "white",
            "gridwidth": 2,
            "linecolor": "white",
            "showbackground": true,
            "ticks": "",
            "zerolinecolor": "white"
           },
           "yaxis": {
            "backgroundcolor": "#E5ECF6",
            "gridcolor": "white",
            "gridwidth": 2,
            "linecolor": "white",
            "showbackground": true,
            "ticks": "",
            "zerolinecolor": "white"
           },
           "zaxis": {
            "backgroundcolor": "#E5ECF6",
            "gridcolor": "white",
            "gridwidth": 2,
            "linecolor": "white",
            "showbackground": true,
            "ticks": "",
            "zerolinecolor": "white"
           }
          },
          "shapedefaults": {
           "line": {
            "color": "#2a3f5f"
           }
          },
          "ternary": {
           "aaxis": {
            "gridcolor": "white",
            "linecolor": "white",
            "ticks": ""
           },
           "baxis": {
            "gridcolor": "white",
            "linecolor": "white",
            "ticks": ""
           },
           "bgcolor": "#E5ECF6",
           "caxis": {
            "gridcolor": "white",
            "linecolor": "white",
            "ticks": ""
           }
          },
          "title": {
           "x": 0.05
          },
          "xaxis": {
           "automargin": true,
           "gridcolor": "white",
           "linecolor": "white",
           "ticks": "",
           "title": {
            "standoff": 15
           },
           "zerolinecolor": "white",
           "zerolinewidth": 2
          },
          "yaxis": {
           "automargin": true,
           "gridcolor": "white",
           "linecolor": "white",
           "ticks": "",
           "title": {
            "standoff": 15
           },
           "zerolinecolor": "white",
           "zerolinewidth": 2
          }
         }
        },
        "width": 800,
        "xaxis": {
         "anchor": "y",
         "autorange": true,
         "domain": [
          0,
          0.31999999999999995
         ],
         "range": [
          -2.4731952714600323,
          2.4731952714600323
         ],
         "title": {
          "text": "Q_x"
         },
         "type": "linear"
        },
        "xaxis2": {
         "anchor": "y2",
         "autorange": true,
         "domain": [
          0.33999999999999997,
          0.6599999999999999
         ],
         "matches": "x",
         "range": [
          -2.4731952714600323,
          2.4731952714600323
         ],
         "title": {
          "text": "Q_x"
         },
         "type": "linear"
        },
        "xaxis3": {
         "anchor": "y3",
         "autorange": true,
         "domain": [
          0.6799999999999999,
          0.9999999999999999
         ],
         "matches": "x",
         "range": [
          -2.4731952714600323,
          2.4731952714600323
         ],
         "title": {
          "text": "Q_x"
         },
         "type": "linear"
        },
        "xaxis4": {
         "anchor": "y4",
         "autorange": true,
         "domain": [
          0,
          0.31999999999999995
         ],
         "matches": "x",
         "range": [
          -2.4731952714600323,
          2.4731952714600323
         ],
         "showticklabels": false,
         "type": "linear"
        },
        "xaxis5": {
         "anchor": "y5",
         "autorange": true,
         "domain": [
          0.33999999999999997,
          0.6599999999999999
         ],
         "matches": "x",
         "range": [
          -2.4731952714600323,
          2.4731952714600323
         ],
         "showticklabels": false,
         "type": "linear"
        },
        "xaxis6": {
         "anchor": "y6",
         "autorange": true,
         "domain": [
          0.6799999999999999,
          0.9999999999999999
         ],
         "matches": "x",
         "range": [
          -2.4731952714600323,
          2.4731952714600323
         ],
         "showticklabels": false,
         "type": "linear"
        },
        "xaxis7": {
         "anchor": "y7",
         "autorange": true,
         "domain": [
          0,
          0.31999999999999995
         ],
         "matches": "x",
         "range": [
          -2.4731952714600323,
          2.4731952714600323
         ],
         "showticklabels": false,
         "type": "linear"
        },
        "xaxis8": {
         "anchor": "y8",
         "autorange": true,
         "domain": [
          0.33999999999999997,
          0.6599999999999999
         ],
         "matches": "x",
         "range": [
          -2.4731952714600323,
          2.4731952714600323
         ],
         "showticklabels": false,
         "type": "linear"
        },
        "xaxis9": {
         "anchor": "y9",
         "autorange": true,
         "domain": [
          0.6799999999999999,
          0.9999999999999999
         ],
         "matches": "x",
         "range": [
          -2.4731952714600323,
          2.4731952714600323
         ],
         "showticklabels": false,
         "type": "linear"
        },
        "yaxis": {
         "anchor": "x",
         "autorange": true,
         "domain": [
          0,
          0.2866666666666666
         ],
         "range": [
          -405.0737208534426,
          803.5247011704764
         ],
         "title": {
          "text": "Q_y"
         },
         "type": "linear"
        },
        "yaxis2": {
         "anchor": "x2",
         "autorange": true,
         "domain": [
          0,
          0.2866666666666666
         ],
         "matches": "y",
         "range": [
          -405.0737208534426,
          803.5247011704764
         ],
         "showticklabels": false,
         "type": "linear"
        },
        "yaxis3": {
         "anchor": "x3",
         "autorange": true,
         "domain": [
          0,
          0.2866666666666666
         ],
         "matches": "y",
         "range": [
          -405.0737208534426,
          803.5247011704764
         ],
         "showticklabels": false,
         "type": "linear"
        },
        "yaxis4": {
         "anchor": "x4",
         "autorange": true,
         "domain": [
          0.35666666666666663,
          0.6433333333333333
         ],
         "matches": "y",
         "range": [
          -405.0737208534426,
          803.5247011704764
         ],
         "title": {
          "text": "Q_y"
         },
         "type": "linear"
        },
        "yaxis5": {
         "anchor": "x5",
         "autorange": true,
         "domain": [
          0.35666666666666663,
          0.6433333333333333
         ],
         "matches": "y",
         "range": [
          -405.0737208534426,
          803.5247011704764
         ],
         "showticklabels": false,
         "type": "linear"
        },
        "yaxis6": {
         "anchor": "x6",
         "autorange": true,
         "domain": [
          0.35666666666666663,
          0.6433333333333333
         ],
         "matches": "y",
         "range": [
          -405.0737208534426,
          803.5247011704764
         ],
         "showticklabels": false,
         "type": "linear"
        },
        "yaxis7": {
         "anchor": "x7",
         "autorange": true,
         "domain": [
          0.7133333333333333,
          0.9999999999999999
         ],
         "matches": "y",
         "range": [
          -405.0737208534426,
          803.5247011704764
         ],
         "title": {
          "text": "Q_y"
         },
         "type": "linear"
        },
        "yaxis8": {
         "anchor": "x8",
         "autorange": true,
         "domain": [
          0.7133333333333333,
          0.9999999999999999
         ],
         "matches": "y",
         "range": [
          -405.0737208534426,
          803.5247011704764
         ],
         "showticklabels": false,
         "type": "linear"
        },
        "yaxis9": {
         "anchor": "x9",
         "autorange": true,
         "domain": [
          0.7133333333333333,
          0.9999999999999999
         ],
         "matches": "y",
         "range": [
          -405.0737208534426,
          803.5247011704764
         ],
         "showticklabels": false,
         "type": "linear"
        }
       }
      },
      "image/png": "[encoded data removed]",
      "text/html": [
       "<div>                            <div id=\"604bc11b-2754-4fa5-9b54-81d28cf97816\" class=\"plotly-graph-div\" style=\"height:800px; width:800px;\"></div>            <script type=\"text/javascript\">                require([\"plotly\"], function(Plotly) {                    window.PLOTLYENV=window.PLOTLYENV || {};                                    if (document.getElementById(\"604bc11b-2754-4fa5-9b54-81d28cf97816\")) {                    Plotly.newPlot(                        \"604bc11b-2754-4fa5-9b54-81d28cf97816\",                        [{\"hovertemplate\":\"sample=data<br>Q_x=%{x}<br>Q_y=%{y}<extra></extra>\",\"legendgroup\":\"\",\"marker\":{\"color\":\"#636efa\",\"symbol\":\"circle\"},\"mode\":\"markers\",\"name\":\"\",\"orientation\":\"v\",\"showlegend\":false,\"x\":[-2.1353046284158346,-1.7540101162150163,-1.527496670219539,-1.359948140410081,-1.2237273032174234,-1.1070694628903044,-1.0038048672080377,-0.9102674907071854,-0.8240868004562736,-0.7436321948616521,-0.667727110604202,-0.595489101363644,-0.5262343894479194,-0.45941783418576615,-0.3945934820453098,-0.33138763259250686,-0.26947979801752303,-0.20858878396464725,-0.148462158735626,-0.08886798295158897,-0.029588032793860894,0.029588032793860894,0.08886798295158911,0.148462158735626,0.2085887839646474,0.26947979801752303,0.33138763259250686,0.3945934820453096,0.45941783418576615,0.5262343894479193,0.5954891013636436,0.6677271106042019,0.7436321948616517,0.8240868004562732,0.9102674907071853,1.003804867208037,1.107069462890304,1.223727303217423,1.35994814041008,1.5274966702195378,1.754010116215015,2.1353046284158346],\"xaxis\":\"x7\",\"y\":[0.0,20.0,80.0,80.0,120.0,130.0,130.0,140.0,140.0,160.0,160.0,160.0,170.0,180.0,180.0,180.0,180.0,190.0,200.0,220.0,220.0,220.0,240.0,240.0,240.0,270.0,270.0,280.0,310.0,310.0,310.0,310.0,330.0,410.0,430.0,430.0,440.0,460.0,480.0,590.0,660.0,670.0],\"yaxis\":\"y7\",\"type\":\"scatter\"},{\"hovertemplate\":\"<b>OLS trendline</b><br>Q_y = 154.939 * Q_x + 260.476<br>R<sup>2</sup>=0.923481<br><br>sample=data<br>Q_x=%{x}<br>Q_y=%{y} <b>(trend)</b><extra></extra>\",\"legendgroup\":\"\",\"marker\":{\"color\":\"#636efa\",\"symbol\":\"circle\"},\"mode\":\"lines\",\"name\":\"\",\"showlegend\":false,\"x\":[-2.1353046284158346,-1.7540101162150163,-1.527496670219539,-1.359948140410081,-1.2237273032174234,-1.1070694628903044,-1.0038048672080377,-0.9102674907071854,-0.8240868004562736,-0.7436321948616521,-0.667727110604202,-0.595489101363644,-0.5262343894479194,-0.45941783418576615,-0.3945934820453098,-0.33138763259250686,-0.26947979801752303,-0.20858878396464725,-0.148462158735626,-0.08886798295158897,-0.029588032793860894,0.029588032793860894,0.08886798295158911,0.148462158735626,0.2085887839646474,0.26947979801752303,0.33138763259250686,0.3945934820453096,0.45941783418576615,0.5262343894479193,0.5954891013636436,0.6677271106042019,0.7436321948616517,0.8240868004562732,0.9102674907071853,1.003804867208037,1.107069462890304,1.223727303217423,1.35994814041008,1.5274966702195378,1.754010116215015,2.1353046284158346],\"xaxis\":\"x7\",\"y\":[-70.36518919813165,-11.28790308165162,23.80780176095257,49.767557585436435,70.87344061377289,88.94825782254011,104.9479427632215,119.44050475219501,132.79323114283181,145.2587652693726,157.01940235404993,168.2118675058739,178.94210436961566,189.29457634660773,199.33837890912721,209.13141272649247,218.7233337717967,228.15770994039403,237.47365267812333,246.70709837695657,255.89185835743672,265.060522594944,274.2452825754242,283.4787282742574,292.79467101198674,302.2290471805841,311.8209682258883,321.6140020432535,331.657804605773,342.0102765827651,352.7405134465068,363.9329785983308,375.6936156830081,388.15914980954886,401.5118762001857,416.00443818915915,432.00412312984054,450.07894033860777,471.1848233669441,497.14457919142797,532.2402840340321,591.3175701505124],\"yaxis\":\"y7\",\"type\":\"scatter\"},{\"hovertemplate\":\"sample=1<br>Q_x=%{x}<br>Q_y=%{y}<extra></extra>\",\"legendgroup\":\"\",\"marker\":{\"color\":\"#636efa\",\"symbol\":\"circle\"},\"mode\":\"markers\",\"name\":\"\",\"orientation\":\"v\",\"showlegend\":false,\"x\":[-2.1353046284158346,-1.7540101162150163,-1.527496670219539,-1.359948140410081,-1.2237273032174234,-1.1070694628903044,-1.0038048672080377,-0.9102674907071854,-0.8240868004562736,-0.7436321948616521,-0.667727110604202,-0.595489101363644,-0.5262343894479194,-0.45941783418576615,-0.3945934820453098,-0.33138763259250686,-0.26947979801752303,-0.20858878396464725,-0.148462158735626,-0.08886798295158897,-0.029588032793860894,0.029588032793860894,0.08886798295158911,0.148462158735626,0.2085887839646474,0.26947979801752303,0.33138763259250686,0.3945934820453096,0.45941783418576615,0.5262343894479193,0.5954891013636436,0.6677271106042019,0.7436321948616517,0.8240868004562732,0.9102674907071853,1.003804867208037,1.107069462890304,1.223727303217423,1.35994814041008,1.5274966702195378,1.754010116215015,2.1353046284158346],\"xaxis\":\"x8\",\"y\":[-98.55004758933774,-52.5351656385302,-6.969962891758485,18.221152373964543,31.43374861139671,72.88321750095804,73.50849495364074,96.19711762866069,133.46604728990005,154.20245964940813,158.39903779553168,166.15743605520404,178.83463052439132,183.29213111811004,186.55536817392226,193.9745550742144,196.71516974863025,201.2265592586054,214.79193025546746,219.8130321719142,221.37681674678078,239.69516234057616,242.91556271089237,247.86908983951827,255.9030722525187,276.7791646220889,278.53895664019257,282.787557091134,287.84102391468065,289.1851799521622,298.3849327766582,301.5479616257559,324.6739998947299,346.7550131536357,384.0223587928582,384.03069296450155,389.5401058664746,392.64214645863365,454.1873269281848,558.4468324328724,577.0343094604896,612.5099192326433],\"yaxis\":\"y8\",\"type\":\"scatter\"},{\"hovertemplate\":\"<b>OLS trendline</b><br>Q_y = 158.843 * Q_x + 237.34<br>R<sup>2</sup>=0.974804<br><br>sample=1<br>Q_x=%{x}<br>Q_y=%{y} <b>(trend)</b><extra></extra>\",\"legendgroup\":\"\",\"marker\":{\"color\":\"#636efa\",\"symbol\":\"circle\"},\"mode\":\"lines\",\"name\":\"\",\"showlegend\":false,\"x\":[-2.1353046284158346,-1.7540101162150163,-1.527496670219539,-1.359948140410081,-1.2237273032174234,-1.1070694628903044,-1.0038048672080377,-0.9102674907071854,-0.8240868004562736,-0.7436321948616521,-0.667727110604202,-0.595489101363644,-0.5262343894479194,-0.45941783418576615,-0.3945934820453098,-0.33138763259250686,-0.26947979801752303,-0.20858878396464725,-0.148462158735626,-0.08886798295158897,-0.029588032793860894,0.029588032793860894,0.08886798295158911,0.148462158735626,0.2085887839646474,0.26947979801752303,0.33138763259250686,0.3945934820453096,0.45941783418576615,0.5262343894479193,0.5954891013636436,0.6677271106042019,0.7436321948616517,0.8240868004562732,0.9102674907071853,1.003804867208037,1.107069462890304,1.223727303217423,1.35994814041008,1.5274966702195378,1.754010116215015,2.1353046284158346],\"xaxis\":\"x8\",\"y\":[-101.83906219126197,-41.27292537537028,-5.292747529076706,21.32123944169973,42.95902755190613,61.48936169471045,77.89226661518805,92.75006645566015,106.43930485171569,119.21899219047828,131.2760178518842,142.7505526562744,153.75121021313905,164.36458254891187,174.6615064623424,184.7013418206518,194.53499601410448,204.20713492504302,213.75785567599047,223.22400031870518,232.6402322780082,242.03996285352852,251.45619481283157,260.92233945554625,270.47306020649376,280.14519911743224,289.9788533108849,300.0186886691943,310.31561258262485,320.92898491839765,331.92964247526226,343.4041772796525,355.4612029410584,368.240890279821,381.9301286758765,396.78792851634853,413.1908334368262,431.7211675796305,453.3589556898368,479.9729426606133,515.9531205069068,576.5192573227987],\"yaxis\":\"y8\",\"type\":\"scatter\"},{\"hovertemplate\":\"sample=2<br>Q_x=%{x}<br>Q_y=%{y}<extra></extra>\",\"legendgroup\":\"\",\"marker\":{\"color\":\"#636efa\",\"symbol\":\"circle\"},\"mode\":\"markers\",\"name\":\"\",\"orientation\":\"v\",\"showlegend\":false,\"x\":[-2.1353046284158346,-1.7540101162150163,-1.527496670219539,-1.359948140410081,-1.2237273032174234,-1.1070694628903044,-1.0038048672080377,-0.9102674907071854,-0.8240868004562736,-0.7436321948616521,-0.667727110604202,-0.595489101363644,-0.5262343894479194,-0.45941783418576615,-0.3945934820453098,-0.33138763259250686,-0.26947979801752303,-0.20858878396464725,-0.148462158735626,-0.08886798295158897,-0.029588032793860894,0.029588032793860894,0.08886798295158911,0.148462158735626,0.2085887839646474,0.26947979801752303,0.33138763259250686,0.3945934820453096,0.45941783418576615,0.5262343894479193,0.5954891013636436,0.6677271106042019,0.7436321948616517,0.8240868004562732,0.9102674907071853,1.003804867208037,1.107069462890304,1.223727303217423,1.35994814041008,1.5274966702195378,1.754010116215015,2.1353046284158346],\"xaxis\":\"x9\",\"y\":[-200.5544446394827,-121.0688544053856,-108.70954626697147,-103.30618664012496,-64.58076000411677,-41.97084763781049,17.61781330836064,40.69766811011564,76.66853798099652,97.54708367980137,114.26732732706122,119.75187733512627,166.07288018652892,173.0411685664427,199.78863590013881,202.80077037684688,214.11250867496594,214.44196881381592,223.78096913291628,231.7810567112963,233.35326924301958,235.0372548796944,240.13771561030748,257.23497843846303,260.82770636066425,282.3415419667788,282.351379470273,283.7171330881027,312.0865381130693,320.1657025330054,322.5736148987602,337.87019867111513,343.91410219935085,352.66242460448547,353.6275940425685,373.0470258749794,385.6956239259022,386.7158225269901,389.3472003712146,431.9244747625288,469.63344875765415,524.6361626975473],\"yaxis\":\"y9\",\"type\":\"scatter\"},{\"hovertemplate\":\"<b>OLS trendline</b><br>Q_y = 172.614 * Q_x + 210.264<br>R<sup>2</sup>=0.955688<br><br>sample=2<br>Q_x=%{x}<br>Q_y=%{y} <b>(trend)</b><extra></extra>\",\"legendgroup\":\"\",\"marker\":{\"color\":\"#636efa\",\"symbol\":\"circle\"},\"mode\":\"lines\",\"name\":\"\",\"showlegend\":false,\"x\":[-2.1353046284158346,-1.7540101162150163,-1.527496670219539,-1.359948140410081,-1.2237273032174234,-1.1070694628903044,-1.0038048672080377,-0.9102674907071854,-0.8240868004562736,-0.7436321948616521,-0.667727110604202,-0.595489101363644,-0.5262343894479194,-0.45941783418576615,-0.3945934820453098,-0.33138763259250686,-0.26947979801752303,-0.20858878396464725,-0.148462158735626,-0.08886798295158897,-0.029588032793860894,0.029588032793860894,0.08886798295158911,0.148462158735626,0.2085887839646474,0.26947979801752303,0.33138763259250686,0.3945934820453096,0.45941783418576615,0.5262343894479193,0.5954891013636436,0.6677271106042019,0.7436321948616517,0.8240868004562732,0.9102674907071853,1.003804867208037,1.107069462890304,1.223727303217423,1.35994814041008,1.5274966702195378,1.754010116215015,2.1353046284158346],\"xaxis\":\"x9\",\"y\":[-158.32031087679707,-92.5034220726796,-53.4039600802397,-24.482686359010444,-0.9690206559201044,19.167791858430064,36.99273870120635,53.138628325086046,68.01464863433975,81.90226479654521,95.00456847619687,107.47388253522678,119.42823678755806,130.96173031354718,142.15134107400914,153.06157511119335,163.7477532069836,174.25841353082626,184.6371294059215,194.92393688791648,205.15650453051063,215.37114020982239,225.60370785241656,235.8905153344115,246.26923120950678,256.7798915333494,267.46606962913967,278.37630366632385,289.56591442678587,301.0994079527749,313.0537622051062,325.52307626413614,338.6253799437877,352.51299610599324,367.38901641524694,383.53490603912655,401.35985288190284,421.4966653962531,445.01033109934326,473.93160482057255,513.0310668130123,578.8479556171301],\"yaxis\":\"y9\",\"type\":\"scatter\"},{\"hovertemplate\":\"sample=3<br>Q_x=%{x}<br>Q_y=%{y}<extra></extra>\",\"legendgroup\":\"\",\"marker\":{\"color\":\"#636efa\",\"symbol\":\"circle\"},\"mode\":\"markers\",\"name\":\"\",\"orientation\":\"v\",\"showlegend\":false,\"x\":[-2.1353046284158346,-1.7540101162150163,-1.527496670219539,-1.359948140410081,-1.2237273032174234,-1.1070694628903044,-1.0038048672080377,-0.9102674907071854,-0.8240868004562736,-0.7436321948616521,-0.667727110604202,-0.595489101363644,-0.5262343894479194,-0.45941783418576615,-0.3945934820453098,-0.33138763259250686,-0.26947979801752303,-0.20858878396464725,-0.148462158735626,-0.08886798295158897,-0.029588032793860894,0.029588032793860894,0.08886798295158911,0.148462158735626,0.2085887839646474,0.26947979801752303,0.33138763259250686,0.3945934820453096,0.45941783418576615,0.5262343894479193,0.5954891013636436,0.6677271106042019,0.7436321948616517,0.8240868004562732,0.9102674907071853,1.003804867208037,1.107069462890304,1.223727303217423,1.35994814041008,1.5274966702195378,1.754010116215015,2.1353046284158346],\"xaxis\":\"x4\",\"y\":[-9.152824958971166,5.883615679014042,29.777457729517664,36.36305259398176,63.89283328348401,67.31942765895863,127.91604398426904,141.395132987541,149.11451417103035,159.98347475114716,160.76082477148952,176.58250771248964,179.53756570921144,196.27736363556028,198.79922547472947,203.8546842456161,206.693855067816,212.67717724313792,212.74185835193953,218.3188062762328,248.06813517623846,251.51959963907885,267.2754796631001,284.8443012761075,300.7730662001984,313.26758174848493,319.15288353022936,321.68358568005146,339.33207414036565,347.9910497858199,356.9094540112125,382.13509039382325,392.6414095654128,392.7328595530727,406.8122805996328,407.4871608722339,413.6461633129836,467.94422261062823,497.0567635749208,504.17698423245145,533.5248165268392,719.1400016200748],\"yaxis\":\"y4\",\"type\":\"scatter\"},{\"hovertemplate\":\"<b>OLS trendline</b><br>Q_y = 159.601 * Q_x + 266.83<br>R<sup>2</sup>=0.975415<br><br>sample=3<br>Q_x=%{x}<br>Q_y=%{y} <b>(trend)</b><extra></extra>\",\"legendgroup\":\"\",\"marker\":{\"color\":\"#636efa\",\"symbol\":\"circle\"},\"mode\":\"lines\",\"name\":\"\",\"showlegend\":false,\"x\":[-2.1353046284158346,-1.7540101162150163,-1.527496670219539,-1.359948140410081,-1.2237273032174234,-1.1070694628903044,-1.0038048672080377,-0.9102674907071854,-0.8240868004562736,-0.7436321948616521,-0.667727110604202,-0.595489101363644,-0.5262343894479194,-0.45941783418576615,-0.3945934820453098,-0.33138763259250686,-0.26947979801752303,-0.20858878396464725,-0.148462158735626,-0.08886798295158897,-0.029588032793860894,0.029588032793860894,0.08886798295158911,0.148462158735626,0.2085887839646474,0.26947979801752303,0.33138763259250686,0.3945934820453096,0.45941783418576615,0.5262343894479193,0.5954891013636436,0.6677271106042019,0.7436321948616517,0.8240868004562732,0.9102674907071853,1.003804867208037,1.107069462890304,1.223727303217423,1.35994814041008,1.5274966702195378,1.754010116215015,2.1353046284158346],\"xaxis\":\"x4\",\"y\":[-73.96759986967305,-13.112499266712291,23.03934164076486,49.78030515104652,71.5213281301885,90.14007133804242,106.62123526221313,121.54992233992914,135.3044727135513,148.14513252051324,160.25968279846353,171.78896312908753,182.84210532233476,193.50611453912646,203.8521655437933,213.9399014121766,223.8204724160097,233.5387575405867,243.1350452136217,252.6463532619737,262.1075104912366,271.552087607866,281.0132448371289,290.5245528854809,300.1208405585159,309.8391256830929,319.719696686926,329.8074325553093,340.15348355997617,350.81749277676784,361.870634970015,373.399915300639,385.51446557858924,398.3551253855512,412.10967575917346,427.03836283688935,443.5195267610601,462.138269968914,483.8792929480559,510.6202564583375,546.7720973658147,607.6271979687756],\"yaxis\":\"y4\",\"type\":\"scatter\"},{\"hovertemplate\":\"sample=4<br>Q_x=%{x}<br>Q_y=%{y}<extra></extra>\",\"legendgroup\":\"\",\"marker\":{\"color\":\"#636efa\",\"symbol\":\"circle\"},\"mode\":\"markers\",\"name\":\"\",\"orientation\":\"v\",\"showlegend\":false,\"x\":[-2.1353046284158346,-1.7540101162150163,-1.527496670219539,-1.359948140410081,-1.2237273032174234,-1.1070694628903044,-1.0038048672080377,-0.9102674907071854,-0.8240868004562736,-0.7436321948616521,-0.667727110604202,-0.595489101363644,-0.5262343894479194,-0.45941783418576615,-0.3945934820453098,-0.33138763259250686,-0.26947979801752303,-0.20858878396464725,-0.148462158735626,-0.08886798295158897,-0.029588032793860894,0.029588032793860894,0.08886798295158911,0.148462158735626,0.2085887839646474,0.26947979801752303,0.33138763259250686,0.3945934820453096,0.45941783418576615,0.5262343894479193,0.5954891013636436,0.6677271106042019,0.7436321948616517,0.8240868004562732,0.9102674907071853,1.003804867208037,1.107069462890304,1.223727303217423,1.35994814041008,1.5274966702195378,1.754010116215015,2.1353046284158346],\"xaxis\":\"x5\",\"y\":[-320.68902130304105,-18.82716001222559,12.203284827021434,23.59872637949084,32.897974035530126,33.4974745397476,42.15829212440184,52.31196163713926,70.79279649933247,117.86102318288573,125.57276255030635,140.7934298254189,151.12679095515398,155.33541013748714,169.0454231931928,171.55894216003924,186.35155021408707,187.0182800092212,187.65534614799174,195.7958131600903,202.10454304921916,226.6388720382276,238.33564474191104,253.04891852599712,279.1972464878803,287.447269616987,289.87625368517536,305.0130070705173,319.9267211145465,348.15109053644215,365.5022009688393,378.37232002790046,389.50568904822796,415.37049732454994,422.3414554836568,422.9803430965201,426.3820859154573,436.58682213854286,439.2021608013264,568.42469017496,637.3450081486849,705.5869277035144],\"yaxis\":\"y5\",\"type\":\"scatter\"},{\"hovertemplate\":\"<b>OLS trendline</b><br>Q_y = 194.878 * Q_x + 239.843<br>R<sup>2</sup>=0.963512<br><br>sample=4<br>Q_x=%{x}<br>Q_y=%{y} <b>(trend)</b><extra></extra>\",\"legendgroup\":\"\",\"marker\":{\"color\":\"#636efa\",\"symbol\":\"circle\"},\"mode\":\"lines\",\"name\":\"\",\"showlegend\":false,\"x\":[-2.1353046284158346,-1.7540101162150163,-1.527496670219539,-1.359948140410081,-1.2237273032174234,-1.1070694628903044,-1.0038048672080377,-0.9102674907071854,-0.8240868004562736,-0.7436321948616521,-0.667727110604202,-0.595489101363644,-0.5262343894479194,-0.45941783418576615,-0.3945934820453098,-0.33138763259250686,-0.26947979801752303,-0.20858878396464725,-0.148462158735626,-0.08886798295158897,-0.029588032793860894,0.029588032793860894,0.08886798295158911,0.148462158735626,0.2085887839646474,0.26947979801752303,0.33138763259250686,0.3945934820453096,0.45941783418576615,0.5262343894479193,0.5954891013636436,0.6677271106042019,0.7436321948616517,0.8240868004562732,0.9102674907071853,1.003804867208037,1.107069462890304,1.223727303217423,1.35994814041008,1.5274966702195378,1.754010116215015,2.1353046284158346],\"xaxis\":\"x5\",\"y\":[-176.28189468975944,-101.97583461940758,-57.83325929690278,-25.18167181702927,1.3648254111821245,24.098917336583355,44.22295532920421,62.451368523451436,79.24612255682695,94.92498644013875,109.71724693695035,123.79487376406946,137.29112041619658,150.31222302883705,162.94508830761526,175.26254239088837,187.3270414265613,199.19338411752204,210.91076394632515,222.52438088534768,234.076762040699,245.60889833846056,257.1612794938119,268.7748964328344,280.4922762616375,292.35861895259825,304.4231179882712,316.74057207154425,329.37343735032255,342.394539962963,355.89078661509006,369.9684134422092,384.76067393902076,400.43953782233257,417.2342918557081,435.4627050499552,455.58674304257613,478.32083496797736,504.8673321961886,537.5189196760621,581.6614949985669,655.967555068919],\"yaxis\":\"y5\",\"type\":\"scatter\"},{\"hovertemplate\":\"sample=5<br>Q_x=%{x}<br>Q_y=%{y}<extra></extra>\",\"legendgroup\":\"\",\"marker\":{\"color\":\"#636efa\",\"symbol\":\"circle\"},\"mode\":\"markers\",\"name\":\"\",\"orientation\":\"v\",\"showlegend\":false,\"x\":[-2.1353046284158346,-1.7540101162150163,-1.527496670219539,-1.359948140410081,-1.2237273032174234,-1.1070694628903044,-1.0038048672080377,-0.9102674907071854,-0.8240868004562736,-0.7436321948616521,-0.667727110604202,-0.595489101363644,-0.5262343894479194,-0.45941783418576615,-0.3945934820453098,-0.33138763259250686,-0.26947979801752303,-0.20858878396464725,-0.148462158735626,-0.08886798295158897,-0.029588032793860894,0.029588032793860894,0.08886798295158911,0.148462158735626,0.2085887839646474,0.26947979801752303,0.33138763259250686,0.3945934820453096,0.45941783418576615,0.5262343894479193,0.5954891013636436,0.6677271106042019,0.7436321948616517,0.8240868004562732,0.9102674907071853,1.003804867208037,1.107069462890304,1.223727303217423,1.35994814041008,1.5274966702195378,1.754010116215015,2.1353046284158346],\"xaxis\":\"x6\",\"y\":[-46.2066618457402,-31.495882714238007,38.54828324857496,73.44388364842513,94.54988316991228,114.90515966271391,117.79008625856363,118.03346221586679,121.3083042333061,140.91387414113268,142.75300954786167,196.09456868071857,219.8375339919315,222.14969352072615,241.21641268198658,248.0470269679435,250.8271478265726,258.06833543037834,260.6851959796575,267.60825673993185,268.8336546402966,270.9323064980545,277.16680199164585,278.07398846095106,278.27747711683077,287.6247701856413,305.90834295205525,334.80969675665483,338.64843536011705,345.5235349248213,351.0691454346732,355.4735578147023,368.869849076141,368.92760071787654,386.6150466056346,402.8452304621449,418.8769707865139,436.09628819354987,443.1991017615088,445.59764572290146,519.4236771795205,551.6620790663735],\"yaxis\":\"y6\",\"type\":\"scatter\"},{\"hovertemplate\":\"<b>OLS trendline</b><br>Q_y = 141.213 * Q_x + 263.894<br>R<sup>2</sup>=0.983625<br><br>sample=5<br>Q_x=%{x}<br>Q_y=%{y} <b>(trend)</b><extra></extra>\",\"legendgroup\":\"\",\"marker\":{\"color\":\"#636efa\",\"symbol\":\"circle\"},\"mode\":\"lines\",\"name\":\"\",\"showlegend\":false,\"x\":[-2.1353046284158346,-1.7540101162150163,-1.527496670219539,-1.359948140410081,-1.2237273032174234,-1.1070694628903044,-1.0038048672080377,-0.9102674907071854,-0.8240868004562736,-0.7436321948616521,-0.667727110604202,-0.595489101363644,-0.5262343894479194,-0.45941783418576615,-0.3945934820453098,-0.33138763259250686,-0.26947979801752303,-0.20858878396464725,-0.148462158735626,-0.08886798295158897,-0.029588032793860894,0.029588032793860894,0.08886798295158911,0.148462158735626,0.2085887839646474,0.26947979801752303,0.33138763259250686,0.3945934820453096,0.45941783418576615,0.5262343894479193,0.5954891013636436,0.6677271106042019,0.7436321948616517,0.8240868004562732,0.9102674907071853,1.003804867208037,1.107069462890304,1.223727303217423,1.35994814041008,1.5274966702195378,1.754010116215015,2.1353046284158346],\"xaxis\":\"x6\",\"y\":[-37.63859797646819,16.205048082117997,48.19163436497453,71.85162276770711,91.08774159163286,107.56131585913838,122.14359323891503,135.35226326275233,147.52207540133048,158.88329138740897,169.60205696107346,179.8029847926205,189.58263300931367,199.01798242366493,208.17200735961677,217.09747908257881,225.8396545570408,234.43824201083737,242.92888801788928,251.34434537537382,259.7154300685159,268.0718449359999,276.442929629142,284.8583869866265,293.3490329936784,301.947620447475,310.68979592193693,319.61526764489895,328.76929258085084,338.2046419952021,347.98429021189526,358.1852180434423,368.90398361710675,380.26519960318524,392.43501174176345,405.6436817656006,420.2259591453774,436.69953341288283,455.93565223680855,479.5956406395411,511.5822269223976,565.425872980984],\"yaxis\":\"y6\",\"type\":\"scatter\"},{\"hovertemplate\":\"sample=6<br>Q_x=%{x}<br>Q_y=%{y}<extra></extra>\",\"legendgroup\":\"\",\"marker\":{\"color\":\"#636efa\",\"symbol\":\"circle\"},\"mode\":\"markers\",\"name\":\"\",\"orientation\":\"v\",\"showlegend\":false,\"x\":[-2.1353046284158346,-1.7540101162150163,-1.527496670219539,-1.359948140410081,-1.2237273032174234,-1.1070694628903044,-1.0038048672080377,-0.9102674907071854,-0.8240868004562736,-0.7436321948616521,-0.667727110604202,-0.595489101363644,-0.5262343894479194,-0.45941783418576615,-0.3945934820453098,-0.33138763259250686,-0.26947979801752303,-0.20858878396464725,-0.148462158735626,-0.08886798295158897,-0.029588032793860894,0.029588032793860894,0.08886798295158911,0.148462158735626,0.2085887839646474,0.26947979801752303,0.33138763259250686,0.3945934820453096,0.45941783418576615,0.5262343894479193,0.5954891013636436,0.6677271106042019,0.7436321948616517,0.8240868004562732,0.9102674907071853,1.003804867208037,1.107069462890304,1.223727303217423,1.35994814041008,1.5274966702195378,1.754010116215015,2.1353046284158346],\"xaxis\":\"x\",\"y\":[-193.67432035995438,-21.24652857915561,-11.133268718554575,33.07374264071706,59.16932766103537,87.53704262172505,88.21011757097946,89.17648631536454,113.37106441513927,134.26668274538207,139.23542535165507,157.44922232580203,162.53630380411562,191.943146789487,195.89690293910763,196.15904901713526,198.44075690730506,198.99691608088585,203.11213515845108,216.44003219018444,235.00239649665377,258.7186585729566,277.00768058587784,287.7318865408066,303.6531650485606,315.21195141754265,318.6151051853699,321.72093115994664,348.3460639829402,352.165226307153,365.4164142040344,385.5138960683453,428.00877947493495,431.9446334144599,435.19272948917126,437.6535406035889,440.0930139085792,450.3699046040961,465.7285439012252,508.1030304891575,562.1149560877229,566.611587523329],\"yaxis\":\"y\",\"type\":\"scatter\"},{\"hovertemplate\":\"<b>OLS trendline</b><br>Q_y = 172.595 * Q_x + 255.569<br>R<sup>2</sup>=0.983208<br><br>sample=6<br>Q_x=%{x}<br>Q_y=%{y} <b>(trend)</b><extra></extra>\",\"legendgroup\":\"\",\"marker\":{\"color\":\"#636efa\",\"symbol\":\"circle\"},\"mode\":\"lines\",\"name\":\"\",\"showlegend\":false,\"x\":[-2.1353046284158346,-1.7540101162150163,-1.527496670219539,-1.359948140410081,-1.2237273032174234,-1.1070694628903044,-1.0038048672080377,-0.9102674907071854,-0.8240868004562736,-0.7436321948616521,-0.667727110604202,-0.595489101363644,-0.5262343894479194,-0.45941783418576615,-0.3945934820453098,-0.33138763259250686,-0.26947979801752303,-0.20858878396464725,-0.148462158735626,-0.08886798295158897,-0.029588032793860894,0.029588032793860894,0.08886798295158911,0.148462158735626,0.2085887839646474,0.26947979801752303,0.33138763259250686,0.3945934820453096,0.45941783418576615,0.5262343894479193,0.5954891013636436,0.6677271106042019,0.7436321948616517,0.8240868004562732,0.9102674907071853,1.003804867208037,1.107069462890304,1.223727303217423,1.35994814041008,1.5274966702195378,1.754010116215015,2.1353046284158346],\"xaxis\":\"x\",\"y\":[-112.97515948573363,-47.16546677917904,-8.070279731183746,20.847831879056628,44.35892671264014,64.49353756613866,82.31653551617836,98.4606598272473,113.33505366500654,127.2211514230055,140.3220225606867,152.78997328574349,164.74302050729491,176.275253017363,187.46364036036806,198.37268152578346,209.05769124698858,219.56720238650308,229.9447835034326,240.23046627607718,250.4619151396404,260.67543400051466,270.9068828640779,281.1925656367224,291.57014675365195,302.0796578931665,312.76466761437155,323.6737087797869,334.862096122792,346.3943286328601,358.3473758544115,370.8153265794683,383.91619771714943,397.8022954751484,412.67668931290774,428.82081362397656,446.6438115740163,466.7784224275148,490.28951726109824,519.2076288713386,558.3028159193339,624.1125086258887],\"yaxis\":\"y\",\"type\":\"scatter\"},{\"hovertemplate\":\"sample=7<br>Q_x=%{x}<br>Q_y=%{y}<extra></extra>\",\"legendgroup\":\"\",\"marker\":{\"color\":\"#636efa\",\"symbol\":\"circle\"},\"mode\":\"markers\",\"name\":\"\",\"orientation\":\"v\",\"showlegend\":false,\"x\":[-2.1353046284158346,-1.7540101162150163,-1.527496670219539,-1.359948140410081,-1.2237273032174234,-1.1070694628903044,-1.0038048672080377,-0.9102674907071854,-0.8240868004562736,-0.7436321948616521,-0.667727110604202,-0.595489101363644,-0.5262343894479194,-0.45941783418576615,-0.3945934820453098,-0.33138763259250686,-0.26947979801752303,-0.20858878396464725,-0.148462158735626,-0.08886798295158897,-0.029588032793860894,0.029588032793860894,0.08886798295158911,0.148462158735626,0.2085887839646474,0.26947979801752303,0.33138763259250686,0.3945934820453096,0.45941783418576615,0.5262343894479193,0.5954891013636436,0.6677271106042019,0.7436321948616517,0.8240868004562732,0.9102674907071853,1.003804867208037,1.107069462890304,1.223727303217423,1.35994814041008,1.5274966702195378,1.754010116215015,2.1353046284158346],\"xaxis\":\"x2\",\"y\":[-90.02670367586558,-81.10166193135575,-37.44678718824866,-14.380818820117838,23.507264030363928,52.89299278681909,78.76257583219419,104.52142611312922,107.92015489731301,126.07291443377642,143.50380199584504,151.64908626522256,173.8733063470109,181.35893929602236,188.80007318298777,195.16648458187876,203.29986256177952,208.22075214198566,210.54354664501196,228.87978293268145,239.3363506076576,278.5098116418356,279.79227481755726,282.79948802112904,299.3510422977894,300.3685563572867,322.7141118008691,348.7618811293287,349.60060199390887,350.47921302115174,353.10242271905497,355.8512535276155,358.78761069634504,397.16270195585605,403.21662079240144,406.9239922303925,410.23744927606276,425.0817506332045,427.08348545996694,432.79810001962426,454.072991109308,511.6615093445629],\"yaxis\":\"y2\",\"type\":\"scatter\"},{\"hovertemplate\":\"<b>OLS trendline</b><br>Q_y = 156.408 * Q_x + 241.517<br>R<sup>2</sup>=0.971363<br><br>sample=7<br>Q_x=%{x}<br>Q_y=%{y} <b>(trend)</b><extra></extra>\",\"legendgroup\":\"\",\"marker\":{\"color\":\"#636efa\",\"symbol\":\"circle\"},\"mode\":\"lines\",\"name\":\"\",\"showlegend\":false,\"x\":[-2.1353046284158346,-1.7540101162150163,-1.527496670219539,-1.359948140410081,-1.2237273032174234,-1.1070694628903044,-1.0038048672080377,-0.9102674907071854,-0.8240868004562736,-0.7436321948616521,-0.667727110604202,-0.595489101363644,-0.5262343894479194,-0.45941783418576615,-0.3945934820453098,-0.33138763259250686,-0.26947979801752303,-0.20858878396464725,-0.148462158735626,-0.08886798295158897,-0.029588032793860894,0.029588032793860894,0.08886798295158911,0.148462158735626,0.2085887839646474,0.26947979801752303,0.33138763259250686,0.3945934820453096,0.45941783418576615,0.5262343894479193,0.5954891013636436,0.6677271106042019,0.7436321948616517,0.8240868004562732,0.9102674907071853,1.003804867208037,1.107069462890304,1.223727303217423,1.35994814041008,1.5274966702195378,1.754010116215015,2.1353046284158346],\"xaxis\":\"x2\",\"y\":[-92.4625373682365,-32.824896583398356,2.6036949461314407,28.809681958977706,50.11575664915574,68.36201552135148,84.51345926373364,99.14348482459462,112.62286331894435,125.20663443131436,137.07882247451528,148.37744941051284,159.20946377140183,169.6601301033261,179.79919925684774,189.68512109561144,199.36802258517068,208.8918848672414,218.29619036410207,227.61721632842296,236.88909478490527,246.14472482849183,255.41660328497414,264.737629249295,274.1419347461557,283.66579702822645,293.3486985177857,303.2346203565493,313.373689510071,323.82435584199527,334.6563702028842,345.9549971388818,357.82718518208264,370.4109562944527,383.8903347888024,398.52036034966335,414.6718040920456,432.9180629642413,454.2241376544192,480.4301246672655,515.8587161967953,575.4963569816337],\"yaxis\":\"y2\",\"type\":\"scatter\"},{\"hovertemplate\":\"sample=8<br>Q_x=%{x}<br>Q_y=%{y}<extra></extra>\",\"legendgroup\":\"\",\"marker\":{\"color\":\"#636efa\",\"symbol\":\"circle\"},\"mode\":\"markers\",\"name\":\"\",\"orientation\":\"v\",\"showlegend\":false,\"x\":[-2.1353046284158346,-1.7540101162150163,-1.527496670219539,-1.359948140410081,-1.2237273032174234,-1.1070694628903044,-1.0038048672080377,-0.9102674907071854,-0.8240868004562736,-0.7436321948616521,-0.667727110604202,-0.595489101363644,-0.5262343894479194,-0.45941783418576615,-0.3945934820453098,-0.33138763259250686,-0.26947979801752303,-0.20858878396464725,-0.148462158735626,-0.08886798295158897,-0.029588032793860894,0.029588032793860894,0.08886798295158911,0.148462158735626,0.2085887839646474,0.26947979801752303,0.33138763259250686,0.3945934820453096,0.45941783418576615,0.5262343894479193,0.5954891013636436,0.6677271106042019,0.7436321948616517,0.8240868004562732,0.9102674907071853,1.003804867208037,1.107069462890304,1.223727303217423,1.35994814041008,1.5274966702195378,1.754010116215015,2.1353046284158346],\"xaxis\":\"x3\",\"y\":[10.451179527831982,40.29782713834669,47.63186496192759,112.48052270380745,125.65237010382839,125.68053744460195,141.1549741879564,145.519193706278,168.12645831359706,168.28156637515366,182.083716605383,192.67396706922983,197.61247537743205,216.83295816699564,218.80776533750065,220.16681667154805,220.8887460470803,221.41175099792565,227.11901700973814,235.42504425846496,242.47720591495283,247.28657393291047,266.83468431298417,275.28583813587557,285.3834542033686,289.92941825259527,314.64751443369266,327.77189081971983,345.5441230845715,356.7089638785311,365.6870997903952,368.193068994177,391.5959487596191,392.9625898045726,397.2948924176101,413.5607091831504,415.09277766386174,435.69996655443515,437.6961197131649,457.93140920758276,458.9209001022043,545.6565748624067],\"yaxis\":\"y3\",\"type\":\"scatter\"},{\"hovertemplate\":\"<b>OLS trendline</b><br>Q_y = 129.106 * Q_x + 267.868<br>R<sup>2</sup>=0.985849<br><br>sample=8<br>Q_x=%{x}<br>Q_y=%{y} <b>(trend)</b><extra></extra>\",\"legendgroup\":\"\",\"marker\":{\"color\":\"#636efa\",\"symbol\":\"circle\"},\"mode\":\"lines\",\"name\":\"\",\"showlegend\":false,\"x\":[-2.1353046284158346,-1.7540101162150163,-1.527496670219539,-1.359948140410081,-1.2237273032174234,-1.1070694628903044,-1.0038048672080377,-0.9102674907071854,-0.8240868004562736,-0.7436321948616521,-0.667727110604202,-0.595489101363644,-0.5262343894479194,-0.45941783418576615,-0.3945934820453098,-0.33138763259250686,-0.26947979801752303,-0.20858878396464725,-0.148462158735626,-0.08886798295158897,-0.029588032793860894,0.029588032793860894,0.08886798295158911,0.148462158735626,0.2085887839646474,0.26947979801752303,0.33138763259250686,0.3945934820453096,0.45941783418576615,0.5262343894479193,0.5954891013636436,0.6677271106042019,0.7436321948616517,0.8240868004562732,0.9102674907071853,1.003804867208037,1.107069462890304,1.223727303217423,1.35994814041008,1.5274966702195378,1.754010116215015,2.1353046284158346],\"xaxis\":\"x3\",\"y\":[-7.813409016570972,41.41415674164048,70.65849465120013,92.29008389511435,109.87706720057659,124.93834220494804,138.27046347021965,150.34673838424504,161.4732179444345,171.86042326926292,181.66025622541684,190.98664628963823,199.92787354522943,208.55431914739557,216.92355855582184,225.0838388920957,233.07653718690727,240.93795743413446,248.7006901841985,256.39468029772524,264.0481018685977,271.6881112755455,279.34153284641803,287.03552295994473,294.7982557100088,302.65967595723595,310.6523742520475,318.8126545883213,327.18189399674765,335.8083395989138,344.74956685450496,354.0759569187264,363.87578987488024,374.2629951997087,385.3894747598982,397.4657496739235,410.79787093919515,425.85914594356655,443.44612924902873,465.07771849294295,494.32205640250254,543.5496221607142],\"yaxis\":\"y3\",\"type\":\"scatter\"}],                        {\"template\":{\"data\":{\"histogram2dcontour\":[{\"type\":\"histogram2dcontour\",\"colorbar\":{\"outlinewidth\":0,\"ticks\":\"\"},\"colorscale\":[[0.0,\"#0d0887\"],[0.1111111111111111,\"#46039f\"],[0.2222222222222222,\"#7201a8\"],[0.3333333333333333,\"#9c179e\"],[0.4444444444444444,\"#bd3786\"],[0.5555555555555556,\"#d8576b\"],[0.6666666666666666,\"#ed7953\"],[0.7777777777777778,\"#fb9f3a\"],[0.8888888888888888,\"#fdca26\"],[1.0,\"#f0f921\"]]}],\"choropleth\":[{\"type\":\"choropleth\",\"colorbar\":{\"outlinewidth\":0,\"ticks\":\"\"}}],\"histogram2d\":[{\"type\":\"histogram2d\",\"colorbar\":{\"outlinewidth\":0,\"ticks\":\"\"},\"colorscale\":[[0.0,\"#0d0887\"],[0.1111111111111111,\"#46039f\"],[0.2222222222222222,\"#7201a8\"],[0.3333333333333333,\"#9c179e\"],[0.4444444444444444,\"#bd3786\"],[0.5555555555555556,\"#d8576b\"],[0.6666666666666666,\"#ed7953\"],[0.7777777777777778,\"#fb9f3a\"],[0.8888888888888888,\"#fdca26\"],[1.0,\"#f0f921\"]]}],\"heatmap\":[{\"type\":\"heatmap\",\"colorbar\":{\"outlinewidth\":0,\"ticks\":\"\"},\"colorscale\":[[0.0,\"#0d0887\"],[0.1111111111111111,\"#46039f\"],[0.2222222222222222,\"#7201a8\"],[0.3333333333333333,\"#9c179e\"],[0.4444444444444444,\"#bd3786\"],[0.5555555555555556,\"#d8576b\"],[0.6666666666666666,\"#ed7953\"],[0.7777777777777778,\"#fb9f3a\"],[0.8888888888888888,\"#fdca26\"],[1.0,\"#f0f921\"]]}],\"heatmapgl\":[{\"type\":\"heatmapgl\",\"colorbar\":{\"outlinewidth\":0,\"ticks\":\"\"},\"colorscale\":[[0.0,\"#0d0887\"],[0.1111111111111111,\"#46039f\"],[0.2222222222222222,\"#7201a8\"],[0.3333333333333333,\"#9c179e\"],[0.4444444444444444,\"#bd3786\"],[0.5555555555555556,\"#d8576b\"],[0.6666666666666666,\"#ed7953\"],[0.7777777777777778,\"#fb9f3a\"],[0.8888888888888888,\"#fdca26\"],[1.0,\"#f0f921\"]]}],\"contourcarpet\":[{\"type\":\"contourcarpet\",\"colorbar\":{\"outlinewidth\":0,\"ticks\":\"\"}}],\"contour\":[{\"type\":\"contour\",\"colorbar\":{\"outlinewidth\":0,\"ticks\":\"\"},\"colorscale\":[[0.0,\"#0d0887\"],[0.1111111111111111,\"#46039f\"],[0.2222222222222222,\"#7201a8\"],[0.3333333333333333,\"#9c179e\"],[0.4444444444444444,\"#bd3786\"],[0.5555555555555556,\"#d8576b\"],[0.6666666666666666,\"#ed7953\"],[0.7777777777777778,\"#fb9f3a\"],[0.8888888888888888,\"#fdca26\"],[1.0,\"#f0f921\"]]}],\"surface\":[{\"type\":\"surface\",\"colorbar\":{\"outlinewidth\":0,\"ticks\":\"\"},\"colorscale\":[[0.0,\"#0d0887\"],[0.1111111111111111,\"#46039f\"],[0.2222222222222222,\"#7201a8\"],[0.3333333333333333,\"#9c179e\"],[0.4444444444444444,\"#bd3786\"],[0.5555555555555556,\"#d8576b\"],[0.6666666666666666,\"#ed7953\"],[0.7777777777777778,\"#fb9f3a\"],[0.8888888888888888,\"#fdca26\"],[1.0,\"#f0f921\"]]}],\"mesh3d\":[{\"type\":\"mesh3d\",\"colorbar\":{\"outlinewidth\":0,\"ticks\":\"\"}}],\"scatter\":[{\"fillpattern\":{\"fillmode\":\"overlay\",\"size\":10,\"solidity\":0.2},\"type\":\"scatter\"}],\"parcoords\":[{\"type\":\"parcoords\",\"line\":{\"colorbar\":{\"outlinewidth\":0,\"ticks\":\"\"}}}],\"scatterpolargl\":[{\"type\":\"scatterpolargl\",\"marker\":{\"colorbar\":{\"outlinewidth\":0,\"ticks\":\"\"}}}],\"bar\":[{\"error_x\":{\"color\":\"#2a3f5f\"},\"error_y\":{\"color\":\"#2a3f5f\"},\"marker\":{\"line\":{\"color\":\"#E5ECF6\",\"width\":0.5},\"pattern\":{\"fillmode\":\"overlay\",\"size\":10,\"solidity\":0.2}},\"type\":\"bar\"}],\"scattergeo\":[{\"type\":\"scattergeo\",\"marker\":{\"colorbar\":{\"outlinewidth\":0,\"ticks\":\"\"}}}],\"scatterpolar\":[{\"type\":\"scatterpolar\",\"marker\":{\"colorbar\":{\"outlinewidth\":0,\"ticks\":\"\"}}}],\"histogram\":[{\"marker\":{\"pattern\":{\"fillmode\":\"overlay\",\"size\":10,\"solidity\":0.2}},\"type\":\"histogram\"}],\"scattergl\":[{\"type\":\"scattergl\",\"marker\":{\"colorbar\":{\"outlinewidth\":0,\"ticks\":\"\"}}}],\"scatter3d\":[{\"type\":\"scatter3d\",\"line\":{\"colorbar\":{\"outlinewidth\":0,\"ticks\":\"\"}},\"marker\":{\"colorbar\":{\"outlinewidth\":0,\"ticks\":\"\"}}}],\"scattermapbox\":[{\"type\":\"scattermapbox\",\"marker\":{\"colorbar\":{\"outlinewidth\":0,\"ticks\":\"\"}}}],\"scatterternary\":[{\"type\":\"scatterternary\",\"marker\":{\"colorbar\":{\"outlinewidth\":0,\"ticks\":\"\"}}}],\"scattercarpet\":[{\"type\":\"scattercarpet\",\"marker\":{\"colorbar\":{\"outlinewidth\":0,\"ticks\":\"\"}}}],\"carpet\":[{\"aaxis\":{\"endlinecolor\":\"#2a3f5f\",\"gridcolor\":\"white\",\"linecolor\":\"white\",\"minorgridcolor\":\"white\",\"startlinecolor\":\"#2a3f5f\"},\"baxis\":{\"endlinecolor\":\"#2a3f5f\",\"gridcolor\":\"white\",\"linecolor\":\"white\",\"minorgridcolor\":\"white\",\"startlinecolor\":\"#2a3f5f\"},\"type\":\"carpet\"}],\"table\":[{\"cells\":{\"fill\":{\"color\":\"#EBF0F8\"},\"line\":{\"color\":\"white\"}},\"header\":{\"fill\":{\"color\":\"#C8D4E3\"},\"line\":{\"color\":\"white\"}},\"type\":\"table\"}],\"barpolar\":[{\"marker\":{\"line\":{\"color\":\"#E5ECF6\",\"width\":0.5},\"pattern\":{\"fillmode\":\"overlay\",\"size\":10,\"solidity\":0.2}},\"type\":\"barpolar\"}],\"pie\":[{\"automargin\":true,\"type\":\"pie\"}]},\"layout\":{\"autotypenumbers\":\"strict\",\"colorway\":[\"#636efa\",\"#EF553B\",\"#00cc96\",\"#ab63fa\",\"#FFA15A\",\"#19d3f3\",\"#FF6692\",\"#B6E880\",\"#FF97FF\",\"#FECB52\"],\"font\":{\"color\":\"#2a3f5f\"},\"hovermode\":\"closest\",\"hoverlabel\":{\"align\":\"left\"},\"paper_bgcolor\":\"white\",\"plot_bgcolor\":\"#E5ECF6\",\"polar\":{\"bgcolor\":\"#E5ECF6\",\"angularaxis\":{\"gridcolor\":\"white\",\"linecolor\":\"white\",\"ticks\":\"\"},\"radialaxis\":{\"gridcolor\":\"white\",\"linecolor\":\"white\",\"ticks\":\"\"}},\"ternary\":{\"bgcolor\":\"#E5ECF6\",\"aaxis\":{\"gridcolor\":\"white\",\"linecolor\":\"white\",\"ticks\":\"\"},\"baxis\":{\"gridcolor\":\"white\",\"linecolor\":\"white\",\"ticks\":\"\"},\"caxis\":{\"gridcolor\":\"white\",\"linecolor\":\"white\",\"ticks\":\"\"}},\"coloraxis\":{\"colorbar\":{\"outlinewidth\":0,\"ticks\":\"\"}},\"colorscale\":{\"sequential\":[[0.0,\"#0d0887\"],[0.1111111111111111,\"#46039f\"],[0.2222222222222222,\"#7201a8\"],[0.3333333333333333,\"#9c179e\"],[0.4444444444444444,\"#bd3786\"],[0.5555555555555556,\"#d8576b\"],[0.6666666666666666,\"#ed7953\"],[0.7777777777777778,\"#fb9f3a\"],[0.8888888888888888,\"#fdca26\"],[1.0,\"#f0f921\"]],\"sequentialminus\":[[0.0,\"#0d0887\"],[0.1111111111111111,\"#46039f\"],[0.2222222222222222,\"#7201a8\"],[0.3333333333333333,\"#9c179e\"],[0.4444444444444444,\"#bd3786\"],[0.5555555555555556,\"#d8576b\"],[0.6666666666666666,\"#ed7953\"],[0.7777777777777778,\"#fb9f3a\"],[0.8888888888888888,\"#fdca26\"],[1.0,\"#f0f921\"]],\"diverging\":[[0,\"#8e0152\"],[0.1,\"#c51b7d\"],[0.2,\"#de77ae\"],[0.3,\"#f1b6da\"],[0.4,\"#fde0ef\"],[0.5,\"#f7f7f7\"],[0.6,\"#e6f5d0\"],[0.7,\"#b8e186\"],[0.8,\"#7fbc41\"],[0.9,\"#4d9221\"],[1,\"#276419\"]]},\"xaxis\":{\"gridcolor\":\"white\",\"linecolor\":\"white\",\"ticks\":\"\",\"title\":{\"standoff\":15},\"zerolinecolor\":\"white\",\"automargin\":true,\"zerolinewidth\":2},\"yaxis\":{\"gridcolor\":\"white\",\"linecolor\":\"white\",\"ticks\":\"\",\"title\":{\"standoff\":15},\"zerolinecolor\":\"white\",\"automargin\":true,\"zerolinewidth\":2},\"scene\":{\"xaxis\":{\"backgroundcolor\":\"#E5ECF6\",\"gridcolor\":\"white\",\"linecolor\":\"white\",\"showbackground\":true,\"ticks\":\"\",\"zerolinecolor\":\"white\",\"gridwidth\":2},\"yaxis\":{\"backgroundcolor\":\"#E5ECF6\",\"gridcolor\":\"white\",\"linecolor\":\"white\",\"showbackground\":true,\"ticks\":\"\",\"zerolinecolor\":\"white\",\"gridwidth\":2},\"zaxis\":{\"backgroundcolor\":\"#E5ECF6\",\"gridcolor\":\"white\",\"linecolor\":\"white\",\"showbackground\":true,\"ticks\":\"\",\"zerolinecolor\":\"white\",\"gridwidth\":2}},\"shapedefaults\":{\"line\":{\"color\":\"#2a3f5f\"}},\"annotationdefaults\":{\"arrowcolor\":\"#2a3f5f\",\"arrowhead\":0,\"arrowwidth\":1},\"geo\":{\"bgcolor\":\"white\",\"landcolor\":\"#E5ECF6\",\"subunitcolor\":\"white\",\"showland\":true,\"showlakes\":true,\"lakecolor\":\"white\"},\"title\":{\"x\":0.05},\"mapbox\":{\"style\":\"light\"}}},\"xaxis\":{\"anchor\":\"y\",\"domain\":[0.0,0.31999999999999995],\"title\":{\"text\":\"Q_x\"}},\"yaxis\":{\"anchor\":\"x\",\"domain\":[0.0,0.2866666666666666],\"title\":{\"text\":\"Q_y\"}},\"xaxis2\":{\"anchor\":\"y2\",\"domain\":[0.33999999999999997,0.6599999999999999],\"matches\":\"x\",\"title\":{\"text\":\"Q_x\"}},\"yaxis2\":{\"anchor\":\"x2\",\"domain\":[0.0,0.2866666666666666],\"matches\":\"y\",\"showticklabels\":false},\"xaxis3\":{\"anchor\":\"y3\",\"domain\":[0.6799999999999999,0.9999999999999999],\"matches\":\"x\",\"title\":{\"text\":\"Q_x\"}},\"yaxis3\":{\"anchor\":\"x3\",\"domain\":[0.0,0.2866666666666666],\"matches\":\"y\",\"showticklabels\":false},\"xaxis4\":{\"anchor\":\"y4\",\"domain\":[0.0,0.31999999999999995],\"matches\":\"x\",\"showticklabels\":false},\"yaxis4\":{\"anchor\":\"x4\",\"domain\":[0.35666666666666663,0.6433333333333333],\"matches\":\"y\",\"title\":{\"text\":\"Q_y\"}},\"xaxis5\":{\"anchor\":\"y5\",\"domain\":[0.33999999999999997,0.6599999999999999],\"matches\":\"x\",\"showticklabels\":false},\"yaxis5\":{\"anchor\":\"x5\",\"domain\":[0.35666666666666663,0.6433333333333333],\"matches\":\"y\",\"showticklabels\":false},\"xaxis6\":{\"anchor\":\"y6\",\"domain\":[0.6799999999999999,0.9999999999999999],\"matches\":\"x\",\"showticklabels\":false},\"yaxis6\":{\"anchor\":\"x6\",\"domain\":[0.35666666666666663,0.6433333333333333],\"matches\":\"y\",\"showticklabels\":false},\"xaxis7\":{\"anchor\":\"y7\",\"domain\":[0.0,0.31999999999999995],\"matches\":\"x\",\"showticklabels\":false},\"yaxis7\":{\"anchor\":\"x7\",\"domain\":[0.7133333333333333,0.9999999999999999],\"matches\":\"y\",\"title\":{\"text\":\"Q_y\"}},\"xaxis8\":{\"anchor\":\"y8\",\"domain\":[0.33999999999999997,0.6599999999999999],\"matches\":\"x\",\"showticklabels\":false},\"yaxis8\":{\"anchor\":\"x8\",\"domain\":[0.7133333333333333,0.9999999999999999],\"matches\":\"y\",\"showticklabels\":false},\"xaxis9\":{\"anchor\":\"y9\",\"domain\":[0.6799999999999999,0.9999999999999999],\"matches\":\"x\",\"showticklabels\":false},\"yaxis9\":{\"anchor\":\"x9\",\"domain\":[0.7133333333333333,0.9999999999999999],\"matches\":\"y\",\"showticklabels\":false},\"annotations\":[{\"font\":{},\"showarrow\":false,\"text\":\"sample=6\",\"x\":0.15999999999999998,\"xanchor\":\"center\",\"xref\":\"paper\",\"y\":0.2866666666666666,\"yanchor\":\"bottom\",\"yref\":\"paper\"},{\"font\":{},\"showarrow\":false,\"text\":\"sample=7\",\"x\":0.49999999999999994,\"xanchor\":\"center\",\"xref\":\"paper\",\"y\":0.2866666666666666,\"yanchor\":\"bottom\",\"yref\":\"paper\"},{\"font\":{},\"showarrow\":false,\"text\":\"sample=8\",\"x\":0.8399999999999999,\"xanchor\":\"center\",\"xref\":\"paper\",\"y\":0.2866666666666666,\"yanchor\":\"bottom\",\"yref\":\"paper\"},{\"font\":{},\"showarrow\":false,\"text\":\"sample=3\",\"x\":0.15999999999999998,\"xanchor\":\"center\",\"xref\":\"paper\",\"y\":0.6433333333333333,\"yanchor\":\"bottom\",\"yref\":\"paper\"},{\"font\":{},\"showarrow\":false,\"text\":\"sample=4\",\"x\":0.49999999999999994,\"xanchor\":\"center\",\"xref\":\"paper\",\"y\":0.6433333333333333,\"yanchor\":\"bottom\",\"yref\":\"paper\"},{\"font\":{},\"showarrow\":false,\"text\":\"sample=5\",\"x\":0.8399999999999999,\"xanchor\":\"center\",\"xref\":\"paper\",\"y\":0.6433333333333333,\"yanchor\":\"bottom\",\"yref\":\"paper\"},{\"font\":{},\"showarrow\":false,\"text\":\"sample=data\",\"x\":0.15999999999999998,\"xanchor\":\"center\",\"xref\":\"paper\",\"y\":0.9999999999999999,\"yanchor\":\"bottom\",\"yref\":\"paper\"},{\"font\":{},\"showarrow\":false,\"text\":\"sample=1\",\"x\":0.49999999999999994,\"xanchor\":\"center\",\"xref\":\"paper\",\"y\":0.9999999999999999,\"yanchor\":\"bottom\",\"yref\":\"paper\"},{\"font\":{},\"showarrow\":false,\"text\":\"sample=2\",\"x\":0.8399999999999999,\"xanchor\":\"center\",\"xref\":\"paper\",\"y\":0.9999999999999999,\"yanchor\":\"bottom\",\"yref\":\"paper\"}],\"legend\":{\"tracegroupgap\":0},\"margin\":{\"t\":60},\"height\":800,\"width\":800},                        {\"responsive\": true}                    ).then(function(){\n",
       "                            \n",
       "var gd = document.getElementById('604bc11b-2754-4fa5-9b54-81d28cf97816');\n",
       "var x = new MutationObserver(function (mutations, observer) {{\n",
       "        var display = window.getComputedStyle(gd).display;\n",
       "        if (!display || display === 'none') {{\n",
       "            console.log([gd, 'removed!']);\n",
       "            Plotly.purge(gd);\n",
       "            observer.disconnect();\n",
       "        }}\n",
       "}});\n",
       "\n",
       "// Listen for the removal of the full notebook cells\n",
       "var notebookContainer = gd.closest('#notebook-container');\n",
       "if (notebookContainer) {{\n",
       "    x.observe(notebookContainer, {childList: true});\n",
       "}}\n",
       "\n",
       "// Listen for the clearing of the current output cell\n",
       "var outputEl = gd.closest('.output');\n",
       "if (outputEl) {{\n",
       "    x.observe(outputEl, {childList: true});\n",
       "}}\n",
       "\n",
       "                        })                };                });            </script>        </div>"
      ]
     },
     "metadata": {},
     "output_type": "display_data"
    }
   ],
   "source": [
    "(Q_x, Q_y) = probplot(dairy_queen['cal_fat'], fit=False)\n",
    "\n",
    "sim_qq_data = [pd.DataFrame({\"Q_x\": Q_x, \"Q_y\": Q_y, \"sample\": \"data\"})]\n",
    "for i in range(8):\n",
    "    sim_norm = np.random.normal(size = len(dairy_queen['cal_fat']), loc = dqmean, scale = dqsd)\n",
    "    (Q_x, Q_y) = probplot(sim_norm, fit=False)\n",
    "    sim_qq_data.append( pd.DataFrame({\"Q_x\": Q_x, \"Q_y\": Q_y, \"sample\": str(i+1)}) )\n",
    "sim_qq_data = pd.concat(sim_qq_data)\n",
    "\n",
    "px.scatter(sim_qq_data, x=\"Q_x\", y=\"Q_y\", facet_col=\"sample\", facet_col_wrap=3, trendline=\"ols\", width=800, height=800)"
   ]
  },
  {
   "cell_type": "code",
   "execution_count": null,
   "metadata": {},
   "outputs": [],
   "source": [
    "# draw random samples from a normal distribution eight times, \n",
    "# so we can construct eight different normal probability plots\n",
    "sim_norm_8 = []\n",
    "for i in range(8):\n",
    "    sim_norm_8.append(np.random.normal(size = len(fdims['hgt']), loc = fhgtmean, scale = fhgtsd))\n",
    "\n",
    "# compare the original plot to nine plots generated from a normal distribution.\n",
    "plt.rcParams['figure.figsize'] = (15, 15)\n",
    "plt.tight_layout(pad = 1) # adjust the subplots to fit in to the figure area.\n",
    "plt.subplots_adjust(hspace = 0.6, wspace = 0.6) # adjust the amount of width and height reserved for space between subplots.\n",
    "\n",
    "plt.subplot(3, 3, 1)\n",
    "probplot(fdims['hgt'], plot = plt)\n",
    "plt.title('Normal Q-Q Plot (Data)')\n",
    "\n",
    "plt.subplot(3, 3, 2)\n",
    "probplot(sim_norm_8[0], plot = plt)\n",
    "plt.title('Normal Q-Q Plot (Sim 1)')\n",
    "\n",
    "plt.subplot(3, 3, 3)\n",
    "probplot(sim_norm_8[1], plot = plt)\n",
    "plt.title('Normal Q-Q Plot (Sim 2)')\n",
    "\n",
    "plt.subplot(3, 3, 4)\n",
    "probplot(sim_norm_8[2], plot = plt)\n",
    "plt.title('Normal Q-Q Plot (Sim 3)')\n",
    "\n",
    "plt.subplot(3, 3, 5)\n",
    "probplot(sim_norm_8[3], plot = plt)\n",
    "plt.title('Normal Q-Q Plot (Sim 4)')\n",
    "\n",
    "plt.subplot(3, 3, 6)\n",
    "probplot(sim_norm_8[4], plot = plt)\n",
    "plt.title('Normal Q-Q Plot (Sim 5)')\n",
    "\n",
    "plt.subplot(3, 3, 7)\n",
    "probplot(sim_norm_8[5], plot = plt)\n",
    "plt.title('Normal Q-Q Plot (Sim 6)')\n",
    "\n",
    "plt.subplot(3, 3, 8)\n",
    "probplot(sim_norm_8[6], plot = plt)\n",
    "plt.title('Normal Q-Q Plot (Sim 7)')\n",
    "\n",
    "plt.subplot(3, 3, 9)\n",
    "probplot(sim_norm_8[7], plot = plt)\n",
    "plt.title('Normal Q-Q Plot (Sim 8)')\n",
    "\n",
    "plt.show();"
   ]
  },
  {
   "cell_type": "markdown",
   "metadata": {},
   "source": [
    "### ✏️ Aufgabe 4\n",
    "Sieht der Q-Q-Plot für `dairy_queen['cal_fat']` ähnlich aus wie die Darstellungen für die simulierten Daten? Das heißt, liefern die Diagramme Hinweise darauf, dass `dairy_queen['cal_fat']` nahezu normalverteilt ist?"
   ]
  },
  {
   "cell_type": "markdown",
   "metadata": {},
   "source": [
    "### ✏️ Aufgabe 5\n",
    "Bestimmen Sie mit der gleichen Technik, ob die Kalorien aus dem McDonald's-Menü (Spalte `calories`) einer Normalverteilung zu entstammen scheinen oder nicht."
   ]
  },
  {
   "cell_type": "markdown",
   "metadata": {},
   "source": [
    "## Wahrscheinlichkeiten von Normalverteilungen"
   ]
  },
  {
   "cell_type": "markdown",
   "metadata": {},
   "source": [
    "Sie haben nun einige Werkzeuge, um zu beurteilen, ob eine Variable normalverteilt ist oder nicht. Warum sollte uns das interessieren?\n",
    "\n",
    "Es stellt sich heraus, dass Statistiker viel über die Normalverteilung wissen. Sobald man feststellt, dass eine Zufallsvariable annähernd normalverteilt ist, kann man alle möglichen Fragen zu dieser Variablen im Zusammenhang mit der Wahrscheinlichkeit beantworten. Nehmen wir zum Beispiel die Frage: \"Wie groß ist die Wahrscheinlichkeit, dass ein zufällig ausgewähltes Produkt von Dairy Queen mehr als 600 Kalorien aus Fett hat?\"\n",
    "\n",
    "Wenn wir davon ausgehen, dass die Kalorien aus Fett auf der Speisekarte von Dairy Queen normalverteilt sind (eine sehr genaue Annäherung ist auch in Ordnung), können wir diese Wahrscheinlichkeit durch Berechnung eines Z-Scores und Konsultation einer Z-Tabelle (auch *Normalwahrscheinlichkeitstabelle* genannt) ermitteln. In Python wird dies in einem Schritt mit der Funktion `norm.cdf()` aus `scipy.stats` durchgeführt."
   ]
  },
  {
   "cell_type": "code",
   "execution_count": null,
   "metadata": {},
   "outputs": [],
   "source": [
    "from scipy.stats import norm\n",
    "\n",
    "prob_using_Z = 1 - norm.cdf(182, loc = fhgtmean, scale = fhgtsd)\n",
    "round(prob_using_Z, 4)"
   ]
  },
  {
   "cell_type": "markdown",
   "metadata": {},
   "source": [
    "Die Funktion `norm.cdf()` gibt die Fläche unter der Normalkurve *unterhalb* eines bestimmten Wertes q mit einem bestimmten Mittelwert und einer bestimmten Standardabweichung an. Da wir uns für die Wahrscheinlichkeit interessieren, dass ein Dairy-Queen-Artikel *mehr* als 500 Kalorien aus Fett hat, müssen wir 1 minus diese Wahrscheinlichkeit nehmen."
   ]
  },
  {
   "cell_type": "code",
   "execution_count": 122,
   "metadata": {},
   "outputs": [
    {
     "data": {
      "text/plain": [
       "0.0629"
      ]
     },
     "execution_count": 122,
     "metadata": {},
     "output_type": "execute_result"
    }
   ],
   "source": [
    "from scipy.stats import norm\n",
    "\n",
    "prob_theoretical = 1 - norm.cdf(500, loc = dqmean, scale = dqsd)\n",
    "round(prob_theoretical, 4)"
   ]
  },
  {
   "cell_type": "markdown",
   "metadata": {},
   "source": [
    "Unter der Annahme einer Normalverteilung konnten wir eine theoretische Wahrscheinlichkeit berechnen. Wenn wir die Wahrscheinlichkeit empirisch berechnen wollen, müssen wir lediglich feststellen, wie viele Beobachtungen über 600 liegen, und diese Zahl durch den Gesamtumfang der Stichprobe teilen."
   ]
  },
  {
   "cell_type": "code",
   "execution_count": 123,
   "metadata": {},
   "outputs": [
    {
     "data": {
      "text/plain": [
       "0.0714"
      ]
     },
     "execution_count": 123,
     "metadata": {},
     "output_type": "execute_result"
    }
   ],
   "source": [
    "prob_empirical = (sum(dairy_queen['cal_fat'] > 500) / len(dairy_queen['cal_fat']))\n",
    "round(prob_empirical, 4)"
   ]
  },
  {
   "cell_type": "markdown",
   "metadata": {},
   "source": [
    "Obwohl die Wahrscheinlichkeiten nicht genau gleich sind, liegen sie recht nahe beieinander. Je näher Ihre Verteilung an der Normalverteilung liegt, desto genauer sind die theoretischen Wahrscheinlichkeiten."
   ]
  },
  {
   "cell_type": "markdown",
   "metadata": {},
   "source": [
    "### ✏️ Aufgabe 6\n",
    "Formulieren Sie zwei Wahrscheinlichkeitsfragen, die Sie für eines der Restaurants in diesem Datensatz beantworten möchten. Berechnen Sie diese Wahrscheinlichkeiten sowohl mit der theoretischen Normalverteilung als auch mit der empirischen Verteilung (insgesamt vier Wahrscheinlichkeiten). Bei welcher der beiden Fragen war die Übereinstimmung größer?"
   ]
  },
  {
   "cell_type": "markdown",
   "metadata": {},
   "source": [
    "---\n",
    "\n",
    "Diese Übung ist eine deutsche Übersetzung der Übungen aus OpenIntro Statistics von Andrew Bray und Mine Çetinkaya-Rundel (https://www.openintro.org/book/os/). Die Python Adaption wurde teilweise von David Akman und Imran Ture (www.featureranking.com) übernommen."
   ]
  }
 ],
 "metadata": {
  "kernelspec": {
   "display_name": "Python 3 (ipykernel)",
   "language": "python",
   "name": "python3"
  },
  "language_info": {
   "codemirror_mode": {
    "name": "ipython",
    "version": 3
   },
   "file_extension": ".py",
   "mimetype": "text/x-python",
   "name": "python",
   "nbconvert_exporter": "python",
   "pygments_lexer": "ipython3",
   "version": "3.9.6"
  }
 },
 "nbformat": 4,
 "nbformat_minor": 4
}
